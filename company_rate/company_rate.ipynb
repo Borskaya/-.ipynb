{
 "cells": [
  {
   "cell_type": "markdown",
   "metadata": {},
   "source": [
    "## Шаг. "
   ]
  },
  {
   "cell_type": "code",
   "execution_count": 1,
   "metadata": {},
   "outputs": [],
   "source": [
    "#импорт необходимых библиотек\n",
    "import pandas as pd # импорт библиотеки pandas\n",
    "import numpy as np # импорт библиотеки numpy\n",
    "import warnings # импорт контроля предупреждений\n",
    "warnings.simplefilter('ignore') "
   ]
  },
  {
   "cell_type": "code",
   "execution_count": 3,
   "metadata": {},
   "outputs": [
    {
     "data": {
      "text/html": [
       "<div>\n",
       "<style scoped>\n",
       "    .dataframe tbody tr th:only-of-type {\n",
       "        vertical-align: middle;\n",
       "    }\n",
       "\n",
       "    .dataframe tbody tr th {\n",
       "        vertical-align: top;\n",
       "    }\n",
       "\n",
       "    .dataframe thead th {\n",
       "        text-align: right;\n",
       "    }\n",
       "</style>\n",
       "<table border=\"1\" class=\"dataframe\">\n",
       "  <thead>\n",
       "    <tr style=\"text-align: right;\">\n",
       "      <th></th>\n",
       "      <th>user_id</th>\n",
       "      <th>age</th>\n",
       "      <th>churn_date</th>\n",
       "      <th>city</th>\n",
       "      <th>first_name</th>\n",
       "      <th>last_name</th>\n",
       "      <th>reg_date</th>\n",
       "      <th>tariff</th>\n",
       "    </tr>\n",
       "  </thead>\n",
       "  <tbody>\n",
       "    <tr>\n",
       "      <td>0</td>\n",
       "      <td>1000</td>\n",
       "      <td>52</td>\n",
       "      <td>NaN</td>\n",
       "      <td>Краснодар</td>\n",
       "      <td>Рафаил</td>\n",
       "      <td>Верещагин</td>\n",
       "      <td>2018-05-25</td>\n",
       "      <td>ultra</td>\n",
       "    </tr>\n",
       "    <tr>\n",
       "      <td>1</td>\n",
       "      <td>1001</td>\n",
       "      <td>41</td>\n",
       "      <td>NaN</td>\n",
       "      <td>Москва</td>\n",
       "      <td>Иван</td>\n",
       "      <td>Ежов</td>\n",
       "      <td>2018-11-01</td>\n",
       "      <td>smart</td>\n",
       "    </tr>\n",
       "    <tr>\n",
       "      <td>2</td>\n",
       "      <td>1002</td>\n",
       "      <td>59</td>\n",
       "      <td>NaN</td>\n",
       "      <td>Стерлитамак</td>\n",
       "      <td>Евгений</td>\n",
       "      <td>Абрамович</td>\n",
       "      <td>2018-06-17</td>\n",
       "      <td>smart</td>\n",
       "    </tr>\n",
       "    <tr>\n",
       "      <td>3</td>\n",
       "      <td>1003</td>\n",
       "      <td>23</td>\n",
       "      <td>NaN</td>\n",
       "      <td>Москва</td>\n",
       "      <td>Белла</td>\n",
       "      <td>Белякова</td>\n",
       "      <td>2018-08-17</td>\n",
       "      <td>ultra</td>\n",
       "    </tr>\n",
       "    <tr>\n",
       "      <td>4</td>\n",
       "      <td>1004</td>\n",
       "      <td>68</td>\n",
       "      <td>NaN</td>\n",
       "      <td>Новокузнецк</td>\n",
       "      <td>Татьяна</td>\n",
       "      <td>Авдеенко</td>\n",
       "      <td>2018-05-14</td>\n",
       "      <td>ultra</td>\n",
       "    </tr>\n",
       "  </tbody>\n",
       "</table>\n",
       "</div>"
      ],
      "text/plain": [
       "   user_id  age churn_date         city first_name  last_name    reg_date  \\\n",
       "0     1000   52        NaN    Краснодар     Рафаил  Верещагин  2018-05-25   \n",
       "1     1001   41        NaN       Москва       Иван       Ежов  2018-11-01   \n",
       "2     1002   59        NaN  Стерлитамак    Евгений  Абрамович  2018-06-17   \n",
       "3     1003   23        NaN       Москва      Белла   Белякова  2018-08-17   \n",
       "4     1004   68        NaN  Новокузнецк    Татьяна   Авдеенко  2018-05-14   \n",
       "\n",
       "  tariff  \n",
       "0  ultra  \n",
       "1  smart  \n",
       "2  smart  \n",
       "3  ultra  \n",
       "4  ultra  "
      ]
     },
     "metadata": {},
     "output_type": "display_data"
    },
    {
     "data": {
      "text/html": [
       "<div>\n",
       "<style scoped>\n",
       "    .dataframe tbody tr th:only-of-type {\n",
       "        vertical-align: middle;\n",
       "    }\n",
       "\n",
       "    .dataframe tbody tr th {\n",
       "        vertical-align: top;\n",
       "    }\n",
       "\n",
       "    .dataframe thead th {\n",
       "        text-align: right;\n",
       "    }\n",
       "</style>\n",
       "<table border=\"1\" class=\"dataframe\">\n",
       "  <thead>\n",
       "    <tr style=\"text-align: right;\">\n",
       "      <th></th>\n",
       "      <th>id</th>\n",
       "      <th>call_date</th>\n",
       "      <th>duration</th>\n",
       "      <th>user_id</th>\n",
       "    </tr>\n",
       "  </thead>\n",
       "  <tbody>\n",
       "    <tr>\n",
       "      <td>0</td>\n",
       "      <td>1000_0</td>\n",
       "      <td>2018-07-25</td>\n",
       "      <td>0.00</td>\n",
       "      <td>1000</td>\n",
       "    </tr>\n",
       "    <tr>\n",
       "      <td>1</td>\n",
       "      <td>1000_1</td>\n",
       "      <td>2018-08-17</td>\n",
       "      <td>0.00</td>\n",
       "      <td>1000</td>\n",
       "    </tr>\n",
       "    <tr>\n",
       "      <td>2</td>\n",
       "      <td>1000_2</td>\n",
       "      <td>2018-06-11</td>\n",
       "      <td>2.85</td>\n",
       "      <td>1000</td>\n",
       "    </tr>\n",
       "    <tr>\n",
       "      <td>3</td>\n",
       "      <td>1000_3</td>\n",
       "      <td>2018-09-21</td>\n",
       "      <td>13.80</td>\n",
       "      <td>1000</td>\n",
       "    </tr>\n",
       "    <tr>\n",
       "      <td>4</td>\n",
       "      <td>1000_4</td>\n",
       "      <td>2018-12-15</td>\n",
       "      <td>5.18</td>\n",
       "      <td>1000</td>\n",
       "    </tr>\n",
       "  </tbody>\n",
       "</table>\n",
       "</div>"
      ],
      "text/plain": [
       "       id   call_date  duration  user_id\n",
       "0  1000_0  2018-07-25      0.00     1000\n",
       "1  1000_1  2018-08-17      0.00     1000\n",
       "2  1000_2  2018-06-11      2.85     1000\n",
       "3  1000_3  2018-09-21     13.80     1000\n",
       "4  1000_4  2018-12-15      5.18     1000"
      ]
     },
     "metadata": {},
     "output_type": "display_data"
    },
    {
     "data": {
      "text/html": [
       "<div>\n",
       "<style scoped>\n",
       "    .dataframe tbody tr th:only-of-type {\n",
       "        vertical-align: middle;\n",
       "    }\n",
       "\n",
       "    .dataframe tbody tr th {\n",
       "        vertical-align: top;\n",
       "    }\n",
       "\n",
       "    .dataframe thead th {\n",
       "        text-align: right;\n",
       "    }\n",
       "</style>\n",
       "<table border=\"1\" class=\"dataframe\">\n",
       "  <thead>\n",
       "    <tr style=\"text-align: right;\">\n",
       "      <th></th>\n",
       "      <th>id</th>\n",
       "      <th>message_date</th>\n",
       "      <th>user_id</th>\n",
       "    </tr>\n",
       "  </thead>\n",
       "  <tbody>\n",
       "    <tr>\n",
       "      <td>0</td>\n",
       "      <td>1000_0</td>\n",
       "      <td>2018-06-27</td>\n",
       "      <td>1000</td>\n",
       "    </tr>\n",
       "    <tr>\n",
       "      <td>1</td>\n",
       "      <td>1000_1</td>\n",
       "      <td>2018-10-08</td>\n",
       "      <td>1000</td>\n",
       "    </tr>\n",
       "    <tr>\n",
       "      <td>2</td>\n",
       "      <td>1000_2</td>\n",
       "      <td>2018-08-04</td>\n",
       "      <td>1000</td>\n",
       "    </tr>\n",
       "    <tr>\n",
       "      <td>3</td>\n",
       "      <td>1000_3</td>\n",
       "      <td>2018-06-16</td>\n",
       "      <td>1000</td>\n",
       "    </tr>\n",
       "    <tr>\n",
       "      <td>4</td>\n",
       "      <td>1000_4</td>\n",
       "      <td>2018-12-05</td>\n",
       "      <td>1000</td>\n",
       "    </tr>\n",
       "  </tbody>\n",
       "</table>\n",
       "</div>"
      ],
      "text/plain": [
       "       id message_date  user_id\n",
       "0  1000_0   2018-06-27     1000\n",
       "1  1000_1   2018-10-08     1000\n",
       "2  1000_2   2018-08-04     1000\n",
       "3  1000_3   2018-06-16     1000\n",
       "4  1000_4   2018-12-05     1000"
      ]
     },
     "metadata": {},
     "output_type": "display_data"
    },
    {
     "data": {
      "text/html": [
       "<div>\n",
       "<style scoped>\n",
       "    .dataframe tbody tr th:only-of-type {\n",
       "        vertical-align: middle;\n",
       "    }\n",
       "\n",
       "    .dataframe tbody tr th {\n",
       "        vertical-align: top;\n",
       "    }\n",
       "\n",
       "    .dataframe thead th {\n",
       "        text-align: right;\n",
       "    }\n",
       "</style>\n",
       "<table border=\"1\" class=\"dataframe\">\n",
       "  <thead>\n",
       "    <tr style=\"text-align: right;\">\n",
       "      <th></th>\n",
       "      <th>id</th>\n",
       "      <th>mb_used</th>\n",
       "      <th>session_date</th>\n",
       "      <th>user_id</th>\n",
       "    </tr>\n",
       "  </thead>\n",
       "  <tbody>\n",
       "    <tr>\n",
       "      <td>0</td>\n",
       "      <td>1000_0</td>\n",
       "      <td>112.95</td>\n",
       "      <td>2018-11-25</td>\n",
       "      <td>1000</td>\n",
       "    </tr>\n",
       "    <tr>\n",
       "      <td>1</td>\n",
       "      <td>1000_1</td>\n",
       "      <td>1052.81</td>\n",
       "      <td>2018-09-07</td>\n",
       "      <td>1000</td>\n",
       "    </tr>\n",
       "    <tr>\n",
       "      <td>2</td>\n",
       "      <td>1000_2</td>\n",
       "      <td>1197.26</td>\n",
       "      <td>2018-06-25</td>\n",
       "      <td>1000</td>\n",
       "    </tr>\n",
       "    <tr>\n",
       "      <td>3</td>\n",
       "      <td>1000_3</td>\n",
       "      <td>550.27</td>\n",
       "      <td>2018-08-22</td>\n",
       "      <td>1000</td>\n",
       "    </tr>\n",
       "    <tr>\n",
       "      <td>4</td>\n",
       "      <td>1000_4</td>\n",
       "      <td>302.56</td>\n",
       "      <td>2018-09-24</td>\n",
       "      <td>1000</td>\n",
       "    </tr>\n",
       "  </tbody>\n",
       "</table>\n",
       "</div>"
      ],
      "text/plain": [
       "       id  mb_used session_date  user_id\n",
       "0  1000_0   112.95   2018-11-25     1000\n",
       "1  1000_1  1052.81   2018-09-07     1000\n",
       "2  1000_2  1197.26   2018-06-25     1000\n",
       "3  1000_3   550.27   2018-08-22     1000\n",
       "4  1000_4   302.56   2018-09-24     1000"
      ]
     },
     "metadata": {},
     "output_type": "display_data"
    },
    {
     "data": {
      "text/html": [
       "<div>\n",
       "<style scoped>\n",
       "    .dataframe tbody tr th:only-of-type {\n",
       "        vertical-align: middle;\n",
       "    }\n",
       "\n",
       "    .dataframe tbody tr th {\n",
       "        vertical-align: top;\n",
       "    }\n",
       "\n",
       "    .dataframe thead th {\n",
       "        text-align: right;\n",
       "    }\n",
       "</style>\n",
       "<table border=\"1\" class=\"dataframe\">\n",
       "  <thead>\n",
       "    <tr style=\"text-align: right;\">\n",
       "      <th></th>\n",
       "      <th>messages_included</th>\n",
       "      <th>mb_per_month_included</th>\n",
       "      <th>minutes_included</th>\n",
       "      <th>rub_monthly_fee</th>\n",
       "      <th>rub_per_gb</th>\n",
       "      <th>rub_per_message</th>\n",
       "      <th>rub_per_minute</th>\n",
       "      <th>tariff_name</th>\n",
       "    </tr>\n",
       "  </thead>\n",
       "  <tbody>\n",
       "    <tr>\n",
       "      <td>0</td>\n",
       "      <td>50</td>\n",
       "      <td>15360</td>\n",
       "      <td>500</td>\n",
       "      <td>550</td>\n",
       "      <td>200</td>\n",
       "      <td>3</td>\n",
       "      <td>3</td>\n",
       "      <td>smart</td>\n",
       "    </tr>\n",
       "    <tr>\n",
       "      <td>1</td>\n",
       "      <td>1000</td>\n",
       "      <td>30720</td>\n",
       "      <td>3000</td>\n",
       "      <td>1950</td>\n",
       "      <td>150</td>\n",
       "      <td>1</td>\n",
       "      <td>1</td>\n",
       "      <td>ultra</td>\n",
       "    </tr>\n",
       "  </tbody>\n",
       "</table>\n",
       "</div>"
      ],
      "text/plain": [
       "   messages_included  mb_per_month_included  minutes_included  \\\n",
       "0                 50                  15360               500   \n",
       "1               1000                  30720              3000   \n",
       "\n",
       "   rub_monthly_fee  rub_per_gb  rub_per_message  rub_per_minute tariff_name  \n",
       "0              550         200                3               3       smart  \n",
       "1             1950         150                1               1       ultra  "
      ]
     },
     "metadata": {},
     "output_type": "display_data"
    }
   ],
   "source": [
    "#Выводим данные для ознакомления\n",
    "display(users.head(5))\n",
    "display(calls.head(5))\n",
    "display(messages.head(5))\n",
    "display(internet.head(5))\n",
    "display(tariffs.head(5))"
   ]
  },
  {
   "cell_type": "code",
   "execution_count": 4,
   "metadata": {},
   "outputs": [
    {
     "name": "stdout",
     "output_type": "stream",
     "text": [
      "Разброс дат по звонкам: 2018-01-01 00:00:00 - 2018-12-31 00:00:00\n",
      "Разброс дат по сообщениям: 2018-01-02 00:00:00 - 2018-12-31 00:00:00\n",
      "Разброс дат по трафику: 2018-01-01 00:00:00 - 2018-12-31 00:00:00\n"
     ]
    }
   ],
   "source": [
    "#Смотрим разброс данных по времени и проверяем нет ли в них данных за 2017 и 2019й год \n",
    "cls_date = pd.to_datetime(calls['call_date'])\n",
    "msg_date = pd.to_datetime(messages['message_date'])\n",
    "int_date = pd.to_datetime(internet['session_date'])\n",
    "\n",
    "print('Разброс дат по звонкам:', cls_date.min(), '-', cls_date.max())\n",
    "print('Разброс дат по сообщениям:', msg_date.min(), '-', msg_date.max())\n",
    "print('Разброс дат по трафику:', int_date.min(), '-', int_date.max())"
   ]
  },
  {
   "cell_type": "markdown",
   "metadata": {},
   "source": [
    "**Вывод**\n",
    "\n",
    "В каждой выборке — данные о клиенте. Часть их описывает непосредственно клиента: фио, возраст, город проживания. Остальные данные формируют представление об объемах потребления услуг по части коммуникации. \n",
    "\n",
    "Данные таблицы выглядят приемлемо для проведения исследования."
   ]
  },
  {
   "cell_type": "markdown",
   "metadata": {},
   "source": [
    "## Шаг. "
   ]
  },
  {
   "cell_type": "markdown",
   "metadata": {},
   "source": [
    "### Приведите данные к нужным типам\n",
    "Нам необходимо вычислить расходы пользователя по месяцам. Чтобы правильно это подсчитать, для каждой таблицы я создам столбец month, который будет хранить номер месяца. Поскольку все данные за 2018 год, мы можем быть уверены, что данных из разных месяцев не будут пересекаться."
   ]
  },
  {
   "cell_type": "code",
   "execution_count": 5,
   "metadata": {},
   "outputs": [],
   "source": [
    "# создание столбца для хранения номера месяца\n",
    "calls['month'] = pd.to_datetime(calls['call_date']).dt.month\n",
    "messages['month'] = pd.to_datetime(messages['message_date']).dt.month\n",
    "internet['month'] = pd.to_datetime(internet['session_date']).dt.month"
   ]
  },
  {
   "cell_type": "code",
   "execution_count": 6,
   "metadata": {},
   "outputs": [
    {
     "data": {
      "text/plain": [
       "<matplotlib.axes._subplots.AxesSubplot at 0x7f8510c54990>"
      ]
     },
     "execution_count": 6,
     "metadata": {},
     "output_type": "execute_result"
    },
    {
     "data": {
      "image/png": "[encoded data removed]",
      "text/plain": [
       "<Figure size 1440x288 with 1 Axes>"
      ]
     },
     "metadata": {
      "needs_background": "light"
     },
     "output_type": "display_data"
    }
   ],
   "source": [
    "# Проверяем данные звонков на анамалии\n",
    "calls.boxplot(column = 'duration', figsize = (20,4), vert=False)"
   ]
  },
  {
   "cell_type": "code",
   "execution_count": 7,
   "metadata": {},
   "outputs": [
    {
     "data": {
      "text/html": [
       "<div>\n",
       "<style scoped>\n",
       "    .dataframe tbody tr th:only-of-type {\n",
       "        vertical-align: middle;\n",
       "    }\n",
       "\n",
       "    .dataframe tbody tr th {\n",
       "        vertical-align: top;\n",
       "    }\n",
       "\n",
       "    .dataframe thead th {\n",
       "        text-align: right;\n",
       "    }\n",
       "</style>\n",
       "<table border=\"1\" class=\"dataframe\">\n",
       "  <thead>\n",
       "    <tr style=\"text-align: right;\">\n",
       "      <th></th>\n",
       "      <th>id</th>\n",
       "      <th>call_date</th>\n",
       "      <th>duration</th>\n",
       "      <th>user_id</th>\n",
       "      <th>month</th>\n",
       "    </tr>\n",
       "  </thead>\n",
       "  <tbody>\n",
       "    <tr>\n",
       "      <td>0</td>\n",
       "      <td>1000_0</td>\n",
       "      <td>2018-07-25</td>\n",
       "      <td>0</td>\n",
       "      <td>1000</td>\n",
       "      <td>7</td>\n",
       "    </tr>\n",
       "    <tr>\n",
       "      <td>1</td>\n",
       "      <td>1000_1</td>\n",
       "      <td>2018-08-17</td>\n",
       "      <td>0</td>\n",
       "      <td>1000</td>\n",
       "      <td>8</td>\n",
       "    </tr>\n",
       "    <tr>\n",
       "      <td>2</td>\n",
       "      <td>1000_2</td>\n",
       "      <td>2018-06-11</td>\n",
       "      <td>3</td>\n",
       "      <td>1000</td>\n",
       "      <td>6</td>\n",
       "    </tr>\n",
       "    <tr>\n",
       "      <td>3</td>\n",
       "      <td>1000_3</td>\n",
       "      <td>2018-09-21</td>\n",
       "      <td>14</td>\n",
       "      <td>1000</td>\n",
       "      <td>9</td>\n",
       "    </tr>\n",
       "    <tr>\n",
       "      <td>4</td>\n",
       "      <td>1000_4</td>\n",
       "      <td>2018-12-15</td>\n",
       "      <td>6</td>\n",
       "      <td>1000</td>\n",
       "      <td>12</td>\n",
       "    </tr>\n",
       "  </tbody>\n",
       "</table>\n",
       "</div>"
      ],
      "text/plain": [
       "       id   call_date  duration  user_id  month\n",
       "0  1000_0  2018-07-25         0     1000      7\n",
       "1  1000_1  2018-08-17         0     1000      8\n",
       "2  1000_2  2018-06-11         3     1000      6\n",
       "3  1000_3  2018-09-21        14     1000      9\n",
       "4  1000_4  2018-12-15         6     1000     12"
      ]
     },
     "metadata": {},
     "output_type": "display_data"
    }
   ],
   "source": [
    "# округление израсходованных минут звонка, в большую сторону и переводим в целое\n",
    "calls['duration'] = np.ceil(calls['duration']).astype('int')\n",
    "display(calls.head(5))"
   ]
  },
  {
   "cell_type": "code",
   "execution_count": 8,
   "metadata": {},
   "outputs": [
    {
     "data": {
      "text/html": [
       "<div>\n",
       "<style scoped>\n",
       "    .dataframe tbody tr th:only-of-type {\n",
       "        vertical-align: middle;\n",
       "    }\n",
       "\n",
       "    .dataframe tbody tr th {\n",
       "        vertical-align: top;\n",
       "    }\n",
       "\n",
       "    .dataframe thead th {\n",
       "        text-align: right;\n",
       "    }\n",
       "</style>\n",
       "<table border=\"1\" class=\"dataframe\">\n",
       "  <thead>\n",
       "    <tr style=\"text-align: right;\">\n",
       "      <th></th>\n",
       "      <th>messages_included</th>\n",
       "      <th>mb_per_month_included</th>\n",
       "      <th>minutes_included</th>\n",
       "      <th>rub_monthly_fee</th>\n",
       "      <th>rub_per_gb</th>\n",
       "      <th>rub_per_message</th>\n",
       "      <th>rub_per_minute</th>\n",
       "      <th>tariff_name</th>\n",
       "      <th>gb_per_month_included</th>\n",
       "    </tr>\n",
       "  </thead>\n",
       "  <tbody>\n",
       "    <tr>\n",
       "      <td>0</td>\n",
       "      <td>50</td>\n",
       "      <td>15360</td>\n",
       "      <td>500</td>\n",
       "      <td>550</td>\n",
       "      <td>200</td>\n",
       "      <td>3</td>\n",
       "      <td>3</td>\n",
       "      <td>smart</td>\n",
       "      <td>15</td>\n",
       "    </tr>\n",
       "    <tr>\n",
       "      <td>1</td>\n",
       "      <td>1000</td>\n",
       "      <td>30720</td>\n",
       "      <td>3000</td>\n",
       "      <td>1950</td>\n",
       "      <td>150</td>\n",
       "      <td>1</td>\n",
       "      <td>1</td>\n",
       "      <td>ultra</td>\n",
       "      <td>30</td>\n",
       "    </tr>\n",
       "  </tbody>\n",
       "</table>\n",
       "</div>"
      ],
      "text/plain": [
       "   messages_included  mb_per_month_included  minutes_included  \\\n",
       "0                 50                  15360               500   \n",
       "1               1000                  30720              3000   \n",
       "\n",
       "   rub_monthly_fee  rub_per_gb  rub_per_message  rub_per_minute tariff_name  \\\n",
       "0              550         200                3               3       smart   \n",
       "1             1950         150                1               1       ultra   \n",
       "\n",
       "   gb_per_month_included  \n",
       "0                     15  \n",
       "1                     30  "
      ]
     },
     "metadata": {},
     "output_type": "display_data"
    }
   ],
   "source": [
    "# переводим мегабайты трафика в гигабайты, округляем в большую сторону и переводим в целое\n",
    "tariffs['gb_per_month_included'] = np.ceil(tariffs['mb_per_month_included']/1024).astype('int')\n",
    "display(tariffs.head(5))"
   ]
  },
  {
   "cell_type": "markdown",
   "metadata": {},
   "source": [
    "### Найдите и исправьте ошибки в данных, если они есть."
   ]
  },
  {
   "cell_type": "code",
   "execution_count": 9,
   "metadata": {},
   "outputs": [],
   "source": [
    "#Удаление некорректного столбца\n",
    "#internet.drop('Unnamed: 0', axis=1, inplace=True)\n",
    "#internet.head(5)"
   ]
  },
  {
   "cell_type": "code",
   "execution_count": 10,
   "metadata": {},
   "outputs": [
    {
     "data": {
      "text/html": [
       "<div>\n",
       "<style scoped>\n",
       "    .dataframe tbody tr th:only-of-type {\n",
       "        vertical-align: middle;\n",
       "    }\n",
       "\n",
       "    .dataframe tbody tr th {\n",
       "        vertical-align: top;\n",
       "    }\n",
       "\n",
       "    .dataframe thead th {\n",
       "        text-align: right;\n",
       "    }\n",
       "</style>\n",
       "<table border=\"1\" class=\"dataframe\">\n",
       "  <thead>\n",
       "    <tr style=\"text-align: right;\">\n",
       "      <th></th>\n",
       "      <th>messages_included</th>\n",
       "      <th>mb_per_month_included</th>\n",
       "      <th>minutes_included</th>\n",
       "      <th>rub_monthly_fee</th>\n",
       "      <th>rub_per_gb</th>\n",
       "      <th>rub_per_message</th>\n",
       "      <th>rub_per_minute</th>\n",
       "      <th>tariff</th>\n",
       "      <th>gb_per_month_included</th>\n",
       "    </tr>\n",
       "  </thead>\n",
       "  <tbody>\n",
       "    <tr>\n",
       "      <td>0</td>\n",
       "      <td>50</td>\n",
       "      <td>15360</td>\n",
       "      <td>500</td>\n",
       "      <td>550</td>\n",
       "      <td>200</td>\n",
       "      <td>3</td>\n",
       "      <td>3</td>\n",
       "      <td>smart</td>\n",
       "      <td>15</td>\n",
       "    </tr>\n",
       "    <tr>\n",
       "      <td>1</td>\n",
       "      <td>1000</td>\n",
       "      <td>30720</td>\n",
       "      <td>3000</td>\n",
       "      <td>1950</td>\n",
       "      <td>150</td>\n",
       "      <td>1</td>\n",
       "      <td>1</td>\n",
       "      <td>ultra</td>\n",
       "      <td>30</td>\n",
       "    </tr>\n",
       "  </tbody>\n",
       "</table>\n",
       "</div>"
      ],
      "text/plain": [
       "   messages_included  mb_per_month_included  minutes_included  \\\n",
       "0                 50                  15360               500   \n",
       "1               1000                  30720              3000   \n",
       "\n",
       "   rub_monthly_fee  rub_per_gb  rub_per_message  rub_per_minute tariff  \\\n",
       "0              550         200                3               3  smart   \n",
       "1             1950         150                1               1  ultra   \n",
       "\n",
       "   gb_per_month_included  \n",
       "0                     15  \n",
       "1                     30  "
      ]
     },
     "execution_count": 10,
     "metadata": {},
     "output_type": "execute_result"
    }
   ],
   "source": [
    "#Переименование столбцов, для последущего корректного объединения\n",
    "tariffs = tariffs.rename(columns={'tariff_name':'tariff'})\n",
    "tariffs.head(5)"
   ]
  },
  {
   "cell_type": "markdown",
   "metadata": {},
   "source": [
    "### Для каждого пользователя считаем количество сделанных звонков и израсходованных минут разговора по месяцам"
   ]
  },
  {
   "cell_type": "code",
   "execution_count": 11,
   "metadata": {},
   "outputs": [
    {
     "data": {
      "text/html": [
       "<div>\n",
       "<style scoped>\n",
       "    .dataframe tbody tr th:only-of-type {\n",
       "        vertical-align: middle;\n",
       "    }\n",
       "\n",
       "    .dataframe tbody tr th {\n",
       "        vertical-align: top;\n",
       "    }\n",
       "\n",
       "    .dataframe thead th {\n",
       "        text-align: right;\n",
       "    }\n",
       "</style>\n",
       "<table border=\"1\" class=\"dataframe\">\n",
       "  <thead>\n",
       "    <tr style=\"text-align: right;\">\n",
       "      <th></th>\n",
       "      <th>user_id</th>\n",
       "      <th>month</th>\n",
       "      <th>duration</th>\n",
       "    </tr>\n",
       "  </thead>\n",
       "  <tbody>\n",
       "    <tr>\n",
       "      <td>0</td>\n",
       "      <td>1000</td>\n",
       "      <td>5</td>\n",
       "      <td>159</td>\n",
       "    </tr>\n",
       "    <tr>\n",
       "      <td>1</td>\n",
       "      <td>1000</td>\n",
       "      <td>6</td>\n",
       "      <td>172</td>\n",
       "    </tr>\n",
       "    <tr>\n",
       "      <td>2</td>\n",
       "      <td>1000</td>\n",
       "      <td>7</td>\n",
       "      <td>340</td>\n",
       "    </tr>\n",
       "    <tr>\n",
       "      <td>3</td>\n",
       "      <td>1000</td>\n",
       "      <td>8</td>\n",
       "      <td>408</td>\n",
       "    </tr>\n",
       "    <tr>\n",
       "      <td>4</td>\n",
       "      <td>1000</td>\n",
       "      <td>9</td>\n",
       "      <td>466</td>\n",
       "    </tr>\n",
       "  </tbody>\n",
       "</table>\n",
       "</div>"
      ],
      "text/plain": [
       "   user_id  month  duration\n",
       "0     1000      5       159\n",
       "1     1000      6       172\n",
       "2     1000      7       340\n",
       "3     1000      8       408\n",
       "4     1000      9       466"
      ]
     },
     "metadata": {},
     "output_type": "display_data"
    }
   ],
   "source": [
    "#подсчет для каждого пользователя количества сделанных звонков и израсходованных минут разговора по месяцам\n",
    "cls_month = calls.pivot_table(index=['user_id', 'month'], values=['duration'], aggfunc='sum').reset_index()\n",
    "display(cls_month.head(5))"
   ]
  },
  {
   "cell_type": "markdown",
   "metadata": {},
   "source": [
    "### Для каждого пользователя считаем количество отправленных сообщений по месяцам"
   ]
  },
  {
   "cell_type": "code",
   "execution_count": 12,
   "metadata": {
    "scrolled": true
   },
   "outputs": [
    {
     "data": {
      "text/html": [
       "<div>\n",
       "<style scoped>\n",
       "    .dataframe tbody tr th:only-of-type {\n",
       "        vertical-align: middle;\n",
       "    }\n",
       "\n",
       "    .dataframe tbody tr th {\n",
       "        vertical-align: top;\n",
       "    }\n",
       "\n",
       "    .dataframe thead th {\n",
       "        text-align: right;\n",
       "    }\n",
       "</style>\n",
       "<table border=\"1\" class=\"dataframe\">\n",
       "  <thead>\n",
       "    <tr style=\"text-align: right;\">\n",
       "      <th></th>\n",
       "      <th>user_id</th>\n",
       "      <th>month</th>\n",
       "      <th>messages</th>\n",
       "    </tr>\n",
       "  </thead>\n",
       "  <tbody>\n",
       "    <tr>\n",
       "      <td>0</td>\n",
       "      <td>1000</td>\n",
       "      <td>5</td>\n",
       "      <td>22</td>\n",
       "    </tr>\n",
       "    <tr>\n",
       "      <td>1</td>\n",
       "      <td>1000</td>\n",
       "      <td>6</td>\n",
       "      <td>60</td>\n",
       "    </tr>\n",
       "    <tr>\n",
       "      <td>2</td>\n",
       "      <td>1000</td>\n",
       "      <td>7</td>\n",
       "      <td>75</td>\n",
       "    </tr>\n",
       "    <tr>\n",
       "      <td>3</td>\n",
       "      <td>1000</td>\n",
       "      <td>8</td>\n",
       "      <td>81</td>\n",
       "    </tr>\n",
       "    <tr>\n",
       "      <td>4</td>\n",
       "      <td>1000</td>\n",
       "      <td>9</td>\n",
       "      <td>57</td>\n",
       "    </tr>\n",
       "  </tbody>\n",
       "</table>\n",
       "</div>"
      ],
      "text/plain": [
       "   user_id  month  messages\n",
       "0     1000      5        22\n",
       "1     1000      6        60\n",
       "2     1000      7        75\n",
       "3     1000      8        81\n",
       "4     1000      9        57"
      ]
     },
     "metadata": {},
     "output_type": "display_data"
    }
   ],
   "source": [
    "#подсчет для каждого пользователя количества отправленных сообщений по месяцам\n",
    "msg_month = messages.pivot_table(index=['user_id', 'month'], values=['id'], aggfunc='count').reset_index()\n",
    "msg_month = msg_month.rename(columns={'id':'messages'})\n",
    "display(msg_month.head(5))"
   ]
  },
  {
   "cell_type": "markdown",
   "metadata": {},
   "source": [
    "### Для каждого пользователя считаем объем израсходованного интернет-трафика по месяцам"
   ]
  },
  {
   "cell_type": "code",
   "execution_count": 13,
   "metadata": {},
   "outputs": [
    {
     "data": {
      "text/html": [
       "<div>\n",
       "<style scoped>\n",
       "    .dataframe tbody tr th:only-of-type {\n",
       "        vertical-align: middle;\n",
       "    }\n",
       "\n",
       "    .dataframe tbody tr th {\n",
       "        vertical-align: top;\n",
       "    }\n",
       "\n",
       "    .dataframe thead th {\n",
       "        text-align: right;\n",
       "    }\n",
       "</style>\n",
       "<table border=\"1\" class=\"dataframe\">\n",
       "  <thead>\n",
       "    <tr style=\"text-align: right;\">\n",
       "      <th></th>\n",
       "      <th>user_id</th>\n",
       "      <th>month</th>\n",
       "      <th>mb_used</th>\n",
       "      <th>gb_used</th>\n",
       "    </tr>\n",
       "  </thead>\n",
       "  <tbody>\n",
       "    <tr>\n",
       "      <td>0</td>\n",
       "      <td>1000</td>\n",
       "      <td>5</td>\n",
       "      <td>2253.49</td>\n",
       "      <td>3</td>\n",
       "    </tr>\n",
       "    <tr>\n",
       "      <td>1</td>\n",
       "      <td>1000</td>\n",
       "      <td>6</td>\n",
       "      <td>23233.77</td>\n",
       "      <td>23</td>\n",
       "    </tr>\n",
       "    <tr>\n",
       "      <td>2</td>\n",
       "      <td>1000</td>\n",
       "      <td>7</td>\n",
       "      <td>14003.64</td>\n",
       "      <td>14</td>\n",
       "    </tr>\n",
       "    <tr>\n",
       "      <td>3</td>\n",
       "      <td>1000</td>\n",
       "      <td>8</td>\n",
       "      <td>14055.93</td>\n",
       "      <td>14</td>\n",
       "    </tr>\n",
       "    <tr>\n",
       "      <td>4</td>\n",
       "      <td>1000</td>\n",
       "      <td>9</td>\n",
       "      <td>14568.91</td>\n",
       "      <td>15</td>\n",
       "    </tr>\n",
       "  </tbody>\n",
       "</table>\n",
       "</div>"
      ],
      "text/plain": [
       "   user_id  month   mb_used  gb_used\n",
       "0     1000      5   2253.49        3\n",
       "1     1000      6  23233.77       23\n",
       "2     1000      7  14003.64       14\n",
       "3     1000      8  14055.93       14\n",
       "4     1000      9  14568.91       15"
      ]
     },
     "metadata": {},
     "output_type": "display_data"
    }
   ],
   "source": [
    "#подсчет дя каждого пользователя объема израсходованного интернет-трафика по месяцам\n",
    "int_month = internet.pivot_table(index=['user_id', 'month'], values=['mb_used'], aggfunc='sum').reset_index()\n",
    "int_month['gb_used'] = np.ceil(int_month['mb_used']/1024).astype('int')\n",
    "display(int_month.head(5))"
   ]
  },
  {
   "cell_type": "markdown",
   "metadata": {},
   "source": [
    "### помесячную выручку с каждого пользователя (вычтите бесплатный лимит из суммарного количества звонков, сообщений и интернет-трафика; остаток умножьте на значение из тарифного плана; прибавьте абонентскую плату, соответствующую тарифному плану)."
   ]
  },
  {
   "cell_type": "code",
   "execution_count": 14,
   "metadata": {
    "scrolled": true
   },
   "outputs": [
    {
     "data": {
      "text/html": [
       "<div>\n",
       "<style scoped>\n",
       "    .dataframe tbody tr th:only-of-type {\n",
       "        vertical-align: middle;\n",
       "    }\n",
       "\n",
       "    .dataframe tbody tr th {\n",
       "        vertical-align: top;\n",
       "    }\n",
       "\n",
       "    .dataframe thead th {\n",
       "        text-align: right;\n",
       "    }\n",
       "</style>\n",
       "<table border=\"1\" class=\"dataframe\">\n",
       "  <thead>\n",
       "    <tr style=\"text-align: right;\">\n",
       "      <th></th>\n",
       "      <th>user_id</th>\n",
       "      <th>month</th>\n",
       "      <th>duration</th>\n",
       "      <th>messages</th>\n",
       "      <th>mb_used</th>\n",
       "      <th>gb_used</th>\n",
       "      <th>age</th>\n",
       "      <th>churn_date</th>\n",
       "      <th>city</th>\n",
       "      <th>first_name</th>\n",
       "      <th>...</th>\n",
       "      <th>reg_date</th>\n",
       "      <th>tariff</th>\n",
       "      <th>messages_included</th>\n",
       "      <th>mb_per_month_included</th>\n",
       "      <th>minutes_included</th>\n",
       "      <th>rub_monthly_fee</th>\n",
       "      <th>rub_per_gb</th>\n",
       "      <th>rub_per_message</th>\n",
       "      <th>rub_per_minute</th>\n",
       "      <th>gb_per_month_included</th>\n",
       "    </tr>\n",
       "  </thead>\n",
       "  <tbody>\n",
       "    <tr>\n",
       "      <td>0</td>\n",
       "      <td>1000</td>\n",
       "      <td>5</td>\n",
       "      <td>159.0</td>\n",
       "      <td>22.0</td>\n",
       "      <td>2253.49</td>\n",
       "      <td>3.0</td>\n",
       "      <td>52</td>\n",
       "      <td>NaN</td>\n",
       "      <td>Краснодар</td>\n",
       "      <td>Рафаил</td>\n",
       "      <td>...</td>\n",
       "      <td>2018-05-25</td>\n",
       "      <td>ultra</td>\n",
       "      <td>1000</td>\n",
       "      <td>30720</td>\n",
       "      <td>3000</td>\n",
       "      <td>1950</td>\n",
       "      <td>150</td>\n",
       "      <td>1</td>\n",
       "      <td>1</td>\n",
       "      <td>30</td>\n",
       "    </tr>\n",
       "    <tr>\n",
       "      <td>1</td>\n",
       "      <td>1000</td>\n",
       "      <td>6</td>\n",
       "      <td>172.0</td>\n",
       "      <td>60.0</td>\n",
       "      <td>23233.77</td>\n",
       "      <td>23.0</td>\n",
       "      <td>52</td>\n",
       "      <td>NaN</td>\n",
       "      <td>Краснодар</td>\n",
       "      <td>Рафаил</td>\n",
       "      <td>...</td>\n",
       "      <td>2018-05-25</td>\n",
       "      <td>ultra</td>\n",
       "      <td>1000</td>\n",
       "      <td>30720</td>\n",
       "      <td>3000</td>\n",
       "      <td>1950</td>\n",
       "      <td>150</td>\n",
       "      <td>1</td>\n",
       "      <td>1</td>\n",
       "      <td>30</td>\n",
       "    </tr>\n",
       "    <tr>\n",
       "      <td>2</td>\n",
       "      <td>1000</td>\n",
       "      <td>7</td>\n",
       "      <td>340.0</td>\n",
       "      <td>75.0</td>\n",
       "      <td>14003.64</td>\n",
       "      <td>14.0</td>\n",
       "      <td>52</td>\n",
       "      <td>NaN</td>\n",
       "      <td>Краснодар</td>\n",
       "      <td>Рафаил</td>\n",
       "      <td>...</td>\n",
       "      <td>2018-05-25</td>\n",
       "      <td>ultra</td>\n",
       "      <td>1000</td>\n",
       "      <td>30720</td>\n",
       "      <td>3000</td>\n",
       "      <td>1950</td>\n",
       "      <td>150</td>\n",
       "      <td>1</td>\n",
       "      <td>1</td>\n",
       "      <td>30</td>\n",
       "    </tr>\n",
       "    <tr>\n",
       "      <td>3</td>\n",
       "      <td>1000</td>\n",
       "      <td>8</td>\n",
       "      <td>408.0</td>\n",
       "      <td>81.0</td>\n",
       "      <td>14055.93</td>\n",
       "      <td>14.0</td>\n",
       "      <td>52</td>\n",
       "      <td>NaN</td>\n",
       "      <td>Краснодар</td>\n",
       "      <td>Рафаил</td>\n",
       "      <td>...</td>\n",
       "      <td>2018-05-25</td>\n",
       "      <td>ultra</td>\n",
       "      <td>1000</td>\n",
       "      <td>30720</td>\n",
       "      <td>3000</td>\n",
       "      <td>1950</td>\n",
       "      <td>150</td>\n",
       "      <td>1</td>\n",
       "      <td>1</td>\n",
       "      <td>30</td>\n",
       "    </tr>\n",
       "    <tr>\n",
       "      <td>4</td>\n",
       "      <td>1000</td>\n",
       "      <td>9</td>\n",
       "      <td>466.0</td>\n",
       "      <td>57.0</td>\n",
       "      <td>14568.91</td>\n",
       "      <td>15.0</td>\n",
       "      <td>52</td>\n",
       "      <td>NaN</td>\n",
       "      <td>Краснодар</td>\n",
       "      <td>Рафаил</td>\n",
       "      <td>...</td>\n",
       "      <td>2018-05-25</td>\n",
       "      <td>ultra</td>\n",
       "      <td>1000</td>\n",
       "      <td>30720</td>\n",
       "      <td>3000</td>\n",
       "      <td>1950</td>\n",
       "      <td>150</td>\n",
       "      <td>1</td>\n",
       "      <td>1</td>\n",
       "      <td>30</td>\n",
       "    </tr>\n",
       "    <tr>\n",
       "      <td>...</td>\n",
       "      <td>...</td>\n",
       "      <td>...</td>\n",
       "      <td>...</td>\n",
       "      <td>...</td>\n",
       "      <td>...</td>\n",
       "      <td>...</td>\n",
       "      <td>...</td>\n",
       "      <td>...</td>\n",
       "      <td>...</td>\n",
       "      <td>...</td>\n",
       "      <td>...</td>\n",
       "      <td>...</td>\n",
       "      <td>...</td>\n",
       "      <td>...</td>\n",
       "      <td>...</td>\n",
       "      <td>...</td>\n",
       "      <td>...</td>\n",
       "      <td>...</td>\n",
       "      <td>...</td>\n",
       "      <td>...</td>\n",
       "      <td>...</td>\n",
       "    </tr>\n",
       "    <tr>\n",
       "      <td>3209</td>\n",
       "      <td>1489</td>\n",
       "      <td>9</td>\n",
       "      <td>NaN</td>\n",
       "      <td>32.0</td>\n",
       "      <td>17206.30</td>\n",
       "      <td>17.0</td>\n",
       "      <td>35</td>\n",
       "      <td>NaN</td>\n",
       "      <td>Санкт-Петербург</td>\n",
       "      <td>Павел</td>\n",
       "      <td>...</td>\n",
       "      <td>2018-08-15</td>\n",
       "      <td>smart</td>\n",
       "      <td>50</td>\n",
       "      <td>15360</td>\n",
       "      <td>500</td>\n",
       "      <td>550</td>\n",
       "      <td>200</td>\n",
       "      <td>3</td>\n",
       "      <td>3</td>\n",
       "      <td>15</td>\n",
       "    </tr>\n",
       "    <tr>\n",
       "      <td>3210</td>\n",
       "      <td>1489</td>\n",
       "      <td>10</td>\n",
       "      <td>NaN</td>\n",
       "      <td>21.0</td>\n",
       "      <td>19559.44</td>\n",
       "      <td>20.0</td>\n",
       "      <td>35</td>\n",
       "      <td>NaN</td>\n",
       "      <td>Санкт-Петербург</td>\n",
       "      <td>Павел</td>\n",
       "      <td>...</td>\n",
       "      <td>2018-08-15</td>\n",
       "      <td>smart</td>\n",
       "      <td>50</td>\n",
       "      <td>15360</td>\n",
       "      <td>500</td>\n",
       "      <td>550</td>\n",
       "      <td>200</td>\n",
       "      <td>3</td>\n",
       "      <td>3</td>\n",
       "      <td>15</td>\n",
       "    </tr>\n",
       "    <tr>\n",
       "      <td>3211</td>\n",
       "      <td>1489</td>\n",
       "      <td>11</td>\n",
       "      <td>NaN</td>\n",
       "      <td>20.0</td>\n",
       "      <td>17491.56</td>\n",
       "      <td>18.0</td>\n",
       "      <td>35</td>\n",
       "      <td>NaN</td>\n",
       "      <td>Санкт-Петербург</td>\n",
       "      <td>Павел</td>\n",
       "      <td>...</td>\n",
       "      <td>2018-08-15</td>\n",
       "      <td>smart</td>\n",
       "      <td>50</td>\n",
       "      <td>15360</td>\n",
       "      <td>500</td>\n",
       "      <td>550</td>\n",
       "      <td>200</td>\n",
       "      <td>3</td>\n",
       "      <td>3</td>\n",
       "      <td>15</td>\n",
       "    </tr>\n",
       "    <tr>\n",
       "      <td>3212</td>\n",
       "      <td>1489</td>\n",
       "      <td>12</td>\n",
       "      <td>NaN</td>\n",
       "      <td>35.0</td>\n",
       "      <td>17322.51</td>\n",
       "      <td>17.0</td>\n",
       "      <td>35</td>\n",
       "      <td>NaN</td>\n",
       "      <td>Санкт-Петербург</td>\n",
       "      <td>Павел</td>\n",
       "      <td>...</td>\n",
       "      <td>2018-08-15</td>\n",
       "      <td>smart</td>\n",
       "      <td>50</td>\n",
       "      <td>15360</td>\n",
       "      <td>500</td>\n",
       "      <td>550</td>\n",
       "      <td>200</td>\n",
       "      <td>3</td>\n",
       "      <td>3</td>\n",
       "      <td>15</td>\n",
       "    </tr>\n",
       "    <tr>\n",
       "      <td>3213</td>\n",
       "      <td>1476</td>\n",
       "      <td>4</td>\n",
       "      <td>NaN</td>\n",
       "      <td>NaN</td>\n",
       "      <td>530.78</td>\n",
       "      <td>1.0</td>\n",
       "      <td>50</td>\n",
       "      <td>NaN</td>\n",
       "      <td>Москва</td>\n",
       "      <td>Валентина</td>\n",
       "      <td>...</td>\n",
       "      <td>2018-04-30</td>\n",
       "      <td>ultra</td>\n",
       "      <td>1000</td>\n",
       "      <td>30720</td>\n",
       "      <td>3000</td>\n",
       "      <td>1950</td>\n",
       "      <td>150</td>\n",
       "      <td>1</td>\n",
       "      <td>1</td>\n",
       "      <td>30</td>\n",
       "    </tr>\n",
       "  </tbody>\n",
       "</table>\n",
       "<p>3214 rows × 21 columns</p>\n",
       "</div>"
      ],
      "text/plain": [
       "      user_id  month  duration  messages   mb_used  gb_used  age churn_date  \\\n",
       "0        1000      5     159.0      22.0   2253.49      3.0   52        NaN   \n",
       "1        1000      6     172.0      60.0  23233.77     23.0   52        NaN   \n",
       "2        1000      7     340.0      75.0  14003.64     14.0   52        NaN   \n",
       "3        1000      8     408.0      81.0  14055.93     14.0   52        NaN   \n",
       "4        1000      9     466.0      57.0  14568.91     15.0   52        NaN   \n",
       "...       ...    ...       ...       ...       ...      ...  ...        ...   \n",
       "3209     1489      9       NaN      32.0  17206.30     17.0   35        NaN   \n",
       "3210     1489     10       NaN      21.0  19559.44     20.0   35        NaN   \n",
       "3211     1489     11       NaN      20.0  17491.56     18.0   35        NaN   \n",
       "3212     1489     12       NaN      35.0  17322.51     17.0   35        NaN   \n",
       "3213     1476      4       NaN       NaN    530.78      1.0   50        NaN   \n",
       "\n",
       "                 city first_name  ...    reg_date tariff messages_included  \\\n",
       "0           Краснодар     Рафаил  ...  2018-05-25  ultra              1000   \n",
       "1           Краснодар     Рафаил  ...  2018-05-25  ultra              1000   \n",
       "2           Краснодар     Рафаил  ...  2018-05-25  ultra              1000   \n",
       "3           Краснодар     Рафаил  ...  2018-05-25  ultra              1000   \n",
       "4           Краснодар     Рафаил  ...  2018-05-25  ultra              1000   \n",
       "...               ...        ...  ...         ...    ...               ...   \n",
       "3209  Санкт-Петербург      Павел  ...  2018-08-15  smart                50   \n",
       "3210  Санкт-Петербург      Павел  ...  2018-08-15  smart                50   \n",
       "3211  Санкт-Петербург      Павел  ...  2018-08-15  smart                50   \n",
       "3212  Санкт-Петербург      Павел  ...  2018-08-15  smart                50   \n",
       "3213           Москва  Валентина  ...  2018-04-30  ultra              1000   \n",
       "\n",
       "      mb_per_month_included  minutes_included  rub_monthly_fee  rub_per_gb  \\\n",
       "0                     30720              3000             1950         150   \n",
       "1                     30720              3000             1950         150   \n",
       "2                     30720              3000             1950         150   \n",
       "3                     30720              3000             1950         150   \n",
       "4                     30720              3000             1950         150   \n",
       "...                     ...               ...              ...         ...   \n",
       "3209                  15360               500              550         200   \n",
       "3210                  15360               500              550         200   \n",
       "3211                  15360               500              550         200   \n",
       "3212                  15360               500              550         200   \n",
       "3213                  30720              3000             1950         150   \n",
       "\n",
       "      rub_per_message  rub_per_minute  gb_per_month_included  \n",
       "0                   1               1                     30  \n",
       "1                   1               1                     30  \n",
       "2                   1               1                     30  \n",
       "3                   1               1                     30  \n",
       "4                   1               1                     30  \n",
       "...               ...             ...                    ...  \n",
       "3209                3               3                     15  \n",
       "3210                3               3                     15  \n",
       "3211                3               3                     15  \n",
       "3212                3               3                     15  \n",
       "3213                1               1                     30  \n",
       "\n",
       "[3214 rows x 21 columns]"
      ]
     },
     "execution_count": 14,
     "metadata": {},
     "output_type": "execute_result"
    }
   ],
   "source": [
    "#объединение всех таблиц в одну методом merge()\n",
    "table = cls_month.merge(msg_month, on=['month', 'user_id'], how='outer')\n",
    "table = table.merge(int_month, on=['month', 'user_id'], how='outer')\n",
    "table = table.merge(users, on=['user_id'], how='left')\n",
    "table = table.merge(tariffs, on=['tariff'], how='left')\n",
    "table\n",
    "\n",
    "#user_id — уникальный идентификатор пользователя\n",
    "#first_name — имя пользователя\n",
    "#last_name — фамилия пользователя\n",
    "#age — возраст пользователя (годы)\n",
    "#reg_date — дата подключения тарифа (день, месяц, год)\n",
    "#churn_date — дата прекращения пользования тарифом (если значение пропущено, то тариф ещё действовал на момент выгрузки данных)\n",
    "#city — город проживания пользователя\n",
    "#tarif — название тарифного плана\n",
    "\n",
    "#tariff_name — название тарифа\n",
    "#rub_monthly_fee — ежемесячная абонентская плата в рублях\n",
    "#minutes_included — количество минут разговора в месяц, включённых в абонентскую плату\n",
    "#messages_included — количество сообщений в месяц, включённых в абонентскую плату\n",
    "#mb_per_month_included — объём интернет-трафика, включённого в абонентскую плату (в мегабайтах)\n",
    "#rub_per_minute — стоимость минуты разговора сверх тарифного пакета (например, если в тарифе 100 минут разговора в месяц, то со 101 минуты будет взиматься плата)\n",
    "#rub_per_message — стоимость отправки сообщения сверх тарифного пакета\n",
    "#rub_per_gb — стоимость дополнительного гигабайта интернет-трафика сверх тарифного пакета (1 гигабайт = 1024 мегабайта)"
   ]
  },
  {
   "cell_type": "code",
   "execution_count": 15,
   "metadata": {},
   "outputs": [
    {
     "data": {
      "text/plain": [
       "Index(['user_id', 'month', 'duration', 'messages', 'mb_used', 'gb_used', 'age',\n",
       "       'churn_date', 'city', 'first_name', 'last_name', 'reg_date', 'tariff',\n",
       "       'messages_included', 'mb_per_month_included', 'minutes_included',\n",
       "       'rub_monthly_fee', 'rub_per_gb', 'rub_per_message', 'rub_per_minute',\n",
       "       'gb_per_month_included'],\n",
       "      dtype='object')"
      ]
     },
     "execution_count": 15,
     "metadata": {},
     "output_type": "execute_result"
    }
   ],
   "source": [
    "# созданные столбцы\n",
    "table.columns"
   ]
  },
  {
   "cell_type": "code",
   "execution_count": 16,
   "metadata": {
    "scrolled": true
   },
   "outputs": [
    {
     "data": {
      "text/html": [
       "<div>\n",
       "<style scoped>\n",
       "    .dataframe tbody tr th:only-of-type {\n",
       "        vertical-align: middle;\n",
       "    }\n",
       "\n",
       "    .dataframe tbody tr th {\n",
       "        vertical-align: top;\n",
       "    }\n",
       "\n",
       "    .dataframe thead th {\n",
       "        text-align: right;\n",
       "    }\n",
       "</style>\n",
       "<table border=\"1\" class=\"dataframe\">\n",
       "  <thead>\n",
       "    <tr style=\"text-align: right;\">\n",
       "      <th></th>\n",
       "      <th>user_id</th>\n",
       "      <th>month</th>\n",
       "      <th>duration</th>\n",
       "      <th>messages</th>\n",
       "      <th>mb_used</th>\n",
       "      <th>gb_used</th>\n",
       "      <th>age</th>\n",
       "      <th>churn_date</th>\n",
       "      <th>city</th>\n",
       "      <th>first_name</th>\n",
       "      <th>...</th>\n",
       "      <th>tariff</th>\n",
       "      <th>messages_included</th>\n",
       "      <th>mb_per_month_included</th>\n",
       "      <th>minutes_included</th>\n",
       "      <th>rub_monthly_fee</th>\n",
       "      <th>rub_per_gb</th>\n",
       "      <th>rub_per_message</th>\n",
       "      <th>rub_per_minute</th>\n",
       "      <th>gb_per_month_included</th>\n",
       "      <th>dohod</th>\n",
       "    </tr>\n",
       "  </thead>\n",
       "  <tbody>\n",
       "    <tr>\n",
       "      <td>0</td>\n",
       "      <td>1000</td>\n",
       "      <td>5</td>\n",
       "      <td>159.0</td>\n",
       "      <td>22.0</td>\n",
       "      <td>2253.49</td>\n",
       "      <td>3.0</td>\n",
       "      <td>52</td>\n",
       "      <td>NaN</td>\n",
       "      <td>Краснодар</td>\n",
       "      <td>Рафаил</td>\n",
       "      <td>...</td>\n",
       "      <td>ultra</td>\n",
       "      <td>1000</td>\n",
       "      <td>30720</td>\n",
       "      <td>3000</td>\n",
       "      <td>1950</td>\n",
       "      <td>150</td>\n",
       "      <td>1</td>\n",
       "      <td>1</td>\n",
       "      <td>30</td>\n",
       "      <td>1950.0</td>\n",
       "    </tr>\n",
       "    <tr>\n",
       "      <td>1</td>\n",
       "      <td>1000</td>\n",
       "      <td>6</td>\n",
       "      <td>172.0</td>\n",
       "      <td>60.0</td>\n",
       "      <td>23233.77</td>\n",
       "      <td>23.0</td>\n",
       "      <td>52</td>\n",
       "      <td>NaN</td>\n",
       "      <td>Краснодар</td>\n",
       "      <td>Рафаил</td>\n",
       "      <td>...</td>\n",
       "      <td>ultra</td>\n",
       "      <td>1000</td>\n",
       "      <td>30720</td>\n",
       "      <td>3000</td>\n",
       "      <td>1950</td>\n",
       "      <td>150</td>\n",
       "      <td>1</td>\n",
       "      <td>1</td>\n",
       "      <td>30</td>\n",
       "      <td>1950.0</td>\n",
       "    </tr>\n",
       "    <tr>\n",
       "      <td>2</td>\n",
       "      <td>1000</td>\n",
       "      <td>7</td>\n",
       "      <td>340.0</td>\n",
       "      <td>75.0</td>\n",
       "      <td>14003.64</td>\n",
       "      <td>14.0</td>\n",
       "      <td>52</td>\n",
       "      <td>NaN</td>\n",
       "      <td>Краснодар</td>\n",
       "      <td>Рафаил</td>\n",
       "      <td>...</td>\n",
       "      <td>ultra</td>\n",
       "      <td>1000</td>\n",
       "      <td>30720</td>\n",
       "      <td>3000</td>\n",
       "      <td>1950</td>\n",
       "      <td>150</td>\n",
       "      <td>1</td>\n",
       "      <td>1</td>\n",
       "      <td>30</td>\n",
       "      <td>1950.0</td>\n",
       "    </tr>\n",
       "    <tr>\n",
       "      <td>3</td>\n",
       "      <td>1000</td>\n",
       "      <td>8</td>\n",
       "      <td>408.0</td>\n",
       "      <td>81.0</td>\n",
       "      <td>14055.93</td>\n",
       "      <td>14.0</td>\n",
       "      <td>52</td>\n",
       "      <td>NaN</td>\n",
       "      <td>Краснодар</td>\n",
       "      <td>Рафаил</td>\n",
       "      <td>...</td>\n",
       "      <td>ultra</td>\n",
       "      <td>1000</td>\n",
       "      <td>30720</td>\n",
       "      <td>3000</td>\n",
       "      <td>1950</td>\n",
       "      <td>150</td>\n",
       "      <td>1</td>\n",
       "      <td>1</td>\n",
       "      <td>30</td>\n",
       "      <td>1950.0</td>\n",
       "    </tr>\n",
       "    <tr>\n",
       "      <td>4</td>\n",
       "      <td>1000</td>\n",
       "      <td>9</td>\n",
       "      <td>466.0</td>\n",
       "      <td>57.0</td>\n",
       "      <td>14568.91</td>\n",
       "      <td>15.0</td>\n",
       "      <td>52</td>\n",
       "      <td>NaN</td>\n",
       "      <td>Краснодар</td>\n",
       "      <td>Рафаил</td>\n",
       "      <td>...</td>\n",
       "      <td>ultra</td>\n",
       "      <td>1000</td>\n",
       "      <td>30720</td>\n",
       "      <td>3000</td>\n",
       "      <td>1950</td>\n",
       "      <td>150</td>\n",
       "      <td>1</td>\n",
       "      <td>1</td>\n",
       "      <td>30</td>\n",
       "      <td>1950.0</td>\n",
       "    </tr>\n",
       "  </tbody>\n",
       "</table>\n",
       "<p>5 rows × 22 columns</p>\n",
       "</div>"
      ],
      "text/plain": [
       "   user_id  month  duration  messages   mb_used  gb_used  age churn_date  \\\n",
       "0     1000      5     159.0      22.0   2253.49      3.0   52        NaN   \n",
       "1     1000      6     172.0      60.0  23233.77     23.0   52        NaN   \n",
       "2     1000      7     340.0      75.0  14003.64     14.0   52        NaN   \n",
       "3     1000      8     408.0      81.0  14055.93     14.0   52        NaN   \n",
       "4     1000      9     466.0      57.0  14568.91     15.0   52        NaN   \n",
       "\n",
       "        city first_name  ... tariff messages_included mb_per_month_included  \\\n",
       "0  Краснодар     Рафаил  ...  ultra              1000                 30720   \n",
       "1  Краснодар     Рафаил  ...  ultra              1000                 30720   \n",
       "2  Краснодар     Рафаил  ...  ultra              1000                 30720   \n",
       "3  Краснодар     Рафаил  ...  ultra              1000                 30720   \n",
       "4  Краснодар     Рафаил  ...  ultra              1000                 30720   \n",
       "\n",
       "   minutes_included  rub_monthly_fee  rub_per_gb  rub_per_message  \\\n",
       "0              3000             1950         150                1   \n",
       "1              3000             1950         150                1   \n",
       "2              3000             1950         150                1   \n",
       "3              3000             1950         150                1   \n",
       "4              3000             1950         150                1   \n",
       "\n",
       "   rub_per_minute  gb_per_month_included   dohod  \n",
       "0               1                     30  1950.0  \n",
       "1               1                     30  1950.0  \n",
       "2               1                     30  1950.0  \n",
       "3               1                     30  1950.0  \n",
       "4               1                     30  1950.0  \n",
       "\n",
       "[5 rows x 22 columns]"
      ]
     },
     "metadata": {},
     "output_type": "display_data"
    }
   ],
   "source": [
    "# подсчет помесячной выручки с каждого пользователя \n",
    "#(вычтите бесплатный лимит из суммарного количества звонков, сообщений и интернет-трафика; \n",
    "# остаток умножьте на значение из тарифного плана; \n",
    "# прибавьте абонентскую плату, соответствующую тарифному плану). \n",
    "\n",
    "dohod_cls = (table['duration'] - table['minutes_included']) * table['rub_per_minute'] \n",
    "dohod_cls[dohod_cls < 0] = 0 #обнуляем отрицательные значения, для правильного подсчета общего дохода\n",
    "dohod_cls[dohod_cls.isna()] = 0 #задаем 0 для значений которые не указаны, предпологая что звонков не было\n",
    "\n",
    "dohod_msg = (table['messages'] - table['messages_included']) * table['rub_per_message']\n",
    "dohod_msg[dohod_msg < 0] = 0\n",
    "dohod_msg[dohod_msg.isna()] = 0\n",
    "\n",
    "dohoh_int = (table['gb_used'] - table['gb_per_month_included']) * table['rub_per_gb']\n",
    "dohoh_int[dohoh_int < 0] = 0\n",
    "dohoh_int[dohoh_int.isna()] = 0\n",
    "\n",
    "dohod = dohod_cls + dohod_msg + dohoh_int + table['rub_monthly_fee']\n",
    "table['dohod'] = dohod # добавление столбца с расчетом в таблицу\n",
    "display(table.head(5))"
   ]
  },
  {
   "cell_type": "code",
   "execution_count": 17,
   "metadata": {},
   "outputs": [
    {
     "data": {
      "text/html": [
       "<div>\n",
       "<style scoped>\n",
       "    .dataframe tbody tr th:only-of-type {\n",
       "        vertical-align: middle;\n",
       "    }\n",
       "\n",
       "    .dataframe tbody tr th {\n",
       "        vertical-align: top;\n",
       "    }\n",
       "\n",
       "    .dataframe thead th {\n",
       "        text-align: right;\n",
       "    }\n",
       "</style>\n",
       "<table border=\"1\" class=\"dataframe\">\n",
       "  <thead>\n",
       "    <tr style=\"text-align: right;\">\n",
       "      <th></th>\n",
       "      <th>user_id</th>\n",
       "      <th>month</th>\n",
       "      <th>duration</th>\n",
       "      <th>messages</th>\n",
       "      <th>mb_used</th>\n",
       "      <th>gb_used</th>\n",
       "      <th>age</th>\n",
       "      <th>churn_date</th>\n",
       "      <th>city</th>\n",
       "      <th>first_name</th>\n",
       "      <th>...</th>\n",
       "      <th>tariff</th>\n",
       "      <th>messages_included</th>\n",
       "      <th>mb_per_month_included</th>\n",
       "      <th>minutes_included</th>\n",
       "      <th>rub_monthly_fee</th>\n",
       "      <th>rub_per_gb</th>\n",
       "      <th>rub_per_message</th>\n",
       "      <th>rub_per_minute</th>\n",
       "      <th>gb_per_month_included</th>\n",
       "      <th>dohod</th>\n",
       "    </tr>\n",
       "  </thead>\n",
       "  <tbody>\n",
       "  </tbody>\n",
       "</table>\n",
       "<p>0 rows × 22 columns</p>\n",
       "</div>"
      ],
      "text/plain": [
       "Empty DataFrame\n",
       "Columns: [user_id, month, duration, messages, mb_used, gb_used, age, churn_date, city, first_name, last_name, reg_date, tariff, messages_included, mb_per_month_included, minutes_included, rub_monthly_fee, rub_per_gb, rub_per_message, rub_per_minute, gb_per_month_included, dohod]\n",
       "Index: []\n",
       "\n",
       "[0 rows x 22 columns]"
      ]
     },
     "metadata": {},
     "output_type": "display_data"
    }
   ],
   "source": [
    "# Проверяем отсудствие Nan'ов в доходе\n",
    "display(table[table['dohod'].isna()])"
   ]
  },
  {
   "cell_type": "markdown",
   "metadata": {},
   "source": [
    "### Вывод \n",
    "\n",
    "Мы округлили объем минут разговоров и трафика в большую сторону. Перевели мб в гб. Столбцы, содержащие ошибки и при этом не участвующие в исследовании удалили. Переименовали столбец наименования тарифа к единому имени с целью последующего сбора разрозненных выборок в единую таблицу. Сгруппировали данные о потраченных минутах, сообщениях и трафике по пользователям и месяцам. Провели расчеты. "
   ]
  },
  {
   "cell_type": "markdown",
   "metadata": {},
   "source": [
    "## Шаг. "
   ]
  },
  {
   "cell_type": "markdown",
   "metadata": {},
   "source": [
    "Опишите поведение клиентов оператора, исходя из выборки. Сколько минут разговора, сколько сообщений и какой объём интернет-трафика требуется пользователям каждого тарифа в месяц?"
   ]
  },
  {
   "cell_type": "markdown",
   "metadata": {},
   "source": [
    "###  Посчитайте среднее количество, дисперсию и стандартное отклонение. "
   ]
  },
  {
   "cell_type": "code",
   "execution_count": 18,
   "metadata": {},
   "outputs": [
    {
     "data": {
      "text/html": [
       "<div>\n",
       "<style scoped>\n",
       "    .dataframe tbody tr th:only-of-type {\n",
       "        vertical-align: middle;\n",
       "    }\n",
       "\n",
       "    .dataframe tbody tr th {\n",
       "        vertical-align: top;\n",
       "    }\n",
       "\n",
       "    .dataframe thead tr th {\n",
       "        text-align: left;\n",
       "    }\n",
       "\n",
       "    .dataframe thead tr:last-of-type th {\n",
       "        text-align: right;\n",
       "    }\n",
       "</style>\n",
       "<table border=\"1\" class=\"dataframe\">\n",
       "  <thead>\n",
       "    <tr>\n",
       "      <th></th>\n",
       "      <th>mean</th>\n",
       "      <th>var</th>\n",
       "      <th>std</th>\n",
       "    </tr>\n",
       "    <tr>\n",
       "      <th></th>\n",
       "      <th>duration</th>\n",
       "      <th>duration</th>\n",
       "      <th>duration</th>\n",
       "    </tr>\n",
       "    <tr>\n",
       "      <th>tariff</th>\n",
       "      <th></th>\n",
       "      <th></th>\n",
       "      <th></th>\n",
       "    </tr>\n",
       "  </thead>\n",
       "  <tbody>\n",
       "    <tr>\n",
       "      <td>smart</td>\n",
       "      <td>419.062978</td>\n",
       "      <td>35844.189551</td>\n",
       "      <td>189.325618</td>\n",
       "    </tr>\n",
       "    <tr>\n",
       "      <td>ultra</td>\n",
       "      <td>545.451104</td>\n",
       "      <td>94203.418396</td>\n",
       "      <td>306.925754</td>\n",
       "    </tr>\n",
       "  </tbody>\n",
       "</table>\n",
       "</div>"
      ],
      "text/plain": [
       "              mean           var         std\n",
       "          duration      duration    duration\n",
       "tariff                                      \n",
       "smart   419.062978  35844.189551  189.325618\n",
       "ultra   545.451104  94203.418396  306.925754"
      ]
     },
     "metadata": {},
     "output_type": "display_data"
    }
   ],
   "source": [
    "# cколько минут разговора требуется пользователям каждого тарифа в месяц\n",
    "cls_data = table.pivot_table(index=['tariff'], values='duration', aggfunc=['mean', 'var', 'std'])\n",
    "display(cls_data)"
   ]
  },
  {
   "cell_type": "code",
   "execution_count": 19,
   "metadata": {},
   "outputs": [
    {
     "data": {
      "text/html": [
       "<div>\n",
       "<style scoped>\n",
       "    .dataframe tbody tr th:only-of-type {\n",
       "        vertical-align: middle;\n",
       "    }\n",
       "\n",
       "    .dataframe tbody tr th {\n",
       "        vertical-align: top;\n",
       "    }\n",
       "\n",
       "    .dataframe thead tr th {\n",
       "        text-align: left;\n",
       "    }\n",
       "\n",
       "    .dataframe thead tr:last-of-type th {\n",
       "        text-align: right;\n",
       "    }\n",
       "</style>\n",
       "<table border=\"1\" class=\"dataframe\">\n",
       "  <thead>\n",
       "    <tr>\n",
       "      <th></th>\n",
       "      <th>mean</th>\n",
       "      <th>var</th>\n",
       "      <th>std</th>\n",
       "    </tr>\n",
       "    <tr>\n",
       "      <th></th>\n",
       "      <th>messages</th>\n",
       "      <th>messages</th>\n",
       "      <th>messages</th>\n",
       "    </tr>\n",
       "    <tr>\n",
       "      <th>tariff</th>\n",
       "      <th></th>\n",
       "      <th></th>\n",
       "      <th></th>\n",
       "    </tr>\n",
       "  </thead>\n",
       "  <tbody>\n",
       "    <tr>\n",
       "      <td>smart</td>\n",
       "      <td>38.716441</td>\n",
       "      <td>717.594201</td>\n",
       "      <td>26.787949</td>\n",
       "    </tr>\n",
       "    <tr>\n",
       "      <td>ultra</td>\n",
       "      <td>61.161006</td>\n",
       "      <td>2109.659183</td>\n",
       "      <td>45.931026</td>\n",
       "    </tr>\n",
       "  </tbody>\n",
       "</table>\n",
       "</div>"
      ],
      "text/plain": [
       "             mean          var        std\n",
       "         messages     messages   messages\n",
       "tariff                                   \n",
       "smart   38.716441   717.594201  26.787949\n",
       "ultra   61.161006  2109.659183  45.931026"
      ]
     },
     "metadata": {},
     "output_type": "display_data"
    }
   ],
   "source": [
    "# какое количество сообщений требуется пользователям каждого тарифа в месяц\n",
    "msg_data = table.pivot_table(index=['tariff'], values='messages', aggfunc=['mean', 'var', 'std'])\n",
    "display(msg_data)"
   ]
  },
  {
   "cell_type": "code",
   "execution_count": 20,
   "metadata": {},
   "outputs": [
    {
     "data": {
      "text/html": [
       "<div>\n",
       "<style scoped>\n",
       "    .dataframe tbody tr th:only-of-type {\n",
       "        vertical-align: middle;\n",
       "    }\n",
       "\n",
       "    .dataframe tbody tr th {\n",
       "        vertical-align: top;\n",
       "    }\n",
       "\n",
       "    .dataframe thead tr th {\n",
       "        text-align: left;\n",
       "    }\n",
       "\n",
       "    .dataframe thead tr:last-of-type th {\n",
       "        text-align: right;\n",
       "    }\n",
       "</style>\n",
       "<table border=\"1\" class=\"dataframe\">\n",
       "  <thead>\n",
       "    <tr>\n",
       "      <th></th>\n",
       "      <th>mean</th>\n",
       "      <th>var</th>\n",
       "      <th>std</th>\n",
       "    </tr>\n",
       "    <tr>\n",
       "      <th></th>\n",
       "      <th>gb_used</th>\n",
       "      <th>gb_used</th>\n",
       "      <th>gb_used</th>\n",
       "    </tr>\n",
       "    <tr>\n",
       "      <th>tariff</th>\n",
       "      <th></th>\n",
       "      <th></th>\n",
       "      <th></th>\n",
       "    </tr>\n",
       "  </thead>\n",
       "  <tbody>\n",
       "    <tr>\n",
       "      <td>smart</td>\n",
       "      <td>16.336176</td>\n",
       "      <td>32.923756</td>\n",
       "      <td>5.737923</td>\n",
       "    </tr>\n",
       "    <tr>\n",
       "      <td>ultra</td>\n",
       "      <td>19.694359</td>\n",
       "      <td>94.146734</td>\n",
       "      <td>9.702924</td>\n",
       "    </tr>\n",
       "  </tbody>\n",
       "</table>\n",
       "</div>"
      ],
      "text/plain": [
       "             mean        var       std\n",
       "          gb_used    gb_used   gb_used\n",
       "tariff                                \n",
       "smart   16.336176  32.923756  5.737923\n",
       "ultra   19.694359  94.146734  9.702924"
      ]
     },
     "metadata": {},
     "output_type": "display_data"
    }
   ],
   "source": [
    "# какое трафика требуется пользователям каждого тарифа в месяц\n",
    "int_data = table.pivot_table(index=['tariff'], values='gb_used', aggfunc=['mean', 'var', 'std'])\n",
    "display(int_data)"
   ]
  },
  {
   "cell_type": "code",
   "execution_count": 21,
   "metadata": {},
   "outputs": [
    {
     "data": {
      "text/html": [
       "<div>\n",
       "<style scoped>\n",
       "    .dataframe tbody tr th:only-of-type {\n",
       "        vertical-align: middle;\n",
       "    }\n",
       "\n",
       "    .dataframe tbody tr th {\n",
       "        vertical-align: top;\n",
       "    }\n",
       "\n",
       "    .dataframe thead tr th {\n",
       "        text-align: left;\n",
       "    }\n",
       "\n",
       "    .dataframe thead tr:last-of-type th {\n",
       "        text-align: right;\n",
       "    }\n",
       "</style>\n",
       "<table border=\"1\" class=\"dataframe\">\n",
       "  <thead>\n",
       "    <tr>\n",
       "      <th></th>\n",
       "      <th>mean</th>\n",
       "      <th>var</th>\n",
       "      <th>std</th>\n",
       "    </tr>\n",
       "    <tr>\n",
       "      <th></th>\n",
       "      <th>dohod</th>\n",
       "      <th>dohod</th>\n",
       "      <th>dohod</th>\n",
       "    </tr>\n",
       "    <tr>\n",
       "      <th>tariff</th>\n",
       "      <th></th>\n",
       "      <th></th>\n",
       "      <th></th>\n",
       "    </tr>\n",
       "  </thead>\n",
       "  <tbody>\n",
       "    <tr>\n",
       "      <td>smart</td>\n",
       "      <td>1289.973531</td>\n",
       "      <td>669785.708006</td>\n",
       "      <td>818.404367</td>\n",
       "    </tr>\n",
       "    <tr>\n",
       "      <td>ultra</td>\n",
       "      <td>2070.152284</td>\n",
       "      <td>141516.745079</td>\n",
       "      <td>376.187114</td>\n",
       "    </tr>\n",
       "  </tbody>\n",
       "</table>\n",
       "</div>"
      ],
      "text/plain": [
       "               mean            var         std\n",
       "              dohod          dohod       dohod\n",
       "tariff                                        \n",
       "smart   1289.973531  669785.708006  818.404367\n",
       "ultra   2070.152284  141516.745079  376.187114"
      ]
     },
     "metadata": {},
     "output_type": "display_data"
    }
   ],
   "source": [
    "# какой доход приносят пользователи каждого тарифа в месяц\n",
    "int_data = table.pivot_table(index=['tariff'], values='dohod', aggfunc=['mean', 'var', 'std'])\n",
    "display(int_data)"
   ]
  },
  {
   "cell_type": "markdown",
   "metadata": {},
   "source": [
    "### Постройте гистограммы."
   ]
  },
  {
   "cell_type": "code",
   "execution_count": 22,
   "metadata": {},
   "outputs": [
    {
     "data": {
      "text/plain": [
       "array([<matplotlib.axes._subplots.AxesSubplot object at 0x7f8507a56450>,\n",
       "       <matplotlib.axes._subplots.AxesSubplot object at 0x7f8507a7ced0>],\n",
       "      dtype=object)"
      ]
     },
     "execution_count": 22,
     "metadata": {},
     "output_type": "execute_result"
    },
    {
     "data": {
      "image/png": "[encoded data removed]",
      "text/plain": [
       "<Figure size 1008x288 with 2 Axes>"
      ]
     },
     "metadata": {
      "needs_background": "light"
     },
     "output_type": "display_data"
    }
   ],
   "source": [
    "#гистаграммы продолжительности разговора по тарифам\n",
    "table.hist(column='duration', by='tariff', bins=20, range =(0,2000), figsize = (14,4))"
   ]
  },
  {
   "cell_type": "code",
   "execution_count": 23,
   "metadata": {},
   "outputs": [
    {
     "data": {
      "text/plain": [
       "array([<matplotlib.axes._subplots.AxesSubplot object at 0x7f8507970510>,\n",
       "       <matplotlib.axes._subplots.AxesSubplot object at 0x7f85078c9d10>],\n",
       "      dtype=object)"
      ]
     },
     "execution_count": 23,
     "metadata": {},
     "output_type": "execute_result"
    },
    {
     "data": {
      "image/png": "[encoded data removed]",
      "text/plain": [
       "<Figure size 1008x288 with 2 Axes>"
      ]
     },
     "metadata": {
      "needs_background": "light"
     },
     "output_type": "display_data"
    }
   ],
   "source": [
    "#гистаграммы количества сообщений по тарифам\n",
    "table.hist(column='messages', by='tariff', bins=20, range =(0,250), figsize = (14,4))"
   ]
  },
  {
   "cell_type": "code",
   "execution_count": 24,
   "metadata": {},
   "outputs": [
    {
     "data": {
      "text/plain": [
       "array([<matplotlib.axes._subplots.AxesSubplot object at 0x7f85077cd090>,\n",
       "       <matplotlib.axes._subplots.AxesSubplot object at 0x7f850778a7d0>],\n",
       "      dtype=object)"
      ]
     },
     "execution_count": 24,
     "metadata": {},
     "output_type": "execute_result"
    },
    {
     "data": {
      "image/png": "[encoded data removed]",
      "text/plain": [
       "<Figure size 1008x288 with 2 Axes>"
      ]
     },
     "metadata": {
      "needs_background": "light"
     },
     "output_type": "display_data"
    }
   ],
   "source": [
    "#гистаграммы количества трафика по тарифам\n",
    "table.hist(column='gb_used', by='tariff', bins=20, range =(0,110), figsize = (14,4))"
   ]
  },
  {
   "cell_type": "code",
   "execution_count": 25,
   "metadata": {},
   "outputs": [
    {
     "data": {
      "text/plain": [
       "array([<matplotlib.axes._subplots.AxesSubplot object at 0x7f8506db4490>,\n",
       "       <matplotlib.axes._subplots.AxesSubplot object at 0x7f8506d31810>],\n",
       "      dtype=object)"
      ]
     },
     "execution_count": 25,
     "metadata": {},
     "output_type": "execute_result"
    },
    {
     "data": {
      "image/png": "[encoded data removed]",
      "text/plain": [
       "<Figure size 1008x288 with 2 Axes>"
      ]
     },
     "metadata": {
      "needs_background": "light"
     },
     "output_type": "display_data"
    }
   ],
   "source": [
    "#гистаграммы по выручке\n",
    "table.hist(column='dohod', by='tariff', bins=20, figsize = (14,4))"
   ]
  },
  {
   "cell_type": "markdown",
   "metadata": {},
   "source": [
    "### Вывод \n",
    "\n",
    "Посчитали среднее, дисперсию и стандартное отклонение. Построили гистрограммы по объему потребляемых услуг в двух тарифах.\n",
    "В Ultra больше минут, сообщений и трафика тратится чем в Smart."
   ]
  },
  {
   "cell_type": "markdown",
   "metadata": {},
   "source": [
    "## Шаг. "
   ]
  },
  {
   "cell_type": "markdown",
   "metadata": {},
   "source": [
    "### Средняя выручка пользователей тарифов «Ультра» и «Смарт» различаются"
   ]
  },
  {
   "cell_type": "code",
   "execution_count": 26,
   "metadata": {},
   "outputs": [
    {
     "data": {
      "text/plain": [
       "array([<matplotlib.axes._subplots.AxesSubplot object at 0x7f85111ec150>,\n",
       "       <matplotlib.axes._subplots.AxesSubplot object at 0x7f8506bf4810>],\n",
       "      dtype=object)"
      ]
     },
     "execution_count": 26,
     "metadata": {},
     "output_type": "execute_result"
    },
    {
     "data": {
      "image/png": "[encoded data removed]",
      "text/plain": [
       "<Figure size 1008x288 with 2 Axes>"
      ]
     },
     "metadata": {
      "needs_background": "light"
     },
     "output_type": "display_data"
    }
   ],
   "source": [
    "#гистаграммы количества трафика по тарифам\n",
    "table.hist(column='dohod', by='tariff', bins=20, figsize = (14,4))"
   ]
  },
  {
   "cell_type": "code",
   "execution_count": 27,
   "metadata": {},
   "outputs": [],
   "source": [
    "#Вычисляем средний доход по пользователям, по тарифам.\n",
    "smart_g = table.query('tariff == \"smart\"')['dohod']\n",
    "ultra_g = table.query('tariff == \"ultra\"')['dohod']"
   ]
  },
  {
   "cell_type": "code",
   "execution_count": 28,
   "metadata": {},
   "outputs": [
    {
     "data": {
      "text/plain": [
       "<matplotlib.axes._subplots.AxesSubplot at 0x7f8507d64fd0>"
      ]
     },
     "metadata": {},
     "output_type": "display_data"
    },
    {
     "data": {
      "text/plain": [
       "<matplotlib.axes._subplots.AxesSubplot at 0x7f8507d64fd0>"
      ]
     },
     "metadata": {},
     "output_type": "display_data"
    },
    {
     "data": {
      "image/png": "[encoded data removed]",
      "text/plain": [
       "<Figure size 432x288 with 1 Axes>"
      ]
     },
     "metadata": {
      "needs_background": "light"
     },
     "output_type": "display_data"
    }
   ],
   "source": [
    "#Отображаем полученные распределения\n",
    "display(smart_g.hist())\n",
    "display(ultra_g.hist())"
   ]
  },
  {
   "cell_type": "markdown",
   "metadata": {},
   "source": [
    "Нулевая гипотеза: средняя выручка пользователей тарифов «Ультра» и «Смарт» равны.\n",
    "H₀ всегда предполагает знак равенства.     \n",
    "    \n",
    "Двусторонняя альтернативная гипотеза: средняя выручка пользователей тарифов «Ультра» и «Смарт» различаются. Есть отклонение в обе стороны (большая и меньшая).\n",
    "\n",
    "Дисперсии считаются равными по умолчанию при применении t-тест и указании в параметре equal_var=False\n",
    "\n",
    "alpha = .01 # выбран критический уровень статистической значимости "
   ]
  },
  {
   "cell_type": "code",
   "execution_count": 29,
   "metadata": {},
   "outputs": [
    {
     "name": "stdout",
     "output_type": "stream",
     "text": [
      "Ttest_indResult(statistic=-28.611056741704818, pvalue=1.4229814360764067e-160)\n",
      "Данные разные. Гипотеза подтверждена\n"
     ]
    }
   ],
   "source": [
    "# проверка гипотез\n",
    "from scipy import stats as st \n",
    "\n",
    "alpha = .01 # критический уровень статистической значимости\n",
    "\n",
    "\n",
    "results = st.ttest_ind(smart_g, ultra_g) \n",
    "print(results)\n",
    "\n",
    "if results.pvalue < alpha:\n",
    "    print(\"Данные разные. Гипотеза подтверждена\")\n",
    "else:\n",
    "    print(\"Данные похожи. Гипотеза отвергнута\") "
   ]
  },
  {
   "cell_type": "markdown",
   "metadata": {},
   "source": [
    "Показатели выручки по тарифам различаются существенно. Пользователи тарифа \"Смарт\", как правило, платит больше за счет нехватки нужного объема включеннных в тариф услуг. Для компании такие пользователи выгодны."
   ]
  },
  {
   "cell_type": "markdown",
   "metadata": {},
   "source": [
    "### Средняя выручка пользователей из Москвы отличается от выручки пользователей из других регионов."
   ]
  },
  {
   "cell_type": "code",
   "execution_count": 30,
   "metadata": {},
   "outputs": [],
   "source": [
    "#Вычисляем средний доход по пользователям, по тарифам.\n",
    "smart_g = table.query('city == \"Москва\"')['dohod']\n",
    "ultra_g = table.query('city != \"Москва\"')['dohod']"
   ]
  },
  {
   "cell_type": "code",
   "execution_count": 31,
   "metadata": {},
   "outputs": [
    {
     "data": {
      "text/plain": [
       "<matplotlib.axes._subplots.AxesSubplot at 0x7f84e9c9ea50>"
      ]
     },
     "execution_count": 31,
     "metadata": {},
     "output_type": "execute_result"
    },
    {
     "data": {
      "image/png": "[encoded data removed]",
      "text/plain": [
       "<Figure size 432x288 with 1 Axes>"
      ]
     },
     "metadata": {
      "needs_background": "light"
     },
     "output_type": "display_data"
    }
   ],
   "source": [
    "#Отображаем полученные распределения\n",
    "ultra_g.hist()\n",
    "smart_g.hist()"
   ]
  },
  {
   "cell_type": "markdown",
   "metadata": {},
   "source": [
    "Нулевая гипотеза: Средняя выручка пользователей из Москвы не отличается от выручки пользователей из других регионов. \n",
    "H₀ всегда предполагает знак равенства.     \n",
    "      \n",
    "Односторонняя альтернативная гипотеза: Средняя выручка пользователей из Москвы отличается от выручки пользователей из других регионов. \n",
    "\n",
    "Дисперсии считаются равными по умолчанию при применении t-тест и указании в параметре equal_var=False\n",
    "\n",
    "alpha = .01 # выбран критический уровень статистической значимости. "
   ]
  },
  {
   "cell_type": "code",
   "execution_count": 32,
   "metadata": {},
   "outputs": [
    {
     "name": "stdout",
     "output_type": "stream",
     "text": [
      "Ttest_indResult(statistic=0.606816942705698, pvalue=0.5440152911670224)\n",
      "Данные похожи. Гипотеза отвергнута\n"
     ]
    }
   ],
   "source": [
    "# проверка гипотез\n",
    "from scipy import stats as st \n",
    "\n",
    "alpha = .01 # критический уровень статистической значимости\n",
    "# если p-value окажется меньше него - данные разные\n",
    "\n",
    "results = st.ttest_ind(smart_g, ultra_g) \n",
    "print(results)\n",
    "\n",
    "if results.pvalue < alpha:\n",
    "    print(\"Данные разные. Гипотеза подтверждена\")\n",
    "else:\n",
    "    print(\"Данные похожи. Гипотеза отвергнута\") "
   ]
  },
  {
   "cell_type": "markdown",
   "metadata": {},
   "source": [
    "Да, в Москве больше пользователей, но это различие не влияет на выручку."
   ]
  },
  {
   "cell_type": "markdown",
   "metadata": {},
   "source": [
    "## Шаг. Общий вывод"
   ]
  },
  {
   "cell_type": "markdown",
   "metadata": {},
   "source": [
    "Доход от пользователя по тарифу Компании выгоднее тариф \"Смарт\" так как пользователи часто выходят за границы лимита и вынуждены платить за дополнительные объемы услуг. Тариф \"Ультра\", напротив, включает в себя тот объем, который обычно не успевают использовать пользователи и от таких не поступает оплаты за сверхлимит. Разумеет компании интереснее \"Смарт\".          \n",
    "\n",
    "В вопросе прибыли, получаемой от тарифа - доход от \"Ультра\" выше дохода от \"Смарт\"."
   ]
  }
 ],
 "metadata": {
  "ExecuteTimeLog": [
   {
    "duration": 598,
    "start_time": "2022-02-06T19:03:17.538Z"
   },
   {
    "duration": 436,
    "start_time": "2022-02-06T19:03:19.046Z"
   },
   {
    "duration": 64,
    "start_time": "2022-02-06T19:03:20.465Z"
   },
   {
    "duration": 3,
    "start_time": "2022-02-06T19:03:22.936Z"
   },
   {
    "duration": 62,
    "start_time": "2022-02-06T19:03:24.377Z"
   },
   {
    "duration": 8,
    "start_time": "2022-02-06T19:03:26.464Z"
   },
   {
    "duration": 34,
    "start_time": "2022-02-06T19:03:26.665Z"
   },
   {
    "duration": 33,
    "start_time": "2022-02-06T19:03:26.864Z"
   },
   {
    "duration": 3,
    "start_time": "2022-02-06T19:14:49.850Z"
   },
   {
    "duration": 424,
    "start_time": "2022-02-06T19:14:50.837Z"
   },
   {
    "duration": 56,
    "start_time": "2022-02-06T19:14:52.035Z"
   },
   {
    "duration": 2,
    "start_time": "2022-02-06T19:14:53.217Z"
   },
   {
    "duration": 50,
    "start_time": "2022-02-06T19:14:53.958Z"
   },
   {
    "duration": 8,
    "start_time": "2022-02-06T19:14:54.802Z"
   },
   {
    "duration": 36,
    "start_time": "2022-02-06T19:14:55.018Z"
   },
   {
    "duration": 29,
    "start_time": "2022-02-06T19:14:55.169Z"
   },
   {
    "duration": 321,
    "start_time": "2022-02-06T19:21:11.288Z"
   },
   {
    "duration": 30,
    "start_time": "2022-02-06T19:21:39.027Z"
   },
   {
    "duration": 294,
    "start_time": "2022-02-06T19:22:06.664Z"
   },
   {
    "duration": 33,
    "start_time": "2022-02-06T19:22:14.648Z"
   },
   {
    "duration": 9,
    "start_time": "2022-02-06T19:23:29.954Z"
   },
   {
    "duration": 12,
    "start_time": "2022-02-06T19:26:58.236Z"
   },
   {
    "duration": 12,
    "start_time": "2022-02-06T19:27:13.372Z"
   },
   {
    "duration": 20,
    "start_time": "2022-02-06T19:28:33.308Z"
   },
   {
    "duration": 17,
    "start_time": "2022-02-06T19:32:05.818Z"
   },
   {
    "duration": 336,
    "start_time": "2022-02-06T19:55:01.309Z"
   },
   {
    "duration": 373,
    "start_time": "2022-02-06T19:55:23.776Z"
   },
   {
    "duration": 329,
    "start_time": "2022-02-06T19:55:54.359Z"
   },
   {
    "duration": 302,
    "start_time": "2022-02-06T19:56:49.340Z"
   },
   {
    "duration": 292,
    "start_time": "2022-02-06T19:57:11.252Z"
   },
   {
    "duration": 89,
    "start_time": "2022-02-06T19:59:10.081Z"
   },
   {
    "duration": 277,
    "start_time": "2022-02-06T19:59:15.408Z"
   },
   {
    "duration": 287,
    "start_time": "2022-02-06T19:59:40.095Z"
   },
   {
    "duration": 279,
    "start_time": "2022-02-06T19:59:58.935Z"
   },
   {
    "duration": 47,
    "start_time": "2022-02-06T20:00:37.079Z"
   },
   {
    "duration": 46,
    "start_time": "2022-02-06T20:00:46.361Z"
   },
   {
    "duration": 275,
    "start_time": "2022-02-06T20:01:15.445Z"
   },
   {
    "duration": 36,
    "start_time": "2022-02-06T20:05:55.627Z"
   },
   {
    "duration": 2,
    "start_time": "2022-02-06T20:06:13.940Z"
   },
   {
    "duration": 418,
    "start_time": "2022-02-06T20:06:14.522Z"
   },
   {
    "duration": 57,
    "start_time": "2022-02-06T20:06:15.403Z"
   },
   {
    "duration": 50,
    "start_time": "2022-02-06T20:06:15.867Z"
   },
   {
    "duration": 8,
    "start_time": "2022-02-06T20:06:16.690Z"
   },
   {
    "duration": 34,
    "start_time": "2022-02-06T20:06:18.946Z"
   },
   {
    "duration": 30,
    "start_time": "2022-02-06T20:06:19.866Z"
   },
   {
    "duration": 29,
    "start_time": "2022-02-06T20:06:23.130Z"
   },
   {
    "duration": 44,
    "start_time": "2022-02-06T20:06:33.402Z"
   },
   {
    "duration": 278,
    "start_time": "2022-02-06T20:09:48.855Z"
   },
   {
    "duration": 373,
    "start_time": "2022-02-06T20:11:02.524Z"
   },
   {
    "duration": 289,
    "start_time": "2022-02-06T20:11:43.668Z"
   },
   {
    "duration": 255,
    "start_time": "2022-02-06T20:17:59.757Z"
   },
   {
    "duration": 249,
    "start_time": "2022-02-06T20:18:22.197Z"
   },
   {
    "duration": 81,
    "start_time": "2022-02-06T20:31:53.201Z"
   },
   {
    "duration": 5,
    "start_time": "2022-02-06T20:32:00.916Z"
   },
   {
    "duration": 272,
    "start_time": "2022-02-06T20:34:40.382Z"
   },
   {
    "duration": 22,
    "start_time": "2022-02-06T21:03:00.368Z"
   },
   {
    "duration": 44,
    "start_time": "2022-02-06T21:05:02.771Z"
   },
   {
    "duration": 663,
    "start_time": "2022-02-06T21:05:31.482Z"
   },
   {
    "duration": 447,
    "start_time": "2022-02-06T21:05:32.147Z"
   },
   {
    "duration": 63,
    "start_time": "2022-02-06T21:05:32.596Z"
   },
   {
    "duration": 69,
    "start_time": "2022-02-06T21:05:32.662Z"
   },
   {
    "duration": 8,
    "start_time": "2022-02-06T21:05:32.969Z"
   },
   {
    "duration": 49,
    "start_time": "2022-02-06T21:05:33.138Z"
   },
   {
    "duration": 48,
    "start_time": "2022-02-06T21:05:33.306Z"
   },
   {
    "duration": 18,
    "start_time": "2022-02-06T21:05:33.489Z"
   },
   {
    "duration": 63,
    "start_time": "2022-02-06T21:05:33.666Z"
   },
   {
    "duration": 61,
    "start_time": "2022-02-06T21:05:34.649Z"
   },
   {
    "duration": 47,
    "start_time": "2022-02-06T21:06:10.011Z"
   },
   {
    "duration": 44,
    "start_time": "2022-02-06T21:06:33.148Z"
   },
   {
    "duration": 39,
    "start_time": "2022-02-06T21:07:56.677Z"
   },
   {
    "duration": 44,
    "start_time": "2022-02-06T21:08:24.719Z"
   },
   {
    "duration": 23,
    "start_time": "2022-02-06T21:08:28.283Z"
   },
   {
    "duration": 40,
    "start_time": "2022-02-06T21:08:28.723Z"
   },
   {
    "duration": 3,
    "start_time": "2022-02-06T21:08:31.916Z"
   },
   {
    "duration": 415,
    "start_time": "2022-02-06T21:08:32.108Z"
   },
   {
    "duration": 52,
    "start_time": "2022-02-06T21:08:32.525Z"
   },
   {
    "duration": 55,
    "start_time": "2022-02-06T21:08:32.579Z"
   },
   {
    "duration": 8,
    "start_time": "2022-02-06T21:08:32.789Z"
   },
   {
    "duration": 35,
    "start_time": "2022-02-06T21:08:33.141Z"
   },
   {
    "duration": 29,
    "start_time": "2022-02-06T21:08:33.313Z"
   },
   {
    "duration": 13,
    "start_time": "2022-02-06T21:08:33.500Z"
   },
   {
    "duration": 41,
    "start_time": "2022-02-06T21:08:33.724Z"
   },
   {
    "duration": 39,
    "start_time": "2022-02-06T21:08:50.341Z"
   },
   {
    "duration": 42,
    "start_time": "2022-02-06T21:08:56.853Z"
   },
   {
    "duration": 43,
    "start_time": "2022-02-06T21:12:45.218Z"
   },
   {
    "duration": 42,
    "start_time": "2022-02-06T21:13:09.018Z"
   },
   {
    "duration": 47,
    "start_time": "2022-02-06T21:13:25.618Z"
   },
   {
    "duration": 39,
    "start_time": "2022-02-06T21:16:03.886Z"
   },
   {
    "duration": 632,
    "start_time": "2022-02-07T09:51:45.944Z"
   },
   {
    "duration": 373,
    "start_time": "2022-02-07T09:51:47.099Z"
   },
   {
    "duration": 55,
    "start_time": "2022-02-07T09:51:48.005Z"
   },
   {
    "duration": 51,
    "start_time": "2022-02-07T09:51:48.693Z"
   },
   {
    "duration": 7,
    "start_time": "2022-02-07T09:51:50.757Z"
   },
   {
    "duration": 32,
    "start_time": "2022-02-07T09:51:51.669Z"
   },
   {
    "duration": 31,
    "start_time": "2022-02-07T09:51:54.773Z"
   },
   {
    "duration": 12,
    "start_time": "2022-02-07T09:51:55.573Z"
   },
   {
    "duration": 36,
    "start_time": "2022-02-07T09:51:57.885Z"
   },
   {
    "duration": 40,
    "start_time": "2022-02-07T09:55:33.790Z"
   },
   {
    "duration": 5,
    "start_time": "2022-02-07T09:56:00.409Z"
   },
   {
    "duration": 3,
    "start_time": "2022-02-07T09:56:16.585Z"
   },
   {
    "duration": 42,
    "start_time": "2022-02-07T10:00:11.371Z"
   },
   {
    "duration": 3,
    "start_time": "2022-02-07T10:44:54.152Z"
   },
   {
    "duration": 376,
    "start_time": "2022-02-07T10:44:54.760Z"
   },
   {
    "duration": 44,
    "start_time": "2022-02-07T10:44:55.577Z"
   },
   {
    "duration": 45,
    "start_time": "2022-02-07T10:44:55.971Z"
   },
   {
    "duration": 7,
    "start_time": "2022-02-07T10:44:56.328Z"
   },
   {
    "duration": 30,
    "start_time": "2022-02-07T10:44:56.496Z"
   },
   {
    "duration": 35,
    "start_time": "2022-02-07T10:44:56.672Z"
   },
   {
    "duration": 10,
    "start_time": "2022-02-07T10:44:56.839Z"
   },
   {
    "duration": 37,
    "start_time": "2022-02-07T10:44:57.050Z"
   },
   {
    "duration": 34,
    "start_time": "2022-02-07T10:44:57.345Z"
   },
   {
    "duration": 7,
    "start_time": "2022-02-07T11:09:28.107Z"
   },
   {
    "duration": 597,
    "start_time": "2022-02-07T11:24:03.971Z"
   },
   {
    "duration": 374,
    "start_time": "2022-02-07T11:24:04.570Z"
   },
   {
    "duration": 3,
    "start_time": "2022-02-07T11:24:04.946Z"
   },
   {
    "duration": 60,
    "start_time": "2022-02-07T11:24:04.951Z"
   },
   {
    "duration": 64,
    "start_time": "2022-02-07T11:24:05.013Z"
   },
   {
    "duration": 7,
    "start_time": "2022-02-07T11:24:05.079Z"
   },
   {
    "duration": 44,
    "start_time": "2022-02-07T11:24:05.087Z"
   },
   {
    "duration": 40,
    "start_time": "2022-02-07T11:24:05.133Z"
   },
   {
    "duration": 10,
    "start_time": "2022-02-07T11:24:05.175Z"
   },
   {
    "duration": 55,
    "start_time": "2022-02-07T11:24:05.186Z"
   },
   {
    "duration": 37,
    "start_time": "2022-02-07T11:24:05.242Z"
   },
   {
    "duration": 369,
    "start_time": "2022-02-07T11:24:05.280Z"
   },
   {
    "duration": -338,
    "start_time": "2022-02-07T11:24:05.989Z"
   },
   {
    "duration": -339,
    "start_time": "2022-02-07T11:24:05.991Z"
   },
   {
    "duration": -348,
    "start_time": "2022-02-07T11:24:06.001Z"
   },
   {
    "duration": -349,
    "start_time": "2022-02-07T11:24:06.003Z"
   },
   {
    "duration": -351,
    "start_time": "2022-02-07T11:24:06.006Z"
   },
   {
    "duration": -352,
    "start_time": "2022-02-07T11:24:06.008Z"
   },
   {
    "duration": -355,
    "start_time": "2022-02-07T11:24:06.012Z"
   },
   {
    "duration": 883,
    "start_time": "2022-02-07T11:45:30.999Z"
   },
   {
    "duration": 62,
    "start_time": "2022-02-07T11:45:44.363Z"
   },
   {
    "duration": 875,
    "start_time": "2022-02-07T11:47:20.245Z"
   },
   {
    "duration": 16,
    "start_time": "2022-02-07T11:50:34.054Z"
   },
   {
    "duration": 23,
    "start_time": "2022-02-07T12:36:55.439Z"
   },
   {
    "duration": 24,
    "start_time": "2022-02-07T12:37:37.027Z"
   },
   {
    "duration": 15,
    "start_time": "2022-02-07T12:56:25.353Z"
   },
   {
    "duration": 16,
    "start_time": "2022-02-07T13:14:40.931Z"
   },
   {
    "duration": 30,
    "start_time": "2022-02-07T13:16:32.760Z"
   },
   {
    "duration": 321,
    "start_time": "2022-02-07T13:40:08.219Z"
   },
   {
    "duration": 955,
    "start_time": "2022-02-07T13:40:22.242Z"
   },
   {
    "duration": 32,
    "start_time": "2022-02-07T13:41:31.219Z"
   },
   {
    "duration": 2,
    "start_time": "2022-02-07T13:41:49.314Z"
   },
   {
    "duration": 372,
    "start_time": "2022-02-07T13:41:49.491Z"
   },
   {
    "duration": 3,
    "start_time": "2022-02-07T13:41:49.865Z"
   },
   {
    "duration": 52,
    "start_time": "2022-02-07T13:41:49.870Z"
   },
   {
    "duration": 38,
    "start_time": "2022-02-07T13:41:50.019Z"
   },
   {
    "duration": 7,
    "start_time": "2022-02-07T13:41:50.186Z"
   },
   {
    "duration": 30,
    "start_time": "2022-02-07T13:41:50.347Z"
   },
   {
    "duration": 26,
    "start_time": "2022-02-07T13:41:50.515Z"
   },
   {
    "duration": 12,
    "start_time": "2022-02-07T13:41:50.698Z"
   },
   {
    "duration": 39,
    "start_time": "2022-02-07T13:41:50.875Z"
   },
   {
    "duration": 40,
    "start_time": "2022-02-07T13:41:51.083Z"
   },
   {
    "duration": 18,
    "start_time": "2022-02-07T13:41:51.276Z"
   },
   {
    "duration": 30,
    "start_time": "2022-02-07T13:41:51.467Z"
   },
   {
    "duration": 105,
    "start_time": "2022-02-07T13:41:51.666Z"
   },
   {
    "duration": 31,
    "start_time": "2022-02-07T13:44:10.261Z"
   },
   {
    "duration": 36,
    "start_time": "2022-02-07T13:44:45.781Z"
   },
   {
    "duration": 36,
    "start_time": "2022-02-07T13:45:15.287Z"
   },
   {
    "duration": 554,
    "start_time": "2022-02-07T13:46:18.832Z"
   },
   {
    "duration": 38,
    "start_time": "2022-02-07T13:46:35.258Z"
   },
   {
    "duration": 376,
    "start_time": "2022-02-07T13:47:54.521Z"
   },
   {
    "duration": 39,
    "start_time": "2022-02-07T13:48:23.352Z"
   },
   {
    "duration": 39,
    "start_time": "2022-02-07T13:51:09.804Z"
   },
   {
    "duration": 544,
    "start_time": "2022-02-07T13:51:23.800Z"
   },
   {
    "duration": 358,
    "start_time": "2022-02-07T13:51:24.346Z"
   },
   {
    "duration": 2,
    "start_time": "2022-02-07T13:51:24.706Z"
   },
   {
    "duration": 59,
    "start_time": "2022-02-07T13:51:24.710Z"
   },
   {
    "duration": 55,
    "start_time": "2022-02-07T13:51:24.771Z"
   },
   {
    "duration": 7,
    "start_time": "2022-02-07T13:51:24.828Z"
   },
   {
    "duration": 47,
    "start_time": "2022-02-07T13:51:24.836Z"
   },
   {
    "duration": 30,
    "start_time": "2022-02-07T13:51:24.885Z"
   },
   {
    "duration": 11,
    "start_time": "2022-02-07T13:51:24.917Z"
   },
   {
    "duration": 60,
    "start_time": "2022-02-07T13:51:24.930Z"
   },
   {
    "duration": 37,
    "start_time": "2022-02-07T13:51:24.992Z"
   },
   {
    "duration": 14,
    "start_time": "2022-02-07T13:51:25.030Z"
   },
   {
    "duration": 55,
    "start_time": "2022-02-07T13:51:25.046Z"
   },
   {
    "duration": 117,
    "start_time": "2022-02-07T13:51:25.103Z"
   },
   {
    "duration": -201,
    "start_time": "2022-02-07T13:51:25.423Z"
   },
   {
    "duration": -205,
    "start_time": "2022-02-07T13:51:25.428Z"
   },
   {
    "duration": -208,
    "start_time": "2022-02-07T13:51:25.432Z"
   },
   {
    "duration": -210,
    "start_time": "2022-02-07T13:51:25.435Z"
   },
   {
    "duration": -212,
    "start_time": "2022-02-07T13:51:25.438Z"
   },
   {
    "duration": -214,
    "start_time": "2022-02-07T13:51:25.441Z"
   },
   {
    "duration": 621,
    "start_time": "2022-02-07T14:52:04.749Z"
   },
   {
    "duration": 374,
    "start_time": "2022-02-07T14:52:05.372Z"
   },
   {
    "duration": 3,
    "start_time": "2022-02-07T14:52:05.747Z"
   },
   {
    "duration": 60,
    "start_time": "2022-02-07T14:52:05.751Z"
   },
   {
    "duration": 72,
    "start_time": "2022-02-07T14:52:05.812Z"
   },
   {
    "duration": 8,
    "start_time": "2022-02-07T14:52:05.886Z"
   },
   {
    "duration": 29,
    "start_time": "2022-02-07T14:52:05.896Z"
   },
   {
    "duration": 45,
    "start_time": "2022-02-07T14:52:05.927Z"
   },
   {
    "duration": 10,
    "start_time": "2022-02-07T14:52:05.974Z"
   },
   {
    "duration": 42,
    "start_time": "2022-02-07T14:52:05.985Z"
   },
   {
    "duration": 54,
    "start_time": "2022-02-07T14:52:06.029Z"
   },
   {
    "duration": 15,
    "start_time": "2022-02-07T14:52:06.084Z"
   },
   {
    "duration": 393,
    "start_time": "2022-02-07T14:52:06.100Z"
   },
   {
    "duration": -150,
    "start_time": "2022-02-07T14:52:06.645Z"
   },
   {
    "duration": -152,
    "start_time": "2022-02-07T14:52:06.648Z"
   },
   {
    "duration": -153,
    "start_time": "2022-02-07T14:52:06.650Z"
   },
   {
    "duration": -155,
    "start_time": "2022-02-07T14:52:06.653Z"
   },
   {
    "duration": -156,
    "start_time": "2022-02-07T14:52:06.655Z"
   },
   {
    "duration": -158,
    "start_time": "2022-02-07T14:52:06.658Z"
   },
   {
    "duration": -158,
    "start_time": "2022-02-07T14:52:06.659Z"
   },
   {
    "duration": 3,
    "start_time": "2022-02-07T14:53:05.192Z"
   },
   {
    "duration": 365,
    "start_time": "2022-02-07T14:53:06.152Z"
   },
   {
    "duration": 2,
    "start_time": "2022-02-07T14:53:07.038Z"
   },
   {
    "duration": 47,
    "start_time": "2022-02-07T14:53:07.624Z"
   },
   {
    "duration": 38,
    "start_time": "2022-02-07T14:53:08.209Z"
   },
   {
    "duration": 7,
    "start_time": "2022-02-07T14:53:36.550Z"
   },
   {
    "duration": 29,
    "start_time": "2022-02-07T14:53:38.288Z"
   },
   {
    "duration": 26,
    "start_time": "2022-02-07T14:53:39.142Z"
   },
   {
    "duration": 10,
    "start_time": "2022-02-07T14:53:40.472Z"
   },
   {
    "duration": 38,
    "start_time": "2022-02-07T14:53:41.496Z"
   },
   {
    "duration": 35,
    "start_time": "2022-02-07T14:53:42.561Z"
   },
   {
    "duration": 16,
    "start_time": "2022-02-07T14:53:45.131Z"
   },
   {
    "duration": 320,
    "start_time": "2022-02-07T14:53:48.233Z"
   },
   {
    "duration": 3,
    "start_time": "2022-02-07T15:03:31.216Z"
   },
   {
    "duration": 402,
    "start_time": "2022-02-07T15:03:31.800Z"
   },
   {
    "duration": 3,
    "start_time": "2022-02-07T15:03:32.344Z"
   },
   {
    "duration": 48,
    "start_time": "2022-02-07T15:03:32.864Z"
   },
   {
    "duration": 30,
    "start_time": "2022-02-07T15:03:33.713Z"
   },
   {
    "duration": 3,
    "start_time": "2022-02-07T15:04:09.778Z"
   },
   {
    "duration": 358,
    "start_time": "2022-02-07T15:04:10.289Z"
   },
   {
    "duration": 2,
    "start_time": "2022-02-07T15:04:10.768Z"
   },
   {
    "duration": 47,
    "start_time": "2022-02-07T15:04:11.233Z"
   },
   {
    "duration": 336,
    "start_time": "2022-02-07T15:04:13.801Z"
   },
   {
    "duration": 60,
    "start_time": "2022-02-07T15:05:15.082Z"
   },
   {
    "duration": 2,
    "start_time": "2022-02-07T15:07:04.668Z"
   },
   {
    "duration": 360,
    "start_time": "2022-02-07T15:07:05.915Z"
   },
   {
    "duration": 2,
    "start_time": "2022-02-07T15:07:06.595Z"
   },
   {
    "duration": 47,
    "start_time": "2022-02-07T15:07:07.251Z"
   },
   {
    "duration": 43,
    "start_time": "2022-02-07T15:07:09.844Z"
   },
   {
    "duration": 7,
    "start_time": "2022-02-07T15:08:04.124Z"
   },
   {
    "duration": 30,
    "start_time": "2022-02-07T15:08:11.740Z"
   },
   {
    "duration": 26,
    "start_time": "2022-02-07T15:08:12.732Z"
   },
   {
    "duration": 10,
    "start_time": "2022-02-07T15:08:28.860Z"
   },
   {
    "duration": 40,
    "start_time": "2022-02-07T15:08:31.149Z"
   },
   {
    "duration": 36,
    "start_time": "2022-02-07T15:08:35.013Z"
   },
   {
    "duration": 15,
    "start_time": "2022-02-07T15:08:42.245Z"
   },
   {
    "duration": 40,
    "start_time": "2022-02-07T15:08:43.981Z"
   },
   {
    "duration": 319,
    "start_time": "2022-02-07T15:15:32.906Z"
   },
   {
    "duration": 17,
    "start_time": "2022-02-07T15:17:01.317Z"
   },
   {
    "duration": 17,
    "start_time": "2022-02-07T15:17:36.461Z"
   },
   {
    "duration": 44,
    "start_time": "2022-02-07T15:23:39.969Z"
   },
   {
    "duration": 12,
    "start_time": "2022-02-07T15:24:42.362Z"
   },
   {
    "duration": 25,
    "start_time": "2022-02-07T15:38:43.259Z"
   },
   {
    "duration": 29,
    "start_time": "2022-02-07T15:40:23.199Z"
   },
   {
    "duration": 44,
    "start_time": "2022-02-07T15:40:51.103Z"
   },
   {
    "duration": 341,
    "start_time": "2022-02-07T16:44:05.173Z"
   },
   {
    "duration": 106,
    "start_time": "2022-02-07T16:45:22.639Z"
   },
   {
    "duration": 4,
    "start_time": "2022-02-07T16:46:05.823Z"
   },
   {
    "duration": 7,
    "start_time": "2022-02-07T16:46:39.185Z"
   },
   {
    "duration": 123,
    "start_time": "2022-02-07T16:48:10.938Z"
   },
   {
    "duration": 5,
    "start_time": "2022-02-07T16:48:26.299Z"
   },
   {
    "duration": 342,
    "start_time": "2022-02-07T16:55:46.679Z"
   },
   {
    "duration": 331,
    "start_time": "2022-02-07T16:56:09.215Z"
   },
   {
    "duration": 451,
    "start_time": "2022-02-07T16:58:13.841Z"
   },
   {
    "duration": 6,
    "start_time": "2022-02-07T16:58:54.129Z"
   },
   {
    "duration": 8,
    "start_time": "2022-02-07T17:01:33.403Z"
   },
   {
    "duration": 38,
    "start_time": "2022-02-07T19:16:49.202Z"
   },
   {
    "duration": 644,
    "start_time": "2022-02-07T19:17:00.988Z"
   },
   {
    "duration": 381,
    "start_time": "2022-02-07T19:17:01.633Z"
   },
   {
    "duration": 2,
    "start_time": "2022-02-07T19:17:02.016Z"
   },
   {
    "duration": 267,
    "start_time": "2022-02-07T19:17:02.020Z"
   },
   {
    "duration": 151,
    "start_time": "2022-02-07T19:17:02.288Z"
   },
   {
    "duration": 195,
    "start_time": "2022-02-07T19:17:02.441Z"
   },
   {
    "duration": 208,
    "start_time": "2022-02-07T19:17:02.638Z"
   },
   {
    "duration": 226,
    "start_time": "2022-02-07T19:17:02.849Z"
   },
   {
    "duration": 167,
    "start_time": "2022-02-07T19:17:03.077Z"
   },
   {
    "duration": 258,
    "start_time": "2022-02-07T19:17:03.246Z"
   },
   {
    "duration": 159,
    "start_time": "2022-02-07T19:17:03.506Z"
   },
   {
    "duration": 163,
    "start_time": "2022-02-07T19:17:03.667Z"
   },
   {
    "duration": 343,
    "start_time": "2022-02-07T19:17:03.832Z"
   },
   {
    "duration": 300,
    "start_time": "2022-02-07T19:17:04.176Z"
   },
   {
    "duration": 406,
    "start_time": "2022-02-07T19:17:04.478Z"
   },
   {
    "duration": 344,
    "start_time": "2022-02-07T19:17:04.543Z"
   },
   {
    "duration": 335,
    "start_time": "2022-02-07T19:17:04.553Z"
   },
   {
    "duration": 334,
    "start_time": "2022-02-07T19:17:04.556Z"
   },
   {
    "duration": 327,
    "start_time": "2022-02-07T19:17:04.564Z"
   },
   {
    "duration": 326,
    "start_time": "2022-02-07T19:17:04.567Z"
   },
   {
    "duration": 324,
    "start_time": "2022-02-07T19:17:04.570Z"
   },
   {
    "duration": 110,
    "start_time": "2022-02-07T19:49:09.684Z"
   },
   {
    "duration": 264,
    "start_time": "2022-02-07T19:51:07.725Z"
   },
   {
    "duration": 541,
    "start_time": "2022-02-07T20:05:25.198Z"
   },
   {
    "duration": 1040,
    "start_time": "2022-02-07T20:05:25.740Z"
   },
   {
    "duration": 831,
    "start_time": "2022-02-07T20:05:26.782Z"
   },
   {
    "duration": 494,
    "start_time": "2022-02-07T20:05:27.615Z"
   },
   {
    "duration": 1393,
    "start_time": "2022-02-07T20:05:28.111Z"
   },
   {
    "duration": 816,
    "start_time": "2022-02-07T20:05:29.505Z"
   },
   {
    "duration": 868,
    "start_time": "2022-02-07T20:05:30.323Z"
   },
   {
    "duration": 1525,
    "start_time": "2022-02-07T20:05:31.193Z"
   },
   {
    "duration": 1374,
    "start_time": "2022-02-07T20:05:32.720Z"
   },
   {
    "duration": 443,
    "start_time": "2022-02-07T20:05:34.096Z"
   },
   {
    "duration": 833,
    "start_time": "2022-02-07T20:05:34.540Z"
   },
   {
    "duration": 368,
    "start_time": "2022-02-07T20:05:35.374Z"
   },
   {
    "duration": 1282,
    "start_time": "2022-02-07T20:05:35.743Z"
   },
   {
    "duration": 2483,
    "start_time": "2022-02-07T20:05:37.026Z"
   },
   {
    "duration": 1401,
    "start_time": "2022-02-07T20:05:39.511Z"
   },
   {
    "duration": 385,
    "start_time": "2022-02-07T20:05:40.529Z"
   },
   {
    "duration": 374,
    "start_time": "2022-02-07T20:05:40.541Z"
   },
   {
    "duration": 373,
    "start_time": "2022-02-07T20:05:40.543Z"
   },
   {
    "duration": 371,
    "start_time": "2022-02-07T20:05:40.545Z"
   },
   {
    "duration": 371,
    "start_time": "2022-02-07T20:05:40.546Z"
   },
   {
    "duration": 368,
    "start_time": "2022-02-07T20:05:40.550Z"
   },
   {
    "duration": 99,
    "start_time": "2022-02-07T20:06:56.201Z"
   },
   {
    "duration": 110,
    "start_time": "2022-02-07T20:08:15.818Z"
   },
   {
    "duration": 148,
    "start_time": "2022-02-07T20:08:31.674Z"
   },
   {
    "duration": 104,
    "start_time": "2022-02-07T20:08:58.314Z"
   },
   {
    "duration": 100,
    "start_time": "2022-02-07T20:09:25.099Z"
   },
   {
    "duration": 109,
    "start_time": "2022-02-07T20:09:36.027Z"
   },
   {
    "duration": 109,
    "start_time": "2022-02-07T20:09:50.324Z"
   },
   {
    "duration": 99,
    "start_time": "2022-02-07T20:10:09.355Z"
   },
   {
    "duration": 91,
    "start_time": "2022-02-07T20:11:16.157Z"
   },
   {
    "duration": 100,
    "start_time": "2022-02-07T20:11:35.493Z"
   },
   {
    "duration": 8,
    "start_time": "2022-02-07T20:12:17.549Z"
   },
   {
    "duration": 9,
    "start_time": "2022-02-07T20:12:41.525Z"
   },
   {
    "duration": 10,
    "start_time": "2022-02-07T20:13:46.230Z"
   },
   {
    "duration": 29,
    "start_time": "2022-02-07T20:14:09.758Z"
   },
   {
    "duration": 38,
    "start_time": "2022-02-07T20:14:25.509Z"
   },
   {
    "duration": 4,
    "start_time": "2022-02-07T20:14:35.863Z"
   },
   {
    "duration": 10,
    "start_time": "2022-02-07T20:14:36.415Z"
   },
   {
    "duration": 21,
    "start_time": "2022-02-07T20:14:37.872Z"
   },
   {
    "duration": 96,
    "start_time": "2022-02-07T20:16:03.480Z"
   },
   {
    "duration": 10,
    "start_time": "2022-02-07T20:16:07.936Z"
   },
   {
    "duration": 589,
    "start_time": "2022-02-08T06:51:41.786Z"
   },
   {
    "duration": 370,
    "start_time": "2022-02-08T06:51:42.377Z"
   },
   {
    "duration": 2,
    "start_time": "2022-02-08T06:51:42.749Z"
   },
   {
    "duration": 59,
    "start_time": "2022-02-08T06:51:42.753Z"
   },
   {
    "duration": 55,
    "start_time": "2022-02-08T06:51:42.813Z"
   },
   {
    "duration": 6,
    "start_time": "2022-02-08T06:51:42.870Z"
   },
   {
    "duration": 45,
    "start_time": "2022-02-08T06:51:42.877Z"
   },
   {
    "duration": 31,
    "start_time": "2022-02-08T06:51:42.924Z"
   },
   {
    "duration": 10,
    "start_time": "2022-02-08T06:51:42.957Z"
   },
   {
    "duration": 66,
    "start_time": "2022-02-08T06:51:42.969Z"
   },
   {
    "duration": 40,
    "start_time": "2022-02-08T06:51:43.037Z"
   },
   {
    "duration": 17,
    "start_time": "2022-02-08T06:51:43.078Z"
   },
   {
    "duration": 56,
    "start_time": "2022-02-08T06:51:43.096Z"
   },
   {
    "duration": 5,
    "start_time": "2022-02-08T06:51:43.154Z"
   },
   {
    "duration": 11,
    "start_time": "2022-02-08T06:51:43.160Z"
   },
   {
    "duration": 53,
    "start_time": "2022-02-08T06:51:43.173Z"
   },
   {
    "duration": 65,
    "start_time": "2022-02-08T06:51:43.228Z"
   },
   {
    "duration": 1361,
    "start_time": "2022-02-08T06:51:41.934Z"
   },
   {
    "duration": 1359,
    "start_time": "2022-02-08T06:51:41.937Z"
   },
   {
    "duration": 1356,
    "start_time": "2022-02-08T06:51:41.941Z"
   },
   {
    "duration": 1355,
    "start_time": "2022-02-08T06:51:41.943Z"
   },
   {
    "duration": 1351,
    "start_time": "2022-02-08T06:51:41.948Z"
   },
   {
    "duration": 4805,
    "start_time": "2022-02-08T06:59:51.663Z"
   },
   {
    "duration": 285,
    "start_time": "2022-02-08T07:01:20.034Z"
   },
   {
    "duration": 580,
    "start_time": "2022-02-08T07:01:25.687Z"
   },
   {
    "duration": 418,
    "start_time": "2022-02-08T07:01:26.268Z"
   },
   {
    "duration": 3,
    "start_time": "2022-02-08T07:01:26.688Z"
   },
   {
    "duration": 61,
    "start_time": "2022-02-08T07:01:26.692Z"
   },
   {
    "duration": 62,
    "start_time": "2022-02-08T07:01:26.755Z"
   },
   {
    "duration": 6,
    "start_time": "2022-02-08T07:01:26.819Z"
   },
   {
    "duration": 34,
    "start_time": "2022-02-08T07:01:26.827Z"
   },
   {
    "duration": 52,
    "start_time": "2022-02-08T07:01:26.864Z"
   },
   {
    "duration": 11,
    "start_time": "2022-02-08T07:01:26.918Z"
   },
   {
    "duration": 46,
    "start_time": "2022-02-08T07:01:26.930Z"
   },
   {
    "duration": 67,
    "start_time": "2022-02-08T07:01:26.978Z"
   },
   {
    "duration": 280,
    "start_time": "2022-02-08T07:01:27.046Z"
   },
   {
    "duration": 1331,
    "start_time": "2022-02-08T07:01:25.997Z"
   },
   {
    "duration": 1327,
    "start_time": "2022-02-08T07:01:26.002Z"
   },
   {
    "duration": 1323,
    "start_time": "2022-02-08T07:01:26.007Z"
   },
   {
    "duration": 1321,
    "start_time": "2022-02-08T07:01:26.010Z"
   },
   {
    "duration": 1320,
    "start_time": "2022-02-08T07:01:26.012Z"
   },
   {
    "duration": 1319,
    "start_time": "2022-02-08T07:01:26.014Z"
   },
   {
    "duration": 1319,
    "start_time": "2022-02-08T07:01:26.015Z"
   },
   {
    "duration": 1317,
    "start_time": "2022-02-08T07:01:26.017Z"
   },
   {
    "duration": 1317,
    "start_time": "2022-02-08T07:01:26.018Z"
   },
   {
    "duration": 1317,
    "start_time": "2022-02-08T07:01:26.020Z"
   },
   {
    "duration": 574,
    "start_time": "2022-02-08T07:03:37.684Z"
   },
   {
    "duration": 363,
    "start_time": "2022-02-08T07:03:38.260Z"
   },
   {
    "duration": 2,
    "start_time": "2022-02-08T07:03:38.625Z"
   },
   {
    "duration": 58,
    "start_time": "2022-02-08T07:03:38.629Z"
   },
   {
    "duration": 55,
    "start_time": "2022-02-08T07:03:38.689Z"
   },
   {
    "duration": 7,
    "start_time": "2022-02-08T07:03:38.745Z"
   },
   {
    "duration": 32,
    "start_time": "2022-02-08T07:03:38.753Z"
   },
   {
    "duration": 51,
    "start_time": "2022-02-08T07:03:38.787Z"
   },
   {
    "duration": 10,
    "start_time": "2022-02-08T07:03:38.841Z"
   },
   {
    "duration": 61,
    "start_time": "2022-02-08T07:03:38.852Z"
   },
   {
    "duration": 42,
    "start_time": "2022-02-08T07:03:38.915Z"
   },
   {
    "duration": 16,
    "start_time": "2022-02-08T07:03:38.959Z"
   },
   {
    "duration": 68,
    "start_time": "2022-02-08T07:03:38.976Z"
   },
   {
    "duration": 4,
    "start_time": "2022-02-08T07:03:39.046Z"
   },
   {
    "duration": 9,
    "start_time": "2022-02-08T07:03:39.051Z"
   },
   {
    "duration": 20,
    "start_time": "2022-02-08T07:03:39.061Z"
   },
   {
    "duration": 68,
    "start_time": "2022-02-08T07:03:39.082Z"
   },
   {
    "duration": 1327,
    "start_time": "2022-02-08T07:03:37.825Z"
   },
   {
    "duration": 1317,
    "start_time": "2022-02-08T07:03:37.836Z"
   },
   {
    "duration": 1314,
    "start_time": "2022-02-08T07:03:37.840Z"
   },
   {
    "duration": 1311,
    "start_time": "2022-02-08T07:03:37.844Z"
   },
   {
    "duration": 1308,
    "start_time": "2022-02-08T07:03:37.848Z"
   },
   {
    "duration": 10,
    "start_time": "2022-02-08T07:09:13.534Z"
   },
   {
    "duration": 379,
    "start_time": "2022-02-08T10:12:38.769Z"
   },
   {
    "duration": 731,
    "start_time": "2022-02-08T10:12:46.606Z"
   },
   {
    "duration": 511,
    "start_time": "2022-02-08T10:12:47.340Z"
   },
   {
    "duration": 4,
    "start_time": "2022-02-08T10:12:47.854Z"
   },
   {
    "duration": 96,
    "start_time": "2022-02-08T10:12:47.860Z"
   },
   {
    "duration": 74,
    "start_time": "2022-02-08T10:12:47.959Z"
   },
   {
    "duration": 10,
    "start_time": "2022-02-08T10:12:48.048Z"
   },
   {
    "duration": 47,
    "start_time": "2022-02-08T10:12:48.061Z"
   },
   {
    "duration": 65,
    "start_time": "2022-02-08T10:12:48.112Z"
   },
   {
    "duration": 18,
    "start_time": "2022-02-08T10:12:48.180Z"
   },
   {
    "duration": 86,
    "start_time": "2022-02-08T10:12:48.200Z"
   },
   {
    "duration": 63,
    "start_time": "2022-02-08T10:12:48.288Z"
   },
   {
    "duration": 28,
    "start_time": "2022-02-08T10:12:48.353Z"
   },
   {
    "duration": 96,
    "start_time": "2022-02-08T10:12:48.383Z"
   },
   {
    "duration": 6,
    "start_time": "2022-02-08T10:12:48.482Z"
   },
   {
    "duration": 13,
    "start_time": "2022-02-08T10:12:48.490Z"
   },
   {
    "duration": 9,
    "start_time": "2022-02-08T10:12:48.505Z"
   },
   {
    "duration": 97,
    "start_time": "2022-02-08T10:12:48.549Z"
   },
   {
    "duration": -51,
    "start_time": "2022-02-08T10:12:48.699Z"
   },
   {
    "duration": -55,
    "start_time": "2022-02-08T10:12:48.705Z"
   },
   {
    "duration": -60,
    "start_time": "2022-02-08T10:12:48.711Z"
   },
   {
    "duration": -63,
    "start_time": "2022-02-08T10:12:48.715Z"
   },
   {
    "duration": -65,
    "start_time": "2022-02-08T10:12:48.718Z"
   },
   {
    "duration": 3,
    "start_time": "2022-02-08T10:13:41.889Z"
   },
   {
    "duration": 7,
    "start_time": "2022-02-08T10:23:28.930Z"
   },
   {
    "duration": 383,
    "start_time": "2022-02-08T10:25:55.250Z"
   },
   {
    "duration": 25,
    "start_time": "2022-02-08T10:26:20.795Z"
   },
   {
    "duration": 109,
    "start_time": "2022-02-08T10:26:42.027Z"
   },
   {
    "duration": 721,
    "start_time": "2022-02-08T10:27:20.752Z"
   },
   {
    "duration": 417,
    "start_time": "2022-02-08T10:28:05.604Z"
   },
   {
    "duration": 342,
    "start_time": "2022-02-08T10:28:31.092Z"
   },
   {
    "duration": 285,
    "start_time": "2022-02-08T10:28:58.669Z"
   },
   {
    "duration": 751,
    "start_time": "2022-02-08T10:29:50.886Z"
   },
   {
    "duration": 483,
    "start_time": "2022-02-08T10:30:02.961Z"
   },
   {
    "duration": 48,
    "start_time": "2022-02-08T10:31:18.364Z"
   },
   {
    "duration": 585,
    "start_time": "2022-02-08T10:31:41.446Z"
   },
   {
    "duration": 39,
    "start_time": "2022-02-08T10:31:49.095Z"
   },
   {
    "duration": 34,
    "start_time": "2022-02-08T10:32:07.531Z"
   },
   {
    "duration": 747,
    "start_time": "2022-02-08T10:32:47.821Z"
   },
   {
    "duration": 592,
    "start_time": "2022-02-08T10:32:48.571Z"
   },
   {
    "duration": 4,
    "start_time": "2022-02-08T10:32:49.167Z"
   },
   {
    "duration": 97,
    "start_time": "2022-02-08T10:32:49.173Z"
   },
   {
    "duration": 51,
    "start_time": "2022-02-08T10:32:49.272Z"
   },
   {
    "duration": 25,
    "start_time": "2022-02-08T10:32:49.326Z"
   },
   {
    "duration": 52,
    "start_time": "2022-02-08T10:32:49.354Z"
   },
   {
    "duration": 68,
    "start_time": "2022-02-08T10:32:49.410Z"
   },
   {
    "duration": 20,
    "start_time": "2022-02-08T10:32:49.481Z"
   },
   {
    "duration": 86,
    "start_time": "2022-02-08T10:32:49.503Z"
   },
   {
    "duration": 38,
    "start_time": "2022-02-08T10:32:49.591Z"
   },
   {
    "duration": 39,
    "start_time": "2022-02-08T10:32:49.631Z"
   },
   {
    "duration": 93,
    "start_time": "2022-02-08T10:32:49.672Z"
   },
   {
    "duration": 6,
    "start_time": "2022-02-08T10:32:49.767Z"
   },
   {
    "duration": 21,
    "start_time": "2022-02-08T10:32:49.776Z"
   },
   {
    "duration": 402,
    "start_time": "2022-02-08T10:32:49.799Z"
   },
   {
    "duration": -19,
    "start_time": "2022-02-08T10:32:50.223Z"
   },
   {
    "duration": -21,
    "start_time": "2022-02-08T10:32:50.226Z"
   },
   {
    "duration": -24,
    "start_time": "2022-02-08T10:32:50.231Z"
   },
   {
    "duration": -26,
    "start_time": "2022-02-08T10:32:50.235Z"
   },
   {
    "duration": -27,
    "start_time": "2022-02-08T10:32:50.237Z"
   },
   {
    "duration": -28,
    "start_time": "2022-02-08T10:32:50.239Z"
   },
   {
    "duration": 285,
    "start_time": "2022-02-08T10:34:02.982Z"
   },
   {
    "duration": 288,
    "start_time": "2022-02-08T10:35:46.402Z"
   },
   {
    "duration": 299,
    "start_time": "2022-02-08T10:36:34.163Z"
   },
   {
    "duration": 321,
    "start_time": "2022-02-08T10:41:10.047Z"
   },
   {
    "duration": 40,
    "start_time": "2022-02-08T10:49:19.926Z"
   },
   {
    "duration": 25,
    "start_time": "2022-02-08T10:52:25.448Z"
   },
   {
    "duration": 16,
    "start_time": "2022-02-08T11:11:08.294Z"
   },
   {
    "duration": 345,
    "start_time": "2022-02-08T11:16:56.891Z"
   },
   {
    "duration": 276,
    "start_time": "2022-02-08T11:18:34.307Z"
   },
   {
    "duration": 415,
    "start_time": "2022-02-08T11:19:07.188Z"
   },
   {
    "duration": 287,
    "start_time": "2022-02-08T11:19:26.502Z"
   },
   {
    "duration": 371,
    "start_time": "2022-02-08T11:20:25.558Z"
   },
   {
    "duration": 3,
    "start_time": "2022-02-08T11:20:35.903Z"
   },
   {
    "duration": 7,
    "start_time": "2022-02-08T11:20:45.532Z"
   },
   {
    "duration": 345,
    "start_time": "2022-02-08T11:21:02.893Z"
   },
   {
    "duration": 288,
    "start_time": "2022-02-08T11:21:16.445Z"
   },
   {
    "duration": 7,
    "start_time": "2022-02-08T11:21:30.493Z"
   },
   {
    "duration": 442,
    "start_time": "2022-02-08T11:25:25.810Z"
   },
   {
    "duration": 479,
    "start_time": "2022-02-08T11:49:30.332Z"
   },
   {
    "duration": 81,
    "start_time": "2022-02-08T11:50:43.748Z"
   },
   {
    "duration": 128,
    "start_time": "2022-02-08T11:50:59.444Z"
   },
   {
    "duration": 708,
    "start_time": "2022-02-08T12:04:10.466Z"
   },
   {
    "duration": 503,
    "start_time": "2022-02-08T12:04:11.177Z"
   },
   {
    "duration": 3,
    "start_time": "2022-02-08T12:04:11.683Z"
   },
   {
    "duration": 84,
    "start_time": "2022-02-08T12:04:11.689Z"
   },
   {
    "duration": 51,
    "start_time": "2022-02-08T12:04:11.776Z"
   },
   {
    "duration": 29,
    "start_time": "2022-02-08T12:04:11.830Z"
   },
   {
    "duration": 49,
    "start_time": "2022-02-08T12:04:11.862Z"
   },
   {
    "duration": 69,
    "start_time": "2022-02-08T12:04:11.916Z"
   },
   {
    "duration": 15,
    "start_time": "2022-02-08T12:04:11.988Z"
   },
   {
    "duration": 113,
    "start_time": "2022-02-08T12:04:12.005Z"
   },
   {
    "duration": 70,
    "start_time": "2022-02-08T12:04:12.121Z"
   },
   {
    "duration": 54,
    "start_time": "2022-02-08T12:04:12.194Z"
   },
   {
    "duration": 111,
    "start_time": "2022-02-08T12:04:12.252Z"
   },
   {
    "duration": 8,
    "start_time": "2022-02-08T12:04:12.366Z"
   },
   {
    "duration": 19,
    "start_time": "2022-02-08T12:04:12.377Z"
   },
   {
    "duration": 134,
    "start_time": "2022-02-08T12:04:12.400Z"
   },
   {
    "duration": 33,
    "start_time": "2022-02-08T12:04:12.536Z"
   },
   {
    "duration": 98,
    "start_time": "2022-02-08T12:04:12.572Z"
   },
   {
    "duration": 97,
    "start_time": "2022-02-08T12:04:12.575Z"
   },
   {
    "duration": 88,
    "start_time": "2022-02-08T12:04:12.586Z"
   },
   {
    "duration": 86,
    "start_time": "2022-02-08T12:04:12.589Z"
   },
   {
    "duration": 84,
    "start_time": "2022-02-08T12:04:12.593Z"
   },
   {
    "duration": 81,
    "start_time": "2022-02-08T12:04:12.598Z"
   },
   {
    "duration": 962,
    "start_time": "2022-02-08T12:05:59.147Z"
   },
   {
    "duration": 920,
    "start_time": "2022-02-08T12:09:16.992Z"
   },
   {
    "duration": 938,
    "start_time": "2022-02-08T12:09:21.941Z"
   },
   {
    "duration": 914,
    "start_time": "2022-02-08T12:19:06.094Z"
   },
   {
    "duration": 940,
    "start_time": "2022-02-08T12:19:21.966Z"
   },
   {
    "duration": 6,
    "start_time": "2022-02-08T12:21:28.287Z"
   },
   {
    "duration": 369,
    "start_time": "2022-02-08T12:31:13.912Z"
   },
   {
    "duration": 917,
    "start_time": "2022-02-08T12:31:14.785Z"
   },
   {
    "duration": 736,
    "start_time": "2022-02-08T12:31:38.412Z"
   },
   {
    "duration": 509,
    "start_time": "2022-02-08T12:31:39.152Z"
   },
   {
    "duration": 4,
    "start_time": "2022-02-08T12:31:39.664Z"
   },
   {
    "duration": 92,
    "start_time": "2022-02-08T12:31:39.670Z"
   },
   {
    "duration": 52,
    "start_time": "2022-02-08T12:31:39.764Z"
   },
   {
    "duration": 29,
    "start_time": "2022-02-08T12:31:39.819Z"
   },
   {
    "duration": 46,
    "start_time": "2022-02-08T12:31:39.851Z"
   },
   {
    "duration": 65,
    "start_time": "2022-02-08T12:31:39.901Z"
   },
   {
    "duration": 18,
    "start_time": "2022-02-08T12:31:39.969Z"
   },
   {
    "duration": 97,
    "start_time": "2022-02-08T12:31:39.990Z"
   },
   {
    "duration": 70,
    "start_time": "2022-02-08T12:31:40.090Z"
   },
   {
    "duration": 28,
    "start_time": "2022-02-08T12:31:40.163Z"
   },
   {
    "duration": 99,
    "start_time": "2022-02-08T12:31:40.195Z"
   },
   {
    "duration": 6,
    "start_time": "2022-02-08T12:31:40.296Z"
   },
   {
    "duration": 391,
    "start_time": "2022-02-08T12:31:40.304Z"
   },
   {
    "duration": 97,
    "start_time": "2022-02-08T12:31:40.601Z"
   },
   {
    "duration": 85,
    "start_time": "2022-02-08T12:31:40.614Z"
   },
   {
    "duration": 84,
    "start_time": "2022-02-08T12:31:40.617Z"
   },
   {
    "duration": 83,
    "start_time": "2022-02-08T12:31:40.619Z"
   },
   {
    "duration": 81,
    "start_time": "2022-02-08T12:31:40.622Z"
   },
   {
    "duration": 78,
    "start_time": "2022-02-08T12:31:40.627Z"
   },
   {
    "duration": 76,
    "start_time": "2022-02-08T12:31:40.630Z"
   },
   {
    "duration": 76,
    "start_time": "2022-02-08T12:31:40.632Z"
   },
   {
    "duration": 75,
    "start_time": "2022-02-08T12:31:40.634Z"
   },
   {
    "duration": 98,
    "start_time": "2022-02-08T12:32:26.337Z"
   },
   {
    "duration": 11,
    "start_time": "2022-02-08T12:32:36.529Z"
   },
   {
    "duration": 726,
    "start_time": "2022-02-08T12:45:44.557Z"
   },
   {
    "duration": 531,
    "start_time": "2022-02-08T12:45:45.285Z"
   },
   {
    "duration": 4,
    "start_time": "2022-02-08T12:45:45.819Z"
   },
   {
    "duration": 88,
    "start_time": "2022-02-08T12:45:45.826Z"
   },
   {
    "duration": 68,
    "start_time": "2022-02-08T12:45:45.917Z"
   },
   {
    "duration": 11,
    "start_time": "2022-02-08T12:45:45.988Z"
   },
   {
    "duration": 64,
    "start_time": "2022-02-08T12:45:46.002Z"
   },
   {
    "duration": 40,
    "start_time": "2022-02-08T12:45:46.070Z"
   },
   {
    "duration": 40,
    "start_time": "2022-02-08T12:45:46.114Z"
   },
   {
    "duration": 79,
    "start_time": "2022-02-08T12:45:46.156Z"
   },
   {
    "duration": 44,
    "start_time": "2022-02-08T12:45:46.238Z"
   },
   {
    "duration": 29,
    "start_time": "2022-02-08T12:45:46.284Z"
   },
   {
    "duration": 91,
    "start_time": "2022-02-08T12:45:46.315Z"
   },
   {
    "duration": 5,
    "start_time": "2022-02-08T12:45:46.409Z"
   },
   {
    "duration": 32,
    "start_time": "2022-02-08T12:45:46.417Z"
   },
   {
    "duration": 8899,
    "start_time": "2022-02-08T12:45:46.452Z"
   },
   {
    "duration": 89,
    "start_time": "2022-02-08T12:45:55.264Z"
   },
   {
    "duration": 88,
    "start_time": "2022-02-08T12:45:55.267Z"
   },
   {
    "duration": 85,
    "start_time": "2022-02-08T12:45:55.271Z"
   },
   {
    "duration": 85,
    "start_time": "2022-02-08T12:45:55.273Z"
   },
   {
    "duration": 84,
    "start_time": "2022-02-08T12:45:55.275Z"
   },
   {
    "duration": 84,
    "start_time": "2022-02-08T12:45:55.277Z"
   },
   {
    "duration": 82,
    "start_time": "2022-02-08T12:45:55.280Z"
   },
   {
    "duration": 81,
    "start_time": "2022-02-08T12:45:55.282Z"
   },
   {
    "duration": 8975,
    "start_time": "2022-02-08T12:47:07.884Z"
   },
   {
    "duration": 12,
    "start_time": "2022-02-08T12:48:10.627Z"
   },
   {
    "duration": 9181,
    "start_time": "2022-02-08T12:48:15.509Z"
   },
   {
    "duration": 8240,
    "start_time": "2022-02-08T12:50:34.518Z"
   },
   {
    "duration": 8805,
    "start_time": "2022-02-08T12:51:24.031Z"
   },
   {
    "duration": 8634,
    "start_time": "2022-02-08T12:51:35.774Z"
   },
   {
    "duration": 8452,
    "start_time": "2022-02-08T12:52:32.616Z"
   },
   {
    "duration": 756,
    "start_time": "2022-02-08T12:59:19.920Z"
   },
   {
    "duration": 517,
    "start_time": "2022-02-08T12:59:20.678Z"
   },
   {
    "duration": 4,
    "start_time": "2022-02-08T12:59:21.197Z"
   },
   {
    "duration": 86,
    "start_time": "2022-02-08T12:59:21.203Z"
   },
   {
    "duration": 63,
    "start_time": "2022-02-08T12:59:21.292Z"
   },
   {
    "duration": 10,
    "start_time": "2022-02-08T12:59:21.357Z"
   },
   {
    "duration": 52,
    "start_time": "2022-02-08T12:59:21.369Z"
   },
   {
    "duration": 61,
    "start_time": "2022-02-08T12:59:21.425Z"
   },
   {
    "duration": 15,
    "start_time": "2022-02-08T12:59:21.489Z"
   },
   {
    "duration": 89,
    "start_time": "2022-02-08T12:59:21.507Z"
   },
   {
    "duration": 52,
    "start_time": "2022-02-08T12:59:21.598Z"
   },
   {
    "duration": 28,
    "start_time": "2022-02-08T12:59:21.653Z"
   },
   {
    "duration": 101,
    "start_time": "2022-02-08T12:59:21.683Z"
   },
   {
    "duration": 7,
    "start_time": "2022-02-08T12:59:21.786Z"
   },
   {
    "duration": 10,
    "start_time": "2022-02-08T12:59:21.796Z"
   },
   {
    "duration": 9702,
    "start_time": "2022-02-08T12:59:21.809Z"
   },
   {
    "duration": 92,
    "start_time": "2022-02-08T12:59:31.423Z"
   },
   {
    "duration": 90,
    "start_time": "2022-02-08T12:59:31.427Z"
   },
   {
    "duration": 88,
    "start_time": "2022-02-08T12:59:31.430Z"
   },
   {
    "duration": 88,
    "start_time": "2022-02-08T12:59:31.432Z"
   },
   {
    "duration": 88,
    "start_time": "2022-02-08T12:59:31.434Z"
   },
   {
    "duration": 87,
    "start_time": "2022-02-08T12:59:31.436Z"
   },
   {
    "duration": 87,
    "start_time": "2022-02-08T12:59:31.438Z"
   },
   {
    "duration": 87,
    "start_time": "2022-02-08T12:59:31.439Z"
   },
   {
    "duration": 11,
    "start_time": "2022-02-08T13:01:28.448Z"
   },
   {
    "duration": 11,
    "start_time": "2022-02-08T13:01:31.758Z"
   },
   {
    "duration": 8216,
    "start_time": "2022-02-08T13:01:32.472Z"
   },
   {
    "duration": 102,
    "start_time": "2022-02-08T13:01:40.590Z"
   },
   {
    "duration": 42,
    "start_time": "2022-02-08T13:02:51.269Z"
   },
   {
    "duration": 8349,
    "start_time": "2022-02-08T13:03:36.179Z"
   },
   {
    "duration": 946,
    "start_time": "2022-02-08T13:03:54.785Z"
   },
   {
    "duration": 106,
    "start_time": "2022-02-08T13:04:35.226Z"
   },
   {
    "duration": 856,
    "start_time": "2022-02-08T13:04:55.777Z"
   },
   {
    "duration": 574,
    "start_time": "2022-02-08T13:04:56.636Z"
   },
   {
    "duration": 3,
    "start_time": "2022-02-08T13:04:57.217Z"
   },
   {
    "duration": 93,
    "start_time": "2022-02-08T13:04:57.222Z"
   },
   {
    "duration": 71,
    "start_time": "2022-02-08T13:04:57.318Z"
   },
   {
    "duration": 10,
    "start_time": "2022-02-08T13:04:57.391Z"
   },
   {
    "duration": 75,
    "start_time": "2022-02-08T13:04:57.405Z"
   },
   {
    "duration": 46,
    "start_time": "2022-02-08T13:04:57.483Z"
   },
   {
    "duration": 17,
    "start_time": "2022-02-08T13:04:57.550Z"
   },
   {
    "duration": 95,
    "start_time": "2022-02-08T13:04:57.569Z"
   },
   {
    "duration": 45,
    "start_time": "2022-02-08T13:04:57.667Z"
   },
   {
    "duration": 71,
    "start_time": "2022-02-08T13:04:57.715Z"
   },
   {
    "duration": 103,
    "start_time": "2022-02-08T13:04:57.789Z"
   },
   {
    "duration": 7,
    "start_time": "2022-02-08T13:04:57.895Z"
   },
   {
    "duration": 10,
    "start_time": "2022-02-08T13:04:57.905Z"
   },
   {
    "duration": 10789,
    "start_time": "2022-02-08T13:04:57.949Z"
   },
   {
    "duration": 124,
    "start_time": "2022-02-08T13:05:08.618Z"
   },
   {
    "duration": 123,
    "start_time": "2022-02-08T13:05:08.621Z"
   },
   {
    "duration": 124,
    "start_time": "2022-02-08T13:05:08.623Z"
   },
   {
    "duration": 124,
    "start_time": "2022-02-08T13:05:08.625Z"
   },
   {
    "duration": 125,
    "start_time": "2022-02-08T13:05:08.627Z"
   },
   {
    "duration": 125,
    "start_time": "2022-02-08T13:05:08.629Z"
   },
   {
    "duration": 122,
    "start_time": "2022-02-08T13:05:08.634Z"
   },
   {
    "duration": 122,
    "start_time": "2022-02-08T13:05:08.636Z"
   },
   {
    "duration": 17,
    "start_time": "2022-02-08T13:17:41.655Z"
   },
   {
    "duration": 778,
    "start_time": "2022-02-08T13:18:30.920Z"
   },
   {
    "duration": 9732,
    "start_time": "2022-02-08T13:19:07.506Z"
   },
   {
    "duration": 8787,
    "start_time": "2022-02-08T13:23:34.237Z"
   },
   {
    "duration": 685,
    "start_time": "2022-02-08T13:25:06.094Z"
   },
   {
    "duration": 550,
    "start_time": "2022-02-08T13:25:06.782Z"
   },
   {
    "duration": 3,
    "start_time": "2022-02-08T13:25:07.335Z"
   },
   {
    "duration": 91,
    "start_time": "2022-02-08T13:25:07.341Z"
   },
   {
    "duration": 62,
    "start_time": "2022-02-08T13:25:07.434Z"
   },
   {
    "duration": 10,
    "start_time": "2022-02-08T13:25:07.498Z"
   },
   {
    "duration": 67,
    "start_time": "2022-02-08T13:25:07.511Z"
   },
   {
    "duration": 48,
    "start_time": "2022-02-08T13:25:07.581Z"
   },
   {
    "duration": 22,
    "start_time": "2022-02-08T13:25:07.649Z"
   },
   {
    "duration": 81,
    "start_time": "2022-02-08T13:25:07.675Z"
   },
   {
    "duration": 41,
    "start_time": "2022-02-08T13:25:07.758Z"
   },
   {
    "duration": 53,
    "start_time": "2022-02-08T13:25:07.801Z"
   },
   {
    "duration": 68,
    "start_time": "2022-02-08T13:25:07.856Z"
   },
   {
    "duration": 8,
    "start_time": "2022-02-08T13:25:07.949Z"
   },
   {
    "duration": 15,
    "start_time": "2022-02-08T13:25:07.959Z"
   },
   {
    "duration": 9892,
    "start_time": "2022-02-08T13:25:07.976Z"
   },
   {
    "duration": 115,
    "start_time": "2022-02-08T13:25:17.756Z"
   },
   {
    "duration": 113,
    "start_time": "2022-02-08T13:25:17.759Z"
   },
   {
    "duration": 110,
    "start_time": "2022-02-08T13:25:17.763Z"
   },
   {
    "duration": 110,
    "start_time": "2022-02-08T13:25:17.765Z"
   },
   {
    "duration": 108,
    "start_time": "2022-02-08T13:25:17.768Z"
   },
   {
    "duration": 107,
    "start_time": "2022-02-08T13:25:17.770Z"
   },
   {
    "duration": 106,
    "start_time": "2022-02-08T13:25:17.772Z"
   },
   {
    "duration": 106,
    "start_time": "2022-02-08T13:25:17.774Z"
   },
   {
    "duration": 45,
    "start_time": "2022-02-08T13:30:17.208Z"
   },
   {
    "duration": 7998,
    "start_time": "2022-02-08T13:30:46.471Z"
   },
   {
    "duration": 26,
    "start_time": "2022-02-08T13:31:07.470Z"
   },
   {
    "duration": 30,
    "start_time": "2022-02-08T13:45:02.412Z"
   },
   {
    "duration": 29,
    "start_time": "2022-02-08T13:45:16.427Z"
   },
   {
    "duration": 188,
    "start_time": "2022-02-08T13:48:58.619Z"
   },
   {
    "duration": 16,
    "start_time": "2022-02-08T13:49:11.701Z"
   },
   {
    "duration": 9641,
    "start_time": "2022-02-08T13:49:14.268Z"
   },
   {
    "duration": 8134,
    "start_time": "2022-02-08T13:49:33.464Z"
   },
   {
    "duration": 8472,
    "start_time": "2022-02-08T13:50:14.551Z"
   },
   {
    "duration": 43,
    "start_time": "2022-02-08T13:52:15.388Z"
   },
   {
    "duration": 832,
    "start_time": "2022-02-08T14:43:05.022Z"
   },
   {
    "duration": 493,
    "start_time": "2022-02-08T14:43:05.857Z"
   },
   {
    "duration": 3,
    "start_time": "2022-02-08T14:43:06.353Z"
   },
   {
    "duration": 101,
    "start_time": "2022-02-08T14:43:06.359Z"
   },
   {
    "duration": 48,
    "start_time": "2022-02-08T14:43:06.463Z"
   },
   {
    "duration": 34,
    "start_time": "2022-02-08T14:43:06.514Z"
   },
   {
    "duration": 51,
    "start_time": "2022-02-08T14:43:06.551Z"
   },
   {
    "duration": 69,
    "start_time": "2022-02-08T14:43:06.605Z"
   },
   {
    "duration": 15,
    "start_time": "2022-02-08T14:43:06.678Z"
   },
   {
    "duration": 86,
    "start_time": "2022-02-08T14:43:06.696Z"
   },
   {
    "duration": 43,
    "start_time": "2022-02-08T14:43:06.786Z"
   },
   {
    "duration": 29,
    "start_time": "2022-02-08T14:43:06.849Z"
   },
   {
    "duration": 98,
    "start_time": "2022-02-08T14:43:06.880Z"
   },
   {
    "duration": 7,
    "start_time": "2022-02-08T14:43:06.981Z"
   },
   {
    "duration": 16,
    "start_time": "2022-02-08T14:43:06.990Z"
   },
   {
    "duration": 104,
    "start_time": "2022-02-08T14:43:07.008Z"
   },
   {
    "duration": 229,
    "start_time": "2022-02-08T14:43:06.887Z"
   },
   {
    "duration": 227,
    "start_time": "2022-02-08T14:43:06.891Z"
   },
   {
    "duration": 221,
    "start_time": "2022-02-08T14:43:06.899Z"
   },
   {
    "duration": 219,
    "start_time": "2022-02-08T14:43:06.904Z"
   },
   {
    "duration": 218,
    "start_time": "2022-02-08T14:43:06.907Z"
   },
   {
    "duration": 215,
    "start_time": "2022-02-08T14:43:06.912Z"
   },
   {
    "duration": 213,
    "start_time": "2022-02-08T14:43:06.916Z"
   },
   {
    "duration": 31,
    "start_time": "2022-02-08T14:43:57.079Z"
   },
   {
    "duration": 30,
    "start_time": "2022-02-08T14:44:56.640Z"
   },
   {
    "duration": 29,
    "start_time": "2022-02-08T14:45:38.457Z"
   },
   {
    "duration": 25,
    "start_time": "2022-02-08T14:46:11.393Z"
   },
   {
    "duration": 450,
    "start_time": "2022-02-08T15:41:14.246Z"
   },
   {
    "duration": 26,
    "start_time": "2022-02-08T15:41:21.110Z"
   },
   {
    "duration": 31,
    "start_time": "2022-02-08T15:41:28.534Z"
   },
   {
    "duration": 25,
    "start_time": "2022-02-08T15:41:53.129Z"
   },
   {
    "duration": 34,
    "start_time": "2022-02-08T17:29:07.441Z"
   },
   {
    "duration": 324,
    "start_time": "2022-02-08T18:41:11.172Z"
   },
   {
    "duration": 25,
    "start_time": "2022-02-08T18:59:03.425Z"
   },
   {
    "duration": 26,
    "start_time": "2022-02-08T18:59:17.106Z"
   },
   {
    "duration": 26,
    "start_time": "2022-02-08T18:59:27.009Z"
   },
   {
    "duration": 28,
    "start_time": "2022-02-08T19:09:06.674Z"
   },
   {
    "duration": 24,
    "start_time": "2022-02-08T19:10:21.658Z"
   },
   {
    "duration": 21,
    "start_time": "2022-02-08T19:43:40.161Z"
   },
   {
    "duration": 5,
    "start_time": "2022-02-08T20:07:46.694Z"
   },
   {
    "duration": 7,
    "start_time": "2022-02-08T20:08:05.062Z"
   },
   {
    "duration": 6,
    "start_time": "2022-02-08T20:12:59.766Z"
   },
   {
    "duration": 118,
    "start_time": "2022-02-08T20:23:48.322Z"
   },
   {
    "duration": 7,
    "start_time": "2022-02-08T20:25:54.684Z"
   },
   {
    "duration": 588,
    "start_time": "2022-02-09T08:33:55.032Z"
   },
   {
    "duration": 360,
    "start_time": "2022-02-09T08:33:55.622Z"
   },
   {
    "duration": 2,
    "start_time": "2022-02-09T08:33:55.984Z"
   },
   {
    "duration": 57,
    "start_time": "2022-02-09T08:33:55.987Z"
   },
   {
    "duration": 33,
    "start_time": "2022-02-09T08:33:56.045Z"
   },
   {
    "duration": 6,
    "start_time": "2022-02-09T08:33:56.079Z"
   },
   {
    "duration": 44,
    "start_time": "2022-02-09T08:33:56.086Z"
   },
   {
    "duration": 29,
    "start_time": "2022-02-09T08:33:56.132Z"
   },
   {
    "duration": 10,
    "start_time": "2022-02-09T08:33:56.163Z"
   },
   {
    "duration": 59,
    "start_time": "2022-02-09T08:33:56.174Z"
   },
   {
    "duration": 26,
    "start_time": "2022-02-09T08:33:56.234Z"
   },
   {
    "duration": 16,
    "start_time": "2022-02-09T08:33:56.262Z"
   },
   {
    "duration": 58,
    "start_time": "2022-02-09T08:33:56.279Z"
   },
   {
    "duration": 3,
    "start_time": "2022-02-09T08:33:56.339Z"
   },
   {
    "duration": 10,
    "start_time": "2022-02-09T08:33:56.343Z"
   },
   {
    "duration": 15,
    "start_time": "2022-02-09T08:33:56.355Z"
   },
   {
    "duration": 212,
    "start_time": "2022-02-09T08:33:56.371Z"
   },
   {
    "duration": 12,
    "start_time": "2022-02-09T08:33:56.584Z"
   },
   {
    "duration": 11,
    "start_time": "2022-02-09T08:33:56.598Z"
   },
   {
    "duration": 22,
    "start_time": "2022-02-09T08:33:56.610Z"
   },
   {
    "duration": 14,
    "start_time": "2022-02-09T08:33:56.634Z"
   },
   {
    "duration": 111,
    "start_time": "2022-02-09T08:33:56.650Z"
   },
   {
    "duration": 1281,
    "start_time": "2022-02-09T08:33:55.482Z"
   },
   {
    "duration": 1278,
    "start_time": "2022-02-09T08:33:55.486Z"
   },
   {
    "duration": 1273,
    "start_time": "2022-02-09T08:33:55.491Z"
   },
   {
    "duration": 1270,
    "start_time": "2022-02-09T08:33:55.495Z"
   },
   {
    "duration": 1269,
    "start_time": "2022-02-09T08:33:55.497Z"
   },
   {
    "duration": 535,
    "start_time": "2022-02-09T08:36:40.603Z"
   },
   {
    "duration": 447,
    "start_time": "2022-02-09T08:39:17.395Z"
   },
   {
    "duration": 490,
    "start_time": "2022-02-09T08:39:38.598Z"
   },
   {
    "duration": 460,
    "start_time": "2022-02-09T08:51:24.075Z"
   },
   {
    "duration": 470,
    "start_time": "2022-02-09T08:51:34.734Z"
   },
   {
    "duration": 110,
    "start_time": "2022-02-09T08:51:42.485Z"
   },
   {
    "duration": 448,
    "start_time": "2022-02-09T08:51:51.374Z"
   },
   {
    "duration": 466,
    "start_time": "2022-02-09T08:52:19.103Z"
   },
   {
    "duration": 453,
    "start_time": "2022-02-09T08:52:26.630Z"
   },
   {
    "duration": 184,
    "start_time": "2022-02-09T08:52:31.838Z"
   },
   {
    "duration": 621,
    "start_time": "2022-02-09T08:53:37.023Z"
   },
   {
    "duration": 369,
    "start_time": "2022-02-09T08:53:37.645Z"
   },
   {
    "duration": 3,
    "start_time": "2022-02-09T08:53:38.016Z"
   },
   {
    "duration": 56,
    "start_time": "2022-02-09T08:53:38.021Z"
   },
   {
    "duration": 33,
    "start_time": "2022-02-09T08:53:38.078Z"
   },
   {
    "duration": 16,
    "start_time": "2022-02-09T08:53:38.112Z"
   },
   {
    "duration": 30,
    "start_time": "2022-02-09T08:53:38.130Z"
   },
   {
    "duration": 28,
    "start_time": "2022-02-09T08:53:38.163Z"
   },
   {
    "duration": 40,
    "start_time": "2022-02-09T08:53:38.194Z"
   },
   {
    "duration": 42,
    "start_time": "2022-02-09T08:53:38.236Z"
   },
   {
    "duration": 26,
    "start_time": "2022-02-09T08:53:38.279Z"
   },
   {
    "duration": 27,
    "start_time": "2022-02-09T08:53:38.307Z"
   },
   {
    "duration": 41,
    "start_time": "2022-02-09T08:53:38.335Z"
   },
   {
    "duration": 4,
    "start_time": "2022-02-09T08:53:38.378Z"
   },
   {
    "duration": 14,
    "start_time": "2022-02-09T08:53:38.383Z"
   },
   {
    "duration": 33,
    "start_time": "2022-02-09T08:53:38.398Z"
   },
   {
    "duration": 229,
    "start_time": "2022-02-09T08:53:38.433Z"
   },
   {
    "duration": 12,
    "start_time": "2022-02-09T08:53:38.664Z"
   },
   {
    "duration": 6,
    "start_time": "2022-02-09T08:53:38.677Z"
   },
   {
    "duration": 18,
    "start_time": "2022-02-09T08:53:38.685Z"
   },
   {
    "duration": 30,
    "start_time": "2022-02-09T08:53:38.704Z"
   },
   {
    "duration": 116,
    "start_time": "2022-02-09T08:53:38.736Z"
   },
   {
    "duration": 1305,
    "start_time": "2022-02-09T08:53:37.549Z"
   },
   {
    "duration": 1304,
    "start_time": "2022-02-09T08:53:37.551Z"
   },
   {
    "duration": 1302,
    "start_time": "2022-02-09T08:53:37.554Z"
   },
   {
    "duration": 1300,
    "start_time": "2022-02-09T08:53:37.556Z"
   },
   {
    "duration": 1299,
    "start_time": "2022-02-09T08:53:37.558Z"
   },
   {
    "duration": 122,
    "start_time": "2022-02-09T08:53:56.845Z"
   },
   {
    "duration": 153,
    "start_time": "2022-02-09T08:54:06.927Z"
   },
   {
    "duration": 387,
    "start_time": "2022-02-09T08:54:46.110Z"
   },
   {
    "duration": 353,
    "start_time": "2022-02-09T08:55:17.790Z"
   },
   {
    "duration": 615,
    "start_time": "2022-02-09T08:55:34.746Z"
   },
   {
    "duration": 367,
    "start_time": "2022-02-09T08:55:35.363Z"
   },
   {
    "duration": 2,
    "start_time": "2022-02-09T08:55:35.733Z"
   },
   {
    "duration": 61,
    "start_time": "2022-02-09T08:55:35.737Z"
   },
   {
    "duration": 36,
    "start_time": "2022-02-09T08:55:35.800Z"
   },
   {
    "duration": 6,
    "start_time": "2022-02-09T08:55:35.838Z"
   },
   {
    "duration": 32,
    "start_time": "2022-02-09T08:55:35.845Z"
   },
   {
    "duration": 47,
    "start_time": "2022-02-09T08:55:35.880Z"
   },
   {
    "duration": 14,
    "start_time": "2022-02-09T08:55:35.929Z"
   },
   {
    "duration": 44,
    "start_time": "2022-02-09T08:55:35.944Z"
   },
   {
    "duration": 48,
    "start_time": "2022-02-09T08:55:35.989Z"
   },
   {
    "duration": 16,
    "start_time": "2022-02-09T08:55:36.038Z"
   },
   {
    "duration": 38,
    "start_time": "2022-02-09T08:55:36.056Z"
   },
   {
    "duration": 4,
    "start_time": "2022-02-09T08:55:36.095Z"
   },
   {
    "duration": 31,
    "start_time": "2022-02-09T08:55:36.100Z"
   },
   {
    "duration": 386,
    "start_time": "2022-02-09T08:55:36.133Z"
   },
   {
    "duration": 1301,
    "start_time": "2022-02-09T08:55:35.220Z"
   },
   {
    "duration": 1300,
    "start_time": "2022-02-09T08:55:35.222Z"
   },
   {
    "duration": 1296,
    "start_time": "2022-02-09T08:55:35.227Z"
   },
   {
    "duration": 1294,
    "start_time": "2022-02-09T08:55:35.230Z"
   },
   {
    "duration": 1293,
    "start_time": "2022-02-09T08:55:35.233Z"
   },
   {
    "duration": 1292,
    "start_time": "2022-02-09T08:55:35.235Z"
   },
   {
    "duration": 1291,
    "start_time": "2022-02-09T08:55:35.237Z"
   },
   {
    "duration": 1290,
    "start_time": "2022-02-09T08:55:35.239Z"
   },
   {
    "duration": 1289,
    "start_time": "2022-02-09T08:55:35.242Z"
   },
   {
    "duration": 1288,
    "start_time": "2022-02-09T08:55:35.244Z"
   },
   {
    "duration": 1287,
    "start_time": "2022-02-09T08:55:35.246Z"
   },
   {
    "duration": 321,
    "start_time": "2022-02-09T08:55:51.080Z"
   },
   {
    "duration": 357,
    "start_time": "2022-02-09T08:55:55.470Z"
   },
   {
    "duration": 544,
    "start_time": "2022-02-09T08:56:13.759Z"
   },
   {
    "duration": 361,
    "start_time": "2022-02-09T08:56:14.305Z"
   },
   {
    "duration": 2,
    "start_time": "2022-02-09T08:56:14.668Z"
   },
   {
    "duration": 55,
    "start_time": "2022-02-09T08:56:14.672Z"
   },
   {
    "duration": 35,
    "start_time": "2022-02-09T08:56:14.728Z"
   },
   {
    "duration": 5,
    "start_time": "2022-02-09T08:56:14.765Z"
   },
   {
    "duration": 30,
    "start_time": "2022-02-09T08:56:14.772Z"
   },
   {
    "duration": 44,
    "start_time": "2022-02-09T08:56:14.804Z"
   },
   {
    "duration": 8,
    "start_time": "2022-02-09T08:56:14.850Z"
   },
   {
    "duration": 41,
    "start_time": "2022-02-09T08:56:14.860Z"
   },
   {
    "duration": 43,
    "start_time": "2022-02-09T08:56:14.903Z"
   },
   {
    "duration": 19,
    "start_time": "2022-02-09T08:56:14.948Z"
   },
   {
    "duration": 66,
    "start_time": "2022-02-09T08:56:14.969Z"
   },
   {
    "duration": 4,
    "start_time": "2022-02-09T08:56:15.036Z"
   },
   {
    "duration": 13,
    "start_time": "2022-02-09T08:56:15.042Z"
   },
   {
    "duration": 439,
    "start_time": "2022-02-09T08:56:15.057Z"
   },
   {
    "duration": 1274,
    "start_time": "2022-02-09T08:56:14.225Z"
   },
   {
    "duration": 1267,
    "start_time": "2022-02-09T08:56:14.233Z"
   },
   {
    "duration": 1257,
    "start_time": "2022-02-09T08:56:14.243Z"
   },
   {
    "duration": 1243,
    "start_time": "2022-02-09T08:56:14.258Z"
   },
   {
    "duration": 1242,
    "start_time": "2022-02-09T08:56:14.260Z"
   },
   {
    "duration": 1233,
    "start_time": "2022-02-09T08:56:14.270Z"
   },
   {
    "duration": 1230,
    "start_time": "2022-02-09T08:56:14.273Z"
   },
   {
    "duration": 1228,
    "start_time": "2022-02-09T08:56:14.276Z"
   },
   {
    "duration": 1226,
    "start_time": "2022-02-09T08:56:14.279Z"
   },
   {
    "duration": 1221,
    "start_time": "2022-02-09T08:56:14.284Z"
   },
   {
    "duration": 1219,
    "start_time": "2022-02-09T08:56:14.287Z"
   },
   {
    "duration": 395,
    "start_time": "2022-02-09T08:56:38.235Z"
   },
   {
    "duration": 154,
    "start_time": "2022-02-09T08:56:48.219Z"
   },
   {
    "duration": 322,
    "start_time": "2022-02-09T08:56:55.251Z"
   },
   {
    "duration": 399,
    "start_time": "2022-02-09T08:57:41.333Z"
   },
   {
    "duration": 344,
    "start_time": "2022-02-09T08:57:58.452Z"
   },
   {
    "duration": 410,
    "start_time": "2022-02-09T08:58:10.556Z"
   },
   {
    "duration": 326,
    "start_time": "2022-02-09T08:58:26.109Z"
   },
   {
    "duration": 345,
    "start_time": "2022-02-09T08:58:41.924Z"
   },
   {
    "duration": 313,
    "start_time": "2022-02-09T08:58:54.604Z"
   },
   {
    "duration": 311,
    "start_time": "2022-02-09T08:59:04.956Z"
   },
   {
    "duration": 342,
    "start_time": "2022-02-09T08:59:32.539Z"
   },
   {
    "duration": 864,
    "start_time": "2022-02-09T08:59:51.309Z"
   },
   {
    "duration": 340,
    "start_time": "2022-02-09T09:00:15.495Z"
   },
   {
    "duration": 337,
    "start_time": "2022-02-09T09:01:03.310Z"
   },
   {
    "duration": 364,
    "start_time": "2022-02-09T09:01:18.039Z"
   },
   {
    "duration": 490,
    "start_time": "2022-02-09T09:01:48.296Z"
   },
   {
    "duration": 585,
    "start_time": "2022-02-09T09:02:22.593Z"
   },
   {
    "duration": 359,
    "start_time": "2022-02-09T09:02:23.180Z"
   },
   {
    "duration": 2,
    "start_time": "2022-02-09T09:02:23.540Z"
   },
   {
    "duration": 56,
    "start_time": "2022-02-09T09:02:23.544Z"
   },
   {
    "duration": 32,
    "start_time": "2022-02-09T09:02:23.601Z"
   },
   {
    "duration": 6,
    "start_time": "2022-02-09T09:02:23.634Z"
   },
   {
    "duration": 31,
    "start_time": "2022-02-09T09:02:23.641Z"
   },
   {
    "duration": 28,
    "start_time": "2022-02-09T09:02:23.674Z"
   },
   {
    "duration": 32,
    "start_time": "2022-02-09T09:02:23.703Z"
   },
   {
    "duration": 41,
    "start_time": "2022-02-09T09:02:23.737Z"
   },
   {
    "duration": 26,
    "start_time": "2022-02-09T09:02:23.779Z"
   },
   {
    "duration": 27,
    "start_time": "2022-02-09T09:02:23.806Z"
   },
   {
    "duration": 42,
    "start_time": "2022-02-09T09:02:23.835Z"
   },
   {
    "duration": 4,
    "start_time": "2022-02-09T09:02:23.879Z"
   },
   {
    "duration": 11,
    "start_time": "2022-02-09T09:02:23.885Z"
   },
   {
    "duration": 417,
    "start_time": "2022-02-09T09:02:23.898Z"
   },
   {
    "duration": 1280,
    "start_time": "2022-02-09T09:02:23.037Z"
   },
   {
    "duration": 1273,
    "start_time": "2022-02-09T09:02:23.046Z"
   },
   {
    "duration": 1270,
    "start_time": "2022-02-09T09:02:23.050Z"
   },
   {
    "duration": 1267,
    "start_time": "2022-02-09T09:02:23.053Z"
   },
   {
    "duration": 1259,
    "start_time": "2022-02-09T09:02:23.062Z"
   },
   {
    "duration": 1257,
    "start_time": "2022-02-09T09:02:23.065Z"
   },
   {
    "duration": 1255,
    "start_time": "2022-02-09T09:02:23.068Z"
   },
   {
    "duration": 1254,
    "start_time": "2022-02-09T09:02:23.070Z"
   },
   {
    "duration": 1251,
    "start_time": "2022-02-09T09:02:23.074Z"
   },
   {
    "duration": 1249,
    "start_time": "2022-02-09T09:02:23.077Z"
   },
   {
    "duration": 1248,
    "start_time": "2022-02-09T09:02:23.079Z"
   },
   {
    "duration": 393,
    "start_time": "2022-02-09T09:03:22.156Z"
   },
   {
    "duration": 16,
    "start_time": "2022-02-09T09:03:55.507Z"
   },
   {
    "duration": 325,
    "start_time": "2022-02-09T09:04:15.830Z"
   },
   {
    "duration": 316,
    "start_time": "2022-02-09T09:04:23.109Z"
   },
   {
    "duration": 15,
    "start_time": "2022-02-09T09:04:35.804Z"
   },
   {
    "duration": 546,
    "start_time": "2022-02-09T12:36:35.491Z"
   },
   {
    "duration": 370,
    "start_time": "2022-02-09T12:36:36.039Z"
   },
   {
    "duration": 2,
    "start_time": "2022-02-09T12:36:36.410Z"
   },
   {
    "duration": 54,
    "start_time": "2022-02-09T12:36:36.414Z"
   },
   {
    "duration": 31,
    "start_time": "2022-02-09T12:36:36.470Z"
   },
   {
    "duration": 6,
    "start_time": "2022-02-09T12:36:36.503Z"
   },
   {
    "duration": 38,
    "start_time": "2022-02-09T12:36:36.510Z"
   },
   {
    "duration": 29,
    "start_time": "2022-02-09T12:36:36.550Z"
   },
   {
    "duration": 12,
    "start_time": "2022-02-09T12:36:36.581Z"
   },
   {
    "duration": 59,
    "start_time": "2022-02-09T12:36:36.594Z"
   },
   {
    "duration": 26,
    "start_time": "2022-02-09T12:36:36.654Z"
   },
   {
    "duration": 15,
    "start_time": "2022-02-09T12:36:36.682Z"
   },
   {
    "duration": 51,
    "start_time": "2022-02-09T12:36:36.698Z"
   },
   {
    "duration": 3,
    "start_time": "2022-02-09T12:36:36.750Z"
   },
   {
    "duration": 10,
    "start_time": "2022-02-09T12:36:36.755Z"
   },
   {
    "duration": 14,
    "start_time": "2022-02-09T12:36:36.767Z"
   },
   {
    "duration": 110,
    "start_time": "2022-02-09T12:36:36.782Z"
   },
   {
    "duration": 233,
    "start_time": "2022-02-09T12:36:36.660Z"
   },
   {
    "duration": 229,
    "start_time": "2022-02-09T12:36:36.665Z"
   },
   {
    "duration": 226,
    "start_time": "2022-02-09T12:36:36.669Z"
   },
   {
    "duration": 224,
    "start_time": "2022-02-09T12:36:36.672Z"
   },
   {
    "duration": 222,
    "start_time": "2022-02-09T12:36:36.675Z"
   },
   {
    "duration": 220,
    "start_time": "2022-02-09T12:36:36.678Z"
   },
   {
    "duration": 217,
    "start_time": "2022-02-09T12:36:36.681Z"
   },
   {
    "duration": 216,
    "start_time": "2022-02-09T12:36:36.683Z"
   },
   {
    "duration": 215,
    "start_time": "2022-02-09T12:36:36.685Z"
   },
   {
    "duration": 208,
    "start_time": "2022-02-09T12:36:36.693Z"
   },
   {
    "duration": 177,
    "start_time": "2022-02-09T12:37:06.008Z"
   },
   {
    "duration": 1655,
    "start_time": "2022-02-09T12:39:00.099Z"
   },
   {
    "duration": 628,
    "start_time": "2022-02-09T12:39:38.931Z"
   },
   {
    "duration": 189,
    "start_time": "2022-02-09T12:40:41.285Z"
   },
   {
    "duration": 144,
    "start_time": "2022-02-09T12:40:57.228Z"
   },
   {
    "duration": 118,
    "start_time": "2022-02-09T12:41:35.029Z"
   },
   {
    "duration": 686,
    "start_time": "2022-02-09T12:50:22.923Z"
   },
   {
    "duration": 679,
    "start_time": "2022-02-09T12:50:49.796Z"
   },
   {
    "duration": 667,
    "start_time": "2022-02-09T12:51:15.127Z"
   },
   {
    "duration": 147,
    "start_time": "2022-02-09T12:51:50.516Z"
   },
   {
    "duration": 115,
    "start_time": "2022-02-09T12:53:22.941Z"
   },
   {
    "duration": 112,
    "start_time": "2022-02-09T12:53:28.077Z"
   },
   {
    "duration": 112,
    "start_time": "2022-02-09T12:53:48.582Z"
   },
   {
    "duration": 101,
    "start_time": "2022-02-09T12:54:12.886Z"
   },
   {
    "duration": 151,
    "start_time": "2022-02-09T12:54:29.918Z"
   },
   {
    "duration": 141,
    "start_time": "2022-02-09T12:55:18.599Z"
   },
   {
    "duration": 499,
    "start_time": "2022-02-09T14:43:04.808Z"
   },
   {
    "duration": 751,
    "start_time": "2022-02-09T14:43:31.504Z"
   },
   {
    "duration": 517,
    "start_time": "2022-02-09T14:43:49.912Z"
   },
   {
    "duration": 132,
    "start_time": "2022-02-09T14:53:22.828Z"
   },
   {
    "duration": 103,
    "start_time": "2022-02-09T15:03:02.944Z"
   },
   {
    "duration": 141,
    "start_time": "2022-02-09T15:03:33.418Z"
   },
   {
    "duration": 116,
    "start_time": "2022-02-09T15:03:44.991Z"
   },
   {
    "duration": 129,
    "start_time": "2022-02-09T15:04:28.967Z"
   },
   {
    "duration": 134,
    "start_time": "2022-02-09T15:34:35.818Z"
   },
   {
    "duration": 130,
    "start_time": "2022-02-09T15:34:46.880Z"
   },
   {
    "duration": 137,
    "start_time": "2022-02-09T15:34:57.072Z"
   },
   {
    "duration": 408,
    "start_time": "2022-02-09T15:38:11.642Z"
   },
   {
    "duration": 373,
    "start_time": "2022-02-09T15:53:56.670Z"
   },
   {
    "duration": 184,
    "start_time": "2022-02-09T15:54:43.583Z"
   },
   {
    "duration": 131,
    "start_time": "2022-02-09T15:57:32.657Z"
   },
   {
    "duration": 134,
    "start_time": "2022-02-09T15:58:54.787Z"
   },
   {
    "duration": 140,
    "start_time": "2022-02-09T15:59:25.043Z"
   },
   {
    "duration": 502,
    "start_time": "2022-02-09T16:00:27.539Z"
   },
   {
    "duration": 480,
    "start_time": "2022-02-09T16:01:02.773Z"
   },
   {
    "duration": 548,
    "start_time": "2022-02-09T16:01:14.460Z"
   },
   {
    "duration": 1825,
    "start_time": "2022-02-09T16:35:46.102Z"
   },
   {
    "duration": 916,
    "start_time": "2022-02-09T16:35:58.862Z"
   },
   {
    "duration": 187,
    "start_time": "2022-02-09T16:36:34.607Z"
   },
   {
    "duration": 156,
    "start_time": "2022-02-09T16:37:35.287Z"
   },
   {
    "duration": 161,
    "start_time": "2022-02-09T16:37:49.960Z"
   },
   {
    "duration": 162,
    "start_time": "2022-02-09T16:37:59.360Z"
   },
   {
    "duration": 159,
    "start_time": "2022-02-09T16:38:38.072Z"
   },
   {
    "duration": 373,
    "start_time": "2022-02-09T17:22:06.088Z"
   },
   {
    "duration": 629,
    "start_time": "2022-02-09T17:22:17.215Z"
   },
   {
    "duration": 357,
    "start_time": "2022-02-09T17:22:17.846Z"
   },
   {
    "duration": 2,
    "start_time": "2022-02-09T17:22:18.206Z"
   },
   {
    "duration": 54,
    "start_time": "2022-02-09T17:22:18.210Z"
   },
   {
    "duration": 33,
    "start_time": "2022-02-09T17:22:18.265Z"
   },
   {
    "duration": 6,
    "start_time": "2022-02-09T17:22:18.300Z"
   },
   {
    "duration": 37,
    "start_time": "2022-02-09T17:22:18.308Z"
   },
   {
    "duration": 28,
    "start_time": "2022-02-09T17:22:18.347Z"
   },
   {
    "duration": 9,
    "start_time": "2022-02-09T17:22:18.376Z"
   },
   {
    "duration": 60,
    "start_time": "2022-02-09T17:22:18.387Z"
   },
   {
    "duration": 27,
    "start_time": "2022-02-09T17:22:18.448Z"
   },
   {
    "duration": 16,
    "start_time": "2022-02-09T17:22:18.476Z"
   },
   {
    "duration": 52,
    "start_time": "2022-02-09T17:22:18.493Z"
   },
   {
    "duration": 3,
    "start_time": "2022-02-09T17:22:18.547Z"
   },
   {
    "duration": 10,
    "start_time": "2022-02-09T17:22:18.551Z"
   },
   {
    "duration": 384,
    "start_time": "2022-02-09T17:22:18.563Z"
   },
   {
    "duration": 287,
    "start_time": "2022-02-09T17:22:18.663Z"
   },
   {
    "duration": 282,
    "start_time": "2022-02-09T17:22:18.669Z"
   },
   {
    "duration": 278,
    "start_time": "2022-02-09T17:22:18.674Z"
   },
   {
    "duration": 276,
    "start_time": "2022-02-09T17:22:18.677Z"
   },
   {
    "duration": 274,
    "start_time": "2022-02-09T17:22:18.680Z"
   },
   {
    "duration": 272,
    "start_time": "2022-02-09T17:22:18.683Z"
   },
   {
    "duration": 268,
    "start_time": "2022-02-09T17:22:18.688Z"
   },
   {
    "duration": 265,
    "start_time": "2022-02-09T17:22:18.691Z"
   },
   {
    "duration": 263,
    "start_time": "2022-02-09T17:22:18.694Z"
   },
   {
    "duration": 261,
    "start_time": "2022-02-09T17:22:18.697Z"
   },
   {
    "duration": 317,
    "start_time": "2022-02-09T17:22:47.542Z"
   },
   {
    "duration": 325,
    "start_time": "2022-02-09T17:23:08.278Z"
   },
   {
    "duration": 348,
    "start_time": "2022-02-09T17:23:22.855Z"
   },
   {
    "duration": 121,
    "start_time": "2022-02-09T17:24:34.975Z"
   },
   {
    "duration": 8,
    "start_time": "2022-02-09T17:24:51.575Z"
   },
   {
    "duration": 35,
    "start_time": "2022-02-09T17:24:54.487Z"
   },
   {
    "duration": 673,
    "start_time": "2022-02-09T17:25:02.903Z"
   },
   {
    "duration": 365,
    "start_time": "2022-02-09T17:25:03.578Z"
   },
   {
    "duration": 3,
    "start_time": "2022-02-09T17:25:03.944Z"
   },
   {
    "duration": 55,
    "start_time": "2022-02-09T17:25:03.948Z"
   },
   {
    "duration": 154,
    "start_time": "2022-02-09T17:25:04.005Z"
   },
   {
    "duration": 284,
    "start_time": "2022-02-09T17:25:03.878Z"
   },
   {
    "duration": 280,
    "start_time": "2022-02-09T17:25:03.883Z"
   },
   {
    "duration": 277,
    "start_time": "2022-02-09T17:25:03.887Z"
   },
   {
    "duration": 274,
    "start_time": "2022-02-09T17:25:03.891Z"
   },
   {
    "duration": 273,
    "start_time": "2022-02-09T17:25:03.893Z"
   },
   {
    "duration": 271,
    "start_time": "2022-02-09T17:25:03.896Z"
   },
   {
    "duration": 271,
    "start_time": "2022-02-09T17:25:03.897Z"
   },
   {
    "duration": 270,
    "start_time": "2022-02-09T17:25:03.899Z"
   },
   {
    "duration": 270,
    "start_time": "2022-02-09T17:25:03.900Z"
   },
   {
    "duration": 268,
    "start_time": "2022-02-09T17:25:03.903Z"
   },
   {
    "duration": 267,
    "start_time": "2022-02-09T17:25:03.905Z"
   },
   {
    "duration": 266,
    "start_time": "2022-02-09T17:25:03.907Z"
   },
   {
    "duration": 265,
    "start_time": "2022-02-09T17:25:03.909Z"
   },
   {
    "duration": 265,
    "start_time": "2022-02-09T17:25:03.910Z"
   },
   {
    "duration": 264,
    "start_time": "2022-02-09T17:25:03.912Z"
   },
   {
    "duration": 264,
    "start_time": "2022-02-09T17:25:03.913Z"
   },
   {
    "duration": 262,
    "start_time": "2022-02-09T17:25:03.915Z"
   },
   {
    "duration": 262,
    "start_time": "2022-02-09T17:25:03.916Z"
   },
   {
    "duration": 261,
    "start_time": "2022-02-09T17:25:03.918Z"
   },
   {
    "duration": 261,
    "start_time": "2022-02-09T17:25:03.919Z"
   },
   {
    "duration": 261,
    "start_time": "2022-02-09T17:25:03.920Z"
   },
   {
    "duration": 551,
    "start_time": "2022-02-09T17:25:37.087Z"
   },
   {
    "duration": 364,
    "start_time": "2022-02-09T17:25:37.640Z"
   },
   {
    "duration": 3,
    "start_time": "2022-02-09T17:25:38.005Z"
   },
   {
    "duration": 58,
    "start_time": "2022-02-09T17:25:38.009Z"
   },
   {
    "duration": 96,
    "start_time": "2022-02-09T17:25:38.069Z"
   },
   {
    "duration": 324,
    "start_time": "2022-02-09T17:25:37.843Z"
   },
   {
    "duration": 322,
    "start_time": "2022-02-09T17:25:37.846Z"
   },
   {
    "duration": 321,
    "start_time": "2022-02-09T17:25:37.848Z"
   },
   {
    "duration": 320,
    "start_time": "2022-02-09T17:25:37.850Z"
   },
   {
    "duration": 318,
    "start_time": "2022-02-09T17:25:37.853Z"
   },
   {
    "duration": 317,
    "start_time": "2022-02-09T17:25:37.855Z"
   },
   {
    "duration": 316,
    "start_time": "2022-02-09T17:25:37.857Z"
   },
   {
    "duration": 315,
    "start_time": "2022-02-09T17:25:37.859Z"
   },
   {
    "duration": 314,
    "start_time": "2022-02-09T17:25:37.861Z"
   },
   {
    "duration": 313,
    "start_time": "2022-02-09T17:25:37.863Z"
   },
   {
    "duration": 311,
    "start_time": "2022-02-09T17:25:37.865Z"
   },
   {
    "duration": 290,
    "start_time": "2022-02-09T17:25:37.887Z"
   },
   {
    "duration": 285,
    "start_time": "2022-02-09T17:25:37.893Z"
   },
   {
    "duration": 283,
    "start_time": "2022-02-09T17:25:37.896Z"
   },
   {
    "duration": 282,
    "start_time": "2022-02-09T17:25:37.898Z"
   },
   {
    "duration": 281,
    "start_time": "2022-02-09T17:25:37.900Z"
   },
   {
    "duration": 280,
    "start_time": "2022-02-09T17:25:37.902Z"
   },
   {
    "duration": 279,
    "start_time": "2022-02-09T17:25:37.904Z"
   },
   {
    "duration": 278,
    "start_time": "2022-02-09T17:25:37.906Z"
   },
   {
    "duration": 276,
    "start_time": "2022-02-09T17:25:37.908Z"
   },
   {
    "duration": 275,
    "start_time": "2022-02-09T17:25:37.910Z"
   },
   {
    "duration": 36,
    "start_time": "2022-02-09T17:26:09.231Z"
   },
   {
    "duration": 531,
    "start_time": "2022-02-09T17:26:20.183Z"
   },
   {
    "duration": 367,
    "start_time": "2022-02-09T17:26:20.716Z"
   },
   {
    "duration": 3,
    "start_time": "2022-02-09T17:26:21.085Z"
   },
   {
    "duration": 57,
    "start_time": "2022-02-09T17:26:21.090Z"
   },
   {
    "duration": 32,
    "start_time": "2022-02-09T17:26:21.148Z"
   },
   {
    "duration": 6,
    "start_time": "2022-02-09T17:26:21.182Z"
   },
   {
    "duration": 47,
    "start_time": "2022-02-09T17:26:21.189Z"
   },
   {
    "duration": 29,
    "start_time": "2022-02-09T17:26:21.238Z"
   },
   {
    "duration": 10,
    "start_time": "2022-02-09T17:26:21.268Z"
   },
   {
    "duration": 54,
    "start_time": "2022-02-09T17:26:21.279Z"
   },
   {
    "duration": 25,
    "start_time": "2022-02-09T17:26:21.335Z"
   },
   {
    "duration": 14,
    "start_time": "2022-02-09T17:26:21.362Z"
   },
   {
    "duration": 54,
    "start_time": "2022-02-09T17:26:21.378Z"
   },
   {
    "duration": 4,
    "start_time": "2022-02-09T17:26:21.433Z"
   },
   {
    "duration": 8362,
    "start_time": "2022-02-09T17:26:21.438Z"
   },
   {
    "duration": 313,
    "start_time": "2022-02-09T17:26:29.489Z"
   },
   {
    "duration": 304,
    "start_time": "2022-02-09T17:26:29.499Z"
   },
   {
    "duration": 302,
    "start_time": "2022-02-09T17:26:29.501Z"
   },
   {
    "duration": 301,
    "start_time": "2022-02-09T17:26:29.503Z"
   },
   {
    "duration": 301,
    "start_time": "2022-02-09T17:26:29.504Z"
   },
   {
    "duration": 301,
    "start_time": "2022-02-09T17:26:29.506Z"
   },
   {
    "duration": 299,
    "start_time": "2022-02-09T17:26:29.508Z"
   },
   {
    "duration": 298,
    "start_time": "2022-02-09T17:26:29.510Z"
   },
   {
    "duration": 290,
    "start_time": "2022-02-09T17:26:29.519Z"
   },
   {
    "duration": 288,
    "start_time": "2022-02-09T17:26:29.522Z"
   },
   {
    "duration": 284,
    "start_time": "2022-02-09T17:26:29.528Z"
   },
   {
    "duration": 569,
    "start_time": "2022-02-09T17:26:47.992Z"
   },
   {
    "duration": 373,
    "start_time": "2022-02-09T17:26:48.562Z"
   },
   {
    "duration": 2,
    "start_time": "2022-02-09T17:26:48.939Z"
   },
   {
    "duration": 63,
    "start_time": "2022-02-09T17:26:48.942Z"
   },
   {
    "duration": 40,
    "start_time": "2022-02-09T17:26:49.007Z"
   },
   {
    "duration": 6,
    "start_time": "2022-02-09T17:26:49.049Z"
   },
   {
    "duration": 32,
    "start_time": "2022-02-09T17:26:49.057Z"
   },
   {
    "duration": 47,
    "start_time": "2022-02-09T17:26:49.090Z"
   },
   {
    "duration": 13,
    "start_time": "2022-02-09T17:26:49.138Z"
   },
   {
    "duration": 42,
    "start_time": "2022-02-09T17:26:49.152Z"
   },
   {
    "duration": 44,
    "start_time": "2022-02-09T17:26:49.196Z"
   },
   {
    "duration": 15,
    "start_time": "2022-02-09T17:26:49.242Z"
   },
   {
    "duration": 31,
    "start_time": "2022-02-09T17:26:49.258Z"
   },
   {
    "duration": 4,
    "start_time": "2022-02-09T17:26:49.291Z"
   },
   {
    "duration": 9246,
    "start_time": "2022-02-09T17:26:49.296Z"
   },
   {
    "duration": 303,
    "start_time": "2022-02-09T17:26:58.241Z"
   },
   {
    "duration": 300,
    "start_time": "2022-02-09T17:26:58.245Z"
   },
   {
    "duration": 296,
    "start_time": "2022-02-09T17:26:58.250Z"
   },
   {
    "duration": 294,
    "start_time": "2022-02-09T17:26:58.253Z"
   },
   {
    "duration": 293,
    "start_time": "2022-02-09T17:26:58.255Z"
   },
   {
    "duration": 292,
    "start_time": "2022-02-09T17:26:58.257Z"
   },
   {
    "duration": 291,
    "start_time": "2022-02-09T17:26:58.259Z"
   },
   {
    "duration": 289,
    "start_time": "2022-02-09T17:26:58.262Z"
   },
   {
    "duration": 289,
    "start_time": "2022-02-09T17:26:58.263Z"
   },
   {
    "duration": 288,
    "start_time": "2022-02-09T17:26:58.266Z"
   },
   {
    "duration": 286,
    "start_time": "2022-02-09T17:26:58.268Z"
   },
   {
    "duration": 20,
    "start_time": "2022-02-09T17:33:24.094Z"
   },
   {
    "duration": 584,
    "start_time": "2022-02-09T17:33:35.323Z"
   },
   {
    "duration": 360,
    "start_time": "2022-02-09T17:33:35.909Z"
   },
   {
    "duration": 2,
    "start_time": "2022-02-09T17:33:36.271Z"
   },
   {
    "duration": 70,
    "start_time": "2022-02-09T17:33:36.275Z"
   },
   {
    "duration": 33,
    "start_time": "2022-02-09T17:33:36.346Z"
   },
   {
    "duration": 11,
    "start_time": "2022-02-09T17:33:36.380Z"
   },
   {
    "duration": 37,
    "start_time": "2022-02-09T17:33:36.393Z"
   },
   {
    "duration": 30,
    "start_time": "2022-02-09T17:33:36.432Z"
   },
   {
    "duration": 10,
    "start_time": "2022-02-09T17:33:36.463Z"
   },
   {
    "duration": 55,
    "start_time": "2022-02-09T17:33:36.474Z"
   },
   {
    "duration": 25,
    "start_time": "2022-02-09T17:33:36.531Z"
   },
   {
    "duration": 16,
    "start_time": "2022-02-09T17:33:36.558Z"
   },
   {
    "duration": 53,
    "start_time": "2022-02-09T17:33:36.575Z"
   },
   {
    "duration": 4,
    "start_time": "2022-02-09T17:33:36.629Z"
   },
   {
    "duration": 8230,
    "start_time": "2022-02-09T17:33:36.635Z"
   },
   {
    "duration": 306,
    "start_time": "2022-02-09T17:33:44.561Z"
   },
   {
    "duration": 304,
    "start_time": "2022-02-09T17:33:44.564Z"
   },
   {
    "duration": 303,
    "start_time": "2022-02-09T17:33:44.566Z"
   },
   {
    "duration": 299,
    "start_time": "2022-02-09T17:33:44.570Z"
   },
   {
    "duration": 299,
    "start_time": "2022-02-09T17:33:44.571Z"
   },
   {
    "duration": 298,
    "start_time": "2022-02-09T17:33:44.573Z"
   },
   {
    "duration": 297,
    "start_time": "2022-02-09T17:33:44.575Z"
   },
   {
    "duration": 296,
    "start_time": "2022-02-09T17:33:44.577Z"
   },
   {
    "duration": 295,
    "start_time": "2022-02-09T17:33:44.579Z"
   },
   {
    "duration": 294,
    "start_time": "2022-02-09T17:33:44.581Z"
   },
   {
    "duration": 293,
    "start_time": "2022-02-09T17:33:44.583Z"
   },
   {
    "duration": 10,
    "start_time": "2022-02-09T17:34:55.154Z"
   },
   {
    "duration": 10,
    "start_time": "2022-02-09T17:35:19.369Z"
   },
   {
    "duration": 10,
    "start_time": "2022-02-09T17:35:43.754Z"
   },
   {
    "duration": 28,
    "start_time": "2022-02-09T17:36:15.464Z"
   },
   {
    "duration": 11,
    "start_time": "2022-02-09T17:36:38.186Z"
   },
   {
    "duration": 47,
    "start_time": "2022-02-09T17:37:48.165Z"
   },
   {
    "duration": 4,
    "start_time": "2022-02-09T17:38:04.740Z"
   },
   {
    "duration": 10,
    "start_time": "2022-02-09T17:38:15.376Z"
   },
   {
    "duration": 365,
    "start_time": "2022-02-09T17:38:27.324Z"
   },
   {
    "duration": 20,
    "start_time": "2022-02-09T17:38:52.740Z"
   },
   {
    "duration": 10,
    "start_time": "2022-02-09T17:40:32.173Z"
   },
   {
    "duration": 4,
    "start_time": "2022-02-09T17:40:48.967Z"
   },
   {
    "duration": 15,
    "start_time": "2022-02-09T17:46:34.330Z"
   },
   {
    "duration": 10,
    "start_time": "2022-02-09T17:46:41.057Z"
   },
   {
    "duration": 5,
    "start_time": "2022-02-09T17:46:43.106Z"
   },
   {
    "duration": 15,
    "start_time": "2022-02-09T17:46:54.898Z"
   },
   {
    "duration": 10,
    "start_time": "2022-02-09T17:46:57.210Z"
   },
   {
    "duration": 4,
    "start_time": "2022-02-09T17:46:58.834Z"
   },
   {
    "duration": 16,
    "start_time": "2022-02-09T17:47:00.579Z"
   },
   {
    "duration": 11,
    "start_time": "2022-02-09T17:47:00.746Z"
   },
   {
    "duration": 4,
    "start_time": "2022-02-09T17:47:00.926Z"
   },
   {
    "duration": 112,
    "start_time": "2022-02-09T17:47:01.658Z"
   },
   {
    "duration": 14,
    "start_time": "2022-02-09T17:47:38.155Z"
   },
   {
    "duration": 12,
    "start_time": "2022-02-09T17:47:42.858Z"
   },
   {
    "duration": 4,
    "start_time": "2022-02-09T17:47:43.931Z"
   },
   {
    "duration": 14,
    "start_time": "2022-02-09T17:47:51.355Z"
   },
   {
    "duration": 10,
    "start_time": "2022-02-09T17:47:52.211Z"
   },
   {
    "duration": 4,
    "start_time": "2022-02-09T17:47:53.194Z"
   },
   {
    "duration": 108,
    "start_time": "2022-02-09T17:47:54.659Z"
   },
   {
    "duration": 15,
    "start_time": "2022-02-09T17:49:52.493Z"
   },
   {
    "duration": 10,
    "start_time": "2022-02-09T17:49:53.276Z"
   },
   {
    "duration": 4,
    "start_time": "2022-02-09T17:49:53.445Z"
   },
   {
    "duration": 15,
    "start_time": "2022-02-09T17:49:53.805Z"
   },
   {
    "duration": 10,
    "start_time": "2022-02-09T17:49:53.996Z"
   },
   {
    "duration": 5,
    "start_time": "2022-02-09T17:49:54.180Z"
   },
   {
    "duration": 14,
    "start_time": "2022-02-09T17:49:54.685Z"
   },
   {
    "duration": 10,
    "start_time": "2022-02-09T17:49:54.845Z"
   },
   {
    "duration": 4,
    "start_time": "2022-02-09T17:49:55.004Z"
   },
   {
    "duration": 137,
    "start_time": "2022-02-09T17:49:55.365Z"
   },
   {
    "duration": 102,
    "start_time": "2022-02-09T17:49:55.567Z"
   },
   {
    "duration": 112,
    "start_time": "2022-02-09T17:49:55.764Z"
   },
   {
    "duration": 105,
    "start_time": "2022-02-09T17:49:55.963Z"
   },
   {
    "duration": 17,
    "start_time": "2022-02-09T18:21:59.055Z"
   },
   {
    "duration": 16,
    "start_time": "2022-02-09T18:22:34.766Z"
   },
   {
    "duration": 318,
    "start_time": "2022-02-09T19:04:42.342Z"
   },
   {
    "duration": 316,
    "start_time": "2022-02-09T19:04:53.734Z"
   },
   {
    "duration": 367,
    "start_time": "2022-02-09T19:12:34.243Z"
   },
   {
    "duration": 335,
    "start_time": "2022-02-09T19:49:17.616Z"
   },
   {
    "duration": 7851,
    "start_time": "2022-02-09T19:56:05.879Z"
   },
   {
    "duration": 328,
    "start_time": "2022-02-09T20:01:05.083Z"
   },
   {
    "duration": 21,
    "start_time": "2022-02-09T20:01:41.500Z"
   },
   {
    "duration": 7997,
    "start_time": "2022-02-09T20:02:41.572Z"
   },
   {
    "duration": 339,
    "start_time": "2022-02-09T20:04:21.493Z"
   },
   {
    "duration": 22,
    "start_time": "2022-02-09T20:04:30.078Z"
   },
   {
    "duration": 23,
    "start_time": "2022-02-09T20:04:42.285Z"
   },
   {
    "duration": 428,
    "start_time": "2022-02-09T20:51:24.096Z"
   },
   {
    "duration": 1131,
    "start_time": "2022-02-09T20:53:03.202Z"
   },
   {
    "duration": 982,
    "start_time": "2022-02-09T20:53:51.787Z"
   },
   {
    "duration": 1021,
    "start_time": "2022-02-09T20:54:28.027Z"
   },
   {
    "duration": 981,
    "start_time": "2022-02-09T20:54:48.307Z"
   },
   {
    "duration": 1135,
    "start_time": "2022-02-09T20:55:03.450Z"
   },
   {
    "duration": 1124,
    "start_time": "2022-02-09T20:55:14.706Z"
   },
   {
    "duration": 13,
    "start_time": "2022-02-09T21:10:50.254Z"
   },
   {
    "duration": 15,
    "start_time": "2022-02-09T21:11:01.693Z"
   },
   {
    "duration": 602,
    "start_time": "2022-02-09T21:11:25.895Z"
   },
   {
    "duration": 394,
    "start_time": "2022-02-09T21:11:26.499Z"
   },
   {
    "duration": 2,
    "start_time": "2022-02-09T21:11:26.895Z"
   },
   {
    "duration": 55,
    "start_time": "2022-02-09T21:11:26.899Z"
   },
   {
    "duration": 31,
    "start_time": "2022-02-09T21:11:26.955Z"
   },
   {
    "duration": 6,
    "start_time": "2022-02-09T21:11:26.987Z"
   },
   {
    "duration": 39,
    "start_time": "2022-02-09T21:11:26.994Z"
   },
   {
    "duration": 29,
    "start_time": "2022-02-09T21:11:27.035Z"
   },
   {
    "duration": 9,
    "start_time": "2022-02-09T21:11:27.066Z"
   },
   {
    "duration": 60,
    "start_time": "2022-02-09T21:11:27.077Z"
   },
   {
    "duration": 24,
    "start_time": "2022-02-09T21:11:27.138Z"
   },
   {
    "duration": 15,
    "start_time": "2022-02-09T21:11:27.164Z"
   },
   {
    "duration": 48,
    "start_time": "2022-02-09T21:11:27.180Z"
   },
   {
    "duration": 4,
    "start_time": "2022-02-09T21:11:27.229Z"
   },
   {
    "duration": 8,
    "start_time": "2022-02-09T21:11:27.234Z"
   },
   {
    "duration": 13,
    "start_time": "2022-02-09T21:11:27.244Z"
   },
   {
    "duration": 9,
    "start_time": "2022-02-09T21:11:27.258Z"
   },
   {
    "duration": 3,
    "start_time": "2022-02-09T21:11:27.269Z"
   },
   {
    "duration": 13,
    "start_time": "2022-02-09T21:11:27.273Z"
   },
   {
    "duration": 40,
    "start_time": "2022-02-09T21:11:27.288Z"
   },
   {
    "duration": 4,
    "start_time": "2022-02-09T21:11:27.330Z"
   },
   {
    "duration": 16,
    "start_time": "2022-02-09T21:11:27.335Z"
   },
   {
    "duration": 9,
    "start_time": "2022-02-09T21:11:27.353Z"
   },
   {
    "duration": 4,
    "start_time": "2022-02-09T21:11:27.364Z"
   },
   {
    "duration": 1267,
    "start_time": "2022-02-09T21:11:27.369Z"
   },
   {
    "duration": 390,
    "start_time": "2022-02-09T21:11:28.638Z"
   },
   {
    "duration": 1523,
    "start_time": "2022-02-09T21:11:27.507Z"
   },
   {
    "duration": 1519,
    "start_time": "2022-02-09T21:11:27.512Z"
   },
   {
    "duration": 1164,
    "start_time": "2022-02-09T21:12:57.869Z"
   },
   {
    "duration": 8864,
    "start_time": "2022-02-09T21:21:11.571Z"
   },
   {
    "duration": 8388,
    "start_time": "2022-02-09T21:21:30.380Z"
   },
   {
    "duration": 61,
    "start_time": "2022-02-09T21:23:19.702Z"
   },
   {
    "duration": 558,
    "start_time": "2022-02-09T21:23:24.987Z"
   },
   {
    "duration": 365,
    "start_time": "2022-02-09T21:23:25.546Z"
   },
   {
    "duration": 2,
    "start_time": "2022-02-09T21:23:25.913Z"
   },
   {
    "duration": 55,
    "start_time": "2022-02-09T21:23:25.917Z"
   },
   {
    "duration": 32,
    "start_time": "2022-02-09T21:23:25.974Z"
   },
   {
    "duration": 6,
    "start_time": "2022-02-09T21:23:26.007Z"
   },
   {
    "duration": 37,
    "start_time": "2022-02-09T21:23:26.015Z"
   },
   {
    "duration": 28,
    "start_time": "2022-02-09T21:23:26.055Z"
   },
   {
    "duration": 9,
    "start_time": "2022-02-09T21:23:26.085Z"
   },
   {
    "duration": 61,
    "start_time": "2022-02-09T21:23:26.096Z"
   },
   {
    "duration": 24,
    "start_time": "2022-02-09T21:23:26.159Z"
   },
   {
    "duration": 15,
    "start_time": "2022-02-09T21:23:26.185Z"
   },
   {
    "duration": 44,
    "start_time": "2022-02-09T21:23:26.202Z"
   },
   {
    "duration": 3,
    "start_time": "2022-02-09T21:23:26.248Z"
   },
   {
    "duration": 10,
    "start_time": "2022-02-09T21:23:26.252Z"
   },
   {
    "duration": 71,
    "start_time": "2022-02-09T21:23:26.264Z"
   },
   {
    "duration": 15,
    "start_time": "2022-02-09T21:23:26.337Z"
   },
   {
    "duration": 10,
    "start_time": "2022-02-09T21:23:26.353Z"
   },
   {
    "duration": 6,
    "start_time": "2022-02-09T21:23:26.365Z"
   },
   {
    "duration": 15,
    "start_time": "2022-02-09T21:23:26.372Z"
   },
   {
    "duration": 38,
    "start_time": "2022-02-09T21:23:26.389Z"
   },
   {
    "duration": 3,
    "start_time": "2022-02-09T21:23:26.428Z"
   },
   {
    "duration": 17,
    "start_time": "2022-02-09T21:23:26.434Z"
   },
   {
    "duration": 9,
    "start_time": "2022-02-09T21:23:26.453Z"
   },
   {
    "duration": 15,
    "start_time": "2022-02-09T21:23:26.464Z"
   },
   {
    "duration": 1259,
    "start_time": "2022-02-09T21:23:26.480Z"
   },
   {
    "duration": 1159,
    "start_time": "2022-02-09T21:23:27.741Z"
   },
   {
    "duration": 107,
    "start_time": "2022-02-09T21:23:28.902Z"
   },
   {
    "duration": 1551,
    "start_time": "2022-02-09T21:23:27.460Z"
   },
   {
    "duration": 516,
    "start_time": "2022-02-09T21:24:14.146Z"
   },
   {
    "duration": 383,
    "start_time": "2022-02-09T21:26:58.514Z"
   },
   {
    "duration": 329,
    "start_time": "2022-02-09T21:28:29.531Z"
   },
   {
    "duration": 10,
    "start_time": "2022-02-09T21:28:36.581Z"
   },
   {
    "duration": 20,
    "start_time": "2022-02-09T21:29:20.390Z"
   },
   {
    "duration": 523,
    "start_time": "2022-02-09T21:29:48.405Z"
   },
   {
    "duration": 830,
    "start_time": "2022-02-09T21:30:06.356Z"
   },
   {
    "duration": 811,
    "start_time": "2022-02-09T21:30:16.580Z"
   },
   {
    "duration": 514,
    "start_time": "2022-02-09T21:30:28.717Z"
   },
   {
    "duration": 435,
    "start_time": "2022-02-09T21:40:40.609Z"
   },
   {
    "duration": 514,
    "start_time": "2022-02-09T21:40:44.437Z"
   },
   {
    "duration": 15,
    "start_time": "2022-02-09T21:40:45.189Z"
   },
   {
    "duration": 23,
    "start_time": "2022-02-09T21:41:06.206Z"
   },
   {
    "duration": 512,
    "start_time": "2022-02-09T21:41:06.952Z"
   },
   {
    "duration": 24,
    "start_time": "2022-02-09T21:46:54.098Z"
   },
   {
    "duration": 514,
    "start_time": "2022-02-09T21:46:56.083Z"
   },
   {
    "duration": 591,
    "start_time": "2022-02-09T21:47:07.716Z"
   },
   {
    "duration": 377,
    "start_time": "2022-02-09T21:47:08.309Z"
   },
   {
    "duration": 2,
    "start_time": "2022-02-09T21:47:08.688Z"
   },
   {
    "duration": 55,
    "start_time": "2022-02-09T21:47:08.692Z"
   },
   {
    "duration": 34,
    "start_time": "2022-02-09T21:47:08.748Z"
   },
   {
    "duration": 6,
    "start_time": "2022-02-09T21:47:08.783Z"
   },
   {
    "duration": 44,
    "start_time": "2022-02-09T21:47:08.791Z"
   },
   {
    "duration": 30,
    "start_time": "2022-02-09T21:47:08.838Z"
   },
   {
    "duration": 13,
    "start_time": "2022-02-09T21:47:08.869Z"
   },
   {
    "duration": 62,
    "start_time": "2022-02-09T21:47:08.883Z"
   },
   {
    "duration": 25,
    "start_time": "2022-02-09T21:47:08.947Z"
   },
   {
    "duration": 14,
    "start_time": "2022-02-09T21:47:08.973Z"
   },
   {
    "duration": 44,
    "start_time": "2022-02-09T21:47:08.989Z"
   },
   {
    "duration": 3,
    "start_time": "2022-02-09T21:47:09.035Z"
   },
   {
    "duration": 11,
    "start_time": "2022-02-09T21:47:09.039Z"
   },
   {
    "duration": 403,
    "start_time": "2022-02-09T21:47:09.051Z"
   },
   {
    "duration": 1517,
    "start_time": "2022-02-09T21:47:07.939Z"
   },
   {
    "duration": 1515,
    "start_time": "2022-02-09T21:47:07.942Z"
   },
   {
    "duration": 1513,
    "start_time": "2022-02-09T21:47:07.945Z"
   },
   {
    "duration": 1512,
    "start_time": "2022-02-09T21:47:07.947Z"
   },
   {
    "duration": 1511,
    "start_time": "2022-02-09T21:47:07.949Z"
   },
   {
    "duration": 1510,
    "start_time": "2022-02-09T21:47:07.951Z"
   },
   {
    "duration": 1509,
    "start_time": "2022-02-09T21:47:07.953Z"
   },
   {
    "duration": 1508,
    "start_time": "2022-02-09T21:47:07.955Z"
   },
   {
    "duration": 1506,
    "start_time": "2022-02-09T21:47:07.958Z"
   },
   {
    "duration": 1505,
    "start_time": "2022-02-09T21:47:07.960Z"
   },
   {
    "duration": 1503,
    "start_time": "2022-02-09T21:47:07.962Z"
   },
   {
    "duration": 1502,
    "start_time": "2022-02-09T21:47:07.964Z"
   },
   {
    "duration": 1501,
    "start_time": "2022-02-09T21:47:07.966Z"
   },
   {
    "duration": 1500,
    "start_time": "2022-02-09T21:47:07.968Z"
   },
   {
    "duration": 113,
    "start_time": "2022-02-09T21:48:29.513Z"
   },
   {
    "duration": 331,
    "start_time": "2022-02-09T21:48:39.050Z"
   },
   {
    "duration": 344,
    "start_time": "2022-02-09T21:50:41.718Z"
   },
   {
    "duration": 8043,
    "start_time": "2022-02-09T21:52:00.368Z"
   },
   {
    "duration": 591,
    "start_time": "2022-02-09T21:52:31.543Z"
   },
   {
    "duration": 369,
    "start_time": "2022-02-09T21:52:32.136Z"
   },
   {
    "duration": 3,
    "start_time": "2022-02-09T21:52:32.506Z"
   },
   {
    "duration": 57,
    "start_time": "2022-02-09T21:52:32.510Z"
   },
   {
    "duration": 31,
    "start_time": "2022-02-09T21:52:32.568Z"
   },
   {
    "duration": 5,
    "start_time": "2022-02-09T21:52:32.601Z"
   },
   {
    "duration": 38,
    "start_time": "2022-02-09T21:52:32.608Z"
   },
   {
    "duration": 29,
    "start_time": "2022-02-09T21:52:32.648Z"
   },
   {
    "duration": 10,
    "start_time": "2022-02-09T21:52:32.678Z"
   },
   {
    "duration": 57,
    "start_time": "2022-02-09T21:52:32.689Z"
   },
   {
    "duration": 23,
    "start_time": "2022-02-09T21:52:32.748Z"
   },
   {
    "duration": 14,
    "start_time": "2022-02-09T21:52:32.773Z"
   },
   {
    "duration": 45,
    "start_time": "2022-02-09T21:52:32.789Z"
   },
   {
    "duration": 3,
    "start_time": "2022-02-09T21:52:32.835Z"
   },
   {
    "duration": 11,
    "start_time": "2022-02-09T21:52:32.839Z"
   },
   {
    "duration": 8575,
    "start_time": "2022-02-09T21:52:32.851Z"
   },
   {
    "duration": 1513,
    "start_time": "2022-02-09T21:52:39.915Z"
   },
   {
    "duration": 1509,
    "start_time": "2022-02-09T21:52:39.920Z"
   },
   {
    "duration": 1508,
    "start_time": "2022-02-09T21:52:39.922Z"
   },
   {
    "duration": 1506,
    "start_time": "2022-02-09T21:52:39.925Z"
   },
   {
    "duration": 1504,
    "start_time": "2022-02-09T21:52:39.927Z"
   },
   {
    "duration": 1502,
    "start_time": "2022-02-09T21:52:39.930Z"
   },
   {
    "duration": 1501,
    "start_time": "2022-02-09T21:52:39.932Z"
   },
   {
    "duration": 1499,
    "start_time": "2022-02-09T21:52:39.935Z"
   },
   {
    "duration": 1497,
    "start_time": "2022-02-09T21:52:39.937Z"
   },
   {
    "duration": 1496,
    "start_time": "2022-02-09T21:52:39.939Z"
   },
   {
    "duration": 1495,
    "start_time": "2022-02-09T21:52:39.941Z"
   },
   {
    "duration": 1494,
    "start_time": "2022-02-09T21:52:39.943Z"
   },
   {
    "duration": 1492,
    "start_time": "2022-02-09T21:52:39.946Z"
   },
   {
    "duration": 1490,
    "start_time": "2022-02-09T21:52:39.948Z"
   },
   {
    "duration": 747,
    "start_time": "2022-02-10T13:10:45.122Z"
   },
   {
    "duration": 479,
    "start_time": "2022-02-10T13:10:45.871Z"
   },
   {
    "duration": 4,
    "start_time": "2022-02-10T13:10:46.352Z"
   },
   {
    "duration": 99,
    "start_time": "2022-02-10T13:10:46.358Z"
   },
   {
    "duration": 45,
    "start_time": "2022-02-10T13:10:46.460Z"
   },
   {
    "duration": 10,
    "start_time": "2022-02-10T13:10:46.508Z"
   },
   {
    "duration": 69,
    "start_time": "2022-02-10T13:10:46.521Z"
   },
   {
    "duration": 61,
    "start_time": "2022-02-10T13:10:46.594Z"
   },
   {
    "duration": 15,
    "start_time": "2022-02-10T13:10:46.658Z"
   },
   {
    "duration": 84,
    "start_time": "2022-02-10T13:10:46.675Z"
   },
   {
    "duration": 37,
    "start_time": "2022-02-10T13:10:46.761Z"
   },
   {
    "duration": 50,
    "start_time": "2022-02-10T13:10:46.800Z"
   },
   {
    "duration": 52,
    "start_time": "2022-02-10T13:10:46.852Z"
   },
   {
    "duration": 5,
    "start_time": "2022-02-10T13:10:46.906Z"
   },
   {
    "duration": 45,
    "start_time": "2022-02-10T13:10:46.913Z"
   },
   {
    "duration": 7772,
    "start_time": "2022-02-10T13:10:46.960Z"
   },
   {
    "duration": 177,
    "start_time": "2022-02-10T13:10:54.559Z"
   },
   {
    "duration": 176,
    "start_time": "2022-02-10T13:10:54.561Z"
   },
   {
    "duration": 172,
    "start_time": "2022-02-10T13:10:54.566Z"
   },
   {
    "duration": 171,
    "start_time": "2022-02-10T13:10:54.568Z"
   },
   {
    "duration": 169,
    "start_time": "2022-02-10T13:10:54.571Z"
   },
   {
    "duration": 168,
    "start_time": "2022-02-10T13:10:54.574Z"
   },
   {
    "duration": 166,
    "start_time": "2022-02-10T13:10:54.577Z"
   },
   {
    "duration": 165,
    "start_time": "2022-02-10T13:10:54.579Z"
   },
   {
    "duration": 164,
    "start_time": "2022-02-10T13:10:54.581Z"
   },
   {
    "duration": 163,
    "start_time": "2022-02-10T13:10:54.584Z"
   },
   {
    "duration": 162,
    "start_time": "2022-02-10T13:10:54.586Z"
   },
   {
    "duration": 161,
    "start_time": "2022-02-10T13:10:54.588Z"
   },
   {
    "duration": 159,
    "start_time": "2022-02-10T13:10:54.591Z"
   },
   {
    "duration": 158,
    "start_time": "2022-02-10T13:10:54.593Z"
   },
   {
    "duration": 721,
    "start_time": "2022-02-10T13:16:08.405Z"
   },
   {
    "duration": 480,
    "start_time": "2022-02-10T13:16:09.133Z"
   },
   {
    "duration": 3,
    "start_time": "2022-02-10T13:16:09.616Z"
   },
   {
    "duration": 82,
    "start_time": "2022-02-10T13:16:09.621Z"
   },
   {
    "duration": 59,
    "start_time": "2022-02-10T13:16:09.706Z"
   },
   {
    "duration": 9,
    "start_time": "2022-02-10T13:16:09.768Z"
   },
   {
    "duration": 67,
    "start_time": "2022-02-10T13:16:09.781Z"
   },
   {
    "duration": 42,
    "start_time": "2022-02-10T13:16:09.851Z"
   },
   {
    "duration": 18,
    "start_time": "2022-02-10T13:16:09.895Z"
   },
   {
    "duration": 91,
    "start_time": "2022-02-10T13:16:09.915Z"
   },
   {
    "duration": 49,
    "start_time": "2022-02-10T13:16:10.009Z"
   },
   {
    "duration": 28,
    "start_time": "2022-02-10T13:16:10.060Z"
   },
   {
    "duration": 81,
    "start_time": "2022-02-10T13:16:10.090Z"
   },
   {
    "duration": 6,
    "start_time": "2022-02-10T13:16:10.173Z"
   },
   {
    "duration": 16,
    "start_time": "2022-02-10T13:16:10.181Z"
   },
   {
    "duration": 3,
    "start_time": "2022-02-10T13:16:10.200Z"
   },
   {
    "duration": 61,
    "start_time": "2022-02-10T13:16:10.205Z"
   },
   {
    "duration": 16,
    "start_time": "2022-02-10T13:16:10.269Z"
   },
   {
    "duration": 12,
    "start_time": "2022-02-10T13:16:10.287Z"
   },
   {
    "duration": 51,
    "start_time": "2022-02-10T13:16:10.301Z"
   },
   {
    "duration": 16,
    "start_time": "2022-02-10T13:16:10.355Z"
   },
   {
    "duration": 6,
    "start_time": "2022-02-10T13:16:10.376Z"
   },
   {
    "duration": 24,
    "start_time": "2022-02-10T13:16:10.385Z"
   },
   {
    "duration": 50,
    "start_time": "2022-02-10T13:16:10.411Z"
   },
   {
    "duration": 11,
    "start_time": "2022-02-10T13:16:10.463Z"
   },
   {
    "duration": 2280,
    "start_time": "2022-02-10T13:16:10.477Z"
   },
   {
    "duration": 2148,
    "start_time": "2022-02-10T13:16:12.761Z"
   },
   {
    "duration": 118,
    "start_time": "2022-02-10T13:16:14.912Z"
   },
   {
    "duration": 241,
    "start_time": "2022-02-10T13:16:14.791Z"
   },
   {
    "duration": 16,
    "start_time": "2022-02-10T13:21:14.780Z"
   },
   {
    "duration": 8220,
    "start_time": "2022-02-10T13:24:44.057Z"
   },
   {
    "duration": 7711,
    "start_time": "2022-02-10T13:25:15.399Z"
   },
   {
    "duration": 4127,
    "start_time": "2022-02-10T13:27:56.434Z"
   },
   {
    "duration": 4465,
    "start_time": "2022-02-10T13:28:33.026Z"
   },
   {
    "duration": 485,
    "start_time": "2022-02-10T13:28:49.169Z"
   },
   {
    "duration": 773,
    "start_time": "2022-02-10T13:29:47.186Z"
   },
   {
    "duration": 482,
    "start_time": "2022-02-10T13:30:13.402Z"
   },
   {
    "duration": 572,
    "start_time": "2022-02-10T13:30:25.402Z"
   },
   {
    "duration": 788,
    "start_time": "2022-02-10T13:30:36.722Z"
   },
   {
    "duration": 485,
    "start_time": "2022-02-10T13:30:49.451Z"
   },
   {
    "duration": 541,
    "start_time": "2022-02-10T13:31:05.021Z"
   },
   {
    "duration": 277,
    "start_time": "2022-02-10T13:31:12.892Z"
   },
   {
    "duration": 15,
    "start_time": "2022-02-10T13:31:32.916Z"
   },
   {
    "duration": 14,
    "start_time": "2022-02-10T13:33:01.869Z"
   },
   {
    "duration": 738,
    "start_time": "2022-02-10T13:33:27.092Z"
   },
   {
    "duration": 474,
    "start_time": "2022-02-10T13:33:27.832Z"
   },
   {
    "duration": 4,
    "start_time": "2022-02-10T13:33:28.309Z"
   },
   {
    "duration": 97,
    "start_time": "2022-02-10T13:33:28.316Z"
   },
   {
    "duration": 56,
    "start_time": "2022-02-10T13:33:28.415Z"
   },
   {
    "duration": 11,
    "start_time": "2022-02-10T13:33:28.473Z"
   },
   {
    "duration": 68,
    "start_time": "2022-02-10T13:33:28.486Z"
   },
   {
    "duration": 44,
    "start_time": "2022-02-10T13:33:28.559Z"
   },
   {
    "duration": 15,
    "start_time": "2022-02-10T13:33:28.606Z"
   },
   {
    "duration": 87,
    "start_time": "2022-02-10T13:33:28.624Z"
   },
   {
    "duration": 54,
    "start_time": "2022-02-10T13:33:28.714Z"
   },
   {
    "duration": 27,
    "start_time": "2022-02-10T13:33:28.771Z"
   },
   {
    "duration": 76,
    "start_time": "2022-02-10T13:33:28.801Z"
   },
   {
    "duration": 5,
    "start_time": "2022-02-10T13:33:28.879Z"
   },
   {
    "duration": 18,
    "start_time": "2022-02-10T13:33:28.887Z"
   },
   {
    "duration": 13,
    "start_time": "2022-02-10T13:33:28.907Z"
   },
   {
    "duration": 49,
    "start_time": "2022-02-10T13:33:28.923Z"
   },
   {
    "duration": 15,
    "start_time": "2022-02-10T13:33:28.974Z"
   },
   {
    "duration": 7,
    "start_time": "2022-02-10T13:33:28.992Z"
   },
   {
    "duration": 53,
    "start_time": "2022-02-10T13:33:29.001Z"
   },
   {
    "duration": 17,
    "start_time": "2022-02-10T13:33:29.056Z"
   },
   {
    "duration": 18,
    "start_time": "2022-02-10T13:33:29.075Z"
   },
   {
    "duration": 23,
    "start_time": "2022-02-10T13:33:29.098Z"
   },
   {
    "duration": 37,
    "start_time": "2022-02-10T13:33:29.124Z"
   },
   {
    "duration": 5,
    "start_time": "2022-02-10T13:33:29.163Z"
   },
   {
    "duration": 2285,
    "start_time": "2022-02-10T13:33:29.171Z"
   },
   {
    "duration": 1968,
    "start_time": "2022-02-10T13:33:31.459Z"
   },
   {
    "duration": 390,
    "start_time": "2022-02-10T13:33:33.430Z"
   },
   {
    "duration": 232,
    "start_time": "2022-02-10T13:33:33.591Z"
   },
   {
    "duration": 229,
    "start_time": "2022-02-10T13:33:33.595Z"
   },
   {
    "duration": 307,
    "start_time": "2022-02-10T13:37:31.248Z"
   },
   {
    "duration": 405,
    "start_time": "2022-02-10T13:37:50.230Z"
   },
   {
    "duration": 255,
    "start_time": "2022-02-10T13:38:33.188Z"
   },
   {
    "duration": 274,
    "start_time": "2022-02-10T13:38:45.335Z"
   },
   {
    "duration": 8356,
    "start_time": "2022-02-10T13:38:58.863Z"
   },
   {
    "duration": 8115,
    "start_time": "2022-02-10T13:40:25.872Z"
   },
   {
    "duration": 9360,
    "start_time": "2022-02-10T13:41:24.508Z"
   },
   {
    "duration": 1989,
    "start_time": "2022-02-10T13:49:55.972Z"
   },
   {
    "duration": 882,
    "start_time": "2022-02-10T13:50:34.541Z"
   },
   {
    "duration": 506,
    "start_time": "2022-02-10T13:50:35.426Z"
   },
   {
    "duration": 4,
    "start_time": "2022-02-10T13:50:35.941Z"
   },
   {
    "duration": 85,
    "start_time": "2022-02-10T13:50:35.949Z"
   },
   {
    "duration": 49,
    "start_time": "2022-02-10T13:50:36.049Z"
   },
   {
    "duration": 10,
    "start_time": "2022-02-10T13:50:36.100Z"
   },
   {
    "duration": 75,
    "start_time": "2022-02-10T13:50:36.114Z"
   },
   {
    "duration": 62,
    "start_time": "2022-02-10T13:50:36.191Z"
   },
   {
    "duration": 19,
    "start_time": "2022-02-10T13:50:36.255Z"
   },
   {
    "duration": 77,
    "start_time": "2022-02-10T13:50:36.277Z"
   },
   {
    "duration": 40,
    "start_time": "2022-02-10T13:50:36.357Z"
   },
   {
    "duration": 56,
    "start_time": "2022-02-10T13:50:36.399Z"
   },
   {
    "duration": 56,
    "start_time": "2022-02-10T13:50:36.458Z"
   },
   {
    "duration": 5,
    "start_time": "2022-02-10T13:50:36.516Z"
   },
   {
    "duration": 34,
    "start_time": "2022-02-10T13:50:36.524Z"
   },
   {
    "duration": 1389,
    "start_time": "2022-02-10T13:50:36.561Z"
   },
   {
    "duration": 229,
    "start_time": "2022-02-10T13:50:37.724Z"
   },
   {
    "duration": 221,
    "start_time": "2022-02-10T13:50:37.733Z"
   },
   {
    "duration": 217,
    "start_time": "2022-02-10T13:50:37.739Z"
   },
   {
    "duration": 216,
    "start_time": "2022-02-10T13:50:37.743Z"
   },
   {
    "duration": 211,
    "start_time": "2022-02-10T13:50:37.749Z"
   },
   {
    "duration": 208,
    "start_time": "2022-02-10T13:50:37.753Z"
   },
   {
    "duration": 208,
    "start_time": "2022-02-10T13:50:37.755Z"
   },
   {
    "duration": 207,
    "start_time": "2022-02-10T13:50:37.757Z"
   },
   {
    "duration": 206,
    "start_time": "2022-02-10T13:50:37.759Z"
   },
   {
    "duration": 206,
    "start_time": "2022-02-10T13:50:37.761Z"
   },
   {
    "duration": 204,
    "start_time": "2022-02-10T13:50:37.764Z"
   },
   {
    "duration": 202,
    "start_time": "2022-02-10T13:50:37.767Z"
   },
   {
    "duration": 201,
    "start_time": "2022-02-10T13:50:37.770Z"
   },
   {
    "duration": 9,
    "start_time": "2022-02-10T13:51:22.832Z"
   },
   {
    "duration": 20,
    "start_time": "2022-02-10T13:51:28.919Z"
   },
   {
    "duration": 31,
    "start_time": "2022-02-10T13:51:46.711Z"
   },
   {
    "duration": 38,
    "start_time": "2022-02-10T13:52:23.713Z"
   },
   {
    "duration": 37,
    "start_time": "2022-02-10T13:52:55.459Z"
   },
   {
    "duration": 62,
    "start_time": "2022-02-10T13:53:06.921Z"
   },
   {
    "duration": 62,
    "start_time": "2022-02-10T13:53:25.652Z"
   },
   {
    "duration": 1927,
    "start_time": "2022-02-10T13:53:38.211Z"
   },
   {
    "duration": 102,
    "start_time": "2022-02-10T13:54:15.453Z"
   },
   {
    "duration": 63,
    "start_time": "2022-02-10T13:55:50.622Z"
   },
   {
    "duration": 879,
    "start_time": "2022-02-10T13:56:18.729Z"
   },
   {
    "duration": 517,
    "start_time": "2022-02-10T13:56:19.610Z"
   },
   {
    "duration": 4,
    "start_time": "2022-02-10T13:56:20.130Z"
   },
   {
    "duration": 92,
    "start_time": "2022-02-10T13:56:20.137Z"
   },
   {
    "duration": 55,
    "start_time": "2022-02-10T13:56:20.231Z"
   },
   {
    "duration": 10,
    "start_time": "2022-02-10T13:56:20.289Z"
   },
   {
    "duration": 71,
    "start_time": "2022-02-10T13:56:20.301Z"
   },
   {
    "duration": 45,
    "start_time": "2022-02-10T13:56:20.375Z"
   },
   {
    "duration": 36,
    "start_time": "2022-02-10T13:56:20.423Z"
   },
   {
    "duration": 89,
    "start_time": "2022-02-10T13:56:20.461Z"
   },
   {
    "duration": 39,
    "start_time": "2022-02-10T13:56:20.553Z"
   },
   {
    "duration": 58,
    "start_time": "2022-02-10T13:56:20.594Z"
   },
   {
    "duration": 56,
    "start_time": "2022-02-10T13:56:20.656Z"
   },
   {
    "duration": 5,
    "start_time": "2022-02-10T13:56:20.714Z"
   },
   {
    "duration": 17,
    "start_time": "2022-02-10T13:56:20.749Z"
   },
   {
    "duration": 10296,
    "start_time": "2022-02-10T13:56:20.769Z"
   },
   {
    "duration": 207,
    "start_time": "2022-02-10T13:56:30.861Z"
   },
   {
    "duration": 200,
    "start_time": "2022-02-10T13:56:30.869Z"
   },
   {
    "duration": 199,
    "start_time": "2022-02-10T13:56:30.873Z"
   },
   {
    "duration": 198,
    "start_time": "2022-02-10T13:56:30.875Z"
   },
   {
    "duration": 197,
    "start_time": "2022-02-10T13:56:30.878Z"
   },
   {
    "duration": 194,
    "start_time": "2022-02-10T13:56:30.882Z"
   },
   {
    "duration": 191,
    "start_time": "2022-02-10T13:56:30.886Z"
   },
   {
    "duration": 191,
    "start_time": "2022-02-10T13:56:30.888Z"
   },
   {
    "duration": 190,
    "start_time": "2022-02-10T13:56:30.890Z"
   },
   {
    "duration": 189,
    "start_time": "2022-02-10T13:56:30.892Z"
   },
   {
    "duration": 189,
    "start_time": "2022-02-10T13:56:30.894Z"
   },
   {
    "duration": 188,
    "start_time": "2022-02-10T13:56:30.897Z"
   },
   {
    "duration": 186,
    "start_time": "2022-02-10T13:56:30.900Z"
   },
   {
    "duration": 7910,
    "start_time": "2022-02-10T13:57:49.923Z"
   },
   {
    "duration": 8340,
    "start_time": "2022-02-10T13:58:28.018Z"
   },
   {
    "duration": 7411,
    "start_time": "2022-02-10T13:59:08.528Z"
   },
   {
    "duration": 6877,
    "start_time": "2022-02-10T14:00:41.077Z"
   },
   {
    "duration": 1339,
    "start_time": "2022-02-10T14:02:03.010Z"
   },
   {
    "duration": 1864,
    "start_time": "2022-02-10T14:02:20.561Z"
   },
   {
    "duration": 483,
    "start_time": "2022-02-10T14:09:21.506Z"
   },
   {
    "duration": 8701,
    "start_time": "2022-02-10T14:09:48.608Z"
   },
   {
    "duration": 8466,
    "start_time": "2022-02-10T14:10:02.872Z"
   },
   {
    "duration": 908,
    "start_time": "2022-02-10T14:11:27.644Z"
   },
   {
    "duration": 487,
    "start_time": "2022-02-10T14:11:28.555Z"
   },
   {
    "duration": 4,
    "start_time": "2022-02-10T14:11:29.046Z"
   },
   {
    "duration": 109,
    "start_time": "2022-02-10T14:11:29.054Z"
   },
   {
    "duration": 1104,
    "start_time": "2022-02-10T14:11:29.166Z"
   },
   {
    "duration": 12,
    "start_time": "2022-02-10T14:11:30.273Z"
   },
   {
    "duration": 74,
    "start_time": "2022-02-10T14:11:30.288Z"
   },
   {
    "duration": 53,
    "start_time": "2022-02-10T14:11:30.366Z"
   },
   {
    "duration": 25,
    "start_time": "2022-02-10T14:11:30.448Z"
   },
   {
    "duration": 115,
    "start_time": "2022-02-10T14:11:30.477Z"
   },
   {
    "duration": 40,
    "start_time": "2022-02-10T14:11:30.595Z"
   },
   {
    "duration": 29,
    "start_time": "2022-02-10T14:11:30.648Z"
   },
   {
    "duration": 86,
    "start_time": "2022-02-10T14:11:30.680Z"
   },
   {
    "duration": 6,
    "start_time": "2022-02-10T14:11:30.768Z"
   },
   {
    "duration": 23,
    "start_time": "2022-02-10T14:11:30.777Z"
   },
   {
    "duration": 25471,
    "start_time": "2022-02-10T14:11:30.802Z"
   },
   {
    "duration": 206,
    "start_time": "2022-02-10T14:11:56.071Z"
   },
   {
    "duration": 203,
    "start_time": "2022-02-10T14:11:56.075Z"
   },
   {
    "duration": 201,
    "start_time": "2022-02-10T14:11:56.079Z"
   },
   {
    "duration": 198,
    "start_time": "2022-02-10T14:11:56.083Z"
   },
   {
    "duration": 195,
    "start_time": "2022-02-10T14:11:56.088Z"
   },
   {
    "duration": 192,
    "start_time": "2022-02-10T14:11:56.092Z"
   },
   {
    "duration": 192,
    "start_time": "2022-02-10T14:11:56.094Z"
   },
   {
    "duration": 191,
    "start_time": "2022-02-10T14:11:56.096Z"
   },
   {
    "duration": 190,
    "start_time": "2022-02-10T14:11:56.098Z"
   },
   {
    "duration": 190,
    "start_time": "2022-02-10T14:11:56.100Z"
   },
   {
    "duration": 190,
    "start_time": "2022-02-10T14:11:56.102Z"
   },
   {
    "duration": 188,
    "start_time": "2022-02-10T14:11:56.105Z"
   },
   {
    "duration": 187,
    "start_time": "2022-02-10T14:11:56.107Z"
   },
   {
    "duration": 282,
    "start_time": "2022-02-10T14:12:28.079Z"
   },
   {
    "duration": 7956,
    "start_time": "2022-02-10T14:12:57.185Z"
   },
   {
    "duration": 7743,
    "start_time": "2022-02-10T14:13:22.468Z"
   },
   {
    "duration": 14,
    "start_time": "2022-02-10T14:53:00.267Z"
   },
   {
    "duration": 19,
    "start_time": "2022-02-10T14:53:24.993Z"
   },
   {
    "duration": 42,
    "start_time": "2022-02-10T14:53:41.386Z"
   },
   {
    "duration": 787,
    "start_time": "2022-02-10T14:53:47.752Z"
   },
   {
    "duration": 511,
    "start_time": "2022-02-10T14:53:48.542Z"
   },
   {
    "duration": 4,
    "start_time": "2022-02-10T14:53:49.059Z"
   },
   {
    "duration": 105,
    "start_time": "2022-02-10T14:53:49.065Z"
   },
   {
    "duration": 49,
    "start_time": "2022-02-10T14:53:49.172Z"
   },
   {
    "duration": 28,
    "start_time": "2022-02-10T14:53:49.224Z"
   },
   {
    "duration": 51,
    "start_time": "2022-02-10T14:53:49.259Z"
   },
   {
    "duration": 72,
    "start_time": "2022-02-10T14:53:49.314Z"
   },
   {
    "duration": 16,
    "start_time": "2022-02-10T14:53:49.389Z"
   },
   {
    "duration": 98,
    "start_time": "2022-02-10T14:53:49.407Z"
   },
   {
    "duration": 48,
    "start_time": "2022-02-10T14:53:49.507Z"
   },
   {
    "duration": 33,
    "start_time": "2022-02-10T14:53:49.557Z"
   },
   {
    "duration": 85,
    "start_time": "2022-02-10T14:53:49.593Z"
   },
   {
    "duration": 6,
    "start_time": "2022-02-10T14:53:49.682Z"
   },
   {
    "duration": 59,
    "start_time": "2022-02-10T14:53:49.691Z"
   },
   {
    "duration": 26,
    "start_time": "2022-02-10T14:53:49.753Z"
   },
   {
    "duration": 22,
    "start_time": "2022-02-10T14:53:49.782Z"
   },
   {
    "duration": 6,
    "start_time": "2022-02-10T14:53:49.808Z"
   },
   {
    "duration": 36,
    "start_time": "2022-02-10T14:53:49.850Z"
   },
   {
    "duration": 16,
    "start_time": "2022-02-10T14:53:49.888Z"
   },
   {
    "duration": 10,
    "start_time": "2022-02-10T14:53:49.907Z"
   },
   {
    "duration": 49,
    "start_time": "2022-02-10T14:53:49.922Z"
   },
   {
    "duration": 18,
    "start_time": "2022-02-10T14:53:49.974Z"
   },
   {
    "duration": 7,
    "start_time": "2022-02-10T14:53:49.994Z"
   },
   {
    "duration": 2377,
    "start_time": "2022-02-10T14:53:50.004Z"
   },
   {
    "duration": 2432,
    "start_time": "2022-02-10T14:53:52.384Z"
   },
   {
    "duration": 154,
    "start_time": "2022-02-10T14:53:54.818Z"
   },
   {
    "duration": 330,
    "start_time": "2022-02-10T14:53:54.646Z"
   },
   {
    "duration": 65,
    "start_time": "2022-02-10T14:54:04.495Z"
   },
   {
    "duration": 395,
    "start_time": "2022-02-10T14:54:33.991Z"
   },
   {
    "duration": 52,
    "start_time": "2022-02-10T14:54:43.120Z"
   },
   {
    "duration": 804,
    "start_time": "2022-02-10T14:54:56.617Z"
   },
   {
    "duration": 491,
    "start_time": "2022-02-10T14:54:57.423Z"
   },
   {
    "duration": 4,
    "start_time": "2022-02-10T14:54:57.917Z"
   },
   {
    "duration": 90,
    "start_time": "2022-02-10T14:54:57.923Z"
   },
   {
    "duration": 61,
    "start_time": "2022-02-10T14:54:58.015Z"
   },
   {
    "duration": 10,
    "start_time": "2022-02-10T14:54:58.078Z"
   },
   {
    "duration": 71,
    "start_time": "2022-02-10T14:54:58.091Z"
   },
   {
    "duration": 44,
    "start_time": "2022-02-10T14:54:58.166Z"
   },
   {
    "duration": 44,
    "start_time": "2022-02-10T14:54:58.214Z"
   },
   {
    "duration": 69,
    "start_time": "2022-02-10T14:54:58.261Z"
   },
   {
    "duration": 52,
    "start_time": "2022-02-10T14:54:58.333Z"
   },
   {
    "duration": 62,
    "start_time": "2022-02-10T14:54:58.388Z"
   },
   {
    "duration": 52,
    "start_time": "2022-02-10T14:54:58.453Z"
   },
   {
    "duration": 6,
    "start_time": "2022-02-10T14:54:58.507Z"
   },
   {
    "duration": 72,
    "start_time": "2022-02-10T14:54:58.516Z"
   },
   {
    "duration": 27,
    "start_time": "2022-02-10T14:54:58.590Z"
   },
   {
    "duration": 48,
    "start_time": "2022-02-10T14:54:58.620Z"
   },
   {
    "duration": 8,
    "start_time": "2022-02-10T14:54:58.672Z"
   },
   {
    "duration": 25,
    "start_time": "2022-02-10T14:54:58.683Z"
   },
   {
    "duration": 51,
    "start_time": "2022-02-10T14:54:58.711Z"
   },
   {
    "duration": 7,
    "start_time": "2022-02-10T14:54:58.765Z"
   },
   {
    "duration": 32,
    "start_time": "2022-02-10T14:54:58.775Z"
   },
   {
    "duration": 47,
    "start_time": "2022-02-10T14:54:58.811Z"
   },
   {
    "duration": 7,
    "start_time": "2022-02-10T14:54:58.861Z"
   },
   {
    "duration": 2140,
    "start_time": "2022-02-10T14:54:58.871Z"
   },
   {
    "duration": 2064,
    "start_time": "2022-02-10T14:55:01.014Z"
   },
   {
    "duration": 101,
    "start_time": "2022-02-10T14:55:03.081Z"
   },
   {
    "duration": 340,
    "start_time": "2022-02-10T14:55:02.845Z"
   },
   {
    "duration": 59,
    "start_time": "2022-02-10T14:56:10.271Z"
   },
   {
    "duration": 982,
    "start_time": "2022-02-10T14:57:02.688Z"
   },
   {
    "duration": 615,
    "start_time": "2022-02-10T14:57:03.673Z"
   },
   {
    "duration": 3,
    "start_time": "2022-02-10T14:57:04.292Z"
   },
   {
    "duration": 93,
    "start_time": "2022-02-10T14:57:04.297Z"
   },
   {
    "duration": 71,
    "start_time": "2022-02-10T14:57:04.393Z"
   },
   {
    "duration": 10,
    "start_time": "2022-02-10T14:57:04.466Z"
   },
   {
    "duration": 77,
    "start_time": "2022-02-10T14:57:04.479Z"
   },
   {
    "duration": 51,
    "start_time": "2022-02-10T14:57:04.559Z"
   },
   {
    "duration": 37,
    "start_time": "2022-02-10T14:57:04.615Z"
   },
   {
    "duration": 85,
    "start_time": "2022-02-10T14:57:04.655Z"
   },
   {
    "duration": 47,
    "start_time": "2022-02-10T14:57:04.742Z"
   },
   {
    "duration": 60,
    "start_time": "2022-02-10T14:57:04.791Z"
   },
   {
    "duration": 53,
    "start_time": "2022-02-10T14:57:04.854Z"
   },
   {
    "duration": 5,
    "start_time": "2022-02-10T14:57:04.910Z"
   },
   {
    "duration": 62,
    "start_time": "2022-02-10T14:57:04.949Z"
   },
   {
    "duration": 44,
    "start_time": "2022-02-10T14:57:05.014Z"
   },
   {
    "duration": 16,
    "start_time": "2022-02-10T14:57:05.061Z"
   },
   {
    "duration": 16,
    "start_time": "2022-02-10T14:57:05.080Z"
   },
   {
    "duration": 51,
    "start_time": "2022-02-10T14:57:05.100Z"
   },
   {
    "duration": 18,
    "start_time": "2022-02-10T14:57:05.154Z"
   },
   {
    "duration": 11,
    "start_time": "2022-02-10T14:57:05.175Z"
   },
   {
    "duration": 25,
    "start_time": "2022-02-10T14:57:05.189Z"
   },
   {
    "duration": 18,
    "start_time": "2022-02-10T14:57:05.250Z"
   },
   {
    "duration": 15,
    "start_time": "2022-02-10T14:57:05.271Z"
   },
   {
    "duration": 2271,
    "start_time": "2022-02-10T14:57:05.288Z"
   },
   {
    "duration": 1999,
    "start_time": "2022-02-10T14:57:07.562Z"
   },
   {
    "duration": 101,
    "start_time": "2022-02-10T14:57:09.567Z"
   },
   {
    "duration": 339,
    "start_time": "2022-02-10T14:57:09.332Z"
   },
   {
    "duration": 401,
    "start_time": "2022-02-10T14:57:24.020Z"
   },
   {
    "duration": 434,
    "start_time": "2022-02-10T14:57:49.531Z"
   },
   {
    "duration": 441,
    "start_time": "2022-02-10T14:57:58.027Z"
   },
   {
    "duration": 298,
    "start_time": "2022-02-10T14:58:04.555Z"
   },
   {
    "duration": 65,
    "start_time": "2022-02-10T14:58:37.748Z"
   },
   {
    "duration": 67,
    "start_time": "2022-02-10T14:59:25.278Z"
   },
   {
    "duration": 63,
    "start_time": "2022-02-10T15:02:26.454Z"
   },
   {
    "duration": 244,
    "start_time": "2022-02-10T15:04:35.670Z"
   },
   {
    "duration": 54,
    "start_time": "2022-02-10T15:05:01.233Z"
   },
   {
    "duration": 8144,
    "start_time": "2022-02-10T15:18:57.003Z"
   },
   {
    "duration": 8987,
    "start_time": "2022-02-10T15:21:21.846Z"
   },
   {
    "duration": 47,
    "start_time": "2022-02-10T15:22:38.527Z"
   },
   {
    "duration": 8794,
    "start_time": "2022-02-10T15:23:44.775Z"
   },
   {
    "duration": 9894,
    "start_time": "2022-02-10T15:24:34.568Z"
   },
   {
    "duration": 43,
    "start_time": "2022-02-10T16:09:40.543Z"
   },
   {
    "duration": 121,
    "start_time": "2022-02-10T16:09:43.266Z"
   },
   {
    "duration": 95,
    "start_time": "2022-02-10T16:10:00.185Z"
   },
   {
    "duration": 15624,
    "start_time": "2022-02-10T16:11:12.763Z"
   },
   {
    "duration": 14769,
    "start_time": "2022-02-10T17:41:13.773Z"
   },
   {
    "duration": 14291,
    "start_time": "2022-02-10T17:49:34.700Z"
   },
   {
    "duration": 100,
    "start_time": "2022-02-10T18:35:45.712Z"
   },
   {
    "duration": 6,
    "start_time": "2022-02-10T18:35:54.366Z"
   },
   {
    "duration": 342,
    "start_time": "2022-02-10T18:36:39.095Z"
   },
   {
    "duration": 6,
    "start_time": "2022-02-10T18:36:57.991Z"
   },
   {
    "duration": 7,
    "start_time": "2022-02-10T18:37:06.359Z"
   },
   {
    "duration": 7,
    "start_time": "2022-02-10T18:38:55.361Z"
   },
   {
    "duration": 10502,
    "start_time": "2022-02-10T19:02:48.124Z"
   },
   {
    "duration": 23806,
    "start_time": "2022-02-10T19:03:45.196Z"
   },
   {
    "duration": 1201,
    "start_time": "2022-02-10T19:07:44.356Z"
   },
   {
    "duration": 493,
    "start_time": "2022-02-10T19:09:22.816Z"
   },
   {
    "duration": 742,
    "start_time": "2022-02-10T19:35:42.685Z"
   },
   {
    "duration": 508,
    "start_time": "2022-02-10T19:35:43.430Z"
   },
   {
    "duration": 5,
    "start_time": "2022-02-10T19:35:43.946Z"
   },
   {
    "duration": 100,
    "start_time": "2022-02-10T19:35:43.954Z"
   },
   {
    "duration": 48,
    "start_time": "2022-02-10T19:35:44.056Z"
   },
   {
    "duration": 11,
    "start_time": "2022-02-10T19:35:44.107Z"
   },
   {
    "duration": 74,
    "start_time": "2022-02-10T19:35:44.122Z"
   },
   {
    "duration": 69,
    "start_time": "2022-02-10T19:35:44.199Z"
   },
   {
    "duration": 15,
    "start_time": "2022-02-10T19:35:44.270Z"
   },
   {
    "duration": 92,
    "start_time": "2022-02-10T19:35:44.288Z"
   },
   {
    "duration": 40,
    "start_time": "2022-02-10T19:35:44.382Z"
   },
   {
    "duration": 47,
    "start_time": "2022-02-10T19:35:44.424Z"
   },
   {
    "duration": 78,
    "start_time": "2022-02-10T19:35:44.474Z"
   },
   {
    "duration": 5,
    "start_time": "2022-02-10T19:35:44.555Z"
   },
   {
    "duration": 55,
    "start_time": "2022-02-10T19:35:44.562Z"
   },
   {
    "duration": 414,
    "start_time": "2022-02-10T19:35:44.620Z"
   },
   {
    "duration": 1113,
    "start_time": "2022-02-10T19:35:43.925Z"
   },
   {
    "duration": 1109,
    "start_time": "2022-02-10T19:35:43.931Z"
   },
   {
    "duration": 1108,
    "start_time": "2022-02-10T19:35:43.934Z"
   },
   {
    "duration": 1108,
    "start_time": "2022-02-10T19:35:43.937Z"
   },
   {
    "duration": 1107,
    "start_time": "2022-02-10T19:35:43.940Z"
   },
   {
    "duration": 1108,
    "start_time": "2022-02-10T19:35:43.942Z"
   },
   {
    "duration": 1107,
    "start_time": "2022-02-10T19:35:43.945Z"
   },
   {
    "duration": 1108,
    "start_time": "2022-02-10T19:35:43.946Z"
   },
   {
    "duration": 1109,
    "start_time": "2022-02-10T19:35:43.948Z"
   },
   {
    "duration": 1109,
    "start_time": "2022-02-10T19:35:43.950Z"
   },
   {
    "duration": 1109,
    "start_time": "2022-02-10T19:35:43.953Z"
   },
   {
    "duration": 1109,
    "start_time": "2022-02-10T19:35:43.955Z"
   },
   {
    "duration": 1109,
    "start_time": "2022-02-10T19:35:43.957Z"
   },
   {
    "duration": 1109,
    "start_time": "2022-02-10T19:35:43.959Z"
   },
   {
    "duration": 1110,
    "start_time": "2022-02-10T19:35:43.961Z"
   },
   {
    "duration": 1004,
    "start_time": "2022-02-10T19:43:49.350Z"
   },
   {
    "duration": 484,
    "start_time": "2022-02-10T19:43:50.357Z"
   },
   {
    "duration": 4,
    "start_time": "2022-02-10T19:43:50.847Z"
   },
   {
    "duration": 102,
    "start_time": "2022-02-10T19:43:50.853Z"
   },
   {
    "duration": 50,
    "start_time": "2022-02-10T19:43:50.958Z"
   },
   {
    "duration": 11,
    "start_time": "2022-02-10T19:43:51.010Z"
   },
   {
    "duration": 66,
    "start_time": "2022-02-10T19:43:51.025Z"
   },
   {
    "duration": 66,
    "start_time": "2022-02-10T19:43:51.094Z"
   },
   {
    "duration": 19,
    "start_time": "2022-02-10T19:43:51.163Z"
   },
   {
    "duration": 85,
    "start_time": "2022-02-10T19:43:51.184Z"
   },
   {
    "duration": 37,
    "start_time": "2022-02-10T19:43:51.272Z"
   },
   {
    "duration": 47,
    "start_time": "2022-02-10T19:43:51.312Z"
   },
   {
    "duration": 50,
    "start_time": "2022-02-10T19:43:51.362Z"
   },
   {
    "duration": 6,
    "start_time": "2022-02-10T19:43:51.415Z"
   },
   {
    "duration": 37,
    "start_time": "2022-02-10T19:43:51.449Z"
   },
   {
    "duration": 9443,
    "start_time": "2022-02-10T19:43:51.488Z"
   },
   {
    "duration": 1194,
    "start_time": "2022-02-10T19:43:59.741Z"
   },
   {
    "duration": 1192,
    "start_time": "2022-02-10T19:43:59.746Z"
   },
   {
    "duration": 1190,
    "start_time": "2022-02-10T19:43:59.750Z"
   },
   {
    "duration": 1181,
    "start_time": "2022-02-10T19:43:59.761Z"
   },
   {
    "duration": 1179,
    "start_time": "2022-02-10T19:43:59.766Z"
   },
   {
    "duration": 1169,
    "start_time": "2022-02-10T19:43:59.778Z"
   },
   {
    "duration": 1167,
    "start_time": "2022-02-10T19:43:59.782Z"
   },
   {
    "duration": 1153,
    "start_time": "2022-02-10T19:43:59.798Z"
   },
   {
    "duration": 1144,
    "start_time": "2022-02-10T19:43:59.809Z"
   },
   {
    "duration": 1140,
    "start_time": "2022-02-10T19:43:59.815Z"
   },
   {
    "duration": 1134,
    "start_time": "2022-02-10T19:43:59.824Z"
   },
   {
    "duration": 1132,
    "start_time": "2022-02-10T19:43:59.828Z"
   },
   {
    "duration": 1133,
    "start_time": "2022-02-10T19:43:59.830Z"
   },
   {
    "duration": 1123,
    "start_time": "2022-02-10T19:43:59.842Z"
   },
   {
    "duration": 1122,
    "start_time": "2022-02-10T19:43:59.845Z"
   },
   {
    "duration": 56,
    "start_time": "2022-02-10T19:50:34.863Z"
   },
   {
    "duration": 54,
    "start_time": "2022-02-10T19:51:43.984Z"
   },
   {
    "duration": 65,
    "start_time": "2022-02-10T19:52:39.100Z"
   },
   {
    "duration": 55,
    "start_time": "2022-02-10T20:31:46.351Z"
   },
   {
    "duration": 72,
    "start_time": "2022-02-10T20:35:18.569Z"
   },
   {
    "duration": 1291,
    "start_time": "2022-02-10T20:35:49.993Z"
   },
   {
    "duration": 98,
    "start_time": "2022-02-10T20:38:17.961Z"
   },
   {
    "duration": 99,
    "start_time": "2022-02-10T20:40:29.266Z"
   },
   {
    "duration": 39,
    "start_time": "2022-02-10T20:40:38.224Z"
   },
   {
    "duration": 690,
    "start_time": "2022-02-10T20:40:44.796Z"
   },
   {
    "duration": 484,
    "start_time": "2022-02-10T20:40:45.488Z"
   },
   {
    "duration": 3,
    "start_time": "2022-02-10T20:40:45.975Z"
   },
   {
    "duration": 92,
    "start_time": "2022-02-10T20:40:45.981Z"
   },
   {
    "duration": 50,
    "start_time": "2022-02-10T20:40:46.076Z"
   },
   {
    "duration": 23,
    "start_time": "2022-02-10T20:40:46.129Z"
   },
   {
    "duration": 49,
    "start_time": "2022-02-10T20:40:46.155Z"
   },
   {
    "duration": 80,
    "start_time": "2022-02-10T20:40:46.209Z"
   },
   {
    "duration": 20,
    "start_time": "2022-02-10T20:40:46.292Z"
   },
   {
    "duration": 84,
    "start_time": "2022-02-10T20:40:46.315Z"
   },
   {
    "duration": 56,
    "start_time": "2022-02-10T20:40:46.401Z"
   },
   {
    "duration": 30,
    "start_time": "2022-02-10T20:40:46.460Z"
   },
   {
    "duration": 89,
    "start_time": "2022-02-10T20:40:46.493Z"
   },
   {
    "duration": 6,
    "start_time": "2022-02-10T20:40:46.586Z"
   },
   {
    "duration": 68,
    "start_time": "2022-02-10T20:40:46.595Z"
   },
   {
    "duration": 26,
    "start_time": "2022-02-10T20:40:46.666Z"
   },
   {
    "duration": 17,
    "start_time": "2022-02-10T20:40:46.694Z"
   },
   {
    "duration": 37,
    "start_time": "2022-02-10T20:40:46.713Z"
   },
   {
    "duration": 33,
    "start_time": "2022-02-10T20:40:46.752Z"
   },
   {
    "duration": 16,
    "start_time": "2022-02-10T20:40:46.787Z"
   },
   {
    "duration": 18,
    "start_time": "2022-02-10T20:40:46.805Z"
   },
   {
    "duration": 39,
    "start_time": "2022-02-10T20:40:46.825Z"
   },
   {
    "duration": 30,
    "start_time": "2022-02-10T20:40:46.869Z"
   },
   {
    "duration": 27,
    "start_time": "2022-02-10T20:40:46.903Z"
   },
   {
    "duration": 2363,
    "start_time": "2022-02-10T20:40:46.932Z"
   },
   {
    "duration": 2005,
    "start_time": "2022-02-10T20:40:49.297Z"
   },
   {
    "duration": 377,
    "start_time": "2022-02-10T20:40:51.304Z"
   },
   {
    "duration": 1431,
    "start_time": "2022-02-10T20:40:50.253Z"
   },
   {
    "duration": 1426,
    "start_time": "2022-02-10T20:40:50.260Z"
   },
   {
    "duration": 1421,
    "start_time": "2022-02-10T20:40:50.267Z"
   },
   {
    "duration": 713,
    "start_time": "2022-02-10T20:41:45.588Z"
   },
   {
    "duration": 498,
    "start_time": "2022-02-10T20:41:46.304Z"
   },
   {
    "duration": 3,
    "start_time": "2022-02-10T20:41:46.806Z"
   },
   {
    "duration": 86,
    "start_time": "2022-02-10T20:41:46.812Z"
   },
   {
    "duration": 57,
    "start_time": "2022-02-10T20:41:46.901Z"
   },
   {
    "duration": 10,
    "start_time": "2022-02-10T20:41:46.961Z"
   },
   {
    "duration": 46,
    "start_time": "2022-02-10T20:41:46.974Z"
   },
   {
    "duration": 44,
    "start_time": "2022-02-10T20:41:47.048Z"
   },
   {
    "duration": 19,
    "start_time": "2022-02-10T20:41:47.096Z"
   },
   {
    "duration": 107,
    "start_time": "2022-02-10T20:41:47.118Z"
   },
   {
    "duration": 49,
    "start_time": "2022-02-10T20:41:47.227Z"
   },
   {
    "duration": 30,
    "start_time": "2022-02-10T20:41:47.279Z"
   },
   {
    "duration": 84,
    "start_time": "2022-02-10T20:41:47.312Z"
   },
   {
    "duration": 7,
    "start_time": "2022-02-10T20:41:47.399Z"
   },
   {
    "duration": 82,
    "start_time": "2022-02-10T20:41:47.409Z"
   },
   {
    "duration": 25,
    "start_time": "2022-02-10T20:41:47.493Z"
   },
   {
    "duration": 39,
    "start_time": "2022-02-10T20:41:47.520Z"
   },
   {
    "duration": 6,
    "start_time": "2022-02-10T20:41:47.561Z"
   },
   {
    "duration": 23,
    "start_time": "2022-02-10T20:41:47.569Z"
   },
   {
    "duration": 16,
    "start_time": "2022-02-10T20:41:47.594Z"
   },
   {
    "duration": 6,
    "start_time": "2022-02-10T20:41:47.648Z"
   },
   {
    "duration": 25,
    "start_time": "2022-02-10T20:41:47.656Z"
   },
   {
    "duration": 14,
    "start_time": "2022-02-10T20:41:47.685Z"
   },
   {
    "duration": 10,
    "start_time": "2022-02-10T20:41:47.702Z"
   },
   {
    "duration": 2176,
    "start_time": "2022-02-10T20:41:47.715Z"
   },
   {
    "duration": 2005,
    "start_time": "2022-02-10T20:41:49.893Z"
   },
   {
    "duration": 113,
    "start_time": "2022-02-10T20:41:51.901Z"
   },
   {
    "duration": 1439,
    "start_time": "2022-02-10T20:41:50.578Z"
   },
   {
    "duration": 46,
    "start_time": "2022-02-10T20:44:47.352Z"
   },
   {
    "duration": 41,
    "start_time": "2022-02-10T20:45:07.561Z"
   },
   {
    "duration": 74,
    "start_time": "2022-02-10T20:46:02.931Z"
   },
   {
    "duration": 6,
    "start_time": "2022-02-10T20:48:31.428Z"
   },
   {
    "duration": 900,
    "start_time": "2022-02-10T20:48:40.305Z"
   },
   {
    "duration": 518,
    "start_time": "2022-02-10T20:48:41.208Z"
   },
   {
    "duration": 3,
    "start_time": "2022-02-10T20:48:41.729Z"
   },
   {
    "duration": 93,
    "start_time": "2022-02-10T20:48:41.734Z"
   },
   {
    "duration": 54,
    "start_time": "2022-02-10T20:48:41.830Z"
   },
   {
    "duration": 10,
    "start_time": "2022-02-10T20:48:41.886Z"
   },
   {
    "duration": 52,
    "start_time": "2022-02-10T20:48:41.899Z"
   },
   {
    "duration": 45,
    "start_time": "2022-02-10T20:48:41.955Z"
   },
   {
    "duration": 18,
    "start_time": "2022-02-10T20:48:42.002Z"
   },
   {
    "duration": 93,
    "start_time": "2022-02-10T20:48:42.022Z"
   },
   {
    "duration": 57,
    "start_time": "2022-02-10T20:48:42.117Z"
   },
   {
    "duration": 31,
    "start_time": "2022-02-10T20:48:42.177Z"
   },
   {
    "duration": 81,
    "start_time": "2022-02-10T20:48:42.211Z"
   },
   {
    "duration": 6,
    "start_time": "2022-02-10T20:48:42.294Z"
   },
   {
    "duration": 10,
    "start_time": "2022-02-10T20:48:42.303Z"
   },
   {
    "duration": 480,
    "start_time": "2022-02-10T20:48:42.316Z"
   },
   {
    "duration": 1348,
    "start_time": "2022-02-10T20:48:41.452Z"
   },
   {
    "duration": 1330,
    "start_time": "2022-02-10T20:48:41.471Z"
   },
   {
    "duration": 1325,
    "start_time": "2022-02-10T20:48:41.478Z"
   },
   {
    "duration": 1324,
    "start_time": "2022-02-10T20:48:41.481Z"
   },
   {
    "duration": 1323,
    "start_time": "2022-02-10T20:48:41.483Z"
   },
   {
    "duration": 1323,
    "start_time": "2022-02-10T20:48:41.485Z"
   },
   {
    "duration": 1319,
    "start_time": "2022-02-10T20:48:41.491Z"
   },
   {
    "duration": 1319,
    "start_time": "2022-02-10T20:48:41.493Z"
   },
   {
    "duration": 1318,
    "start_time": "2022-02-10T20:48:41.495Z"
   },
   {
    "duration": 1317,
    "start_time": "2022-02-10T20:48:41.497Z"
   },
   {
    "duration": 1316,
    "start_time": "2022-02-10T20:48:41.500Z"
   },
   {
    "duration": 1315,
    "start_time": "2022-02-10T20:48:41.502Z"
   },
   {
    "duration": 1316,
    "start_time": "2022-02-10T20:48:41.503Z"
   },
   {
    "duration": 737,
    "start_time": "2022-02-10T20:49:37.635Z"
   },
   {
    "duration": 477,
    "start_time": "2022-02-10T20:49:38.375Z"
   },
   {
    "duration": 4,
    "start_time": "2022-02-10T20:49:38.855Z"
   },
   {
    "duration": 94,
    "start_time": "2022-02-10T20:49:38.861Z"
   },
   {
    "duration": 47,
    "start_time": "2022-02-10T20:49:38.957Z"
   },
   {
    "duration": 9,
    "start_time": "2022-02-10T20:49:39.007Z"
   },
   {
    "duration": 72,
    "start_time": "2022-02-10T20:49:39.019Z"
   },
   {
    "duration": 66,
    "start_time": "2022-02-10T20:49:39.095Z"
   },
   {
    "duration": 15,
    "start_time": "2022-02-10T20:49:39.164Z"
   },
   {
    "duration": 83,
    "start_time": "2022-02-10T20:49:39.181Z"
   },
   {
    "duration": 43,
    "start_time": "2022-02-10T20:49:39.267Z"
   },
   {
    "duration": 48,
    "start_time": "2022-02-10T20:49:39.312Z"
   },
   {
    "duration": 88,
    "start_time": "2022-02-10T20:49:39.363Z"
   },
   {
    "duration": 6,
    "start_time": "2022-02-10T20:49:39.453Z"
   },
   {
    "duration": 54,
    "start_time": "2022-02-10T20:49:39.462Z"
   },
   {
    "duration": 51,
    "start_time": "2022-02-10T20:49:39.519Z"
   },
   {
    "duration": 17,
    "start_time": "2022-02-10T20:49:39.573Z"
   },
   {
    "duration": 14,
    "start_time": "2022-02-10T20:49:39.593Z"
   },
   {
    "duration": 61,
    "start_time": "2022-02-10T20:49:39.610Z"
   },
   {
    "duration": 15,
    "start_time": "2022-02-10T20:49:39.673Z"
   },
   {
    "duration": 9,
    "start_time": "2022-02-10T20:49:39.690Z"
   },
   {
    "duration": 62,
    "start_time": "2022-02-10T20:49:39.702Z"
   },
   {
    "duration": 16,
    "start_time": "2022-02-10T20:49:39.768Z"
   },
   {
    "duration": 6,
    "start_time": "2022-02-10T20:49:39.786Z"
   },
   {
    "duration": 2280,
    "start_time": "2022-02-10T20:49:39.795Z"
   },
   {
    "duration": 2191,
    "start_time": "2022-02-10T20:49:42.078Z"
   },
   {
    "duration": 92,
    "start_time": "2022-02-10T20:49:44.271Z"
   },
   {
    "duration": 1418,
    "start_time": "2022-02-10T20:49:42.947Z"
   },
   {
    "duration": 7,
    "start_time": "2022-02-10T20:50:31.449Z"
   },
   {
    "duration": 40,
    "start_time": "2022-02-10T20:50:43.274Z"
   },
   {
    "duration": 50,
    "start_time": "2022-02-10T20:50:52.914Z"
   },
   {
    "duration": 13,
    "start_time": "2022-02-10T20:52:03.258Z"
   },
   {
    "duration": 10,
    "start_time": "2022-02-10T20:52:55.091Z"
   },
   {
    "duration": 11,
    "start_time": "2022-02-10T20:53:22.755Z"
   },
   {
    "duration": 378,
    "start_time": "2022-02-10T20:56:57.994Z"
   },
   {
    "duration": 715,
    "start_time": "2022-02-10T20:57:12.955Z"
   },
   {
    "duration": 463,
    "start_time": "2022-02-10T20:57:13.673Z"
   },
   {
    "duration": 3,
    "start_time": "2022-02-10T20:57:14.139Z"
   },
   {
    "duration": 96,
    "start_time": "2022-02-10T20:57:14.145Z"
   },
   {
    "duration": 47,
    "start_time": "2022-02-10T20:57:14.243Z"
   },
   {
    "duration": 10,
    "start_time": "2022-02-10T20:57:14.293Z"
   },
   {
    "duration": 67,
    "start_time": "2022-02-10T20:57:14.306Z"
   },
   {
    "duration": 42,
    "start_time": "2022-02-10T20:57:14.377Z"
   },
   {
    "duration": 42,
    "start_time": "2022-02-10T20:57:14.422Z"
   },
   {
    "duration": 66,
    "start_time": "2022-02-10T20:57:14.466Z"
   },
   {
    "duration": 49,
    "start_time": "2022-02-10T20:57:14.535Z"
   },
   {
    "duration": 28,
    "start_time": "2022-02-10T20:57:14.587Z"
   },
   {
    "duration": 99,
    "start_time": "2022-02-10T20:57:14.617Z"
   },
   {
    "duration": 5,
    "start_time": "2022-02-10T20:57:14.719Z"
   },
   {
    "duration": 55,
    "start_time": "2022-02-10T20:57:14.749Z"
   },
   {
    "duration": 46,
    "start_time": "2022-02-10T20:57:14.806Z"
   },
   {
    "duration": 16,
    "start_time": "2022-02-10T20:57:14.854Z"
   },
   {
    "duration": 10,
    "start_time": "2022-02-10T20:57:14.872Z"
   },
   {
    "duration": 24,
    "start_time": "2022-02-10T20:57:14.885Z"
   },
   {
    "duration": 48,
    "start_time": "2022-02-10T20:57:14.912Z"
   },
   {
    "duration": 5,
    "start_time": "2022-02-10T20:57:14.962Z"
   },
   {
    "duration": 25,
    "start_time": "2022-02-10T20:57:14.970Z"
   },
   {
    "duration": 16,
    "start_time": "2022-02-10T20:57:14.999Z"
   },
   {
    "duration": 6,
    "start_time": "2022-02-10T20:57:15.049Z"
   },
   {
    "duration": 2100,
    "start_time": "2022-02-10T20:57:15.058Z"
   },
   {
    "duration": 1973,
    "start_time": "2022-02-10T20:57:17.160Z"
   },
   {
    "duration": 105,
    "start_time": "2022-02-10T20:57:19.136Z"
   },
   {
    "duration": 1415,
    "start_time": "2022-02-10T20:57:17.829Z"
   },
   {
    "duration": 52,
    "start_time": "2022-02-10T20:59:28.881Z"
   },
   {
    "duration": 34,
    "start_time": "2022-02-10T21:13:15.567Z"
   },
   {
    "duration": 161,
    "start_time": "2022-02-10T21:14:39.210Z"
   },
   {
    "duration": 460,
    "start_time": "2022-02-10T21:15:05.690Z"
   },
   {
    "duration": 25,
    "start_time": "2022-02-10T21:15:16.361Z"
   },
   {
    "duration": 477,
    "start_time": "2022-02-10T21:15:18.600Z"
   },
   {
    "duration": 7,
    "start_time": "2022-02-10T21:18:04.747Z"
   },
   {
    "duration": 39,
    "start_time": "2022-02-10T21:18:20.684Z"
   },
   {
    "duration": 36,
    "start_time": "2022-02-10T21:18:34.924Z"
   },
   {
    "duration": 772,
    "start_time": "2022-02-10T21:18:44.823Z"
   },
   {
    "duration": 491,
    "start_time": "2022-02-10T21:18:45.598Z"
   },
   {
    "duration": 3,
    "start_time": "2022-02-10T21:18:46.092Z"
   },
   {
    "duration": 91,
    "start_time": "2022-02-10T21:18:46.097Z"
   },
   {
    "duration": 61,
    "start_time": "2022-02-10T21:18:46.191Z"
   },
   {
    "duration": 11,
    "start_time": "2022-02-10T21:18:46.254Z"
   },
   {
    "duration": 52,
    "start_time": "2022-02-10T21:18:46.267Z"
   },
   {
    "duration": 44,
    "start_time": "2022-02-10T21:18:46.350Z"
   },
   {
    "duration": 16,
    "start_time": "2022-02-10T21:18:46.399Z"
   },
   {
    "duration": 97,
    "start_time": "2022-02-10T21:18:46.418Z"
   },
   {
    "duration": 58,
    "start_time": "2022-02-10T21:18:46.517Z"
   },
   {
    "duration": 28,
    "start_time": "2022-02-10T21:18:46.577Z"
   },
   {
    "duration": 100,
    "start_time": "2022-02-10T21:18:46.609Z"
   },
   {
    "duration": 6,
    "start_time": "2022-02-10T21:18:46.711Z"
   },
   {
    "duration": 79,
    "start_time": "2022-02-10T21:18:46.719Z"
   },
   {
    "duration": 60,
    "start_time": "2022-02-10T21:18:46.800Z"
   },
   {
    "duration": 23,
    "start_time": "2022-02-10T21:18:46.863Z"
   },
   {
    "duration": 16,
    "start_time": "2022-02-10T21:18:46.888Z"
   },
   {
    "duration": 41,
    "start_time": "2022-02-10T21:18:46.907Z"
   },
   {
    "duration": 24,
    "start_time": "2022-02-10T21:18:46.951Z"
   },
   {
    "duration": 17,
    "start_time": "2022-02-10T21:18:46.977Z"
   },
   {
    "duration": 7,
    "start_time": "2022-02-10T21:18:46.997Z"
   },
   {
    "duration": 56,
    "start_time": "2022-02-10T21:18:47.008Z"
   },
   {
    "duration": 16,
    "start_time": "2022-02-10T21:18:47.067Z"
   },
   {
    "duration": 9,
    "start_time": "2022-02-10T21:18:47.087Z"
   },
   {
    "duration": 2312,
    "start_time": "2022-02-10T21:18:47.099Z"
   },
   {
    "duration": 1958,
    "start_time": "2022-02-10T21:18:49.413Z"
   },
   {
    "duration": 92,
    "start_time": "2022-02-10T21:18:51.374Z"
   },
   {
    "duration": 1498,
    "start_time": "2022-02-10T21:18:49.971Z"
   },
   {
    "duration": 40,
    "start_time": "2022-02-10T21:19:18.942Z"
   },
   {
    "duration": 750,
    "start_time": "2022-02-10T21:19:26.427Z"
   },
   {
    "duration": 492,
    "start_time": "2022-02-10T21:19:27.180Z"
   },
   {
    "duration": 3,
    "start_time": "2022-02-10T21:19:27.675Z"
   },
   {
    "duration": 87,
    "start_time": "2022-02-10T21:19:27.681Z"
   },
   {
    "duration": 49,
    "start_time": "2022-02-10T21:19:27.770Z"
   },
   {
    "duration": 34,
    "start_time": "2022-02-10T21:19:27.823Z"
   },
   {
    "duration": 47,
    "start_time": "2022-02-10T21:19:27.860Z"
   },
   {
    "duration": 60,
    "start_time": "2022-02-10T21:19:27.910Z"
   },
   {
    "duration": 20,
    "start_time": "2022-02-10T21:19:27.974Z"
   },
   {
    "duration": 88,
    "start_time": "2022-02-10T21:19:27.997Z"
   },
   {
    "duration": 39,
    "start_time": "2022-02-10T21:19:28.088Z"
   },
   {
    "duration": 30,
    "start_time": "2022-02-10T21:19:28.149Z"
   },
   {
    "duration": 99,
    "start_time": "2022-02-10T21:19:28.182Z"
   },
   {
    "duration": 5,
    "start_time": "2022-02-10T21:19:28.283Z"
   },
   {
    "duration": 73,
    "start_time": "2022-02-10T21:19:28.290Z"
   },
   {
    "duration": 40,
    "start_time": "2022-02-10T21:19:28.365Z"
   },
   {
    "duration": 49,
    "start_time": "2022-02-10T21:19:28.407Z"
   },
   {
    "duration": 17,
    "start_time": "2022-02-10T21:19:28.458Z"
   },
   {
    "duration": 9,
    "start_time": "2022-02-10T21:19:28.477Z"
   },
   {
    "duration": 31,
    "start_time": "2022-02-10T21:19:28.488Z"
   },
   {
    "duration": 43,
    "start_time": "2022-02-10T21:19:28.523Z"
   },
   {
    "duration": 8,
    "start_time": "2022-02-10T21:19:28.569Z"
   },
   {
    "duration": 23,
    "start_time": "2022-02-10T21:19:28.583Z"
   },
   {
    "duration": 54,
    "start_time": "2022-02-10T21:19:28.609Z"
   },
   {
    "duration": 8,
    "start_time": "2022-02-10T21:19:28.667Z"
   },
   {
    "duration": 2344,
    "start_time": "2022-02-10T21:19:28.678Z"
   },
   {
    "duration": 1990,
    "start_time": "2022-02-10T21:19:31.025Z"
   },
   {
    "duration": 97,
    "start_time": "2022-02-10T21:19:33.017Z"
   },
   {
    "duration": 1467,
    "start_time": "2022-02-10T21:19:31.650Z"
   },
   {
    "duration": 10,
    "start_time": "2022-02-10T21:19:42.029Z"
   },
   {
    "duration": 38,
    "start_time": "2022-02-10T21:20:04.012Z"
   },
   {
    "duration": 1190,
    "start_time": "2022-02-10T21:20:12.741Z"
   },
   {
    "duration": 1235,
    "start_time": "2022-02-10T21:24:37.889Z"
   },
   {
    "duration": 279,
    "start_time": "2022-02-10T21:25:04.689Z"
   },
   {
    "duration": 526,
    "start_time": "2022-02-10T21:25:14.240Z"
   },
   {
    "duration": 54,
    "start_time": "2022-02-10T21:31:18.895Z"
   },
   {
    "duration": 39,
    "start_time": "2022-02-10T21:32:02.872Z"
   },
   {
    "duration": 716,
    "start_time": "2022-02-10T21:32:12.904Z"
   },
   {
    "duration": 472,
    "start_time": "2022-02-10T21:32:13.622Z"
   },
   {
    "duration": 4,
    "start_time": "2022-02-10T21:32:14.098Z"
   },
   {
    "duration": 90,
    "start_time": "2022-02-10T21:32:14.104Z"
   },
   {
    "duration": 57,
    "start_time": "2022-02-10T21:32:14.196Z"
   },
   {
    "duration": 10,
    "start_time": "2022-02-10T21:32:14.255Z"
   },
   {
    "duration": 47,
    "start_time": "2022-02-10T21:32:14.268Z"
   },
   {
    "duration": 46,
    "start_time": "2022-02-10T21:32:14.347Z"
   },
   {
    "duration": 15,
    "start_time": "2022-02-10T21:32:14.397Z"
   },
   {
    "duration": 86,
    "start_time": "2022-02-10T21:32:14.414Z"
   },
   {
    "duration": 50,
    "start_time": "2022-02-10T21:32:14.503Z"
   },
   {
    "duration": 26,
    "start_time": "2022-02-10T21:32:14.556Z"
   },
   {
    "duration": 99,
    "start_time": "2022-02-10T21:32:14.584Z"
   },
   {
    "duration": 5,
    "start_time": "2022-02-10T21:32:14.685Z"
   },
   {
    "duration": 74,
    "start_time": "2022-02-10T21:32:14.693Z"
   },
   {
    "duration": 40,
    "start_time": "2022-02-10T21:32:14.769Z"
   },
   {
    "duration": 51,
    "start_time": "2022-02-10T21:32:14.812Z"
   },
   {
    "duration": 17,
    "start_time": "2022-02-10T21:32:14.865Z"
   },
   {
    "duration": 14,
    "start_time": "2022-02-10T21:32:14.884Z"
   },
   {
    "duration": 50,
    "start_time": "2022-02-10T21:32:14.900Z"
   },
   {
    "duration": 16,
    "start_time": "2022-02-10T21:32:14.953Z"
   },
   {
    "duration": 9,
    "start_time": "2022-02-10T21:32:14.971Z"
   },
   {
    "duration": 28,
    "start_time": "2022-02-10T21:32:14.984Z"
   },
   {
    "duration": 45,
    "start_time": "2022-02-10T21:32:15.015Z"
   },
   {
    "duration": 11,
    "start_time": "2022-02-10T21:32:15.063Z"
   },
   {
    "duration": 2056,
    "start_time": "2022-02-10T21:32:15.076Z"
   },
   {
    "duration": 1993,
    "start_time": "2022-02-10T21:32:17.134Z"
   },
   {
    "duration": 96,
    "start_time": "2022-02-10T21:32:19.130Z"
   },
   {
    "duration": 1489,
    "start_time": "2022-02-10T21:32:17.739Z"
   },
   {
    "duration": 708,
    "start_time": "2022-02-10T21:32:42.730Z"
   },
   {
    "duration": 41,
    "start_time": "2022-02-10T21:33:16.387Z"
   },
   {
    "duration": 366,
    "start_time": "2022-02-10T21:36:04.478Z"
   },
   {
    "duration": 11,
    "start_time": "2022-02-10T21:36:11.485Z"
   },
   {
    "duration": 38,
    "start_time": "2022-02-10T21:36:30.862Z"
   },
   {
    "duration": 37,
    "start_time": "2022-02-10T21:37:24.375Z"
   },
   {
    "duration": 742,
    "start_time": "2022-02-10T21:39:42.169Z"
   },
   {
    "duration": 479,
    "start_time": "2022-02-10T21:39:42.913Z"
   },
   {
    "duration": 3,
    "start_time": "2022-02-10T21:39:43.395Z"
   },
   {
    "duration": 85,
    "start_time": "2022-02-10T21:39:43.401Z"
   },
   {
    "duration": 61,
    "start_time": "2022-02-10T21:39:43.489Z"
   },
   {
    "duration": 11,
    "start_time": "2022-02-10T21:39:43.552Z"
   },
   {
    "duration": 55,
    "start_time": "2022-02-10T21:39:43.565Z"
   },
   {
    "duration": 62,
    "start_time": "2022-02-10T21:39:43.624Z"
   },
   {
    "duration": 16,
    "start_time": "2022-02-10T21:39:43.689Z"
   },
   {
    "duration": 89,
    "start_time": "2022-02-10T21:39:43.707Z"
   },
   {
    "duration": 39,
    "start_time": "2022-02-10T21:39:43.798Z"
   },
   {
    "duration": 27,
    "start_time": "2022-02-10T21:39:43.848Z"
   },
   {
    "duration": 98,
    "start_time": "2022-02-10T21:39:43.877Z"
   },
   {
    "duration": 5,
    "start_time": "2022-02-10T21:39:43.978Z"
   },
   {
    "duration": 73,
    "start_time": "2022-02-10T21:39:43.986Z"
   },
   {
    "duration": 39,
    "start_time": "2022-02-10T21:39:44.062Z"
   },
   {
    "duration": 54,
    "start_time": "2022-02-10T21:39:44.104Z"
   },
   {
    "duration": 17,
    "start_time": "2022-02-10T21:39:44.161Z"
   },
   {
    "duration": 6,
    "start_time": "2022-02-10T21:39:44.180Z"
   },
   {
    "duration": 62,
    "start_time": "2022-02-10T21:39:44.188Z"
   },
   {
    "duration": 18,
    "start_time": "2022-02-10T21:39:44.252Z"
   },
   {
    "duration": 11,
    "start_time": "2022-02-10T21:39:44.273Z"
   },
   {
    "duration": 25,
    "start_time": "2022-02-10T21:39:44.288Z"
   },
   {
    "duration": 46,
    "start_time": "2022-02-10T21:39:44.315Z"
   },
   {
    "duration": 9,
    "start_time": "2022-02-10T21:39:44.363Z"
   },
   {
    "duration": 2281,
    "start_time": "2022-02-10T21:39:44.375Z"
   },
   {
    "duration": 2233,
    "start_time": "2022-02-10T21:39:46.659Z"
   },
   {
    "duration": 98,
    "start_time": "2022-02-10T21:39:48.904Z"
   },
   {
    "duration": 1457,
    "start_time": "2022-02-10T21:39:47.547Z"
   },
   {
    "duration": 1939,
    "start_time": "2022-02-10T21:42:26.903Z"
   },
   {
    "duration": 584,
    "start_time": "2022-02-11T13:46:21.980Z"
   },
   {
    "duration": 391,
    "start_time": "2022-02-11T13:46:22.565Z"
   },
   {
    "duration": 2,
    "start_time": "2022-02-11T13:46:22.958Z"
   },
   {
    "duration": 64,
    "start_time": "2022-02-11T13:46:22.962Z"
   },
   {
    "duration": 44,
    "start_time": "2022-02-11T13:46:23.028Z"
   },
   {
    "duration": 7,
    "start_time": "2022-02-11T13:46:23.074Z"
   },
   {
    "duration": 36,
    "start_time": "2022-02-11T13:46:23.084Z"
   },
   {
    "duration": 48,
    "start_time": "2022-02-11T13:46:23.123Z"
   },
   {
    "duration": 12,
    "start_time": "2022-02-11T13:46:23.173Z"
   },
   {
    "duration": 44,
    "start_time": "2022-02-11T13:46:23.187Z"
   },
   {
    "duration": 47,
    "start_time": "2022-02-11T13:46:23.232Z"
   },
   {
    "duration": 16,
    "start_time": "2022-02-11T13:46:23.281Z"
   },
   {
    "duration": 63,
    "start_time": "2022-02-11T13:46:23.298Z"
   },
   {
    "duration": 5,
    "start_time": "2022-02-11T13:46:23.363Z"
   },
   {
    "duration": 33,
    "start_time": "2022-02-11T13:46:23.370Z"
   },
   {
    "duration": 23,
    "start_time": "2022-02-11T13:46:23.405Z"
   },
   {
    "duration": 16,
    "start_time": "2022-02-11T13:46:23.460Z"
   },
   {
    "duration": 11,
    "start_time": "2022-02-11T13:46:23.477Z"
   },
   {
    "duration": 5,
    "start_time": "2022-02-11T13:46:23.489Z"
   },
   {
    "duration": 18,
    "start_time": "2022-02-11T13:46:23.496Z"
   },
   {
    "duration": 11,
    "start_time": "2022-02-11T13:46:23.516Z"
   },
   {
    "duration": 34,
    "start_time": "2022-02-11T13:46:23.528Z"
   },
   {
    "duration": 17,
    "start_time": "2022-02-11T13:46:23.565Z"
   },
   {
    "duration": 10,
    "start_time": "2022-02-11T13:46:23.584Z"
   },
   {
    "duration": 4,
    "start_time": "2022-02-11T13:46:23.596Z"
   },
   {
    "duration": 1385,
    "start_time": "2022-02-11T13:46:23.602Z"
   },
   {
    "duration": 1149,
    "start_time": "2022-02-11T13:46:24.988Z"
   },
   {
    "duration": 58,
    "start_time": "2022-02-11T13:46:26.139Z"
   },
   {
    "duration": 783,
    "start_time": "2022-02-11T13:46:25.416Z"
   },
   {
    "duration": 20,
    "start_time": "2022-02-11T17:13:28.093Z"
   },
   {
    "duration": 20,
    "start_time": "2022-02-11T17:13:33.141Z"
   },
   {
    "duration": 13,
    "start_time": "2022-02-11T17:16:03.876Z"
   },
   {
    "duration": 12,
    "start_time": "2022-02-11T17:16:45.942Z"
   },
   {
    "duration": 14,
    "start_time": "2022-02-11T17:19:35.180Z"
   },
   {
    "duration": 37,
    "start_time": "2022-02-11T17:20:30.335Z"
   },
   {
    "duration": 32,
    "start_time": "2022-02-11T17:20:45.978Z"
   },
   {
    "duration": 32,
    "start_time": "2022-02-11T17:20:57.945Z"
   },
   {
    "duration": 22,
    "start_time": "2022-02-11T17:23:54.202Z"
   },
   {
    "duration": 18,
    "start_time": "2022-02-11T17:26:03.667Z"
   },
   {
    "duration": 2948,
    "start_time": "2022-02-11T17:29:53.481Z"
   },
   {
    "duration": 2370,
    "start_time": "2022-02-11T17:30:25.464Z"
   },
   {
    "duration": 2289,
    "start_time": "2022-02-11T17:30:47.374Z"
   },
   {
    "duration": 8,
    "start_time": "2022-02-11T17:31:33.167Z"
   },
   {
    "duration": 13,
    "start_time": "2022-02-11T17:31:44.503Z"
   },
   {
    "duration": 178,
    "start_time": "2022-02-11T17:32:01.464Z"
   },
   {
    "duration": 5,
    "start_time": "2022-02-11T17:32:07.752Z"
   },
   {
    "duration": 5,
    "start_time": "2022-02-11T17:32:47.624Z"
   },
   {
    "duration": 329,
    "start_time": "2022-02-11T17:33:41.704Z"
   },
   {
    "duration": 272,
    "start_time": "2022-02-11T17:33:54.329Z"
   },
   {
    "duration": 177,
    "start_time": "2022-02-11T17:38:43.742Z"
   },
   {
    "duration": 7,
    "start_time": "2022-02-11T17:39:01.106Z"
   },
   {
    "duration": 5,
    "start_time": "2022-02-11T17:39:16.798Z"
   },
   {
    "duration": 2333,
    "start_time": "2022-02-11T17:40:02.006Z"
   },
   {
    "duration": 7,
    "start_time": "2022-02-11T17:40:28.361Z"
   },
   {
    "duration": 12,
    "start_time": "2022-02-11T17:41:24.064Z"
   },
   {
    "duration": 5,
    "start_time": "2022-02-11T17:41:54.552Z"
   },
   {
    "duration": 4,
    "start_time": "2022-02-11T17:45:28.547Z"
   },
   {
    "duration": 12,
    "start_time": "2022-02-11T18:04:29.445Z"
   },
   {
    "duration": 6,
    "start_time": "2022-02-11T18:04:33.588Z"
   },
   {
    "duration": 592,
    "start_time": "2022-02-11T18:04:38.936Z"
   },
   {
    "duration": 370,
    "start_time": "2022-02-11T18:04:39.530Z"
   },
   {
    "duration": 3,
    "start_time": "2022-02-11T18:04:39.902Z"
   },
   {
    "duration": 61,
    "start_time": "2022-02-11T18:04:39.907Z"
   },
   {
    "duration": 35,
    "start_time": "2022-02-11T18:04:39.969Z"
   },
   {
    "duration": 6,
    "start_time": "2022-02-11T18:04:40.005Z"
   },
   {
    "duration": 50,
    "start_time": "2022-02-11T18:04:40.013Z"
   },
   {
    "duration": 32,
    "start_time": "2022-02-11T18:04:40.065Z"
   },
   {
    "duration": 11,
    "start_time": "2022-02-11T18:04:40.099Z"
   },
   {
    "duration": 62,
    "start_time": "2022-02-11T18:04:40.112Z"
   },
   {
    "duration": 28,
    "start_time": "2022-02-11T18:04:40.176Z"
   },
   {
    "duration": 16,
    "start_time": "2022-02-11T18:04:40.205Z"
   },
   {
    "duration": 65,
    "start_time": "2022-02-11T18:04:40.223Z"
   },
   {
    "duration": 4,
    "start_time": "2022-02-11T18:04:40.289Z"
   },
   {
    "duration": 21,
    "start_time": "2022-02-11T18:04:40.295Z"
   },
   {
    "duration": 46,
    "start_time": "2022-02-11T18:04:40.317Z"
   },
   {
    "duration": 14,
    "start_time": "2022-02-11T18:04:40.365Z"
   },
   {
    "duration": 11,
    "start_time": "2022-02-11T18:04:40.381Z"
   },
   {
    "duration": 7,
    "start_time": "2022-02-11T18:04:40.394Z"
   },
   {
    "duration": 18,
    "start_time": "2022-02-11T18:04:40.403Z"
   },
   {
    "duration": 44,
    "start_time": "2022-02-11T18:04:40.422Z"
   },
   {
    "duration": 10,
    "start_time": "2022-02-11T18:04:40.467Z"
   },
   {
    "duration": 15,
    "start_time": "2022-02-11T18:04:40.480Z"
   },
   {
    "duration": 10,
    "start_time": "2022-02-11T18:04:40.497Z"
   },
   {
    "duration": 5,
    "start_time": "2022-02-11T18:04:40.508Z"
   },
   {
    "duration": 1372,
    "start_time": "2022-02-11T18:04:40.515Z"
   },
   {
    "duration": 1144,
    "start_time": "2022-02-11T18:04:41.888Z"
   },
   {
    "duration": 12,
    "start_time": "2022-02-11T18:04:43.034Z"
   },
   {
    "duration": 330,
    "start_time": "2022-02-11T18:04:43.059Z"
   },
   {
    "duration": 57,
    "start_time": "2022-02-11T18:04:43.391Z"
   },
   {
    "duration": 549,
    "start_time": "2022-02-11T18:05:43.266Z"
   },
   {
    "duration": 372,
    "start_time": "2022-02-11T18:05:43.817Z"
   },
   {
    "duration": 3,
    "start_time": "2022-02-11T18:05:44.193Z"
   },
   {
    "duration": 67,
    "start_time": "2022-02-11T18:05:44.198Z"
   },
   {
    "duration": 36,
    "start_time": "2022-02-11T18:05:44.267Z"
   },
   {
    "duration": 7,
    "start_time": "2022-02-11T18:05:44.304Z"
   },
   {
    "duration": 49,
    "start_time": "2022-02-11T18:05:44.313Z"
   },
   {
    "duration": 33,
    "start_time": "2022-02-11T18:05:44.364Z"
   },
   {
    "duration": 12,
    "start_time": "2022-02-11T18:05:44.398Z"
   },
   {
    "duration": 63,
    "start_time": "2022-02-11T18:05:44.412Z"
   },
   {
    "duration": 28,
    "start_time": "2022-02-11T18:05:44.477Z"
   },
   {
    "duration": 18,
    "start_time": "2022-02-11T18:05:44.507Z"
   },
   {
    "duration": 68,
    "start_time": "2022-02-11T18:05:44.527Z"
   },
   {
    "duration": 4,
    "start_time": "2022-02-11T18:05:44.596Z"
   },
   {
    "duration": 20,
    "start_time": "2022-02-11T18:05:44.601Z"
   },
   {
    "duration": 2,
    "start_time": "2022-02-11T18:05:44.623Z"
   },
   {
    "duration": 41,
    "start_time": "2022-02-11T18:05:44.626Z"
   },
   {
    "duration": 13,
    "start_time": "2022-02-11T18:05:44.668Z"
   },
   {
    "duration": 8,
    "start_time": "2022-02-11T18:05:44.683Z"
   },
   {
    "duration": 20,
    "start_time": "2022-02-11T18:05:44.692Z"
   },
   {
    "duration": 10,
    "start_time": "2022-02-11T18:05:44.714Z"
   },
   {
    "duration": 39,
    "start_time": "2022-02-11T18:05:44.727Z"
   },
   {
    "duration": 17,
    "start_time": "2022-02-11T18:05:44.768Z"
   },
   {
    "duration": 11,
    "start_time": "2022-02-11T18:05:44.786Z"
   },
   {
    "duration": 4,
    "start_time": "2022-02-11T18:05:44.799Z"
   },
   {
    "duration": 1405,
    "start_time": "2022-02-11T18:05:44.804Z"
   },
   {
    "duration": 1177,
    "start_time": "2022-02-11T18:05:46.211Z"
   },
   {
    "duration": 13,
    "start_time": "2022-02-11T18:05:47.389Z"
   },
   {
    "duration": 374,
    "start_time": "2022-02-11T18:05:47.403Z"
   },
   {
    "duration": 64,
    "start_time": "2022-02-11T18:05:47.779Z"
   },
   {
    "duration": 5,
    "start_time": "2022-02-11T18:07:02.020Z"
   },
   {
    "duration": 5,
    "start_time": "2022-02-11T18:07:09.291Z"
   },
   {
    "duration": 566,
    "start_time": "2022-02-11T18:13:06.546Z"
   },
   {
    "duration": 386,
    "start_time": "2022-02-11T18:13:07.113Z"
   },
   {
    "duration": 3,
    "start_time": "2022-02-11T18:13:07.501Z"
   },
   {
    "duration": 67,
    "start_time": "2022-02-11T18:13:07.505Z"
   },
   {
    "duration": 37,
    "start_time": "2022-02-11T18:13:07.573Z"
   },
   {
    "duration": 7,
    "start_time": "2022-02-11T18:13:07.611Z"
   },
   {
    "duration": 49,
    "start_time": "2022-02-11T18:13:07.620Z"
   },
   {
    "duration": 33,
    "start_time": "2022-02-11T18:13:07.672Z"
   },
   {
    "duration": 14,
    "start_time": "2022-02-11T18:13:07.707Z"
   },
   {
    "duration": 61,
    "start_time": "2022-02-11T18:13:07.723Z"
   },
   {
    "duration": 28,
    "start_time": "2022-02-11T18:13:07.786Z"
   },
   {
    "duration": 17,
    "start_time": "2022-02-11T18:13:07.815Z"
   },
   {
    "duration": 68,
    "start_time": "2022-02-11T18:13:07.834Z"
   },
   {
    "duration": 4,
    "start_time": "2022-02-11T18:13:07.904Z"
   },
   {
    "duration": 20,
    "start_time": "2022-02-11T18:13:07.909Z"
   },
   {
    "duration": 2,
    "start_time": "2022-02-11T18:13:07.931Z"
   },
   {
    "duration": 17,
    "start_time": "2022-02-11T18:13:07.958Z"
   },
   {
    "duration": 11,
    "start_time": "2022-02-11T18:13:07.976Z"
   },
   {
    "duration": 5,
    "start_time": "2022-02-11T18:13:07.989Z"
   },
   {
    "duration": 16,
    "start_time": "2022-02-11T18:13:07.996Z"
   },
   {
    "duration": 10,
    "start_time": "2022-02-11T18:13:08.013Z"
   },
   {
    "duration": 35,
    "start_time": "2022-02-11T18:13:08.025Z"
   },
   {
    "duration": 15,
    "start_time": "2022-02-11T18:13:08.063Z"
   },
   {
    "duration": 11,
    "start_time": "2022-02-11T18:13:08.080Z"
   },
   {
    "duration": 6,
    "start_time": "2022-02-11T18:13:08.093Z"
   },
   {
    "duration": 1399,
    "start_time": "2022-02-11T18:13:08.101Z"
   },
   {
    "duration": 1137,
    "start_time": "2022-02-11T18:13:09.502Z"
   },
   {
    "duration": 26,
    "start_time": "2022-02-11T18:13:10.641Z"
   },
   {
    "duration": 325,
    "start_time": "2022-02-11T18:13:10.669Z"
   },
   {
    "duration": 56,
    "start_time": "2022-02-11T18:13:10.995Z"
   },
   {
    "duration": 44,
    "start_time": "2022-02-11T19:05:07.932Z"
   },
   {
    "duration": 377,
    "start_time": "2022-02-11T19:06:03.404Z"
   },
   {
    "duration": 14,
    "start_time": "2022-02-11T19:07:20.727Z"
   },
   {
    "duration": 5,
    "start_time": "2022-02-11T19:07:23.085Z"
   },
   {
    "duration": 65,
    "start_time": "2022-02-11T19:08:45.590Z"
   },
   {
    "duration": 2192,
    "start_time": "2022-02-11T19:08:54.007Z"
   },
   {
    "duration": 2607,
    "start_time": "2022-02-11T19:09:17.758Z"
   },
   {
    "duration": 169,
    "start_time": "2022-02-11T19:09:37.294Z"
   },
   {
    "duration": 5,
    "start_time": "2022-02-11T19:09:50.431Z"
   },
   {
    "duration": 2200,
    "start_time": "2022-02-11T19:18:43.069Z"
   },
   {
    "duration": 2702,
    "start_time": "2022-02-11T19:19:14.518Z"
   },
   {
    "duration": 57,
    "start_time": "2022-02-11T19:19:30.104Z"
   },
   {
    "duration": 176,
    "start_time": "2022-02-11T19:20:09.888Z"
   },
   {
    "duration": 6,
    "start_time": "2022-02-11T19:20:16.295Z"
   },
   {
    "duration": 5,
    "start_time": "2022-02-11T19:20:27.966Z"
   },
   {
    "duration": 7,
    "start_time": "2022-02-11T19:20:36.126Z"
   },
   {
    "duration": 590,
    "start_time": "2022-02-11T19:57:16.670Z"
   },
   {
    "duration": 377,
    "start_time": "2022-02-11T19:57:17.262Z"
   },
   {
    "duration": 2,
    "start_time": "2022-02-11T19:57:17.641Z"
   },
   {
    "duration": 60,
    "start_time": "2022-02-11T19:57:17.645Z"
   },
   {
    "duration": 36,
    "start_time": "2022-02-11T19:57:17.707Z"
   },
   {
    "duration": 19,
    "start_time": "2022-02-11T19:57:17.744Z"
   },
   {
    "duration": 48,
    "start_time": "2022-02-11T19:57:17.764Z"
   },
   {
    "duration": 35,
    "start_time": "2022-02-11T19:57:17.815Z"
   },
   {
    "duration": 21,
    "start_time": "2022-02-11T19:57:17.852Z"
   },
   {
    "duration": 45,
    "start_time": "2022-02-11T19:57:17.874Z"
   },
   {
    "duration": 50,
    "start_time": "2022-02-11T19:57:17.921Z"
   },
   {
    "duration": 17,
    "start_time": "2022-02-11T19:57:17.973Z"
   },
   {
    "duration": 46,
    "start_time": "2022-02-11T19:57:17.992Z"
   },
   {
    "duration": 4,
    "start_time": "2022-02-11T19:57:18.060Z"
   },
   {
    "duration": 23,
    "start_time": "2022-02-11T19:57:18.065Z"
   },
   {
    "duration": 2,
    "start_time": "2022-02-11T19:57:18.090Z"
   },
   {
    "duration": 19,
    "start_time": "2022-02-11T19:57:18.093Z"
   },
   {
    "duration": 11,
    "start_time": "2022-02-11T19:57:18.113Z"
   },
   {
    "duration": 35,
    "start_time": "2022-02-11T19:57:18.125Z"
   },
   {
    "duration": 16,
    "start_time": "2022-02-11T19:57:18.161Z"
   },
   {
    "duration": 11,
    "start_time": "2022-02-11T19:57:18.178Z"
   },
   {
    "duration": 7,
    "start_time": "2022-02-11T19:57:18.191Z"
   },
   {
    "duration": 15,
    "start_time": "2022-02-11T19:57:18.201Z"
   },
   {
    "duration": 44,
    "start_time": "2022-02-11T19:57:18.218Z"
   },
   {
    "duration": 5,
    "start_time": "2022-02-11T19:57:18.264Z"
   },
   {
    "duration": 1388,
    "start_time": "2022-02-11T19:57:18.271Z"
   },
   {
    "duration": 1315,
    "start_time": "2022-02-11T19:57:19.661Z"
   },
   {
    "duration": 12,
    "start_time": "2022-02-11T19:57:20.978Z"
   },
   {
    "duration": 374,
    "start_time": "2022-02-11T19:57:20.991Z"
   },
   {
    "duration": 63,
    "start_time": "2022-02-11T19:57:21.367Z"
   },
   {
    "duration": 250,
    "start_time": "2022-02-11T20:00:13.337Z"
   },
   {
    "duration": 1078,
    "start_time": "2022-02-11T20:00:52.513Z"
   },
   {
    "duration": 379,
    "start_time": "2022-02-11T20:00:53.593Z"
   },
   {
    "duration": 2,
    "start_time": "2022-02-11T20:00:53.974Z"
   },
   {
    "duration": 59,
    "start_time": "2022-02-11T20:00:53.978Z"
   },
   {
    "duration": 36,
    "start_time": "2022-02-11T20:00:54.039Z"
   },
   {
    "duration": 7,
    "start_time": "2022-02-11T20:00:54.076Z"
   },
   {
    "duration": 38,
    "start_time": "2022-02-11T20:00:54.084Z"
   },
   {
    "duration": 45,
    "start_time": "2022-02-11T20:00:54.124Z"
   },
   {
    "duration": 15,
    "start_time": "2022-02-11T20:00:54.171Z"
   },
   {
    "duration": 42,
    "start_time": "2022-02-11T20:00:54.188Z"
   },
   {
    "duration": 47,
    "start_time": "2022-02-11T20:00:54.232Z"
   },
   {
    "duration": 18,
    "start_time": "2022-02-11T20:00:54.281Z"
   },
   {
    "duration": 65,
    "start_time": "2022-02-11T20:00:54.301Z"
   },
   {
    "duration": 5,
    "start_time": "2022-02-11T20:00:54.368Z"
   },
   {
    "duration": 19,
    "start_time": "2022-02-11T20:00:54.375Z"
   },
   {
    "duration": 2,
    "start_time": "2022-02-11T20:00:54.396Z"
   },
   {
    "duration": 265,
    "start_time": "2022-02-11T20:00:54.399Z"
   },
   {
    "duration": 1167,
    "start_time": "2022-02-11T20:00:53.499Z"
   },
   {
    "duration": 1161,
    "start_time": "2022-02-11T20:00:53.507Z"
   },
   {
    "duration": 1156,
    "start_time": "2022-02-11T20:00:53.513Z"
   },
   {
    "duration": 1139,
    "start_time": "2022-02-11T20:00:53.531Z"
   },
   {
    "duration": 1136,
    "start_time": "2022-02-11T20:00:53.536Z"
   },
   {
    "duration": 1108,
    "start_time": "2022-02-11T20:00:53.565Z"
   },
   {
    "duration": 1106,
    "start_time": "2022-02-11T20:00:53.569Z"
   },
   {
    "duration": 1102,
    "start_time": "2022-02-11T20:00:53.574Z"
   },
   {
    "duration": 1100,
    "start_time": "2022-02-11T20:00:53.578Z"
   },
   {
    "duration": 1098,
    "start_time": "2022-02-11T20:00:53.581Z"
   },
   {
    "duration": 1097,
    "start_time": "2022-02-11T20:00:53.584Z"
   },
   {
    "duration": 1096,
    "start_time": "2022-02-11T20:00:53.586Z"
   },
   {
    "duration": 1096,
    "start_time": "2022-02-11T20:00:53.588Z"
   },
   {
    "duration": 1094,
    "start_time": "2022-02-11T20:00:53.591Z"
   },
   {
    "duration": 196,
    "start_time": "2022-02-11T20:01:11.245Z"
   },
   {
    "duration": 398,
    "start_time": "2022-02-11T20:01:26.909Z"
   },
   {
    "duration": 535,
    "start_time": "2022-02-11T20:04:14.099Z"
   },
   {
    "duration": 396,
    "start_time": "2022-02-11T20:04:14.636Z"
   },
   {
    "duration": 3,
    "start_time": "2022-02-11T20:04:15.034Z"
   },
   {
    "duration": 67,
    "start_time": "2022-02-11T20:04:15.039Z"
   },
   {
    "duration": 39,
    "start_time": "2022-02-11T20:04:15.107Z"
   },
   {
    "duration": 7,
    "start_time": "2022-02-11T20:04:15.159Z"
   },
   {
    "duration": 41,
    "start_time": "2022-02-11T20:04:15.168Z"
   },
   {
    "duration": 47,
    "start_time": "2022-02-11T20:04:15.212Z"
   },
   {
    "duration": 13,
    "start_time": "2022-02-11T20:04:15.261Z"
   },
   {
    "duration": 44,
    "start_time": "2022-02-11T20:04:15.276Z"
   },
   {
    "duration": 56,
    "start_time": "2022-02-11T20:04:15.322Z"
   },
   {
    "duration": 20,
    "start_time": "2022-02-11T20:04:15.380Z"
   },
   {
    "duration": 63,
    "start_time": "2022-02-11T20:04:15.402Z"
   },
   {
    "duration": 5,
    "start_time": "2022-02-11T20:04:15.467Z"
   },
   {
    "duration": 30,
    "start_time": "2022-02-11T20:04:15.474Z"
   },
   {
    "duration": 3,
    "start_time": "2022-02-11T20:04:15.505Z"
   },
   {
    "duration": 50,
    "start_time": "2022-02-11T20:04:15.510Z"
   },
   {
    "duration": 12,
    "start_time": "2022-02-11T20:04:15.562Z"
   },
   {
    "duration": 11,
    "start_time": "2022-02-11T20:04:15.575Z"
   },
   {
    "duration": 19,
    "start_time": "2022-02-11T20:04:15.588Z"
   },
   {
    "duration": 11,
    "start_time": "2022-02-11T20:04:15.609Z"
   },
   {
    "duration": 11,
    "start_time": "2022-02-11T20:04:15.621Z"
   },
   {
    "duration": 34,
    "start_time": "2022-02-11T20:04:15.636Z"
   },
   {
    "duration": 10,
    "start_time": "2022-02-11T20:04:15.672Z"
   },
   {
    "duration": 9,
    "start_time": "2022-02-11T20:04:15.684Z"
   },
   {
    "duration": 1459,
    "start_time": "2022-02-11T20:04:15.694Z"
   },
   {
    "duration": 1198,
    "start_time": "2022-02-11T20:04:17.159Z"
   },
   {
    "duration": 13,
    "start_time": "2022-02-11T20:04:18.358Z"
   },
   {
    "duration": 329,
    "start_time": "2022-02-11T20:04:18.372Z"
   },
   {
    "duration": 63,
    "start_time": "2022-02-11T20:04:18.703Z"
   },
   {
    "duration": 752,
    "start_time": "2022-02-12T13:31:59.800Z"
   },
   {
    "duration": 567,
    "start_time": "2022-02-12T13:32:00.556Z"
   },
   {
    "duration": 4,
    "start_time": "2022-02-12T13:32:01.127Z"
   },
   {
    "duration": 125,
    "start_time": "2022-02-12T13:32:01.135Z"
   },
   {
    "duration": 49,
    "start_time": "2022-02-12T13:32:01.263Z"
   },
   {
    "duration": 12,
    "start_time": "2022-02-12T13:32:01.315Z"
   },
   {
    "duration": 82,
    "start_time": "2022-02-12T13:32:01.330Z"
   },
   {
    "duration": 63,
    "start_time": "2022-02-12T13:32:01.418Z"
   },
   {
    "duration": 15,
    "start_time": "2022-02-12T13:32:01.484Z"
   },
   {
    "duration": 91,
    "start_time": "2022-02-12T13:32:01.501Z"
   },
   {
    "duration": 39,
    "start_time": "2022-02-12T13:32:01.595Z"
   },
   {
    "duration": 42,
    "start_time": "2022-02-12T13:32:01.637Z"
   },
   {
    "duration": 105,
    "start_time": "2022-02-12T13:32:01.681Z"
   },
   {
    "duration": 6,
    "start_time": "2022-02-12T13:32:01.790Z"
   },
   {
    "duration": 60,
    "start_time": "2022-02-12T13:32:01.799Z"
   },
   {
    "duration": 4,
    "start_time": "2022-02-12T13:32:01.861Z"
   },
   {
    "duration": 29,
    "start_time": "2022-02-12T13:32:01.868Z"
   },
   {
    "duration": 20,
    "start_time": "2022-02-12T13:32:01.900Z"
   },
   {
    "duration": 39,
    "start_time": "2022-02-12T13:32:01.923Z"
   },
   {
    "duration": 27,
    "start_time": "2022-02-12T13:32:01.965Z"
   },
   {
    "duration": 15,
    "start_time": "2022-02-12T13:32:01.994Z"
   },
   {
    "duration": 10,
    "start_time": "2022-02-12T13:32:02.011Z"
   },
   {
    "duration": 53,
    "start_time": "2022-02-12T13:32:02.025Z"
   },
   {
    "duration": 16,
    "start_time": "2022-02-12T13:32:02.082Z"
   },
   {
    "duration": 10,
    "start_time": "2022-02-12T13:32:02.100Z"
   },
   {
    "duration": 2331,
    "start_time": "2022-02-12T13:32:02.112Z"
   },
   {
    "duration": 1825,
    "start_time": "2022-02-12T13:32:04.445Z"
   },
   {
    "duration": 23,
    "start_time": "2022-02-12T13:32:06.272Z"
   },
   {
    "duration": 469,
    "start_time": "2022-02-12T13:32:06.298Z"
   },
   {
    "duration": 120,
    "start_time": "2022-02-12T13:32:06.770Z"
   },
   {
    "duration": 754,
    "start_time": "2022-02-12T15:41:03.974Z"
   },
   {
    "duration": 606,
    "start_time": "2022-02-12T15:41:05.630Z"
   },
   {
    "duration": 25,
    "start_time": "2022-02-12T15:41:06.350Z"
   },
   {
    "duration": 14,
    "start_time": "2022-02-12T15:41:51.568Z"
   },
   {
    "duration": 20,
    "start_time": "2022-02-12T15:42:18.888Z"
   },
   {
    "duration": 19,
    "start_time": "2022-02-12T15:42:59.579Z"
   },
   {
    "duration": 12,
    "start_time": "2022-02-12T15:44:39.313Z"
   },
   {
    "duration": 21,
    "start_time": "2022-02-12T15:46:18.066Z"
   },
   {
    "duration": 41,
    "start_time": "2022-02-12T15:50:22.097Z"
   },
   {
    "duration": 49,
    "start_time": "2022-02-12T15:50:27.822Z"
   },
   {
    "duration": 39,
    "start_time": "2022-02-12T15:50:34.605Z"
   },
   {
    "duration": 38,
    "start_time": "2022-02-12T15:50:47.805Z"
   },
   {
    "duration": 21,
    "start_time": "2022-02-12T15:50:52.277Z"
   },
   {
    "duration": 13,
    "start_time": "2022-02-12T15:51:03.830Z"
   },
   {
    "duration": 9713,
    "start_time": "2022-02-12T15:51:08.718Z"
   },
   {
    "duration": 472,
    "start_time": "2022-02-12T15:52:09.357Z"
   },
   {
    "duration": 18624,
    "start_time": "2022-02-12T15:55:49.966Z"
   },
   {
    "duration": 1047,
    "start_time": "2022-02-12T15:56:36.408Z"
   },
   {
    "duration": 610,
    "start_time": "2022-02-12T15:56:38.280Z"
   },
   {
    "duration": 10747,
    "start_time": "2022-02-12T16:04:33.771Z"
   },
   {
    "duration": 9495,
    "start_time": "2022-02-12T16:05:06.712Z"
   },
   {
    "duration": 94,
    "start_time": "2022-02-12T16:05:30.080Z"
   },
   {
    "duration": 8,
    "start_time": "2022-02-12T16:06:34.763Z"
   },
   {
    "duration": 4,
    "start_time": "2022-02-12T16:09:38.610Z"
   },
   {
    "duration": 3,
    "start_time": "2022-02-12T16:10:11.083Z"
   },
   {
    "duration": 16,
    "start_time": "2022-02-12T16:11:29.355Z"
   },
   {
    "duration": 20,
    "start_time": "2022-02-12T16:13:20.453Z"
   },
   {
    "duration": 468,
    "start_time": "2022-02-12T16:14:54.470Z"
   },
   {
    "duration": 54,
    "start_time": "2022-02-12T16:16:05.600Z"
   },
   {
    "duration": 7,
    "start_time": "2022-02-12T16:16:20.951Z"
   },
   {
    "duration": 940,
    "start_time": "2022-02-12T16:16:38.600Z"
   },
   {
    "duration": 683,
    "start_time": "2022-02-12T16:16:40.145Z"
   },
   {
    "duration": 89,
    "start_time": "2022-02-12T16:16:40.831Z"
   },
   {
    "duration": 9,
    "start_time": "2022-02-12T16:16:44.169Z"
   },
   {
    "duration": 470,
    "start_time": "2022-02-12T16:16:46.441Z"
   },
   {
    "duration": 8,
    "start_time": "2022-02-12T16:16:57.080Z"
   },
   {
    "duration": 23,
    "start_time": "2022-02-12T16:17:04.327Z"
   },
   {
    "duration": 9,
    "start_time": "2022-02-12T16:17:07.488Z"
   },
   {
    "duration": 80,
    "start_time": "2022-02-12T16:17:26.377Z"
   },
   {
    "duration": 777,
    "start_time": "2022-02-12T16:18:13.172Z"
   },
   {
    "duration": 526,
    "start_time": "2022-02-12T16:18:13.951Z"
   },
   {
    "duration": 91,
    "start_time": "2022-02-12T16:18:14.479Z"
   },
   {
    "duration": 159,
    "start_time": "2022-02-12T16:18:14.573Z"
   },
   {
    "duration": 451,
    "start_time": "2022-02-12T16:18:14.734Z"
   },
   {
    "duration": 17,
    "start_time": "2022-02-12T16:18:15.187Z"
   },
   {
    "duration": 6,
    "start_time": "2022-02-12T16:18:15.206Z"
   },
   {
    "duration": 51,
    "start_time": "2022-02-12T16:18:20.477Z"
   },
   {
    "duration": 483,
    "start_time": "2022-02-12T16:22:35.528Z"
   },
   {
    "duration": 54,
    "start_time": "2022-02-12T16:22:42.808Z"
   },
   {
    "duration": 356,
    "start_time": "2022-02-12T16:24:12.874Z"
   },
   {
    "duration": 880,
    "start_time": "2022-02-12T16:25:10.329Z"
   },
   {
    "duration": 548,
    "start_time": "2022-02-12T16:25:11.212Z"
   },
   {
    "duration": 110,
    "start_time": "2022-02-12T16:25:11.763Z"
   },
   {
    "duration": 163,
    "start_time": "2022-02-12T16:25:11.876Z"
   },
   {
    "duration": 459,
    "start_time": "2022-02-12T16:25:12.042Z"
   },
   {
    "duration": 15,
    "start_time": "2022-02-12T16:25:12.503Z"
   },
   {
    "duration": 70,
    "start_time": "2022-02-12T16:25:12.520Z"
   },
   {
    "duration": 16,
    "start_time": "2022-02-12T16:25:16.018Z"
   },
   {
    "duration": 45,
    "start_time": "2022-02-12T16:26:34.429Z"
   },
   {
    "duration": 31,
    "start_time": "2022-02-12T16:29:05.726Z"
   },
   {
    "duration": 23,
    "start_time": "2022-02-12T16:30:09.725Z"
   },
   {
    "duration": 21,
    "start_time": "2022-02-12T16:31:06.303Z"
   },
   {
    "duration": 45,
    "start_time": "2022-02-12T16:35:40.402Z"
   },
   {
    "duration": 57,
    "start_time": "2022-02-12T16:38:36.005Z"
   },
   {
    "duration": 717,
    "start_time": "2022-02-12T16:41:10.073Z"
   },
   {
    "duration": 373,
    "start_time": "2022-02-12T16:41:57.735Z"
   },
   {
    "duration": 22,
    "start_time": "2022-02-12T16:42:14.191Z"
   },
   {
    "duration": 14,
    "start_time": "2022-02-12T16:42:24.663Z"
   },
   {
    "duration": 745,
    "start_time": "2022-02-12T16:42:40.782Z"
   },
   {
    "duration": 531,
    "start_time": "2022-02-12T16:42:41.529Z"
   },
   {
    "duration": 56,
    "start_time": "2022-02-12T16:42:42.063Z"
   },
   {
    "duration": 115,
    "start_time": "2022-02-12T16:42:42.122Z"
   },
   {
    "duration": 161,
    "start_time": "2022-02-12T16:42:42.240Z"
   },
   {
    "duration": 458,
    "start_time": "2022-02-12T16:42:42.404Z"
   },
   {
    "duration": 17,
    "start_time": "2022-02-12T16:42:42.865Z"
   },
   {
    "duration": 35,
    "start_time": "2022-02-12T16:42:42.885Z"
   },
   {
    "duration": 43,
    "start_time": "2022-02-12T16:42:42.923Z"
   },
   {
    "duration": 38,
    "start_time": "2022-02-12T16:42:48.462Z"
   },
   {
    "duration": 29,
    "start_time": "2022-02-12T16:43:04.471Z"
   },
   {
    "duration": 516,
    "start_time": "2022-02-12T16:43:21.031Z"
   },
   {
    "duration": 26,
    "start_time": "2022-02-12T16:43:48.223Z"
   },
   {
    "duration": 373,
    "start_time": "2022-02-12T16:44:02.423Z"
   },
   {
    "duration": 777,
    "start_time": "2022-02-12T16:44:31.750Z"
   },
   {
    "duration": 566,
    "start_time": "2022-02-12T16:44:32.530Z"
   },
   {
    "duration": 69,
    "start_time": "2022-02-12T16:44:33.100Z"
   },
   {
    "duration": 111,
    "start_time": "2022-02-12T16:44:33.173Z"
   },
   {
    "duration": 158,
    "start_time": "2022-02-12T16:44:33.287Z"
   },
   {
    "duration": 459,
    "start_time": "2022-02-12T16:44:33.448Z"
   },
   {
    "duration": 17,
    "start_time": "2022-02-12T16:44:33.909Z"
   },
   {
    "duration": 53,
    "start_time": "2022-02-12T16:44:33.930Z"
   },
   {
    "duration": 31,
    "start_time": "2022-02-12T16:44:37.087Z"
   },
   {
    "duration": 772,
    "start_time": "2022-02-12T16:45:34.584Z"
   },
   {
    "duration": 71,
    "start_time": "2022-02-12T16:45:39.184Z"
   },
   {
    "duration": 65,
    "start_time": "2022-02-12T16:45:42.592Z"
   },
   {
    "duration": 50,
    "start_time": "2022-02-12T16:45:59.809Z"
   },
   {
    "duration": 59,
    "start_time": "2022-02-12T16:46:07.722Z"
   },
   {
    "duration": 42,
    "start_time": "2022-02-12T16:46:11.312Z"
   },
   {
    "duration": 1182,
    "start_time": "2022-02-12T16:54:01.203Z"
   },
   {
    "duration": 761,
    "start_time": "2022-02-12T16:54:02.389Z"
   },
   {
    "duration": 77,
    "start_time": "2022-02-12T16:54:03.154Z"
   },
   {
    "duration": 167,
    "start_time": "2022-02-12T16:54:03.235Z"
   },
   {
    "duration": 169,
    "start_time": "2022-02-12T16:54:03.404Z"
   },
   {
    "duration": 612,
    "start_time": "2022-02-12T16:54:03.575Z"
   },
   {
    "duration": 15,
    "start_time": "2022-02-12T16:54:04.189Z"
   },
   {
    "duration": 57,
    "start_time": "2022-02-12T16:54:04.208Z"
   },
   {
    "duration": 29,
    "start_time": "2022-02-12T16:54:04.268Z"
   },
   {
    "duration": 78,
    "start_time": "2022-02-12T16:54:04.299Z"
   },
   {
    "duration": 46,
    "start_time": "2022-02-12T16:54:04.379Z"
   },
   {
    "duration": 37,
    "start_time": "2022-02-12T16:54:09.158Z"
   },
   {
    "duration": 607,
    "start_time": "2022-02-12T16:55:01.908Z"
   },
   {
    "duration": 35,
    "start_time": "2022-02-12T16:55:40.288Z"
   },
   {
    "duration": 44,
    "start_time": "2022-02-12T16:56:45.480Z"
   },
   {
    "duration": 54,
    "start_time": "2022-02-12T16:59:38.548Z"
   },
   {
    "duration": 35,
    "start_time": "2022-02-12T16:59:45.717Z"
   },
   {
    "duration": 68,
    "start_time": "2022-02-12T17:01:31.054Z"
   },
   {
    "duration": 50,
    "start_time": "2022-02-12T17:01:37.685Z"
   },
   {
    "duration": 47,
    "start_time": "2022-02-12T17:01:52.309Z"
   },
   {
    "duration": 385,
    "start_time": "2022-02-12T17:03:22.079Z"
   },
   {
    "duration": 493,
    "start_time": "2022-02-12T17:03:45.423Z"
   },
   {
    "duration": 378,
    "start_time": "2022-02-12T17:04:06.127Z"
   },
   {
    "duration": 12,
    "start_time": "2022-02-12T17:04:27.710Z"
   },
   {
    "duration": 19,
    "start_time": "2022-02-12T17:07:22.305Z"
   },
   {
    "duration": 60,
    "start_time": "2022-02-12T17:07:37.530Z"
   },
   {
    "duration": 59,
    "start_time": "2022-02-12T17:07:43.434Z"
   },
   {
    "duration": 6,
    "start_time": "2022-02-12T17:08:17.186Z"
   },
   {
    "duration": 1749,
    "start_time": "2022-02-12T17:16:40.808Z"
   },
   {
    "duration": 791,
    "start_time": "2022-02-12T17:17:07.828Z"
   },
   {
    "duration": 551,
    "start_time": "2022-02-12T17:17:08.621Z"
   },
   {
    "duration": 55,
    "start_time": "2022-02-12T17:17:09.175Z"
   },
   {
    "duration": 100,
    "start_time": "2022-02-12T17:17:09.233Z"
   },
   {
    "duration": 161,
    "start_time": "2022-02-12T17:17:09.336Z"
   },
   {
    "duration": 446,
    "start_time": "2022-02-12T17:17:09.500Z"
   },
   {
    "duration": 20,
    "start_time": "2022-02-12T17:17:09.949Z"
   },
   {
    "duration": 30,
    "start_time": "2022-02-12T17:17:09.974Z"
   },
   {
    "duration": 67,
    "start_time": "2022-02-12T17:17:10.008Z"
   },
   {
    "duration": 14,
    "start_time": "2022-02-12T17:17:10.078Z"
   },
   {
    "duration": 78,
    "start_time": "2022-02-12T17:17:10.094Z"
   },
   {
    "duration": 43,
    "start_time": "2022-02-12T17:17:10.175Z"
   },
   {
    "duration": 58,
    "start_time": "2022-02-12T17:17:10.220Z"
   },
   {
    "duration": 11,
    "start_time": "2022-02-12T17:17:10.280Z"
   },
   {
    "duration": 87,
    "start_time": "2022-02-12T17:17:10.294Z"
   },
   {
    "duration": 5,
    "start_time": "2022-02-12T17:17:10.384Z"
   },
   {
    "duration": 710,
    "start_time": "2022-02-12T17:17:20.331Z"
   },
   {
    "duration": 9,
    "start_time": "2022-02-12T17:17:48.140Z"
   },
   {
    "duration": 618,
    "start_time": "2022-02-12T17:18:00.106Z"
   },
   {
    "duration": 9,
    "start_time": "2022-02-12T17:21:45.860Z"
   },
   {
    "duration": 12,
    "start_time": "2022-02-12T17:22:13.830Z"
   },
   {
    "duration": 502,
    "start_time": "2022-02-12T17:25:45.244Z"
   },
   {
    "duration": 46,
    "start_time": "2022-02-12T17:25:52.967Z"
   },
   {
    "duration": 3,
    "start_time": "2022-02-12T17:27:48.183Z"
   },
   {
    "duration": 448,
    "start_time": "2022-02-12T17:33:07.478Z"
   },
   {
    "duration": 42,
    "start_time": "2022-02-12T17:33:54.799Z"
   },
   {
    "duration": 520,
    "start_time": "2022-02-12T17:34:16.729Z"
   },
   {
    "duration": 532,
    "start_time": "2022-02-12T17:34:32.296Z"
   },
   {
    "duration": 399,
    "start_time": "2022-02-12T17:34:43.800Z"
   },
   {
    "duration": 393,
    "start_time": "2022-02-12T17:34:49.904Z"
   },
   {
    "duration": 52,
    "start_time": "2022-02-12T17:35:00.697Z"
   },
   {
    "duration": 62,
    "start_time": "2022-02-12T17:35:15.402Z"
   },
   {
    "duration": 406,
    "start_time": "2022-02-12T17:37:29.779Z"
   },
   {
    "duration": 61,
    "start_time": "2022-02-12T17:37:42.635Z"
   },
   {
    "duration": 62,
    "start_time": "2022-02-12T17:38:08.354Z"
   },
   {
    "duration": 47,
    "start_time": "2022-02-12T17:39:07.804Z"
   },
   {
    "duration": 63,
    "start_time": "2022-02-12T17:40:31.749Z"
   },
   {
    "duration": 47,
    "start_time": "2022-02-12T17:40:49.728Z"
   },
   {
    "duration": 47,
    "start_time": "2022-02-12T17:43:08.526Z"
   },
   {
    "duration": 54,
    "start_time": "2022-02-12T17:44:47.304Z"
   },
   {
    "duration": 33,
    "start_time": "2022-02-12T17:44:56.568Z"
   },
   {
    "duration": 37,
    "start_time": "2022-02-12T17:45:02.008Z"
   },
   {
    "duration": 23,
    "start_time": "2022-02-12T17:45:07.505Z"
   },
   {
    "duration": 52,
    "start_time": "2022-02-12T17:45:08.560Z"
   },
   {
    "duration": 54,
    "start_time": "2022-02-12T17:45:53.057Z"
   },
   {
    "duration": 25,
    "start_time": "2022-02-12T17:45:59.792Z"
   },
   {
    "duration": 417,
    "start_time": "2022-02-12T17:46:09.421Z"
   },
   {
    "duration": 745,
    "start_time": "2022-02-12T17:46:22.976Z"
   },
   {
    "duration": 532,
    "start_time": "2022-02-12T17:46:23.723Z"
   },
   {
    "duration": 55,
    "start_time": "2022-02-12T17:46:24.258Z"
   },
   {
    "duration": 111,
    "start_time": "2022-02-12T17:46:24.316Z"
   },
   {
    "duration": 157,
    "start_time": "2022-02-12T17:46:24.430Z"
   },
   {
    "duration": 444,
    "start_time": "2022-02-12T17:46:24.589Z"
   },
   {
    "duration": 27,
    "start_time": "2022-02-12T17:46:25.036Z"
   },
   {
    "duration": 31,
    "start_time": "2022-02-12T17:46:25.066Z"
   },
   {
    "duration": 61,
    "start_time": "2022-02-12T17:46:25.101Z"
   },
   {
    "duration": 17,
    "start_time": "2022-02-12T17:46:25.165Z"
   },
   {
    "duration": 76,
    "start_time": "2022-02-12T17:46:25.185Z"
   },
   {
    "duration": 43,
    "start_time": "2022-02-12T17:46:25.263Z"
   },
   {
    "duration": 61,
    "start_time": "2022-02-12T17:46:25.309Z"
   },
   {
    "duration": 12,
    "start_time": "2022-02-12T17:46:25.373Z"
   },
   {
    "duration": 82,
    "start_time": "2022-02-12T17:46:25.388Z"
   },
   {
    "duration": 5,
    "start_time": "2022-02-12T17:46:25.472Z"
   },
   {
    "duration": 43,
    "start_time": "2022-02-12T17:46:25.479Z"
   },
   {
    "duration": 22,
    "start_time": "2022-02-12T17:46:30.813Z"
   },
   {
    "duration": 58,
    "start_time": "2022-02-12T17:46:44.425Z"
   },
   {
    "duration": 44,
    "start_time": "2022-02-12T17:47:03.002Z"
   },
   {
    "duration": 38,
    "start_time": "2022-02-12T17:47:34.330Z"
   },
   {
    "duration": 38,
    "start_time": "2022-02-12T17:50:39.316Z"
   },
   {
    "duration": 543,
    "start_time": "2022-02-12T17:54:39.847Z"
   },
   {
    "duration": 576,
    "start_time": "2022-02-12T17:54:48.327Z"
   },
   {
    "duration": 2960,
    "start_time": "2022-02-12T17:54:58.167Z"
   },
   {
    "duration": 287,
    "start_time": "2022-02-12T17:55:23.592Z"
   },
   {
    "duration": 277,
    "start_time": "2022-02-12T17:55:29.162Z"
   },
   {
    "duration": 289,
    "start_time": "2022-02-12T17:55:35.232Z"
   },
   {
    "duration": 323,
    "start_time": "2022-02-12T17:55:59.465Z"
   },
   {
    "duration": 442,
    "start_time": "2022-02-12T17:56:17.344Z"
   },
   {
    "duration": 375,
    "start_time": "2022-02-12T17:56:32.337Z"
   },
   {
    "duration": 530,
    "start_time": "2022-02-12T17:58:19.555Z"
   },
   {
    "duration": 701,
    "start_time": "2022-02-12T17:58:50.818Z"
   },
   {
    "duration": 849,
    "start_time": "2022-02-12T17:59:00.435Z"
   },
   {
    "duration": 557,
    "start_time": "2022-02-12T17:59:06.347Z"
   },
   {
    "duration": 619,
    "start_time": "2022-02-12T17:59:11.899Z"
   },
   {
    "duration": 377,
    "start_time": "2022-02-12T18:00:17.285Z"
   },
   {
    "duration": 626,
    "start_time": "2022-02-12T18:00:21.164Z"
   },
   {
    "duration": 636,
    "start_time": "2022-02-12T18:01:05.269Z"
   },
   {
    "duration": 714,
    "start_time": "2022-02-12T18:01:20.260Z"
   },
   {
    "duration": 649,
    "start_time": "2022-02-12T18:01:33.693Z"
   },
   {
    "duration": 712,
    "start_time": "2022-02-12T18:01:42.950Z"
   },
   {
    "duration": 670,
    "start_time": "2022-02-12T18:03:10.017Z"
   },
   {
    "duration": 612,
    "start_time": "2022-02-12T18:03:20.350Z"
   },
   {
    "duration": 19,
    "start_time": "2022-02-12T19:04:29.984Z"
   },
   {
    "duration": 475,
    "start_time": "2022-02-12T19:04:47.977Z"
   },
   {
    "duration": 9,
    "start_time": "2022-02-12T19:07:53.428Z"
   },
   {
    "duration": 8,
    "start_time": "2022-02-12T19:08:06.003Z"
   },
   {
    "duration": 7,
    "start_time": "2022-02-12T19:08:50.676Z"
   },
   {
    "duration": 22,
    "start_time": "2022-02-12T19:10:05.572Z"
   },
   {
    "duration": 15,
    "start_time": "2022-02-12T19:10:17.461Z"
   },
   {
    "duration": 13,
    "start_time": "2022-02-12T19:10:56.352Z"
   },
   {
    "duration": 8,
    "start_time": "2022-02-12T19:11:46.135Z"
   },
   {
    "duration": 8,
    "start_time": "2022-02-12T19:11:54.206Z"
   },
   {
    "duration": 45,
    "start_time": "2022-02-12T19:12:27.559Z"
   },
   {
    "duration": 822,
    "start_time": "2022-02-12T19:13:04.408Z"
   },
   {
    "duration": 669,
    "start_time": "2022-02-12T19:13:16.815Z"
   },
   {
    "duration": 811,
    "start_time": "2022-02-12T19:13:23.775Z"
   },
   {
    "duration": 638,
    "start_time": "2022-02-12T19:13:29.319Z"
   },
   {
    "duration": 677,
    "start_time": "2022-02-12T19:17:16.363Z"
   },
   {
    "duration": 24,
    "start_time": "2022-02-12T19:17:28.059Z"
   },
   {
    "duration": 23,
    "start_time": "2022-02-12T19:17:42.892Z"
   },
   {
    "duration": 7,
    "start_time": "2022-02-12T19:19:48.184Z"
   },
   {
    "duration": 8,
    "start_time": "2022-02-12T19:19:54.532Z"
   },
   {
    "duration": 7,
    "start_time": "2022-02-12T19:20:18.212Z"
   },
   {
    "duration": 7,
    "start_time": "2022-02-12T19:20:23.284Z"
   },
   {
    "duration": 507,
    "start_time": "2022-02-12T19:20:46.157Z"
   },
   {
    "duration": 129,
    "start_time": "2022-02-12T19:21:15.117Z"
   },
   {
    "duration": 20,
    "start_time": "2022-02-12T19:21:21.357Z"
   },
   {
    "duration": 7,
    "start_time": "2022-02-12T19:21:43.839Z"
   },
   {
    "duration": 18,
    "start_time": "2022-02-12T19:21:53.645Z"
   },
   {
    "duration": 29,
    "start_time": "2022-02-12T19:23:13.863Z"
   },
   {
    "duration": 43,
    "start_time": "2022-02-12T19:23:23.328Z"
   },
   {
    "duration": 43,
    "start_time": "2022-02-12T19:25:34.817Z"
   },
   {
    "duration": 40,
    "start_time": "2022-02-12T19:25:43.394Z"
   },
   {
    "duration": 48,
    "start_time": "2022-02-12T19:26:57.139Z"
   },
   {
    "duration": 43,
    "start_time": "2022-02-12T19:27:01.986Z"
   },
   {
    "duration": 53,
    "start_time": "2022-02-12T19:27:23.379Z"
   },
   {
    "duration": 34,
    "start_time": "2022-02-12T19:27:26.587Z"
   },
   {
    "duration": 53,
    "start_time": "2022-02-12T19:27:44.245Z"
   },
   {
    "duration": 21,
    "start_time": "2022-02-12T19:27:48.931Z"
   },
   {
    "duration": 38,
    "start_time": "2022-02-12T19:28:27.635Z"
   },
   {
    "duration": 39,
    "start_time": "2022-02-12T19:28:28.525Z"
   },
   {
    "duration": 37,
    "start_time": "2022-02-12T19:28:29.707Z"
   },
   {
    "duration": 616,
    "start_time": "2022-02-12T19:28:32.725Z"
   },
   {
    "duration": 762,
    "start_time": "2022-02-12T19:28:51.355Z"
   },
   {
    "duration": 545,
    "start_time": "2022-02-12T19:28:52.120Z"
   },
   {
    "duration": 59,
    "start_time": "2022-02-12T19:28:52.667Z"
   },
   {
    "duration": 111,
    "start_time": "2022-02-12T19:28:52.728Z"
   },
   {
    "duration": 158,
    "start_time": "2022-02-12T19:28:52.842Z"
   },
   {
    "duration": 441,
    "start_time": "2022-02-12T19:28:53.003Z"
   },
   {
    "duration": 20,
    "start_time": "2022-02-12T19:28:53.446Z"
   },
   {
    "duration": 29,
    "start_time": "2022-02-12T19:28:53.469Z"
   },
   {
    "duration": 62,
    "start_time": "2022-02-12T19:28:53.502Z"
   },
   {
    "duration": 17,
    "start_time": "2022-02-12T19:28:53.567Z"
   },
   {
    "duration": 75,
    "start_time": "2022-02-12T19:28:53.587Z"
   },
   {
    "duration": 45,
    "start_time": "2022-02-12T19:28:53.664Z"
   },
   {
    "duration": 60,
    "start_time": "2022-02-12T19:28:53.712Z"
   },
   {
    "duration": 11,
    "start_time": "2022-02-12T19:28:53.774Z"
   },
   {
    "duration": 80,
    "start_time": "2022-02-12T19:28:53.787Z"
   },
   {
    "duration": 6,
    "start_time": "2022-02-12T19:28:53.869Z"
   },
   {
    "duration": 51,
    "start_time": "2022-02-12T19:28:53.878Z"
   },
   {
    "duration": 47,
    "start_time": "2022-02-12T19:28:53.931Z"
   },
   {
    "duration": 38,
    "start_time": "2022-02-12T19:28:53.980Z"
   },
   {
    "duration": 73,
    "start_time": "2022-02-12T19:28:54.020Z"
   },
   {
    "duration": 37,
    "start_time": "2022-02-12T19:28:54.095Z"
   },
   {
    "duration": 659,
    "start_time": "2022-02-12T19:28:54.134Z"
   },
   {
    "duration": 699,
    "start_time": "2022-02-12T19:28:59.976Z"
   },
   {
    "duration": 592,
    "start_time": "2022-02-12T19:29:01.817Z"
   },
   {
    "duration": 591,
    "start_time": "2022-02-12T19:29:07.848Z"
   },
   {
    "duration": 634,
    "start_time": "2022-02-12T19:29:22.896Z"
   },
   {
    "duration": 23,
    "start_time": "2022-02-12T19:29:28.073Z"
   },
   {
    "duration": 496,
    "start_time": "2022-02-12T19:29:33.136Z"
   },
   {
    "duration": 514,
    "start_time": "2022-02-12T19:30:12.388Z"
   },
   {
    "duration": 14,
    "start_time": "2022-02-12T19:30:23.009Z"
   },
   {
    "duration": 17,
    "start_time": "2022-02-12T19:30:32.567Z"
   },
   {
    "duration": 21,
    "start_time": "2022-02-12T19:31:00.705Z"
   },
   {
    "duration": 7,
    "start_time": "2022-02-12T19:31:05.922Z"
   },
   {
    "duration": 15,
    "start_time": "2022-02-12T19:31:48.170Z"
   },
   {
    "duration": 7,
    "start_time": "2022-02-12T19:31:52.498Z"
   },
   {
    "duration": 7,
    "start_time": "2022-02-12T19:32:36.501Z"
   },
   {
    "duration": 290,
    "start_time": "2022-02-12T19:34:03.140Z"
   },
   {
    "duration": 314,
    "start_time": "2022-02-12T19:34:12.692Z"
   },
   {
    "duration": 7,
    "start_time": "2022-02-12T19:35:02.230Z"
   },
   {
    "duration": 778,
    "start_time": "2022-02-12T19:35:52.613Z"
   },
   {
    "duration": 16,
    "start_time": "2022-02-12T19:35:53.394Z"
   },
   {
    "duration": 334,
    "start_time": "2022-02-12T19:35:53.540Z"
   },
   {
    "duration": 335,
    "start_time": "2022-02-12T19:37:05.616Z"
   },
   {
    "duration": 14,
    "start_time": "2022-02-12T19:37:12.961Z"
   },
   {
    "duration": 6,
    "start_time": "2022-02-12T19:37:32.215Z"
   },
   {
    "duration": 7,
    "start_time": "2022-02-12T19:38:15.471Z"
   },
   {
    "duration": 7,
    "start_time": "2022-02-12T19:38:22.127Z"
   },
   {
    "duration": 5,
    "start_time": "2022-02-12T19:39:28.608Z"
   },
   {
    "duration": 6,
    "start_time": "2022-02-12T19:39:34.184Z"
   },
   {
    "duration": 6,
    "start_time": "2022-02-12T19:40:08.400Z"
   },
   {
    "duration": 11,
    "start_time": "2022-02-12T19:40:31.961Z"
   },
   {
    "duration": 7,
    "start_time": "2022-02-12T19:41:29.226Z"
   },
   {
    "duration": 15,
    "start_time": "2022-02-12T19:43:06.090Z"
   },
   {
    "duration": 315,
    "start_time": "2022-02-12T19:43:08.105Z"
   },
   {
    "duration": 318,
    "start_time": "2022-02-12T19:43:21.107Z"
   },
   {
    "duration": 323,
    "start_time": "2022-02-12T19:43:26.971Z"
   },
   {
    "duration": 14,
    "start_time": "2022-02-12T19:43:58.691Z"
   },
   {
    "duration": 531,
    "start_time": "2022-02-12T19:44:00.045Z"
   },
   {
    "duration": 14,
    "start_time": "2022-02-12T19:44:04.739Z"
   },
   {
    "duration": 324,
    "start_time": "2022-02-12T19:44:06.075Z"
   },
   {
    "duration": 7,
    "start_time": "2022-02-12T19:44:41.324Z"
   },
   {
    "duration": 353,
    "start_time": "2022-02-12T19:46:44.997Z"
   },
   {
    "duration": 765,
    "start_time": "2022-02-12T19:46:57.292Z"
   },
   {
    "duration": 529,
    "start_time": "2022-02-12T19:46:58.060Z"
   },
   {
    "duration": 54,
    "start_time": "2022-02-12T19:46:58.592Z"
   },
   {
    "duration": 100,
    "start_time": "2022-02-12T19:46:58.661Z"
   },
   {
    "duration": 157,
    "start_time": "2022-02-12T19:46:58.764Z"
   },
   {
    "duration": 548,
    "start_time": "2022-02-12T19:46:58.924Z"
   },
   {
    "duration": 17,
    "start_time": "2022-02-12T19:46:59.475Z"
   },
   {
    "duration": 62,
    "start_time": "2022-02-12T19:46:59.497Z"
   },
   {
    "duration": 32,
    "start_time": "2022-02-12T19:46:59.563Z"
   },
   {
    "duration": 14,
    "start_time": "2022-02-12T19:46:59.598Z"
   },
   {
    "duration": 82,
    "start_time": "2022-02-12T19:46:59.614Z"
   },
   {
    "duration": 43,
    "start_time": "2022-02-12T19:46:59.698Z"
   },
   {
    "duration": 50,
    "start_time": "2022-02-12T19:46:59.744Z"
   },
   {
    "duration": 11,
    "start_time": "2022-02-12T19:46:59.796Z"
   },
   {
    "duration": 98,
    "start_time": "2022-02-12T19:46:59.810Z"
   },
   {
    "duration": 6,
    "start_time": "2022-02-12T19:46:59.911Z"
   },
   {
    "duration": 79,
    "start_time": "2022-02-12T19:46:59.920Z"
   },
   {
    "duration": 20,
    "start_time": "2022-02-12T19:47:00.002Z"
   },
   {
    "duration": 71,
    "start_time": "2022-02-12T19:47:00.025Z"
   },
   {
    "duration": 62,
    "start_time": "2022-02-12T19:47:00.099Z"
   },
   {
    "duration": 40,
    "start_time": "2022-02-12T19:47:00.163Z"
   },
   {
    "duration": 788,
    "start_time": "2022-02-12T19:47:00.206Z"
   },
   {
    "duration": 829,
    "start_time": "2022-02-12T19:47:00.998Z"
   },
   {
    "duration": 632,
    "start_time": "2022-02-12T19:47:01.830Z"
   },
   {
    "duration": 809,
    "start_time": "2022-02-12T19:47:02.466Z"
   },
   {
    "duration": 23,
    "start_time": "2022-02-12T19:47:03.279Z"
   },
   {
    "duration": 15,
    "start_time": "2022-02-12T19:47:06.069Z"
   },
   {
    "duration": 325,
    "start_time": "2022-02-12T19:47:07.448Z"
   },
   {
    "duration": 371,
    "start_time": "2022-02-12T19:47:36.230Z"
   },
   {
    "duration": 301,
    "start_time": "2022-02-12T19:47:42.385Z"
   },
   {
    "duration": 518,
    "start_time": "2022-02-12T19:47:46.514Z"
   },
   {
    "duration": 15,
    "start_time": "2022-02-12T19:47:49.873Z"
   },
   {
    "duration": 338,
    "start_time": "2022-02-12T19:47:50.577Z"
   },
   {
    "duration": 7,
    "start_time": "2022-02-12T19:47:53.404Z"
   },
   {
    "duration": 52,
    "start_time": "2022-02-12T19:51:37.970Z"
   },
   {
    "duration": 642,
    "start_time": "2022-02-12T19:51:48.248Z"
   },
   {
    "duration": 630,
    "start_time": "2022-02-12T19:51:58.260Z"
   },
   {
    "duration": 669,
    "start_time": "2022-02-12T19:52:09.004Z"
   },
   {
    "duration": 919,
    "start_time": "2022-02-12T19:55:00.919Z"
   },
   {
    "duration": 380,
    "start_time": "2022-02-12T19:55:15.639Z"
   },
   {
    "duration": 402,
    "start_time": "2022-02-12T19:55:28.039Z"
   },
   {
    "duration": 792,
    "start_time": "2022-02-12T20:00:19.582Z"
   },
   {
    "duration": 576,
    "start_time": "2022-02-12T20:00:20.376Z"
   },
   {
    "duration": 59,
    "start_time": "2022-02-12T20:00:20.958Z"
   },
   {
    "duration": 124,
    "start_time": "2022-02-12T20:00:21.021Z"
   },
   {
    "duration": 167,
    "start_time": "2022-02-12T20:00:21.148Z"
   },
   {
    "duration": 444,
    "start_time": "2022-02-12T20:00:21.317Z"
   },
   {
    "duration": 18,
    "start_time": "2022-02-12T20:00:21.764Z"
   },
   {
    "duration": 29,
    "start_time": "2022-02-12T20:00:21.787Z"
   },
   {
    "duration": 59,
    "start_time": "2022-02-12T20:00:21.818Z"
   },
   {
    "duration": 18,
    "start_time": "2022-02-12T20:00:21.880Z"
   },
   {
    "duration": 79,
    "start_time": "2022-02-12T20:00:21.901Z"
   },
   {
    "duration": 44,
    "start_time": "2022-02-12T20:00:21.982Z"
   },
   {
    "duration": 54,
    "start_time": "2022-02-12T20:00:22.029Z"
   },
   {
    "duration": 381,
    "start_time": "2022-02-12T20:01:57.835Z"
   },
   {
    "duration": 327,
    "start_time": "2022-02-12T20:02:34.176Z"
   },
   {
    "duration": 442,
    "start_time": "2022-02-12T20:04:36.470Z"
   },
   {
    "duration": 387,
    "start_time": "2022-02-12T20:05:11.780Z"
   },
   {
    "duration": 12,
    "start_time": "2022-02-12T20:05:20.437Z"
   },
   {
    "duration": 13,
    "start_time": "2022-02-12T20:05:55.014Z"
   },
   {
    "duration": 13,
    "start_time": "2022-02-12T20:06:07.373Z"
   },
   {
    "duration": 13,
    "start_time": "2022-02-12T20:06:42.261Z"
   },
   {
    "duration": 12,
    "start_time": "2022-02-12T20:07:55.310Z"
   },
   {
    "duration": 81,
    "start_time": "2022-02-12T20:08:25.832Z"
   },
   {
    "duration": 43,
    "start_time": "2022-02-12T20:09:55.769Z"
   },
   {
    "duration": 45,
    "start_time": "2022-02-12T20:11:08.746Z"
   },
   {
    "duration": 693,
    "start_time": "2022-02-12T20:11:19.777Z"
   },
   {
    "duration": 44,
    "start_time": "2022-02-12T20:12:02.235Z"
   },
   {
    "duration": 42,
    "start_time": "2022-02-12T20:12:10.508Z"
   },
   {
    "duration": 690,
    "start_time": "2022-02-12T20:12:12.699Z"
   },
   {
    "duration": 42,
    "start_time": "2022-02-12T20:12:24.261Z"
   },
   {
    "duration": 301,
    "start_time": "2022-02-12T20:12:28.435Z"
   },
   {
    "duration": 747,
    "start_time": "2022-02-12T20:13:36.399Z"
   },
   {
    "duration": 719,
    "start_time": "2022-02-12T20:13:37.149Z"
   },
   {
    "duration": 90,
    "start_time": "2022-02-12T20:13:37.871Z"
   },
   {
    "duration": 151,
    "start_time": "2022-02-12T20:13:37.964Z"
   },
   {
    "duration": 225,
    "start_time": "2022-02-12T20:13:38.118Z"
   },
   {
    "duration": 442,
    "start_time": "2022-02-12T20:13:38.346Z"
   },
   {
    "duration": 15,
    "start_time": "2022-02-12T20:13:38.790Z"
   },
   {
    "duration": 24,
    "start_time": "2022-02-12T20:13:38.809Z"
   },
   {
    "duration": 39,
    "start_time": "2022-02-12T20:13:38.861Z"
   },
   {
    "duration": 14,
    "start_time": "2022-02-12T20:13:38.902Z"
   },
   {
    "duration": 80,
    "start_time": "2022-02-12T20:13:38.918Z"
   },
   {
    "duration": 42,
    "start_time": "2022-02-12T20:13:39.001Z"
   },
   {
    "duration": 40,
    "start_time": "2022-02-12T20:13:39.059Z"
   },
   {
    "duration": 11,
    "start_time": "2022-02-12T20:13:39.102Z"
   },
   {
    "duration": 97,
    "start_time": "2022-02-12T20:13:39.115Z"
   },
   {
    "duration": 5,
    "start_time": "2022-02-12T20:13:39.215Z"
   },
   {
    "duration": 73,
    "start_time": "2022-02-12T20:13:39.223Z"
   },
   {
    "duration": 26,
    "start_time": "2022-02-12T20:13:39.299Z"
   },
   {
    "duration": 75,
    "start_time": "2022-02-12T20:13:39.329Z"
   },
   {
    "duration": 73,
    "start_time": "2022-02-12T20:13:39.407Z"
   },
   {
    "duration": 52,
    "start_time": "2022-02-12T20:13:39.483Z"
   },
   {
    "duration": 647,
    "start_time": "2022-02-12T20:13:39.558Z"
   },
   {
    "duration": 721,
    "start_time": "2022-02-12T20:13:40.208Z"
   },
   {
    "duration": 678,
    "start_time": "2022-02-12T20:13:40.931Z"
   },
   {
    "duration": 627,
    "start_time": "2022-02-12T20:13:48.410Z"
   },
   {
    "duration": 16,
    "start_time": "2022-02-12T20:13:59.513Z"
   },
   {
    "duration": 329,
    "start_time": "2022-02-12T20:14:00.265Z"
   },
   {
    "duration": 557,
    "start_time": "2022-02-12T20:14:10.785Z"
   },
   {
    "duration": 15,
    "start_time": "2022-02-12T20:14:15.577Z"
   },
   {
    "duration": 334,
    "start_time": "2022-02-12T20:14:16.105Z"
   },
   {
    "duration": 6,
    "start_time": "2022-02-12T20:14:17.114Z"
   },
   {
    "duration": 14,
    "start_time": "2022-02-12T20:16:01.756Z"
   },
   {
    "duration": 728,
    "start_time": "2022-02-12T20:17:02.313Z"
   },
   {
    "duration": 515,
    "start_time": "2022-02-12T20:17:03.044Z"
   },
   {
    "duration": 57,
    "start_time": "2022-02-12T20:17:03.562Z"
   },
   {
    "duration": 113,
    "start_time": "2022-02-12T20:17:03.622Z"
   },
   {
    "duration": 155,
    "start_time": "2022-02-12T20:17:03.738Z"
   },
   {
    "duration": 436,
    "start_time": "2022-02-12T20:17:03.895Z"
   },
   {
    "duration": 27,
    "start_time": "2022-02-12T20:17:04.334Z"
   },
   {
    "duration": 21,
    "start_time": "2022-02-12T20:17:04.364Z"
   },
   {
    "duration": 30,
    "start_time": "2022-02-12T20:17:04.388Z"
   },
   {
    "duration": 41,
    "start_time": "2022-02-12T20:17:04.420Z"
   },
   {
    "duration": 51,
    "start_time": "2022-02-12T20:17:04.463Z"
   },
   {
    "duration": 68,
    "start_time": "2022-02-12T20:17:04.516Z"
   },
   {
    "duration": 38,
    "start_time": "2022-02-12T20:17:04.587Z"
   },
   {
    "duration": 82,
    "start_time": "2022-02-12T20:17:04.627Z"
   },
   {
    "duration": 6,
    "start_time": "2022-02-12T20:17:04.712Z"
   },
   {
    "duration": 76,
    "start_time": "2022-02-12T20:17:04.721Z"
   },
   {
    "duration": 20,
    "start_time": "2022-02-12T20:17:04.800Z"
   },
   {
    "duration": 65,
    "start_time": "2022-02-12T20:17:04.823Z"
   },
   {
    "duration": 40,
    "start_time": "2022-02-12T20:17:04.891Z"
   },
   {
    "duration": 67,
    "start_time": "2022-02-12T20:17:04.933Z"
   },
   {
    "duration": 666,
    "start_time": "2022-02-12T20:17:05.003Z"
   },
   {
    "duration": 674,
    "start_time": "2022-02-12T20:17:05.672Z"
   },
   {
    "duration": 648,
    "start_time": "2022-02-12T20:17:06.351Z"
   },
   {
    "duration": 640,
    "start_time": "2022-02-12T20:17:07.002Z"
   },
   {
    "duration": 19,
    "start_time": "2022-02-12T20:17:07.644Z"
   },
   {
    "duration": 364,
    "start_time": "2022-02-12T20:17:07.665Z"
   },
   {
    "duration": 510,
    "start_time": "2022-02-12T20:17:08.032Z"
   },
   {
    "duration": 22,
    "start_time": "2022-02-12T20:17:08.544Z"
   },
   {
    "duration": 366,
    "start_time": "2022-02-12T20:17:08.568Z"
   },
   {
    "duration": 7,
    "start_time": "2022-02-12T20:17:08.936Z"
   },
   {
    "duration": 761,
    "start_time": "2022-02-12T21:00:38.999Z"
   },
   {
    "duration": 531,
    "start_time": "2022-02-12T21:00:39.763Z"
   },
   {
    "duration": 65,
    "start_time": "2022-02-12T21:00:40.298Z"
   },
   {
    "duration": 109,
    "start_time": "2022-02-12T21:00:40.365Z"
   },
   {
    "duration": 165,
    "start_time": "2022-02-12T21:00:40.476Z"
   },
   {
    "duration": 442,
    "start_time": "2022-02-12T21:00:40.643Z"
   },
   {
    "duration": 16,
    "start_time": "2022-02-12T21:00:41.087Z"
   },
   {
    "duration": 16,
    "start_time": "2022-02-12T21:00:41.106Z"
   },
   {
    "duration": 57,
    "start_time": "2022-02-12T21:00:41.125Z"
   },
   {
    "duration": 15,
    "start_time": "2022-02-12T21:00:41.184Z"
   },
   {
    "duration": 76,
    "start_time": "2022-02-12T21:00:41.201Z"
   },
   {
    "duration": 43,
    "start_time": "2022-02-12T21:00:41.279Z"
   },
   {
    "duration": 59,
    "start_time": "2022-02-12T21:00:41.324Z"
   },
   {
    "duration": 87,
    "start_time": "2022-02-12T21:00:41.385Z"
   },
   {
    "duration": 5,
    "start_time": "2022-02-12T21:00:41.475Z"
   },
   {
    "duration": 59,
    "start_time": "2022-02-12T21:00:41.482Z"
   },
   {
    "duration": 18,
    "start_time": "2022-02-12T21:00:41.560Z"
   },
   {
    "duration": 39,
    "start_time": "2022-02-12T21:00:41.581Z"
   },
   {
    "duration": 70,
    "start_time": "2022-02-12T21:00:41.622Z"
   },
   {
    "duration": 39,
    "start_time": "2022-02-12T21:00:41.694Z"
   },
   {
    "duration": 652,
    "start_time": "2022-02-12T21:00:41.735Z"
   },
   {
    "duration": 709,
    "start_time": "2022-02-12T21:00:42.390Z"
   },
   {
    "duration": 647,
    "start_time": "2022-02-12T21:00:43.104Z"
   },
   {
    "duration": 644,
    "start_time": "2022-02-12T21:00:43.753Z"
   },
   {
    "duration": 14,
    "start_time": "2022-02-12T21:00:44.400Z"
   },
   {
    "duration": 369,
    "start_time": "2022-02-12T21:00:44.417Z"
   },
   {
    "duration": 542,
    "start_time": "2022-02-12T21:00:44.788Z"
   },
   {
    "duration": 29,
    "start_time": "2022-02-12T21:00:45.332Z"
   },
   {
    "duration": 352,
    "start_time": "2022-02-12T21:00:45.364Z"
   },
   {
    "duration": 7,
    "start_time": "2022-02-12T21:00:45.719Z"
   },
   {
    "duration": 494,
    "start_time": "2022-02-12T21:00:45.728Z"
   },
   {
    "duration": 919,
    "start_time": "2022-02-12T21:00:45.306Z"
   },
   {
    "duration": 914,
    "start_time": "2022-02-12T21:00:45.314Z"
   },
   {
    "duration": 88,
    "start_time": "2022-02-12T21:01:31.808Z"
   },
   {
    "duration": 7,
    "start_time": "2022-02-12T21:34:57.762Z"
   },
   {
    "duration": 609,
    "start_time": "2022-02-14T15:50:13.726Z"
   },
   {
    "duration": 394,
    "start_time": "2022-02-14T15:50:14.337Z"
   },
   {
    "duration": 30,
    "start_time": "2022-02-14T15:50:14.733Z"
   },
   {
    "duration": 67,
    "start_time": "2022-02-14T15:50:14.764Z"
   },
   {
    "duration": 98,
    "start_time": "2022-02-14T15:50:14.833Z"
   },
   {
    "duration": 261,
    "start_time": "2022-02-14T15:50:14.932Z"
   },
   {
    "duration": 9,
    "start_time": "2022-02-14T15:50:15.195Z"
   },
   {
    "duration": 26,
    "start_time": "2022-02-14T15:50:15.207Z"
   },
   {
    "duration": 20,
    "start_time": "2022-02-14T15:50:15.234Z"
   },
   {
    "duration": 8,
    "start_time": "2022-02-14T15:50:15.256Z"
   },
   {
    "duration": 37,
    "start_time": "2022-02-14T15:50:15.266Z"
   },
   {
    "duration": 50,
    "start_time": "2022-02-14T15:50:15.305Z"
   },
   {
    "duration": 24,
    "start_time": "2022-02-14T15:50:15.357Z"
   },
   {
    "duration": 54,
    "start_time": "2022-02-14T15:50:15.383Z"
   },
   {
    "duration": 3,
    "start_time": "2022-02-14T15:50:15.438Z"
   },
   {
    "duration": 28,
    "start_time": "2022-02-14T15:50:15.443Z"
   },
   {
    "duration": 10,
    "start_time": "2022-02-14T15:50:15.472Z"
   },
   {
    "duration": 43,
    "start_time": "2022-02-14T15:50:15.484Z"
   },
   {
    "duration": 21,
    "start_time": "2022-02-14T15:50:15.529Z"
   },
   {
    "duration": 22,
    "start_time": "2022-02-14T15:50:15.552Z"
   },
   {
    "duration": 363,
    "start_time": "2022-02-14T15:50:15.575Z"
   },
   {
    "duration": 373,
    "start_time": "2022-02-14T15:50:15.940Z"
   },
   {
    "duration": 363,
    "start_time": "2022-02-14T15:50:16.316Z"
   },
   {
    "duration": 342,
    "start_time": "2022-02-14T15:50:16.681Z"
   },
   {
    "duration": 10,
    "start_time": "2022-02-14T15:50:17.024Z"
   },
   {
    "duration": 192,
    "start_time": "2022-02-14T15:50:17.035Z"
   },
   {
    "duration": 381,
    "start_time": "2022-02-14T15:50:17.228Z"
   },
   {
    "duration": 16,
    "start_time": "2022-02-14T15:50:17.611Z"
   },
   {
    "duration": 188,
    "start_time": "2022-02-14T15:50:17.628Z"
   },
   {
    "duration": 4,
    "start_time": "2022-02-14T15:50:17.818Z"
   },
   {
    "duration": 4,
    "start_time": "2022-02-14T16:04:01.289Z"
   },
   {
    "duration": 5,
    "start_time": "2022-02-14T16:04:23.120Z"
   },
   {
    "duration": 5,
    "start_time": "2022-02-14T16:06:19.122Z"
   },
   {
    "duration": 688,
    "start_time": "2022-02-14T16:06:31.308Z"
   },
   {
    "duration": 388,
    "start_time": "2022-02-14T16:06:31.997Z"
   },
   {
    "duration": 39,
    "start_time": "2022-02-14T16:06:32.389Z"
   },
   {
    "duration": 62,
    "start_time": "2022-02-14T16:06:32.429Z"
   },
   {
    "duration": 104,
    "start_time": "2022-02-14T16:06:32.492Z"
   },
   {
    "duration": 261,
    "start_time": "2022-02-14T16:06:32.598Z"
   },
   {
    "duration": 10,
    "start_time": "2022-02-14T16:06:32.862Z"
   },
   {
    "duration": 8,
    "start_time": "2022-02-14T16:06:32.874Z"
   },
   {
    "duration": 19,
    "start_time": "2022-02-14T16:06:32.884Z"
   },
   {
    "duration": 18,
    "start_time": "2022-02-14T16:06:32.928Z"
   },
   {
    "duration": 102,
    "start_time": "2022-02-14T16:06:32.948Z"
   },
   {
    "duration": 50,
    "start_time": "2022-02-14T16:06:33.052Z"
   },
   {
    "duration": 178,
    "start_time": "2022-02-14T16:06:33.104Z"
   },
   {
    "duration": 130,
    "start_time": "2022-02-14T16:06:33.284Z"
   },
   {
    "duration": 35,
    "start_time": "2022-02-14T16:06:33.416Z"
   },
   {
    "duration": 29,
    "start_time": "2022-02-14T16:06:33.453Z"
   },
   {
    "duration": 10,
    "start_time": "2022-02-14T16:06:33.484Z"
   },
   {
    "duration": 22,
    "start_time": "2022-02-14T16:06:33.495Z"
   },
   {
    "duration": 23,
    "start_time": "2022-02-14T16:06:33.518Z"
   },
   {
    "duration": 21,
    "start_time": "2022-02-14T16:06:33.543Z"
   },
   {
    "duration": 346,
    "start_time": "2022-02-14T16:06:33.565Z"
   },
   {
    "duration": 386,
    "start_time": "2022-02-14T16:06:33.914Z"
   },
   {
    "duration": 343,
    "start_time": "2022-02-14T16:06:34.302Z"
   },
   {
    "duration": 355,
    "start_time": "2022-02-14T16:06:34.647Z"
   },
   {
    "duration": 10,
    "start_time": "2022-02-14T16:06:35.003Z"
   },
   {
    "duration": 187,
    "start_time": "2022-02-14T16:06:35.014Z"
   },
   {
    "duration": 399,
    "start_time": "2022-02-14T16:06:35.203Z"
   },
   {
    "duration": 10,
    "start_time": "2022-02-14T16:06:35.603Z"
   },
   {
    "duration": 187,
    "start_time": "2022-02-14T16:06:35.615Z"
   },
   {
    "duration": 4,
    "start_time": "2022-02-14T16:06:35.804Z"
   },
   {
    "duration": 229,
    "start_time": "2022-02-14T16:11:47.561Z"
   },
   {
    "duration": 184,
    "start_time": "2022-02-14T16:11:56.953Z"
   },
   {
    "duration": 10,
    "start_time": "2022-02-14T16:12:01.439Z"
   },
   {
    "duration": 189,
    "start_time": "2022-02-14T16:12:01.914Z"
   },
   {
    "duration": 664,
    "start_time": "2022-02-14T16:31:51.104Z"
   },
   {
    "duration": 363,
    "start_time": "2022-02-14T16:31:51.769Z"
   },
   {
    "duration": 30,
    "start_time": "2022-02-14T16:31:52.136Z"
   },
   {
    "duration": 67,
    "start_time": "2022-02-14T16:31:52.168Z"
   },
   {
    "duration": 98,
    "start_time": "2022-02-14T16:31:52.237Z"
   },
   {
    "duration": 251,
    "start_time": "2022-02-14T16:31:52.336Z"
   },
   {
    "duration": 9,
    "start_time": "2022-02-14T16:31:52.590Z"
   },
   {
    "duration": 11,
    "start_time": "2022-02-14T16:31:52.601Z"
   },
   {
    "duration": 19,
    "start_time": "2022-02-14T16:31:52.627Z"
   },
   {
    "duration": 8,
    "start_time": "2022-02-14T16:31:52.648Z"
   },
   {
    "duration": 37,
    "start_time": "2022-02-14T16:31:52.658Z"
   },
   {
    "duration": 45,
    "start_time": "2022-02-14T16:31:52.697Z"
   },
   {
    "duration": 24,
    "start_time": "2022-02-14T16:31:52.743Z"
   },
   {
    "duration": 38,
    "start_time": "2022-02-14T16:31:52.768Z"
   },
   {
    "duration": 20,
    "start_time": "2022-02-14T16:31:52.807Z"
   },
   {
    "duration": 28,
    "start_time": "2022-02-14T16:31:52.829Z"
   },
   {
    "duration": 10,
    "start_time": "2022-02-14T16:31:52.858Z"
   },
   {
    "duration": 21,
    "start_time": "2022-02-14T16:31:52.870Z"
   },
   {
    "duration": 49,
    "start_time": "2022-02-14T16:31:52.892Z"
   },
   {
    "duration": 20,
    "start_time": "2022-02-14T16:31:52.942Z"
   },
   {
    "duration": 392,
    "start_time": "2022-02-14T16:31:52.964Z"
   },
   {
    "duration": 430,
    "start_time": "2022-02-14T16:31:53.359Z"
   },
   {
    "duration": 345,
    "start_time": "2022-02-14T16:31:53.791Z"
   },
   {
    "duration": 384,
    "start_time": "2022-02-14T16:31:54.138Z"
   },
   {
    "duration": 10,
    "start_time": "2022-02-14T16:31:54.523Z"
   },
   {
    "duration": 187,
    "start_time": "2022-02-14T16:31:54.534Z"
   },
   {
    "duration": 382,
    "start_time": "2022-02-14T16:31:54.722Z"
   },
   {
    "duration": 9,
    "start_time": "2022-02-14T16:31:55.105Z"
   },
   {
    "duration": 199,
    "start_time": "2022-02-14T16:31:55.115Z"
   },
   {
    "duration": 4,
    "start_time": "2022-02-14T16:31:55.316Z"
   },
   {
    "duration": 797,
    "start_time": "2022-02-21T15:33:47.244Z"
   },
   {
    "duration": 583,
    "start_time": "2022-02-21T15:33:48.044Z"
   },
   {
    "duration": 56,
    "start_time": "2022-02-21T15:33:48.629Z"
   },
   {
    "duration": 107,
    "start_time": "2022-02-21T15:33:48.688Z"
   },
   {
    "duration": 243,
    "start_time": "2022-02-21T15:33:48.798Z"
   },
   {
    "duration": 623,
    "start_time": "2022-02-21T15:33:49.045Z"
   },
   {
    "duration": 14,
    "start_time": "2022-02-21T15:33:49.671Z"
   },
   {
    "duration": 34,
    "start_time": "2022-02-21T15:33:49.689Z"
   },
   {
    "duration": 29,
    "start_time": "2022-02-21T15:33:49.726Z"
   },
   {
    "duration": 15,
    "start_time": "2022-02-21T15:33:49.758Z"
   },
   {
    "duration": 58,
    "start_time": "2022-02-21T15:33:49.812Z"
   },
   {
    "duration": 66,
    "start_time": "2022-02-21T15:33:49.873Z"
   },
   {
    "duration": 40,
    "start_time": "2022-02-21T15:33:49.942Z"
   },
   {
    "duration": 91,
    "start_time": "2022-02-21T15:33:49.985Z"
   },
   {
    "duration": 7,
    "start_time": "2022-02-21T15:33:50.079Z"
   },
   {
    "duration": 52,
    "start_time": "2022-02-21T15:33:50.112Z"
   },
   {
    "duration": 48,
    "start_time": "2022-02-21T15:33:50.167Z"
   },
   {
    "duration": 40,
    "start_time": "2022-02-21T15:33:50.218Z"
   },
   {
    "duration": 68,
    "start_time": "2022-02-21T15:33:50.260Z"
   },
   {
    "duration": 46,
    "start_time": "2022-02-21T15:33:50.331Z"
   },
   {
    "duration": 751,
    "start_time": "2022-02-21T15:33:50.380Z"
   },
   {
    "duration": 705,
    "start_time": "2022-02-21T15:33:51.135Z"
   },
   {
    "duration": 667,
    "start_time": "2022-02-21T15:33:51.845Z"
   },
   {
    "duration": 714,
    "start_time": "2022-02-21T15:33:52.515Z"
   },
   {
    "duration": 20,
    "start_time": "2022-02-21T15:33:53.232Z"
   },
   {
    "duration": 375,
    "start_time": "2022-02-21T15:33:53.254Z"
   },
   {
    "duration": 549,
    "start_time": "2022-02-21T15:33:53.632Z"
   },
   {
    "duration": 26,
    "start_time": "2022-02-21T15:33:54.184Z"
   },
   {
    "duration": 383,
    "start_time": "2022-02-21T15:33:54.214Z"
   },
   {
    "duration": 13,
    "start_time": "2022-02-21T15:33:54.600Z"
   },
   {
    "duration": 140,
    "start_time": "2022-02-21T16:31:16.691Z"
   },
   {
    "duration": 553,
    "start_time": "2022-02-21T18:52:09.362Z"
   },
   {
    "duration": 383,
    "start_time": "2022-02-21T18:52:09.916Z"
   },
   {
    "duration": 33,
    "start_time": "2022-02-21T18:52:10.514Z"
   },
   {
    "duration": 58,
    "start_time": "2022-02-21T18:52:11.408Z"
   },
   {
    "duration": 94,
    "start_time": "2022-02-21T18:52:15.303Z"
   },
   {
    "duration": 364,
    "start_time": "2022-02-21T18:52:17.297Z"
   },
   {
    "duration": 10,
    "start_time": "2022-02-21T18:52:20.144Z"
   },
   {
    "duration": 13,
    "start_time": "2022-02-21T18:52:22.273Z"
   },
   {
    "duration": 11,
    "start_time": "2022-02-21T18:53:08.354Z"
   },
   {
    "duration": 33,
    "start_time": "2022-02-21T18:53:11.602Z"
   },
   {
    "duration": 28,
    "start_time": "2022-02-21T18:53:12.449Z"
   },
   {
    "duration": 26,
    "start_time": "2022-02-21T18:53:17.202Z"
   },
   {
    "duration": 42,
    "start_time": "2022-02-21T18:53:21.626Z"
   },
   {
    "duration": 4,
    "start_time": "2022-02-21T18:53:24.225Z"
   },
   {
    "duration": 46,
    "start_time": "2022-02-21T18:53:24.231Z"
   },
   {
    "duration": 13,
    "start_time": "2022-02-21T18:53:26.617Z"
   },
   {
    "duration": 26,
    "start_time": "2022-02-21T18:53:32.210Z"
   },
   {
    "duration": 24,
    "start_time": "2022-02-21T18:53:32.514Z"
   },
   {
    "duration": 23,
    "start_time": "2022-02-21T18:53:33.009Z"
   },
   {
    "duration": 376,
    "start_time": "2022-02-21T18:54:00.818Z"
   },
   {
    "duration": 396,
    "start_time": "2022-02-21T18:54:01.196Z"
   },
   {
    "duration": 357,
    "start_time": "2022-02-21T18:54:01.594Z"
   },
   {
    "duration": 323,
    "start_time": "2022-02-21T18:54:57.460Z"
   },
   {
    "duration": 334,
    "start_time": "2022-02-21T18:55:26.347Z"
   },
   {
    "duration": 22,
    "start_time": "2022-02-21T18:56:27.516Z"
   },
   {
    "duration": 9,
    "start_time": "2022-02-21T18:57:04.077Z"
   },
   {
    "duration": 9829,
    "start_time": "2022-02-21T18:57:04.636Z"
   },
   {
    "duration": 635,
    "start_time": "2022-02-21T18:57:59.826Z"
   },
   {
    "duration": 8,
    "start_time": "2022-02-21T18:58:02.080Z"
   },
   {
    "duration": 182,
    "start_time": "2022-02-21T18:58:04.446Z"
   },
   {
    "duration": 1010,
    "start_time": "2022-02-21T18:58:09.669Z"
   },
   {
    "duration": 10,
    "start_time": "2022-02-21T19:00:43.783Z"
   },
   {
    "duration": 188,
    "start_time": "2022-02-21T19:00:44.099Z"
   },
   {
    "duration": 5,
    "start_time": "2022-02-21T19:00:47.752Z"
   },
   {
    "duration": 11,
    "start_time": "2022-02-21T19:01:35.501Z"
   },
   {
    "duration": 260,
    "start_time": "2022-02-21T19:01:48.457Z"
   },
   {
    "duration": 468,
    "start_time": "2022-02-21T19:01:51.208Z"
   },
   {
    "duration": 97,
    "start_time": "2022-02-21T19:01:52.680Z"
   },
   {
    "duration": 652,
    "start_time": "2022-02-21T19:20:31.498Z"
   },
   {
    "duration": 400,
    "start_time": "2022-02-21T19:20:32.152Z"
   },
   {
    "duration": 33,
    "start_time": "2022-02-21T19:20:32.554Z"
   },
   {
    "duration": 65,
    "start_time": "2022-02-21T19:20:32.590Z"
   },
   {
    "duration": 103,
    "start_time": "2022-02-21T19:20:32.657Z"
   },
   {
    "duration": 256,
    "start_time": "2022-02-21T19:20:32.762Z"
   },
   {
    "duration": 18,
    "start_time": "2022-02-21T19:20:33.020Z"
   },
   {
    "duration": 10,
    "start_time": "2022-02-21T19:20:33.039Z"
   },
   {
    "duration": 2,
    "start_time": "2022-02-21T19:20:33.052Z"
   },
   {
    "duration": 10,
    "start_time": "2022-02-21T19:20:33.056Z"
   },
   {
    "duration": 33,
    "start_time": "2022-02-21T19:20:33.068Z"
   },
   {
    "duration": 54,
    "start_time": "2022-02-21T19:20:33.103Z"
   },
   {
    "duration": 25,
    "start_time": "2022-02-21T19:20:33.159Z"
   },
   {
    "duration": 54,
    "start_time": "2022-02-21T19:20:33.186Z"
   },
   {
    "duration": 4,
    "start_time": "2022-02-21T19:20:33.241Z"
   },
   {
    "duration": 27,
    "start_time": "2022-02-21T19:20:33.246Z"
   },
   {
    "duration": 10,
    "start_time": "2022-02-21T19:20:33.275Z"
   },
   {
    "duration": 46,
    "start_time": "2022-02-21T19:20:33.287Z"
   },
   {
    "duration": 23,
    "start_time": "2022-02-21T19:20:33.335Z"
   },
   {
    "duration": 23,
    "start_time": "2022-02-21T19:20:33.360Z"
   },
   {
    "duration": 48,
    "start_time": "2022-02-21T19:20:33.385Z"
   },
   {
    "duration": 363,
    "start_time": "2022-02-21T19:20:33.435Z"
   },
   {
    "duration": 378,
    "start_time": "2022-02-21T19:20:33.799Z"
   },
   {
    "duration": 365,
    "start_time": "2022-02-21T19:20:34.178Z"
   },
   {
    "duration": 342,
    "start_time": "2022-02-21T19:20:34.545Z"
   },
   {
    "duration": 355,
    "start_time": "2022-02-21T19:20:34.889Z"
   },
   {
    "duration": 8,
    "start_time": "2022-02-21T19:20:35.247Z"
   },
   {
    "duration": 197,
    "start_time": "2022-02-21T19:20:35.256Z"
   },
   {
    "duration": 1006,
    "start_time": "2022-02-21T19:20:35.454Z"
   },
   {
    "duration": 1134,
    "start_time": "2022-02-21T19:20:35.329Z"
   },
   {
    "duration": 1129,
    "start_time": "2022-02-21T19:20:35.335Z"
   },
   {
    "duration": 1127,
    "start_time": "2022-02-21T19:20:35.338Z"
   },
   {
    "duration": 300,
    "start_time": "2022-02-22T08:52:00.793Z"
   },
   {
    "duration": 298,
    "start_time": "2022-02-22T08:52:01.285Z"
   },
   {
    "duration": 595,
    "start_time": "2022-02-22T08:52:08.559Z"
   },
   {
    "duration": 389,
    "start_time": "2022-02-22T08:52:09.156Z"
   },
   {
    "duration": 36,
    "start_time": "2022-02-22T08:52:09.548Z"
   },
   {
    "duration": 79,
    "start_time": "2022-02-22T08:52:09.587Z"
   },
   {
    "duration": 120,
    "start_time": "2022-02-22T08:52:09.668Z"
   },
   {
    "duration": 300,
    "start_time": "2022-02-22T08:52:09.790Z"
   },
   {
    "duration": 26,
    "start_time": "2022-02-22T08:52:10.092Z"
   },
   {
    "duration": 11,
    "start_time": "2022-02-22T08:52:10.121Z"
   },
   {
    "duration": 4,
    "start_time": "2022-02-22T08:52:10.134Z"
   },
   {
    "duration": 14,
    "start_time": "2022-02-22T08:52:10.140Z"
   },
   {
    "duration": 36,
    "start_time": "2022-02-22T08:52:10.156Z"
   },
   {
    "duration": 57,
    "start_time": "2022-02-22T08:52:10.194Z"
   },
   {
    "duration": 29,
    "start_time": "2022-02-22T08:52:10.253Z"
   },
   {
    "duration": 64,
    "start_time": "2022-02-22T08:52:10.284Z"
   },
   {
    "duration": 4,
    "start_time": "2022-02-22T08:52:10.350Z"
   },
   {
    "duration": 36,
    "start_time": "2022-02-22T08:52:10.356Z"
   },
   {
    "duration": 30,
    "start_time": "2022-02-22T08:52:10.394Z"
   },
   {
    "duration": 33,
    "start_time": "2022-02-22T08:52:10.427Z"
   },
   {
    "duration": 30,
    "start_time": "2022-02-22T08:52:10.462Z"
   },
   {
    "duration": 47,
    "start_time": "2022-02-22T08:52:10.493Z"
   },
   {
    "duration": 35,
    "start_time": "2022-02-22T08:52:10.542Z"
   },
   {
    "duration": 433,
    "start_time": "2022-02-22T08:52:10.579Z"
   },
   {
    "duration": 453,
    "start_time": "2022-02-22T08:52:11.015Z"
   },
   {
    "duration": 419,
    "start_time": "2022-02-22T08:52:11.470Z"
   },
   {
    "duration": 454,
    "start_time": "2022-02-22T08:52:11.891Z"
   },
   {
    "duration": 427,
    "start_time": "2022-02-22T08:52:12.346Z"
   },
   {
    "duration": 9,
    "start_time": "2022-02-22T08:52:12.775Z"
   },
   {
    "duration": 335,
    "start_time": "2022-02-22T08:52:12.785Z"
   },
   {
    "duration": -15,
    "start_time": "2022-02-22T08:52:13.137Z"
   },
   {
    "duration": -16,
    "start_time": "2022-02-22T08:52:13.139Z"
   },
   {
    "duration": -16,
    "start_time": "2022-02-22T08:52:13.140Z"
   },
   {
    "duration": -15,
    "start_time": "2022-02-22T08:52:13.141Z"
   },
   {
    "duration": 404,
    "start_time": "2022-02-22T08:52:25.235Z"
   },
   {
    "duration": 595,
    "start_time": "2022-02-22T08:52:41.728Z"
   },
   {
    "duration": 389,
    "start_time": "2022-02-22T08:52:42.325Z"
   },
   {
    "duration": 35,
    "start_time": "2022-02-22T08:52:42.716Z"
   },
   {
    "duration": 94,
    "start_time": "2022-02-22T08:52:42.753Z"
   },
   {
    "duration": 167,
    "start_time": "2022-02-22T08:52:42.850Z"
   },
   {
    "duration": 299,
    "start_time": "2022-02-22T08:52:43.019Z"
   },
   {
    "duration": 12,
    "start_time": "2022-02-22T08:52:43.320Z"
   },
   {
    "duration": 12,
    "start_time": "2022-02-22T08:52:43.334Z"
   },
   {
    "duration": 3,
    "start_time": "2022-02-22T08:52:43.349Z"
   },
   {
    "duration": 12,
    "start_time": "2022-02-22T08:52:43.355Z"
   },
   {
    "duration": 73,
    "start_time": "2022-02-22T08:52:43.369Z"
   },
   {
    "duration": 34,
    "start_time": "2022-02-22T08:52:43.443Z"
   },
   {
    "duration": 51,
    "start_time": "2022-02-22T08:52:43.479Z"
   },
   {
    "duration": 46,
    "start_time": "2022-02-22T08:52:43.532Z"
   },
   {
    "duration": 3,
    "start_time": "2022-02-22T08:52:43.580Z"
   },
   {
    "duration": 57,
    "start_time": "2022-02-22T08:52:43.585Z"
   },
   {
    "duration": 11,
    "start_time": "2022-02-22T08:52:43.644Z"
   },
   {
    "duration": 27,
    "start_time": "2022-02-22T08:52:43.657Z"
   },
   {
    "duration": 42,
    "start_time": "2022-02-22T08:52:43.686Z"
   },
   {
    "duration": 24,
    "start_time": "2022-02-22T08:52:43.730Z"
   },
   {
    "duration": 26,
    "start_time": "2022-02-22T08:52:43.756Z"
   },
   {
    "duration": 435,
    "start_time": "2022-02-22T08:52:43.783Z"
   },
   {
    "duration": 449,
    "start_time": "2022-02-22T08:52:44.220Z"
   },
   {
    "duration": 419,
    "start_time": "2022-02-22T08:52:44.671Z"
   },
   {
    "duration": 412,
    "start_time": "2022-02-22T08:52:45.092Z"
   },
   {
    "duration": 401,
    "start_time": "2022-02-22T08:52:45.506Z"
   },
   {
    "duration": 15,
    "start_time": "2022-02-22T08:52:45.911Z"
   },
   {
    "duration": 221,
    "start_time": "2022-02-22T08:52:45.929Z"
   },
   {
    "duration": 1166,
    "start_time": "2022-02-22T08:52:46.153Z"
   },
   {
    "duration": -19,
    "start_time": "2022-02-22T08:52:47.340Z"
   },
   {
    "duration": -19,
    "start_time": "2022-02-22T08:52:47.341Z"
   },
   {
    "duration": -19,
    "start_time": "2022-02-22T08:52:47.342Z"
   },
   {
    "duration": 590,
    "start_time": "2022-02-22T13:29:28.356Z"
   },
   {
    "duration": 435,
    "start_time": "2022-02-22T13:29:28.948Z"
   },
   {
    "duration": 46,
    "start_time": "2022-02-22T13:29:29.385Z"
   },
   {
    "duration": 68,
    "start_time": "2022-02-22T13:29:29.433Z"
   },
   {
    "duration": 121,
    "start_time": "2022-02-22T13:29:29.519Z"
   },
   {
    "duration": 306,
    "start_time": "2022-02-22T13:29:29.642Z"
   },
   {
    "duration": 11,
    "start_time": "2022-02-22T13:29:29.950Z"
   },
   {
    "duration": 11,
    "start_time": "2022-02-22T13:29:29.962Z"
   },
   {
    "duration": 2,
    "start_time": "2022-02-22T13:29:29.976Z"
   },
   {
    "duration": 40,
    "start_time": "2022-02-22T13:29:29.980Z"
   },
   {
    "duration": 56,
    "start_time": "2022-02-22T13:29:30.022Z"
   },
   {
    "duration": 34,
    "start_time": "2022-02-22T13:29:30.080Z"
   },
   {
    "duration": 31,
    "start_time": "2022-02-22T13:29:30.116Z"
   },
   {
    "duration": 50,
    "start_time": "2022-02-22T13:29:30.149Z"
   },
   {
    "duration": 19,
    "start_time": "2022-02-22T13:29:30.201Z"
   },
   {
    "duration": 39,
    "start_time": "2022-02-22T13:29:30.222Z"
   },
   {
    "duration": 14,
    "start_time": "2022-02-22T13:29:30.263Z"
   },
   {
    "duration": 64,
    "start_time": "2022-02-22T13:29:30.279Z"
   },
   {
    "duration": 29,
    "start_time": "2022-02-22T13:29:30.345Z"
   },
   {
    "duration": 44,
    "start_time": "2022-02-22T13:29:30.376Z"
   },
   {
    "duration": 28,
    "start_time": "2022-02-22T13:29:30.422Z"
   },
   {
    "duration": 421,
    "start_time": "2022-02-22T13:29:30.452Z"
   },
   {
    "duration": 437,
    "start_time": "2022-02-22T13:29:30.875Z"
   },
   {
    "duration": 391,
    "start_time": "2022-02-22T13:29:31.318Z"
   },
   {
    "duration": 509,
    "start_time": "2022-02-22T13:29:31.711Z"
   },
   {
    "duration": 399,
    "start_time": "2022-02-22T13:29:32.221Z"
   },
   {
    "duration": 10,
    "start_time": "2022-02-22T13:29:32.624Z"
   },
   {
    "duration": 276,
    "start_time": "2022-02-22T13:29:32.636Z"
   },
   {
    "duration": 1004,
    "start_time": "2022-02-22T13:29:32.914Z"
   },
   {
    "duration": -93,
    "start_time": "2022-02-22T13:29:34.013Z"
   },
   {
    "duration": -96,
    "start_time": "2022-02-22T13:29:34.017Z"
   },
   {
    "duration": -98,
    "start_time": "2022-02-22T13:29:34.020Z"
   },
   {
    "duration": 256,
    "start_time": "2022-02-22T13:31:20.806Z"
   },
   {
    "duration": 602,
    "start_time": "2022-02-22T13:32:00.746Z"
   },
   {
    "duration": 432,
    "start_time": "2022-02-22T13:32:01.350Z"
   },
   {
    "duration": 42,
    "start_time": "2022-02-22T13:32:01.784Z"
   },
   {
    "duration": 62,
    "start_time": "2022-02-22T13:32:01.828Z"
   },
   {
    "duration": 136,
    "start_time": "2022-02-22T13:32:01.893Z"
   },
   {
    "duration": 332,
    "start_time": "2022-02-22T13:32:02.031Z"
   },
   {
    "duration": 11,
    "start_time": "2022-02-22T13:32:02.365Z"
   },
   {
    "duration": 33,
    "start_time": "2022-02-22T13:32:02.378Z"
   },
   {
    "duration": 7,
    "start_time": "2022-02-22T13:32:02.413Z"
   },
   {
    "duration": 29,
    "start_time": "2022-02-22T13:32:02.422Z"
   },
   {
    "duration": 52,
    "start_time": "2022-02-22T13:32:02.453Z"
   },
   {
    "duration": 39,
    "start_time": "2022-02-22T13:32:02.507Z"
   },
   {
    "duration": 33,
    "start_time": "2022-02-22T13:32:02.548Z"
   },
   {
    "duration": 53,
    "start_time": "2022-02-22T13:32:02.583Z"
   },
   {
    "duration": 4,
    "start_time": "2022-02-22T13:32:02.638Z"
   },
   {
    "duration": 45,
    "start_time": "2022-02-22T13:32:02.643Z"
   },
   {
    "duration": 12,
    "start_time": "2022-02-22T13:32:02.690Z"
   },
   {
    "duration": 38,
    "start_time": "2022-02-22T13:32:02.704Z"
   },
   {
    "duration": 45,
    "start_time": "2022-02-22T13:32:02.743Z"
   },
   {
    "duration": 28,
    "start_time": "2022-02-22T13:32:02.790Z"
   },
   {
    "duration": 26,
    "start_time": "2022-02-22T13:32:02.819Z"
   },
   {
    "duration": 486,
    "start_time": "2022-02-22T13:32:02.847Z"
   },
   {
    "duration": 585,
    "start_time": "2022-02-22T13:32:03.336Z"
   },
   {
    "duration": 431,
    "start_time": "2022-02-22T13:32:03.923Z"
   },
   {
    "duration": 428,
    "start_time": "2022-02-22T13:32:04.356Z"
   },
   {
    "duration": 479,
    "start_time": "2022-02-22T13:32:04.785Z"
   },
   {
    "duration": 13,
    "start_time": "2022-02-22T13:32:05.267Z"
   },
   {
    "duration": 321,
    "start_time": "2022-02-22T13:32:05.282Z"
   },
   {
    "duration": 942,
    "start_time": "2022-02-22T13:32:05.605Z"
   },
   {
    "duration": -68,
    "start_time": "2022-02-22T13:32:06.617Z"
   },
   {
    "duration": -78,
    "start_time": "2022-02-22T13:32:06.629Z"
   },
   {
    "duration": -92,
    "start_time": "2022-02-22T13:32:06.644Z"
   },
   {
    "duration": 596,
    "start_time": "2022-02-22T13:44:10.537Z"
   },
   {
    "duration": 418,
    "start_time": "2022-02-22T13:44:11.135Z"
   },
   {
    "duration": 64,
    "start_time": "2022-02-22T13:44:11.560Z"
   },
   {
    "duration": 66,
    "start_time": "2022-02-22T13:44:11.626Z"
   },
   {
    "duration": 167,
    "start_time": "2022-02-22T13:44:11.695Z"
   },
   {
    "duration": 362,
    "start_time": "2022-02-22T13:44:11.865Z"
   },
   {
    "duration": 10,
    "start_time": "2022-02-22T13:44:12.230Z"
   },
   {
    "duration": 11,
    "start_time": "2022-02-22T13:44:12.242Z"
   },
   {
    "duration": 1,
    "start_time": "2022-02-22T13:44:12.256Z"
   },
   {
    "duration": 16,
    "start_time": "2022-02-22T13:44:12.259Z"
   },
   {
    "duration": 64,
    "start_time": "2022-02-22T13:44:12.277Z"
   },
   {
    "duration": 41,
    "start_time": "2022-02-22T13:44:12.342Z"
   },
   {
    "duration": 52,
    "start_time": "2022-02-22T13:44:12.384Z"
   },
   {
    "duration": 67,
    "start_time": "2022-02-22T13:44:12.438Z"
   },
   {
    "duration": 5,
    "start_time": "2022-02-22T13:44:12.519Z"
   },
   {
    "duration": 48,
    "start_time": "2022-02-22T13:44:12.526Z"
   },
   {
    "duration": 14,
    "start_time": "2022-02-22T13:44:12.576Z"
   },
   {
    "duration": 29,
    "start_time": "2022-02-22T13:44:12.619Z"
   },
   {
    "duration": 29,
    "start_time": "2022-02-22T13:44:12.650Z"
   },
   {
    "duration": 62,
    "start_time": "2022-02-22T13:44:12.680Z"
   },
   {
    "duration": 32,
    "start_time": "2022-02-22T13:44:12.744Z"
   },
   {
    "duration": 591,
    "start_time": "2022-02-22T13:44:12.779Z"
   },
   {
    "duration": 442,
    "start_time": "2022-02-22T13:44:13.372Z"
   },
   {
    "duration": 402,
    "start_time": "2022-02-22T13:44:13.818Z"
   },
   {
    "duration": 513,
    "start_time": "2022-02-22T13:44:14.223Z"
   },
   {
    "duration": 510,
    "start_time": "2022-02-22T13:44:14.738Z"
   },
   {
    "duration": 360,
    "start_time": "2022-02-22T13:44:15.250Z"
   },
   {
    "duration": -55,
    "start_time": "2022-02-22T13:44:15.667Z"
   },
   {
    "duration": -59,
    "start_time": "2022-02-22T13:44:15.672Z"
   },
   {
    "duration": -62,
    "start_time": "2022-02-22T13:44:15.676Z"
   },
   {
    "duration": -64,
    "start_time": "2022-02-22T13:44:15.680Z"
   },
   {
    "duration": -68,
    "start_time": "2022-02-22T13:44:15.685Z"
   },
   {
    "duration": 9,
    "start_time": "2022-02-22T14:14:37.547Z"
   },
   {
    "duration": 241,
    "start_time": "2022-02-22T14:14:39.027Z"
   },
   {
    "duration": 219,
    "start_time": "2022-02-22T14:14:47.283Z"
   },
   {
    "duration": 425,
    "start_time": "2022-02-22T14:15:09.028Z"
   },
   {
    "duration": 11,
    "start_time": "2022-02-22T14:15:51.971Z"
   },
   {
    "duration": 211,
    "start_time": "2022-02-22T14:15:52.452Z"
   },
   {
    "duration": 6,
    "start_time": "2022-02-22T14:16:05.923Z"
   },
   {
    "duration": 611,
    "start_time": "2022-02-22T14:18:22.780Z"
   },
   {
    "duration": 404,
    "start_time": "2022-02-22T14:18:23.394Z"
   },
   {
    "duration": 36,
    "start_time": "2022-02-22T14:18:23.800Z"
   },
   {
    "duration": 81,
    "start_time": "2022-02-22T14:18:23.839Z"
   },
   {
    "duration": 116,
    "start_time": "2022-02-22T14:18:23.922Z"
   },
   {
    "duration": 297,
    "start_time": "2022-02-22T14:18:24.040Z"
   },
   {
    "duration": 11,
    "start_time": "2022-02-22T14:18:24.339Z"
   },
   {
    "duration": 11,
    "start_time": "2022-02-22T14:18:24.352Z"
   },
   {
    "duration": 2,
    "start_time": "2022-02-22T14:18:24.365Z"
   },
   {
    "duration": 11,
    "start_time": "2022-02-22T14:18:24.369Z"
   },
   {
    "duration": 68,
    "start_time": "2022-02-22T14:18:24.382Z"
   },
   {
    "duration": 32,
    "start_time": "2022-02-22T14:18:24.451Z"
   },
   {
    "duration": 48,
    "start_time": "2022-02-22T14:18:24.485Z"
   },
   {
    "duration": 47,
    "start_time": "2022-02-22T14:18:24.535Z"
   },
   {
    "duration": 4,
    "start_time": "2022-02-22T14:18:24.584Z"
   },
   {
    "duration": 55,
    "start_time": "2022-02-22T14:18:24.590Z"
   },
   {
    "duration": 13,
    "start_time": "2022-02-22T14:18:24.646Z"
   },
   {
    "duration": 26,
    "start_time": "2022-02-22T14:18:24.661Z"
   },
   {
    "duration": 53,
    "start_time": "2022-02-22T14:18:24.688Z"
   },
   {
    "duration": 25,
    "start_time": "2022-02-22T14:18:24.743Z"
   },
   {
    "duration": 51,
    "start_time": "2022-02-22T14:18:24.769Z"
   },
   {
    "duration": 414,
    "start_time": "2022-02-22T14:18:24.823Z"
   },
   {
    "duration": 444,
    "start_time": "2022-02-22T14:18:25.242Z"
   },
   {
    "duration": 407,
    "start_time": "2022-02-22T14:18:25.689Z"
   },
   {
    "duration": 394,
    "start_time": "2022-02-22T14:18:26.098Z"
   },
   {
    "duration": 403,
    "start_time": "2022-02-22T14:18:26.494Z"
   },
   {
    "duration": 22,
    "start_time": "2022-02-22T14:18:26.899Z"
   },
   {
    "duration": 237,
    "start_time": "2022-02-22T14:18:26.923Z"
   },
   {
    "duration": 479,
    "start_time": "2022-02-22T14:18:27.162Z"
   },
   {
    "duration": 10,
    "start_time": "2022-02-22T14:18:27.643Z"
   },
   {
    "duration": 224,
    "start_time": "2022-02-22T14:18:27.655Z"
   },
   {
    "duration": 5,
    "start_time": "2022-02-22T14:18:27.882Z"
   },
   {
    "duration": 626,
    "start_time": "2022-02-22T14:24:00.948Z"
   },
   {
    "duration": 458,
    "start_time": "2022-02-22T14:24:01.576Z"
   },
   {
    "duration": 41,
    "start_time": "2022-02-22T14:24:02.036Z"
   },
   {
    "duration": 96,
    "start_time": "2022-02-22T14:24:02.080Z"
   },
   {
    "duration": 152,
    "start_time": "2022-02-22T14:24:02.178Z"
   },
   {
    "duration": 320,
    "start_time": "2022-02-22T14:24:02.332Z"
   },
   {
    "duration": 11,
    "start_time": "2022-02-22T14:24:02.654Z"
   },
   {
    "duration": 19,
    "start_time": "2022-02-22T14:24:02.668Z"
   },
   {
    "duration": 3,
    "start_time": "2022-02-22T14:24:02.689Z"
   },
   {
    "duration": 17,
    "start_time": "2022-02-22T14:24:02.693Z"
   },
   {
    "duration": 41,
    "start_time": "2022-02-22T14:24:02.712Z"
   },
   {
    "duration": 35,
    "start_time": "2022-02-22T14:24:02.755Z"
   },
   {
    "duration": 33,
    "start_time": "2022-02-22T14:24:02.792Z"
   },
   {
    "duration": 52,
    "start_time": "2022-02-22T14:24:02.827Z"
   },
   {
    "duration": 4,
    "start_time": "2022-02-22T14:24:02.881Z"
   },
   {
    "duration": 55,
    "start_time": "2022-02-22T14:24:02.887Z"
   },
   {
    "duration": 13,
    "start_time": "2022-02-22T14:24:02.944Z"
   },
   {
    "duration": 27,
    "start_time": "2022-02-22T14:24:02.959Z"
   },
   {
    "duration": 38,
    "start_time": "2022-02-22T14:24:02.987Z"
   },
   {
    "duration": 28,
    "start_time": "2022-02-22T14:24:03.027Z"
   },
   {
    "duration": 25,
    "start_time": "2022-02-22T14:24:03.057Z"
   },
   {
    "duration": 780,
    "start_time": "2022-02-22T14:24:03.084Z"
   },
   {
    "duration": 509,
    "start_time": "2022-02-22T14:24:03.867Z"
   },
   {
    "duration": 432,
    "start_time": "2022-02-22T14:24:04.379Z"
   },
   {
    "duration": 411,
    "start_time": "2022-02-22T14:24:04.813Z"
   },
   {
    "duration": 419,
    "start_time": "2022-02-22T14:24:05.226Z"
   },
   {
    "duration": 9,
    "start_time": "2022-02-22T14:24:05.647Z"
   },
   {
    "duration": 230,
    "start_time": "2022-02-22T14:24:05.658Z"
   },
   {
    "duration": 461,
    "start_time": "2022-02-22T14:24:05.890Z"
   },
   {
    "duration": 9,
    "start_time": "2022-02-22T14:24:06.353Z"
   },
   {
    "duration": 222,
    "start_time": "2022-02-22T14:24:06.364Z"
   },
   {
    "duration": 5,
    "start_time": "2022-02-22T14:24:06.588Z"
   },
   {
    "duration": 605,
    "start_time": "2022-02-23T07:07:24.053Z"
   },
   {
    "duration": 415,
    "start_time": "2022-02-23T07:07:24.660Z"
   },
   {
    "duration": 39,
    "start_time": "2022-02-23T07:07:25.077Z"
   },
   {
    "duration": 66,
    "start_time": "2022-02-23T07:07:25.119Z"
   },
   {
    "duration": 136,
    "start_time": "2022-02-23T07:07:25.187Z"
   },
   {
    "duration": 312,
    "start_time": "2022-02-23T07:07:25.325Z"
   },
   {
    "duration": 12,
    "start_time": "2022-02-23T07:07:25.639Z"
   },
   {
    "duration": 12,
    "start_time": "2022-02-23T07:07:25.654Z"
   },
   {
    "duration": 3,
    "start_time": "2022-02-23T07:07:25.668Z"
   },
   {
    "duration": 39,
    "start_time": "2022-02-23T07:07:25.673Z"
   },
   {
    "duration": 39,
    "start_time": "2022-02-23T07:07:25.714Z"
   },
   {
    "duration": 54,
    "start_time": "2022-02-23T07:07:25.755Z"
   },
   {
    "duration": 33,
    "start_time": "2022-02-23T07:07:25.811Z"
   },
   {
    "duration": 70,
    "start_time": "2022-02-23T07:07:25.846Z"
   },
   {
    "duration": 5,
    "start_time": "2022-02-23T07:07:25.917Z"
   },
   {
    "duration": 61,
    "start_time": "2022-02-23T07:07:25.924Z"
   },
   {
    "duration": 15,
    "start_time": "2022-02-23T07:07:25.987Z"
   },
   {
    "duration": 31,
    "start_time": "2022-02-23T07:07:26.007Z"
   },
   {
    "duration": 30,
    "start_time": "2022-02-23T07:07:26.040Z"
   },
   {
    "duration": 58,
    "start_time": "2022-02-23T07:07:26.072Z"
   },
   {
    "duration": 28,
    "start_time": "2022-02-23T07:07:26.132Z"
   },
   {
    "duration": 440,
    "start_time": "2022-02-23T07:07:26.162Z"
   },
   {
    "duration": 469,
    "start_time": "2022-02-23T07:07:26.610Z"
   },
   {
    "duration": 425,
    "start_time": "2022-02-23T07:07:27.082Z"
   },
   {
    "duration": 439,
    "start_time": "2022-02-23T07:07:27.509Z"
   },
   {
    "duration": 434,
    "start_time": "2022-02-23T07:07:27.950Z"
   },
   {
    "duration": 9,
    "start_time": "2022-02-23T07:07:28.386Z"
   },
   {
    "duration": 236,
    "start_time": "2022-02-23T07:07:28.408Z"
   },
   {
    "duration": 492,
    "start_time": "2022-02-23T07:07:28.646Z"
   },
   {
    "duration": 10,
    "start_time": "2022-02-23T07:07:29.140Z"
   },
   {
    "duration": 243,
    "start_time": "2022-02-23T07:07:29.152Z"
   },
   {
    "duration": 11,
    "start_time": "2022-02-23T07:07:29.397Z"
   },
   {
    "duration": 621,
    "start_time": "2022-02-23T07:07:46.767Z"
   },
   {
    "duration": 423,
    "start_time": "2022-02-23T07:07:47.390Z"
   },
   {
    "duration": 38,
    "start_time": "2022-02-23T07:07:47.815Z"
   },
   {
    "duration": 88,
    "start_time": "2022-02-23T07:07:47.855Z"
   },
   {
    "duration": 121,
    "start_time": "2022-02-23T07:07:47.946Z"
   },
   {
    "duration": 322,
    "start_time": "2022-02-23T07:07:48.069Z"
   },
   {
    "duration": 16,
    "start_time": "2022-02-23T07:07:48.393Z"
   },
   {
    "duration": 13,
    "start_time": "2022-02-23T07:07:48.411Z"
   },
   {
    "duration": 2,
    "start_time": "2022-02-23T07:07:48.427Z"
   },
   {
    "duration": 14,
    "start_time": "2022-02-23T07:07:48.431Z"
   },
   {
    "duration": 73,
    "start_time": "2022-02-23T07:07:48.447Z"
   },
   {
    "duration": 34,
    "start_time": "2022-02-23T07:07:48.522Z"
   },
   {
    "duration": 51,
    "start_time": "2022-02-23T07:07:48.558Z"
   },
   {
    "duration": 49,
    "start_time": "2022-02-23T07:07:48.611Z"
   },
   {
    "duration": 3,
    "start_time": "2022-02-23T07:07:48.663Z"
   },
   {
    "duration": 58,
    "start_time": "2022-02-23T07:07:48.669Z"
   },
   {
    "duration": 14,
    "start_time": "2022-02-23T07:07:48.729Z"
   },
   {
    "duration": 30,
    "start_time": "2022-02-23T07:07:48.745Z"
   },
   {
    "duration": 55,
    "start_time": "2022-02-23T07:07:48.777Z"
   },
   {
    "duration": 29,
    "start_time": "2022-02-23T07:07:48.834Z"
   },
   {
    "duration": 55,
    "start_time": "2022-02-23T07:07:48.866Z"
   },
   {
    "duration": 480,
    "start_time": "2022-02-23T07:07:48.923Z"
   },
   {
    "duration": 470,
    "start_time": "2022-02-23T07:07:49.407Z"
   },
   {
    "duration": 446,
    "start_time": "2022-02-23T07:07:49.879Z"
   },
   {
    "duration": 424,
    "start_time": "2022-02-23T07:07:50.327Z"
   },
   {
    "duration": 440,
    "start_time": "2022-02-23T07:07:50.752Z"
   },
   {
    "duration": 17,
    "start_time": "2022-02-23T07:07:51.196Z"
   },
   {
    "duration": 249,
    "start_time": "2022-02-23T07:07:51.215Z"
   },
   {
    "duration": 476,
    "start_time": "2022-02-23T07:07:51.466Z"
   },
   {
    "duration": 9,
    "start_time": "2022-02-23T07:07:51.944Z"
   },
   {
    "duration": 242,
    "start_time": "2022-02-23T07:07:51.954Z"
   },
   {
    "duration": 11,
    "start_time": "2022-02-23T07:07:52.198Z"
   }
  ],
  "kernelspec": {
   "display_name": "Python 3 (ipykernel)",
   "language": "python",
   "name": "python3"
  },
  "language_info": {
   "codemirror_mode": {
    "name": "ipython",
    "version": 3
   },
   "file_extension": ".py",
   "mimetype": "text/x-python",
   "name": "python",
   "nbconvert_exporter": "python",
   "pygments_lexer": "ipython3",
   "version": "3.9.5"
  },
  "toc": {
   "base_numbering": 1,
   "nav_menu": {},
   "number_sections": true,
   "sideBar": true,
   "skip_h1_title": true,
   "title_cell": "Table of Contents",
   "title_sidebar": "Contents",
   "toc_cell": false,
   "toc_position": {},
   "toc_section_display": true,
   "toc_window_display": false
  }
 },
 "nbformat": 4,
 "nbformat_minor": 2
}
